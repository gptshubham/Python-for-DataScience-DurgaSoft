{
 "cells": [
  {
   "cell_type": "markdown",
   "id": "c6eac9e2-7a77-4d17-8c65-4c1c5ec67743",
   "metadata": {},
   "source": [
    "## Creating Numpy Arrays"
   ]
  },
  {
   "cell_type": "markdown",
   "id": "29d383ef-c91d-494a-9ee3-de978c5e448e",
   "metadata": {},
   "source": [
    "#### 1. array()"
   ]
  },
  {
   "cell_type": "code",
   "execution_count": 1,
   "id": "f9e7fd8a-3b21-400b-a162-06e02af63449",
   "metadata": {},
   "outputs": [],
   "source": [
    "import numpy as np"
   ]
  },
  {
   "cell_type": "code",
   "execution_count": 2,
   "id": "2a9972d3-457c-4f00-be46-23663daf41c9",
   "metadata": {},
   "outputs": [],
   "source": [
    "# help(np.array)\n",
    "# --> array(object, dtype=None, *, copy=True, order='K', subok=False, ndmin=0,like=None)\n",
    "# --> Create an array."
   ]
  },
  {
   "cell_type": "code",
   "execution_count": 3,
   "id": "50024747-89a4-4413-88e8-d8b15db84d9b",
   "metadata": {},
   "outputs": [
    {
     "name": "stdout",
     "output_type": "stream",
     "text": [
      "[10, 20, 30]\n",
      "<class 'list'>\n",
      "[10 20 30]\n",
      "<class 'numpy.ndarray'>\n",
      "1\n",
      "int64\n",
      "(3,)\n",
      "3\n"
     ]
    }
   ],
   "source": [
    "# 1-D Array using List\n",
    "L = [10,20,30]\n",
    "a = np.array(L)\n",
    "print(L)\n",
    "print(type(L))\n",
    "print(a)\n",
    "print(type(a))\n",
    "print(a.ndim)\n",
    "print(a.dtype)\n",
    "print(a.shape)      # (3,) --> (size of array , )\n",
    "print(a.size)\n",
    "# a1 = np.array(L,str)\n",
    "# print(a1.dtype)"
   ]
  },
  {
   "cell_type": "code",
   "execution_count": 4,
   "id": "5801d3b9-dedb-4ceb-a7d4-ba17d7c47318",
   "metadata": {},
   "outputs": [],
   "source": [
    "# import numpy as np\n",
    "# help(np.array)\n",
    "# array(object, dtype=None, *, copy=True, order='K', subok=False, ndmin=0,like=None)"
   ]
  },
  {
   "cell_type": "code",
   "execution_count": 5,
   "id": "c1654249-5e3b-4157-b99c-b6f62bcdb71a",
   "metadata": {},
   "outputs": [
    {
     "name": "stdout",
     "output_type": "stream",
     "text": [
      "<class 'numpy.ndarray'>\n",
      "2\n",
      "[[10 20 30]\n",
      " [40 50 60]\n",
      " [70 80 90]]\n",
      "(3, 3)\n",
      "9\n"
     ]
    }
   ],
   "source": [
    "# 2-D Array\n",
    "L = [[10,20,30],[40,50,60],[70,80,90]]\n",
    "a = np.array(L)\n",
    "print(type(a))\n",
    "print(a.ndim)\n",
    "print(a)\n",
    "print(a.shape)\n",
    "print(a.size)"
   ]
  },
  {
   "cell_type": "code",
   "execution_count": 6,
   "id": "cf6f06bb-8c83-480b-a07b-07fcfa387926",
   "metadata": {},
   "outputs": [
    {
     "name": "stdout",
     "output_type": "stream",
     "text": [
      "['shubham' 'kumar' 'gupta']\n",
      "<class 'numpy.ndarray'>\n",
      "1\n",
      "(3,)\n",
      "3\n",
      "<U7\n"
     ]
    }
   ],
   "source": [
    "# 1-D Array using Tuple\n",
    "t = ('shubham','kumar','gupta')\n",
    "a = np.array(t)\n",
    "print(a)\n",
    "print(type(a))\n",
    "print(a.ndim)\n",
    "print(a.shape)\n",
    "print(a.size)\n",
    "print(a.dtype)        # <U7 --> string"
   ]
  },
  {
   "cell_type": "code",
   "execution_count": 7,
   "id": "5041a019-1d06-4a1b-a3cd-4eb6698569e9",
   "metadata": {},
   "outputs": [
    {
     "name": "stdout",
     "output_type": "stream",
     "text": [
      "[7, 'Dhoni', 10, 'Sachin', 18, 'Kohli', 45, 'Rohit']\n",
      "['7' 'Dhoni' '10' 'Sachin' '18' 'Kohli' '45' 'Rohit']\n",
      "<U21\n",
      "[10.  20.  30.5]\n",
      "float64\n"
     ]
    }
   ],
   "source": [
    "# Homo Elements --> upcasting\n",
    "L = [7,'Dhoni',10,'Sachin',18,'Kohli',45,'Rohit']\n",
    "a = np.array(L)\n",
    "print(L)\n",
    "print(a)\n",
    "print(a.dtype)\n",
    "L1 = [10,20,30.5]\n",
    "a1 = np.array(L1)\n",
    "print(a1)\n",
    "print(a1.dtype)"
   ]
  },
  {
   "cell_type": "code",
   "execution_count": 8,
   "id": "9e1803cd-f227-496e-880b-6b06178ab59a",
   "metadata": {},
   "outputs": [
    {
     "name": "stdout",
     "output_type": "stream",
     "text": [
      "[10 20 30  0]\n",
      "[ True  True  True False]\n",
      "['10' '20' '30.5' '0']\n"
     ]
    }
   ],
   "source": [
    "# How to create an array of a particular type\n",
    "L1 = [10,20,30.5,0]\n",
    "a1 = np.array(L1,int)\n",
    "print(a1)\n",
    "a2 = np.array(L1,bool)\n",
    "print(a2)\n",
    "a3 = np.array(L1,str)\n",
    "print(a3)\n",
    "L2 = [7,'Dhoni',10,'Sachin',18,'Kohli',45,'Rohit']\n",
    "# a = np.array(L2,int)       # ValueError"
   ]
  },
  {
   "cell_type": "code",
   "execution_count": 9,
   "id": "849588b9-8b40-42fd-862d-a0795c9aab73",
   "metadata": {},
   "outputs": [
    {
     "name": "stdout",
     "output_type": "stream",
     "text": [
      "[7 'Dhoni' 10 'Sachin' 18 'Kohli' 45 'Rohit' True 10.5 (10+20j)]\n",
      "object\n",
      "['7' 'Dhoni' '10' 'Sachin' '18' 'Kohli' '45' 'Rohit' 'True' '10.5'\n",
      " '(10+20j)']\n",
      "<U64\n"
     ]
    }
   ],
   "source": [
    "# object type array --> Array with Heterogeneous Elements \n",
    "L = [7,'Dhoni',10,'Sachin',18,'Kohli',45,'Rohit',True,10.5,10+20j]\n",
    "a = np.array(L,object)\n",
    "print(a)\n",
    "print(a.dtype)\n",
    "a1 = np.array(L)\n",
    "print(a1)\n",
    "print(a1.dtype)"
   ]
  },
  {
   "cell_type": "markdown",
   "id": "044d0740-477e-42ee-8bcf-79f57319141a",
   "metadata": {},
   "source": [
    "#### 2. arange()"
   ]
  },
  {
   "cell_type": "code",
   "execution_count": 10,
   "id": "31a96f83-3484-454b-9d85-56de60a8092d",
   "metadata": {
    "editable": true,
    "slideshow": {
     "slide_type": ""
    },
    "tags": []
   },
   "outputs": [],
   "source": [
    "# arguments of arange()\n",
    "# help(np.arange) \n",
    "# --> arange([start,] stop[, step,], dtype=None, *, like=None)\n",
    "# --> Return evenly spaced values within a given interval."
   ]
  },
  {
   "cell_type": "code",
   "execution_count": 11,
   "id": "5390538b-9918-4e3c-bbb0-7fae18502a97",
   "metadata": {},
   "outputs": [
    {
     "name": "stdout",
     "output_type": "stream",
     "text": [
      "[0 1 2 3 4 5 6 7 8 9]\n",
      "1\n",
      "int64\n"
     ]
    }
   ],
   "source": [
    "a = np.arange(10)\n",
    "print(a)\n",
    "print(a.ndim)\n",
    "print(a.dtype)"
   ]
  },
  {
   "cell_type": "code",
   "execution_count": 12,
   "id": "505b9119-47b2-4916-9296-76069f646167",
   "metadata": {},
   "outputs": [
    {
     "data": {
      "text/plain": [
       "array([ 1,  2,  3,  4,  5,  6,  7,  8,  9, 10])"
      ]
     },
     "execution_count": 12,
     "metadata": {},
     "output_type": "execute_result"
    }
   ],
   "source": [
    "a = np.arange(1,11)\n",
    "a"
   ]
  },
  {
   "cell_type": "code",
   "execution_count": 13,
   "id": "d0d3991e-dc74-45bb-9837-5e97c7cd740e",
   "metadata": {},
   "outputs": [
    {
     "data": {
      "text/plain": [
       "array([1, 3, 5, 7, 9])"
      ]
     },
     "execution_count": 13,
     "metadata": {},
     "output_type": "execute_result"
    }
   ],
   "source": [
    "a = np.arange(1,11,2)\n",
    "a"
   ]
  },
  {
   "cell_type": "code",
   "execution_count": 14,
   "id": "b1bca752-22d3-4729-b835-3cc4458c4d60",
   "metadata": {},
   "outputs": [
    {
     "data": {
      "text/plain": [
       "array([ 1.,  4.,  7., 10.])"
      ]
     },
     "execution_count": 14,
     "metadata": {},
     "output_type": "execute_result"
    }
   ],
   "source": [
    "a = np.arange(1,11,3,dtype=float)\n",
    "a"
   ]
  },
  {
   "cell_type": "code",
   "execution_count": 15,
   "id": "5699d609-9905-4c21-88f6-ac18d0da6eee",
   "metadata": {},
   "outputs": [],
   "source": [
    "# a = np.arange(1,11,3,dtype=str)\n",
    "# a\n",
    "# TypeError: arange() not supported for inputs with DType <class 'numpy.dtypes.StrDType'>."
   ]
  },
  {
   "cell_type": "markdown",
   "id": "3d29c624-1634-4897-bc37-8db7887cd6ea",
   "metadata": {},
   "source": [
    "#### 3. linspace()"
   ]
  },
  {
   "cell_type": "code",
   "execution_count": 16,
   "id": "85c0cf43-1e32-48f5-b7bb-63c9c33c317c",
   "metadata": {},
   "outputs": [],
   "source": [
    "# in the specified interval , linearly spaced values --> evenly spaced (uniform) numbers\n",
    "# arguments of linspace()\n",
    "# help(np.linspace) \n",
    "# --> linspace(start, stop, num=50, endpoint=True, retstep=False, dtype=None, axis=0)\n",
    "# --> Return evenly spaced numbers over a specified interval.\n",
    "# --> Returns `num` evenly spaced samples, calculated over the interval [`start`, `stop`].\n",
    "# --> The endpoint of the interval can optionally be excluded."
   ]
  },
  {
   "cell_type": "code",
   "execution_count": 17,
   "id": "4df4a980-b135-401b-974d-a2c03943f4f8",
   "metadata": {},
   "outputs": [
    {
     "data": {
      "text/plain": [
       "array([0., 1.])"
      ]
     },
     "execution_count": 17,
     "metadata": {},
     "output_type": "execute_result"
    }
   ],
   "source": [
    "np.linspace(0,1,2)"
   ]
  },
  {
   "cell_type": "code",
   "execution_count": 18,
   "id": "168036e7-f885-4419-a69d-59785d6ffc9f",
   "metadata": {},
   "outputs": [
    {
     "data": {
      "text/plain": [
       "array([0. , 0.5, 1. ])"
      ]
     },
     "execution_count": 18,
     "metadata": {},
     "output_type": "execute_result"
    }
   ],
   "source": [
    "np.linspace(0,1,3)"
   ]
  },
  {
   "cell_type": "code",
   "execution_count": 19,
   "id": "2bf00489-f8fd-4852-b63c-26c375027796",
   "metadata": {},
   "outputs": [
    {
     "data": {
      "text/plain": [
       "array([0.        , 0.33333333, 0.66666667, 1.        ])"
      ]
     },
     "execution_count": 19,
     "metadata": {},
     "output_type": "execute_result"
    }
   ],
   "source": [
    "np.linspace(0,1,4)"
   ]
  },
  {
   "cell_type": "code",
   "execution_count": 20,
   "id": "4ec233ea-5324-4648-9efe-df0694ec86ad",
   "metadata": {},
   "outputs": [
    {
     "name": "stdout",
     "output_type": "stream",
     "text": [
      "[0.         0.02040816 0.04081633 0.06122449 0.08163265 0.10204082\n",
      " 0.12244898 0.14285714 0.16326531 0.18367347 0.20408163 0.2244898\n",
      " 0.24489796 0.26530612 0.28571429 0.30612245 0.32653061 0.34693878\n",
      " 0.36734694 0.3877551  0.40816327 0.42857143 0.44897959 0.46938776\n",
      " 0.48979592 0.51020408 0.53061224 0.55102041 0.57142857 0.59183673\n",
      " 0.6122449  0.63265306 0.65306122 0.67346939 0.69387755 0.71428571\n",
      " 0.73469388 0.75510204 0.7755102  0.79591837 0.81632653 0.83673469\n",
      " 0.85714286 0.87755102 0.89795918 0.91836735 0.93877551 0.95918367\n",
      " 0.97959184 1.        ]\n",
      "Default Size of array in linspace(): 50\n",
      "1\n",
      "float64\n"
     ]
    }
   ],
   "source": [
    "a = np.linspace(0,1)        # dfault argument num=50\n",
    "print(a)\n",
    "print('Default Size of array in linspace():',a.size)\n",
    "print(a.ndim)\n",
    "print(a.dtype)"
   ]
  },
  {
   "cell_type": "code",
   "execution_count": 21,
   "id": "10194f40-4ddb-4f03-aa28-43db3701e3fa",
   "metadata": {},
   "outputs": [
    {
     "data": {
      "text/plain": [
       "array([  1,  12,  23,  34,  45,  56,  67,  78,  89, 100])"
      ]
     },
     "execution_count": 21,
     "metadata": {},
     "output_type": "execute_result"
    }
   ],
   "source": [
    "np.linspace(1,100,10,dtype=int)"
   ]
  },
  {
   "cell_type": "markdown",
   "id": "7526c991-5397-4489-8730-8b69a3ed3637",
   "metadata": {},
   "source": [
    "#### 4. zeros()"
   ]
  },
  {
   "cell_type": "code",
   "execution_count": 22,
   "id": "fce6e4c6-770d-4c5e-8d5c-5014b435423c",
   "metadata": {},
   "outputs": [],
   "source": [
    "# arguments\n",
    "# help(np.zeros) \n",
    "# --> zeros(shape, dtype=float, order='C', *, like=None)\n",
    "# --> Return a new array of given shape and type, filled with zeros."
   ]
  },
  {
   "cell_type": "code",
   "execution_count": 23,
   "id": "fd551845-ffa7-4324-aa4e-33bcbc705bda",
   "metadata": {},
   "outputs": [
    {
     "name": "stdout",
     "output_type": "stream",
     "text": [
      "[0. 0. 0. 0. 0. 0. 0. 0. 0. 0.]\n",
      "Dimentions: 1\n",
      "Shape: (10,)\n",
      "Size: 10\n"
     ]
    }
   ],
   "source": [
    "# vercor --> 1-D Array\n",
    "a = np.zeros((10))\n",
    "print(a)\n",
    "print('Dimentions:',a.ndim)\n",
    "print('Shape:',a.shape)\n",
    "print('Size:',a.size)"
   ]
  },
  {
   "cell_type": "code",
   "execution_count": 24,
   "id": "c9fa94f0-3c29-438f-9d7b-87ebf576a954",
   "metadata": {},
   "outputs": [
    {
     "name": "stdout",
     "output_type": "stream",
     "text": [
      "[[0. 0. 0.]\n",
      " [0. 0. 0.]\n",
      " [0. 0. 0.]]\n",
      "Dimentions: 2\n",
      "Shape: (3, 3)\n",
      "Size: 9\n"
     ]
    }
   ],
   "source": [
    "# matrix --> 2-D Array --> a collection of 1-D Arrays\n",
    "a = np.zeros((3,3))\n",
    "print(a)\n",
    "print('Dimentions:',a.ndim)\n",
    "print('Shape:',a.shape)\n",
    "print('Size:',a.size)"
   ]
  },
  {
   "cell_type": "code",
   "execution_count": 25,
   "id": "d489b02f-10f1-4f45-bec3-dd10a3ac3b1f",
   "metadata": {},
   "outputs": [
    {
     "name": "stdout",
     "output_type": "stream",
     "text": [
      "[[[0. 0. 0. 0.]\n",
      "  [0. 0. 0. 0.]\n",
      "  [0. 0. 0. 0.]]\n",
      "\n",
      " [[0. 0. 0. 0.]\n",
      "  [0. 0. 0. 0.]\n",
      "  [0. 0. 0. 0.]]]\n",
      "Dimentions: 3\n",
      "Shape: (2, 3, 4)\n",
      "Size: 24\n"
     ]
    }
   ],
   "source": [
    "# 3-D Array --> a collection of 2-D Arrays\n",
    "a = np.zeros((2,3,4))\n",
    "# 2 --> 2 2-D Arrays\n",
    "# 3 --> No. of rows in every 2-D Array\n",
    "# 4 --> No. of columns in every 2-D Array\n",
    "# size = 4*3*2 = 24\n",
    "print(a)\n",
    "print('Dimentions:',a.ndim)\n",
    "print('Shape:',a.shape)\n",
    "print('Size:',a.size)"
   ]
  },
  {
   "cell_type": "code",
   "execution_count": 26,
   "id": "77d490b6-2ff5-4bfb-8669-14844d66a6a6",
   "metadata": {},
   "outputs": [
    {
     "name": "stdout",
     "output_type": "stream",
     "text": [
      "[[[0. 0. 0. 0.]\n",
      "  [0. 0. 0. 0.]\n",
      "  [0. 0. 0. 0.]]\n",
      "\n",
      " [[0. 0. 0. 0.]\n",
      "  [0. 0. 0. 0.]\n",
      "  [0. 0. 0. 0.]]\n",
      "\n",
      " [[0. 0. 0. 0.]\n",
      "  [0. 0. 0. 0.]\n",
      "  [0. 0. 0. 0.]]]\n",
      "Dimentions: 3\n",
      "Shape: (3, 3, 4)\n",
      "Size: 36\n"
     ]
    }
   ],
   "source": [
    "a = np.zeros((3,3,4))\n",
    "print(a)\n",
    "print('Dimentions:',a.ndim)\n",
    "print('Shape:',a.shape)\n",
    "print('Size:',a.size)"
   ]
  },
  {
   "cell_type": "code",
   "execution_count": 27,
   "id": "dce00f12-817f-4912-8660-18ba056734d7",
   "metadata": {},
   "outputs": [
    {
     "name": "stdout",
     "output_type": "stream",
     "text": [
      "[[[0 0 0 0]\n",
      "  [0 0 0 0]\n",
      "  [0 0 0 0]]\n",
      "\n",
      " [[0 0 0 0]\n",
      "  [0 0 0 0]\n",
      "  [0 0 0 0]]]\n",
      "Dimentions: 3\n",
      "Shape: (2, 3, 4)\n",
      "Size: 24\n"
     ]
    }
   ],
   "source": [
    "# dtype argument\n",
    "a = np.zeros((2,3,4),dtype=int)\n",
    "print(a)\n",
    "print('Dimentions:',a.ndim)\n",
    "print('Shape:',a.shape)\n",
    "print('Size:',a.size)"
   ]
  },
  {
   "cell_type": "code",
   "execution_count": 28,
   "id": "1123a676-a40b-45d6-913f-4b7a86355a58",
   "metadata": {},
   "outputs": [
    {
     "name": "stdout",
     "output_type": "stream",
     "text": [
      "[[[0 0]\n",
      "  [0 0]\n",
      "  [0 0]]]\n",
      "Dimentions: 3\n",
      "Shape: (1, 3, 2)\n",
      "Size: 6\n"
     ]
    }
   ],
   "source": [
    "a = np.zeros((1,3,2),dtype=int)\n",
    "print(a)\n",
    "print('Dimentions:',a.ndim)\n",
    "print('Shape:',a.shape)\n",
    "print('Size:',a.size)"
   ]
  },
  {
   "cell_type": "code",
   "execution_count": 29,
   "id": "05ddd12e-3b79-41eb-93a2-9a426d81fcd9",
   "metadata": {},
   "outputs": [
    {
     "name": "stdout",
     "output_type": "stream",
     "text": [
      "[[[[0 0 0 0]\n",
      "   [0 0 0 0]\n",
      "   [0 0 0 0]]\n",
      "\n",
      "  [[0 0 0 0]\n",
      "   [0 0 0 0]\n",
      "   [0 0 0 0]]]\n",
      "\n",
      "\n",
      " [[[0 0 0 0]\n",
      "   [0 0 0 0]\n",
      "   [0 0 0 0]]\n",
      "\n",
      "  [[0 0 0 0]\n",
      "   [0 0 0 0]\n",
      "   [0 0 0 0]]]]\n",
      "Dimentions: 4\n",
      "Shape: (2, 2, 3, 4)\n",
      "Size: 48\n"
     ]
    }
   ],
   "source": [
    "# 4-D Arrays --> a collection of 3-D Arrays\n",
    "a = np.zeros((2,2,3,4),dtype=int)\n",
    "print(a)\n",
    "print('Dimentions:',a.ndim)\n",
    "print('Shape:',a.shape)\n",
    "print('Size:',a.size)"
   ]
  },
  {
   "cell_type": "markdown",
   "id": "c01d195c-ff30-466f-99a5-b873d3983167",
   "metadata": {},
   "source": [
    "#### 5. ones()"
   ]
  },
  {
   "cell_type": "code",
   "execution_count": 30,
   "id": "5e23c87d-364c-476b-b21f-3b08e120ceb2",
   "metadata": {},
   "outputs": [],
   "source": [
    "# Exactly similar to zeros() , just the values are 1 instead of 0\n",
    "# help(np.ones) \n",
    "# --> ones(shape, dtype=None, order='C', *, like=None)\n",
    "# --> Return a new array of given shape and type, filled with ones."
   ]
  },
  {
   "cell_type": "code",
   "execution_count": 31,
   "id": "d3bce344-f350-4da1-973b-80166eebd812",
   "metadata": {},
   "outputs": [
    {
     "data": {
      "text/plain": [
       "array([[[1., 1., 1., 1.],\n",
       "        [1., 1., 1., 1.],\n",
       "        [1., 1., 1., 1.]],\n",
       "\n",
       "       [[1., 1., 1., 1.],\n",
       "        [1., 1., 1., 1.],\n",
       "        [1., 1., 1., 1.]]])"
      ]
     },
     "execution_count": 31,
     "metadata": {},
     "output_type": "execute_result"
    }
   ],
   "source": [
    "np.ones((2,3,4))"
   ]
  },
  {
   "cell_type": "markdown",
   "id": "5af55ef6-adf7-4e34-ad7d-cd3c506c0433",
   "metadata": {},
   "source": [
    "#### 6. full()"
   ]
  },
  {
   "cell_type": "code",
   "execution_count": 32,
   "id": "c3a74f9a-a1d0-4c97-b9f6-f5424f88f91a",
   "metadata": {},
   "outputs": [],
   "source": [
    "# help(np.full)\n",
    "# --> full(shape, fill_value, dtype=None, order='C', *, like=None)\n",
    "# --> Return a new array of given shape and type, filled with `fill_value`."
   ]
  },
  {
   "cell_type": "code",
   "execution_count": 33,
   "id": "c182fc55-89b3-4183-a95f-a4c5da4d60ac",
   "metadata": {},
   "outputs": [
    {
     "data": {
      "text/plain": [
       "array([2, 2, 2, 2, 2, 2, 2, 2, 2, 2])"
      ]
     },
     "execution_count": 33,
     "metadata": {},
     "output_type": "execute_result"
    }
   ],
   "source": [
    "np.full((10),2)"
   ]
  },
  {
   "cell_type": "code",
   "execution_count": 34,
   "id": "72707b8b-1d91-43c0-93d3-4b053b4c681b",
   "metadata": {},
   "outputs": [
    {
     "data": {
      "text/plain": [
       "array([[7, 7, 7, 7, 7],\n",
       "       [7, 7, 7, 7, 7],\n",
       "       [7, 7, 7, 7, 7],\n",
       "       [7, 7, 7, 7, 7]])"
      ]
     },
     "execution_count": 34,
     "metadata": {},
     "output_type": "execute_result"
    }
   ],
   "source": [
    "np.full((4,5),7)"
   ]
  },
  {
   "cell_type": "code",
   "execution_count": 35,
   "id": "f10c774f-3609-4a05-8a8c-09b1f37cd1a3",
   "metadata": {},
   "outputs": [
    {
     "data": {
      "text/plain": [
       "array([[[9, 9, 9, 9],\n",
       "        [9, 9, 9, 9],\n",
       "        [9, 9, 9, 9]],\n",
       "\n",
       "       [[9, 9, 9, 9],\n",
       "        [9, 9, 9, 9],\n",
       "        [9, 9, 9, 9]]])"
      ]
     },
     "execution_count": 35,
     "metadata": {},
     "output_type": "execute_result"
    }
   ],
   "source": [
    "np.full((2,3,4),9)"
   ]
  },
  {
   "cell_type": "markdown",
   "id": "84901125-3800-4935-9580-05d2f79d109d",
   "metadata": {},
   "source": [
    "#### 7. eye()"
   ]
  },
  {
   "cell_type": "code",
   "execution_count": 3,
   "id": "99a366b8-485d-404d-9cf5-a1c7402ef4c1",
   "metadata": {},
   "outputs": [],
   "source": [
    "# help(np.eye)\n",
    "# --> eye(N, M=None, k=0, dtype=<class 'float'>, order='C', *, like=None)\n",
    "# --> Return a 2-D array with ones on the diagonal and zeros elsewhere."
   ]
  },
  {
   "cell_type": "code",
   "execution_count": 4,
   "id": "8a85a50e-6a98-4f98-84b4-6583d99ba350",
   "metadata": {},
   "outputs": [
    {
     "name": "stdout",
     "output_type": "stream",
     "text": [
      "[[1. 0. 0.]\n",
      " [0. 1. 0.]]\n"
     ]
    }
   ],
   "source": [
    "a = np.eye(2,3)\n",
    "print(a)"
   ]
  },
  {
   "cell_type": "code",
   "execution_count": 5,
   "id": "07ebc32e-e442-4934-8359-2c3b2fd50905",
   "metadata": {},
   "outputs": [
    {
     "name": "stdout",
     "output_type": "stream",
     "text": [
      "[[1. 0.]\n",
      " [0. 1.]\n",
      " [0. 0.]]\n"
     ]
    }
   ],
   "source": [
    "a = np.eye(3,2)\n",
    "print(a)"
   ]
  },
  {
   "cell_type": "code",
   "execution_count": 7,
   "id": "8ac160bd-e6bb-47d7-a434-da06dee5cce0",
   "metadata": {},
   "outputs": [
    {
     "name": "stdout",
     "output_type": "stream",
     "text": [
      "[[1. 0. 0.]\n",
      " [0. 1. 0.]\n",
      " [0. 0. 1.]]\n"
     ]
    }
   ],
   "source": [
    "a = np.eye(3)\n",
    "print(a)"
   ]
  },
  {
   "cell_type": "code",
   "execution_count": 8,
   "id": "5e262bce-378b-476e-9330-7fa942140b7e",
   "metadata": {},
   "outputs": [
    {
     "name": "stdout",
     "output_type": "stream",
     "text": [
      "[[1 0 0]\n",
      " [0 1 0]\n",
      " [0 0 1]]\n"
     ]
    }
   ],
   "source": [
    "a = np.eye(3,dtype=int)\n",
    "print(a)"
   ]
  },
  {
   "cell_type": "code",
   "execution_count": 11,
   "id": "af020603-5d07-46da-9d4f-16fc6b55d80f",
   "metadata": {},
   "outputs": [
    {
     "name": "stdout",
     "output_type": "stream",
     "text": [
      "[[0. 1. 0. 0. 0.]\n",
      " [0. 0. 1. 0. 0.]\n",
      " [0. 0. 0. 1. 0.]\n",
      " [0. 0. 0. 0. 1.]\n",
      " [0. 0. 0. 0. 0.]]\n"
     ]
    }
   ],
   "source": [
    "a = np.eye(5,k=1)\n",
    "print(a)"
   ]
  },
  {
   "cell_type": "code",
   "execution_count": 15,
   "id": "adf85002-bbb5-46fe-bdc0-0caf2257e2ef",
   "metadata": {},
   "outputs": [
    {
     "name": "stdout",
     "output_type": "stream",
     "text": [
      "[[0. 0. 0. 0. 0.]\n",
      " [0. 0. 0. 0. 0.]\n",
      " [0. 0. 0. 0. 0.]\n",
      " [1. 0. 0. 0. 0.]\n",
      " [0. 1. 0. 0. 0.]]\n"
     ]
    }
   ],
   "source": [
    "a = np.eye(5,k=-3)\n",
    "print(a)"
   ]
  },
  {
   "cell_type": "markdown",
   "id": "c3f999a5-abcb-43dd-a809-c7affa96ea48",
   "metadata": {},
   "source": [
    "#### 8. identity()"
   ]
  },
  {
   "cell_type": "code",
   "execution_count": null,
   "id": "c4a4d40c-b999-44a6-87c8-a49bddae783d",
   "metadata": {},
   "outputs": [],
   "source": [
    "# exactly same as eye() function except that \n",
    "# 1. It is always square matrix\n",
    "# 2. only main diagonal contains 1s"
   ]
  },
  {
   "cell_type": "code",
   "execution_count": 17,
   "id": "80225d36-5e82-4756-93cb-03c5c9fdb3c9",
   "metadata": {},
   "outputs": [],
   "source": [
    "# help(np.identity)\n",
    "# --> identity(n, dtype=None, *, like=None)\n",
    "# --> Return the identity array.\n",
    "# --> The identity array is a square array with ones on the main diagonal."
   ]
  },
  {
   "cell_type": "code",
   "execution_count": 18,
   "id": "63a53cae-fd38-453d-852b-e0b2f18c4632",
   "metadata": {},
   "outputs": [
    {
     "name": "stdout",
     "output_type": "stream",
     "text": [
      "[[1. 0. 0. 0. 0.]\n",
      " [0. 1. 0. 0. 0.]\n",
      " [0. 0. 1. 0. 0.]\n",
      " [0. 0. 0. 1. 0.]\n",
      " [0. 0. 0. 0. 1.]]\n"
     ]
    }
   ],
   "source": [
    "a = np.identity(5)\n",
    "print(a)"
   ]
  },
  {
   "cell_type": "code",
   "execution_count": 19,
   "id": "80a91e28-389e-4974-9473-5521773b75a3",
   "metadata": {},
   "outputs": [
    {
     "name": "stdout",
     "output_type": "stream",
     "text": [
      "[[1 0 0 0 0]\n",
      " [0 1 0 0 0]\n",
      " [0 0 1 0 0]\n",
      " [0 0 0 1 0]\n",
      " [0 0 0 0 1]]\n"
     ]
    }
   ],
   "source": [
    "a = np.identity(5,dtype=int)\n",
    "print(a)"
   ]
  },
  {
   "cell_type": "code",
   "execution_count": 22,
   "id": "37610347-da06-495c-94bb-cff6b306e7b9",
   "metadata": {},
   "outputs": [],
   "source": [
    "# help(np.empty)\n",
    "# --> empty(shape, dtype=float, order='C', *, like=None)\n",
    "# --> Return a new array of given shape and type, without initializing entries."
   ]
  },
  {
   "cell_type": "markdown",
   "id": "f70e592f-9b66-4399-b7fd-9ab13a658791",
   "metadata": {},
   "source": [
    "#### 9. empty()"
   ]
  },
  {
   "cell_type": "code",
   "execution_count": 23,
   "id": "abdcac33-f39f-4349-b4f8-4f3fe2ec2498",
   "metadata": {},
   "outputs": [
    {
     "name": "stdout",
     "output_type": "stream",
     "text": [
      "[[5.e-324 0.e+000 0.e+000]\n",
      " [0.e+000 5.e-324 0.e+000]\n",
      " [0.e+000 0.e+000 5.e-324]]\n"
     ]
    }
   ],
   "source": [
    "a = np.empty((3,3))\n",
    "print(a)"
   ]
  },
  {
   "cell_type": "code",
   "execution_count": 24,
   "id": "fcdcb63b-63cc-45f3-b105-84fcdb3ebc1f",
   "metadata": {},
   "outputs": [
    {
     "name": "stdout",
     "output_type": "stream",
     "text": [
      "[[[1.68610835e-316 0.00000000e+000 1.14448379e+243 1.21698002e-152]\n",
      "  [8.70860497e+183 4.89584248e-085 6.01347002e-154 3.32234062e+257]\n",
      "  [2.45652619e+198 5.22373805e+257 2.43812981e-152 1.48890307e+195]]\n",
      "\n",
      " [[4.96181029e+228 5.98129759e-154 5.66774924e+160 1.28625507e+248]\n",
      "  [6.01347002e-154 4.47593816e-091 6.01346953e-154 1.95662563e-152]\n",
      "  [5.98189094e-154 6.01347002e-154 7.03540167e+199 1.54235981e+256]]]\n"
     ]
    }
   ],
   "source": [
    "a = np.empty((2,3,4))\n",
    "print(a)"
   ]
  },
  {
   "cell_type": "code",
   "execution_count": 26,
   "id": "510cfaf0-3a15-434a-89ab-8c187804aea5",
   "metadata": {},
   "outputs": [
    {
     "name": "stdout",
     "output_type": "stream",
     "text": [
      "[           35420604                   0                   0\n",
      "                   0                   0 3472330710117071152\n",
      " 7076330810053387821 3271411255263179056 4121187706026222642\n",
      "          1697790257]\n"
     ]
    }
   ],
   "source": [
    "a = np.empty(10)\n",
    "print(a)"
   ]
  },
  {
   "cell_type": "code",
   "execution_count": 27,
   "id": "3545c08d-efe8-44d2-8de4-bdcab12222c4",
   "metadata": {},
   "outputs": [
    {
     "name": "stdout",
     "output_type": "stream",
     "text": [
      "[           35420604                   0                   0\n",
      "                   0                   0 3472330710117071152\n",
      " 7076330810053387821 3271411255263179056 4121187706026222642\n",
      "          1697790257]\n"
     ]
    }
   ],
   "source": [
    "a = np.empty(10,dtype=int)\n",
    "print(a)"
   ]
  },
  {
   "cell_type": "markdown",
   "id": "fb90d340-a5e3-40df-afb1-80b5b3f89317",
   "metadata": {},
   "source": [
    "<!-- zeros() vs. empty() -->"
   ]
  },
  {
   "cell_type": "code",
   "execution_count": 29,
   "id": "f62ef225-8efc-4218-930b-5ecf9d0a2f9f",
   "metadata": {},
   "outputs": [
    {
     "name": "stdout",
     "output_type": "stream",
     "text": [
      "192000144\n",
      "192000144\n"
     ]
    }
   ],
   "source": [
    "# memory consumption comparision\n",
    "import sys\n",
    "a = np.zeros((20000,30,40))\n",
    "b = np.empty((20000,30,40))\n",
    "print(sys.getsizeof(a))\n",
    "print(sys.getsizeof(b))\n",
    "# no difference"
   ]
  },
  {
   "cell_type": "markdown",
   "id": "02553316-c53e-414b-9af0-830cd631ea6e",
   "metadata": {},
   "source": [
    "#### zeros() vs. empty()\n",
    "* memory consumption\n",
    "* time consumption"
   ]
  },
  {
   "cell_type": "code",
   "execution_count": 42,
   "id": "a1f19def-5a3b-4f8b-b279-56a55bd9932c",
   "metadata": {},
   "outputs": [
    {
     "name": "stdout",
     "output_type": "stream",
     "text": [
      "Time taken by zeros(): 0:00:00.000140\n",
      "Time taken by empty(): 0:00:00.000051\n"
     ]
    }
   ],
   "source": [
    "# Time Consumption Comparision --> empty() is way more faster than zeros()\n",
    "from datetime import datetime\n",
    "\n",
    "begin = datetime.now()\n",
    "a = np.zeros((100000,300,40))\n",
    "end = datetime.now()\n",
    "print('Time taken by zeros():',end-begin)\n",
    "a = None    # making the object eligible for garbage collection\n",
    "begin = datetime.now()\n",
    "a = np.empty((100000,300,40))\n",
    "end = datetime.now()\n",
    "print('Time taken by empty():',end-begin)"
   ]
  },
  {
   "cell_type": "code",
   "execution_count": null,
   "id": "3598f53c-db08-4df6-af59-35b5736efb92",
   "metadata": {},
   "outputs": [],
   "source": []
  }
 ],
 "metadata": {
  "kernelspec": {
   "display_name": "Python 3 (ipykernel)",
   "language": "python",
   "name": "python3"
  },
  "language_info": {
   "codemirror_mode": {
    "name": "ipython",
    "version": 3
   },
   "file_extension": ".py",
   "mimetype": "text/x-python",
   "name": "python",
   "nbconvert_exporter": "python",
   "pygments_lexer": "ipython3",
   "version": "3.11.7"
  }
 },
 "nbformat": 4,
 "nbformat_minor": 5
}
