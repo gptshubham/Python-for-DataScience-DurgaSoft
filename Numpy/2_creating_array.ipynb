{
 "cells": [
  {
   "cell_type": "markdown",
   "id": "c6eac9e2-7a77-4d17-8c65-4c1c5ec67743",
   "metadata": {
    "jp-MarkdownHeadingCollapsed": true
   },
   "source": [
    "# Creating Numpy Arrays"
   ]
  },
  {
   "cell_type": "markdown",
   "id": "29d383ef-c91d-494a-9ee3-de978c5e448e",
   "metadata": {
    "jp-MarkdownHeadingCollapsed": true
   },
   "source": [
    "#### 1. array()"
   ]
  },
  {
   "cell_type": "code",
   "execution_count": 1,
   "id": "f9e7fd8a-3b21-400b-a162-06e02af63449",
   "metadata": {},
   "outputs": [],
   "source": [
    "import numpy as np"
   ]
  },
  {
   "cell_type": "code",
   "execution_count": 2,
   "id": "2a9972d3-457c-4f00-be46-23663daf41c9",
   "metadata": {},
   "outputs": [],
   "source": [
    "# help(np.array)\n",
    "# --> array(object, dtype=None, *, copy=True, order='K', subok=False, ndmin=0,like=None)\n",
    "# --> Create an array."
   ]
  },
  {
   "cell_type": "code",
   "execution_count": 3,
   "id": "50024747-89a4-4413-88e8-d8b15db84d9b",
   "metadata": {},
   "outputs": [
    {
     "name": "stdout",
     "output_type": "stream",
     "text": [
      "[10, 20, 30]\n",
      "<class 'list'>\n",
      "[10 20 30]\n",
      "<class 'numpy.ndarray'>\n",
      "1\n",
      "int64\n",
      "(3,)\n",
      "3\n"
     ]
    }
   ],
   "source": [
    "# 1-D Array using List\n",
    "L = [10,20,30]\n",
    "a = np.array(L)\n",
    "print(L)\n",
    "print(type(L))\n",
    "print(a)\n",
    "print(type(a))\n",
    "print(a.ndim)\n",
    "print(a.dtype)\n",
    "print(a.shape)      # (3,) --> (size of array , )\n",
    "print(a.size)\n",
    "# a1 = np.array(L,str)\n",
    "# print(a1.dtype)"
   ]
  },
  {
   "cell_type": "code",
   "execution_count": 4,
   "id": "5801d3b9-dedb-4ceb-a7d4-ba17d7c47318",
   "metadata": {},
   "outputs": [],
   "source": [
    "# import numpy as np\n",
    "# help(np.array)\n",
    "# array(object, dtype=None, *, copy=True, order='K', subok=False, ndmin=0,like=None)"
   ]
  },
  {
   "cell_type": "code",
   "execution_count": 5,
   "id": "c1654249-5e3b-4157-b99c-b6f62bcdb71a",
   "metadata": {},
   "outputs": [
    {
     "name": "stdout",
     "output_type": "stream",
     "text": [
      "<class 'numpy.ndarray'>\n",
      "2\n",
      "[[10 20 30]\n",
      " [40 50 60]\n",
      " [70 80 90]]\n",
      "(3, 3)\n",
      "9\n"
     ]
    }
   ],
   "source": [
    "# 2-D Array\n",
    "L = [[10,20,30],[40,50,60],[70,80,90]]\n",
    "a = np.array(L)\n",
    "print(type(a))\n",
    "print(a.ndim)\n",
    "print(a)\n",
    "print(a.shape)\n",
    "print(a.size)"
   ]
  },
  {
   "cell_type": "code",
   "execution_count": 6,
   "id": "cf6f06bb-8c83-480b-a07b-07fcfa387926",
   "metadata": {},
   "outputs": [
    {
     "name": "stdout",
     "output_type": "stream",
     "text": [
      "['shubham' 'kumar' 'gupta']\n",
      "<class 'numpy.ndarray'>\n",
      "1\n",
      "(3,)\n",
      "3\n",
      "<U7\n"
     ]
    }
   ],
   "source": [
    "# 1-D Array using Tuple\n",
    "t = ('shubham','kumar','gupta')\n",
    "a = np.array(t)\n",
    "print(a)\n",
    "print(type(a))\n",
    "print(a.ndim)\n",
    "print(a.shape)\n",
    "print(a.size)\n",
    "print(a.dtype)        # <U7 --> string"
   ]
  },
  {
   "cell_type": "code",
   "execution_count": 7,
   "id": "5041a019-1d06-4a1b-a3cd-4eb6698569e9",
   "metadata": {},
   "outputs": [
    {
     "name": "stdout",
     "output_type": "stream",
     "text": [
      "[7, 'Dhoni', 10, 'Sachin', 18, 'Kohli', 45, 'Rohit']\n",
      "['7' 'Dhoni' '10' 'Sachin' '18' 'Kohli' '45' 'Rohit']\n",
      "<U21\n",
      "[10.  20.  30.5]\n",
      "float64\n"
     ]
    }
   ],
   "source": [
    "# Homo Elements --> upcasting\n",
    "L = [7,'Dhoni',10,'Sachin',18,'Kohli',45,'Rohit']\n",
    "a = np.array(L)\n",
    "print(L)\n",
    "print(a)\n",
    "print(a.dtype)\n",
    "L1 = [10,20,30.5]\n",
    "a1 = np.array(L1)\n",
    "print(a1)\n",
    "print(a1.dtype)"
   ]
  },
  {
   "cell_type": "code",
   "execution_count": 8,
   "id": "9e1803cd-f227-496e-880b-6b06178ab59a",
   "metadata": {},
   "outputs": [
    {
     "name": "stdout",
     "output_type": "stream",
     "text": [
      "[10 20 30  0]\n",
      "[ True  True  True False]\n",
      "['10' '20' '30.5' '0']\n"
     ]
    }
   ],
   "source": [
    "# How to create an array of a particular type\n",
    "L1 = [10,20,30.5,0]\n",
    "a1 = np.array(L1,int)\n",
    "print(a1)\n",
    "a2 = np.array(L1,bool)\n",
    "print(a2)\n",
    "a3 = np.array(L1,str)\n",
    "print(a3)\n",
    "L2 = [7,'Dhoni',10,'Sachin',18,'Kohli',45,'Rohit']\n",
    "# a = np.array(L2,int)       # ValueError"
   ]
  },
  {
   "cell_type": "code",
   "execution_count": 9,
   "id": "849588b9-8b40-42fd-862d-a0795c9aab73",
   "metadata": {},
   "outputs": [
    {
     "name": "stdout",
     "output_type": "stream",
     "text": [
      "[7 'Dhoni' 10 'Sachin' 18 'Kohli' 45 'Rohit' True 10.5 (10+20j)]\n",
      "object\n",
      "['7' 'Dhoni' '10' 'Sachin' '18' 'Kohli' '45' 'Rohit' 'True' '10.5'\n",
      " '(10+20j)']\n",
      "<U64\n"
     ]
    }
   ],
   "source": [
    "# object type array --> Array with Heterogeneous Elements \n",
    "L = [7,'Dhoni',10,'Sachin',18,'Kohli',45,'Rohit',True,10.5,10+20j]\n",
    "a = np.array(L,object)\n",
    "print(a)\n",
    "print(a.dtype)\n",
    "a1 = np.array(L)\n",
    "print(a1)\n",
    "print(a1.dtype)"
   ]
  },
  {
   "cell_type": "markdown",
   "id": "044d0740-477e-42ee-8bcf-79f57319141a",
   "metadata": {
    "jp-MarkdownHeadingCollapsed": true
   },
   "source": [
    "#### 2. arange()"
   ]
  },
  {
   "cell_type": "code",
   "execution_count": 10,
   "id": "31a96f83-3484-454b-9d85-56de60a8092d",
   "metadata": {
    "editable": true,
    "slideshow": {
     "slide_type": ""
    },
    "tags": []
   },
   "outputs": [],
   "source": [
    "# arguments of arange()\n",
    "# help(np.arange) \n",
    "# --> arange([start,] stop[, step,], dtype=None, *, like=None)\n",
    "# --> Return evenly spaced values within a given interval."
   ]
  },
  {
   "cell_type": "code",
   "execution_count": 11,
   "id": "5390538b-9918-4e3c-bbb0-7fae18502a97",
   "metadata": {},
   "outputs": [
    {
     "name": "stdout",
     "output_type": "stream",
     "text": [
      "[0 1 2 3 4 5 6 7 8 9]\n",
      "1\n",
      "int64\n"
     ]
    }
   ],
   "source": [
    "a = np.arange(10)\n",
    "print(a)\n",
    "print(a.ndim)\n",
    "print(a.dtype)"
   ]
  },
  {
   "cell_type": "code",
   "execution_count": 12,
   "id": "505b9119-47b2-4916-9296-76069f646167",
   "metadata": {},
   "outputs": [
    {
     "data": {
      "text/plain": [
       "array([ 1,  2,  3,  4,  5,  6,  7,  8,  9, 10])"
      ]
     },
     "execution_count": 12,
     "metadata": {},
     "output_type": "execute_result"
    }
   ],
   "source": [
    "a = np.arange(1,11)\n",
    "a"
   ]
  },
  {
   "cell_type": "code",
   "execution_count": 13,
   "id": "d0d3991e-dc74-45bb-9837-5e97c7cd740e",
   "metadata": {},
   "outputs": [
    {
     "data": {
      "text/plain": [
       "array([1, 3, 5, 7, 9])"
      ]
     },
     "execution_count": 13,
     "metadata": {},
     "output_type": "execute_result"
    }
   ],
   "source": [
    "a = np.arange(1,11,2)\n",
    "a"
   ]
  },
  {
   "cell_type": "code",
   "execution_count": 14,
   "id": "b1bca752-22d3-4729-b835-3cc4458c4d60",
   "metadata": {},
   "outputs": [
    {
     "data": {
      "text/plain": [
       "array([ 1.,  4.,  7., 10.])"
      ]
     },
     "execution_count": 14,
     "metadata": {},
     "output_type": "execute_result"
    }
   ],
   "source": [
    "a = np.arange(1,11,3,dtype=float)\n",
    "a"
   ]
  },
  {
   "cell_type": "code",
   "execution_count": 15,
   "id": "5699d609-9905-4c21-88f6-ac18d0da6eee",
   "metadata": {},
   "outputs": [],
   "source": [
    "# a = np.arange(1,11,3,dtype=str)\n",
    "# a\n",
    "# TypeError: arange() not supported for inputs with DType <class 'numpy.dtypes.StrDType'>."
   ]
  },
  {
   "cell_type": "markdown",
   "id": "3d29c624-1634-4897-bc37-8db7887cd6ea",
   "metadata": {
    "jp-MarkdownHeadingCollapsed": true
   },
   "source": [
    "#### 3. linspace()"
   ]
  },
  {
   "cell_type": "code",
   "execution_count": 16,
   "id": "85c0cf43-1e32-48f5-b7bb-63c9c33c317c",
   "metadata": {},
   "outputs": [],
   "source": [
    "# in the specified interval , linearly spaced values --> evenly spaced (uniform) numbers\n",
    "# arguments of linspace()\n",
    "# help(np.linspace) \n",
    "# --> linspace(start, stop, num=50, endpoint=True, retstep=False, dtype=None, axis=0)\n",
    "# --> Return evenly spaced numbers over a specified interval.\n",
    "# --> Returns `num` evenly spaced samples, calculated over the interval [`start`, `stop`].\n",
    "# --> The endpoint of the interval can optionally be excluded."
   ]
  },
  {
   "cell_type": "code",
   "execution_count": 17,
   "id": "4df4a980-b135-401b-974d-a2c03943f4f8",
   "metadata": {},
   "outputs": [
    {
     "data": {
      "text/plain": [
       "array([0., 1.])"
      ]
     },
     "execution_count": 17,
     "metadata": {},
     "output_type": "execute_result"
    }
   ],
   "source": [
    "np.linspace(0,1,2)"
   ]
  },
  {
   "cell_type": "code",
   "execution_count": 18,
   "id": "168036e7-f885-4419-a69d-59785d6ffc9f",
   "metadata": {},
   "outputs": [
    {
     "data": {
      "text/plain": [
       "array([0. , 0.5, 1. ])"
      ]
     },
     "execution_count": 18,
     "metadata": {},
     "output_type": "execute_result"
    }
   ],
   "source": [
    "np.linspace(0,1,3)"
   ]
  },
  {
   "cell_type": "code",
   "execution_count": 19,
   "id": "2bf00489-f8fd-4852-b63c-26c375027796",
   "metadata": {},
   "outputs": [
    {
     "data": {
      "text/plain": [
       "array([0.        , 0.33333333, 0.66666667, 1.        ])"
      ]
     },
     "execution_count": 19,
     "metadata": {},
     "output_type": "execute_result"
    }
   ],
   "source": [
    "np.linspace(0,1,4)"
   ]
  },
  {
   "cell_type": "code",
   "execution_count": 20,
   "id": "4ec233ea-5324-4648-9efe-df0694ec86ad",
   "metadata": {},
   "outputs": [
    {
     "name": "stdout",
     "output_type": "stream",
     "text": [
      "[0.         0.02040816 0.04081633 0.06122449 0.08163265 0.10204082\n",
      " 0.12244898 0.14285714 0.16326531 0.18367347 0.20408163 0.2244898\n",
      " 0.24489796 0.26530612 0.28571429 0.30612245 0.32653061 0.34693878\n",
      " 0.36734694 0.3877551  0.40816327 0.42857143 0.44897959 0.46938776\n",
      " 0.48979592 0.51020408 0.53061224 0.55102041 0.57142857 0.59183673\n",
      " 0.6122449  0.63265306 0.65306122 0.67346939 0.69387755 0.71428571\n",
      " 0.73469388 0.75510204 0.7755102  0.79591837 0.81632653 0.83673469\n",
      " 0.85714286 0.87755102 0.89795918 0.91836735 0.93877551 0.95918367\n",
      " 0.97959184 1.        ]\n",
      "Default Size of array in linspace(): 50\n",
      "1\n",
      "float64\n"
     ]
    }
   ],
   "source": [
    "a = np.linspace(0,1)        # dfault argument num=50\n",
    "print(a)\n",
    "print('Default Size of array in linspace():',a.size)\n",
    "print(a.ndim)\n",
    "print(a.dtype)"
   ]
  },
  {
   "cell_type": "code",
   "execution_count": 21,
   "id": "10194f40-4ddb-4f03-aa28-43db3701e3fa",
   "metadata": {},
   "outputs": [
    {
     "data": {
      "text/plain": [
       "array([  1,  12,  23,  34,  45,  56,  67,  78,  89, 100])"
      ]
     },
     "execution_count": 21,
     "metadata": {},
     "output_type": "execute_result"
    }
   ],
   "source": [
    "np.linspace(1,100,10,dtype=int)"
   ]
  },
  {
   "cell_type": "markdown",
   "id": "7526c991-5397-4489-8730-8b69a3ed3637",
   "metadata": {
    "jp-MarkdownHeadingCollapsed": true
   },
   "source": [
    "#### 4. zeros()"
   ]
  },
  {
   "cell_type": "code",
   "execution_count": 22,
   "id": "fce6e4c6-770d-4c5e-8d5c-5014b435423c",
   "metadata": {},
   "outputs": [],
   "source": [
    "# arguments\n",
    "# help(np.zeros) \n",
    "# --> zeros(shape, dtype=float, order='C', *, like=None)\n",
    "# --> Return a new array of given shape and type, filled with zeros."
   ]
  },
  {
   "cell_type": "code",
   "execution_count": 23,
   "id": "fd551845-ffa7-4324-aa4e-33bcbc705bda",
   "metadata": {},
   "outputs": [
    {
     "name": "stdout",
     "output_type": "stream",
     "text": [
      "[0. 0. 0. 0. 0. 0. 0. 0. 0. 0.]\n",
      "Dimentions: 1\n",
      "Shape: (10,)\n",
      "Size: 10\n"
     ]
    }
   ],
   "source": [
    "# vercor --> 1-D Array\n",
    "a = np.zeros((10))\n",
    "print(a)\n",
    "print('Dimentions:',a.ndim)\n",
    "print('Shape:',a.shape)\n",
    "print('Size:',a.size)"
   ]
  },
  {
   "cell_type": "code",
   "execution_count": 24,
   "id": "c9fa94f0-3c29-438f-9d7b-87ebf576a954",
   "metadata": {},
   "outputs": [
    {
     "name": "stdout",
     "output_type": "stream",
     "text": [
      "[[0. 0. 0.]\n",
      " [0. 0. 0.]\n",
      " [0. 0. 0.]]\n",
      "Dimentions: 2\n",
      "Shape: (3, 3)\n",
      "Size: 9\n"
     ]
    }
   ],
   "source": [
    "# matrix --> 2-D Array --> a collection of 1-D Arrays\n",
    "a = np.zeros((3,3))\n",
    "print(a)\n",
    "print('Dimentions:',a.ndim)\n",
    "print('Shape:',a.shape)\n",
    "print('Size:',a.size)"
   ]
  },
  {
   "cell_type": "code",
   "execution_count": 25,
   "id": "d489b02f-10f1-4f45-bec3-dd10a3ac3b1f",
   "metadata": {},
   "outputs": [
    {
     "name": "stdout",
     "output_type": "stream",
     "text": [
      "[[[0. 0. 0. 0.]\n",
      "  [0. 0. 0. 0.]\n",
      "  [0. 0. 0. 0.]]\n",
      "\n",
      " [[0. 0. 0. 0.]\n",
      "  [0. 0. 0. 0.]\n",
      "  [0. 0. 0. 0.]]]\n",
      "Dimentions: 3\n",
      "Shape: (2, 3, 4)\n",
      "Size: 24\n"
     ]
    }
   ],
   "source": [
    "# 3-D Array --> a collection of 2-D Arrays\n",
    "a = np.zeros((2,3,4))\n",
    "# 2 --> 2 2-D Arrays\n",
    "# 3 --> No. of rows in every 2-D Array\n",
    "# 4 --> No. of columns in every 2-D Array\n",
    "# size = 4*3*2 = 24\n",
    "print(a)\n",
    "print('Dimentions:',a.ndim)\n",
    "print('Shape:',a.shape)\n",
    "print('Size:',a.size)"
   ]
  },
  {
   "cell_type": "code",
   "execution_count": 26,
   "id": "77d490b6-2ff5-4bfb-8669-14844d66a6a6",
   "metadata": {},
   "outputs": [
    {
     "name": "stdout",
     "output_type": "stream",
     "text": [
      "[[[0. 0. 0. 0.]\n",
      "  [0. 0. 0. 0.]\n",
      "  [0. 0. 0. 0.]]\n",
      "\n",
      " [[0. 0. 0. 0.]\n",
      "  [0. 0. 0. 0.]\n",
      "  [0. 0. 0. 0.]]\n",
      "\n",
      " [[0. 0. 0. 0.]\n",
      "  [0. 0. 0. 0.]\n",
      "  [0. 0. 0. 0.]]]\n",
      "Dimentions: 3\n",
      "Shape: (3, 3, 4)\n",
      "Size: 36\n"
     ]
    }
   ],
   "source": [
    "a = np.zeros((3,3,4))\n",
    "print(a)\n",
    "print('Dimentions:',a.ndim)\n",
    "print('Shape:',a.shape)\n",
    "print('Size:',a.size)"
   ]
  },
  {
   "cell_type": "code",
   "execution_count": 27,
   "id": "dce00f12-817f-4912-8660-18ba056734d7",
   "metadata": {},
   "outputs": [
    {
     "name": "stdout",
     "output_type": "stream",
     "text": [
      "[[[0 0 0 0]\n",
      "  [0 0 0 0]\n",
      "  [0 0 0 0]]\n",
      "\n",
      " [[0 0 0 0]\n",
      "  [0 0 0 0]\n",
      "  [0 0 0 0]]]\n",
      "Dimentions: 3\n",
      "Shape: (2, 3, 4)\n",
      "Size: 24\n"
     ]
    }
   ],
   "source": [
    "# dtype argument\n",
    "a = np.zeros((2,3,4),dtype=int)\n",
    "print(a)\n",
    "print('Dimentions:',a.ndim)\n",
    "print('Shape:',a.shape)\n",
    "print('Size:',a.size)"
   ]
  },
  {
   "cell_type": "code",
   "execution_count": 28,
   "id": "1123a676-a40b-45d6-913f-4b7a86355a58",
   "metadata": {},
   "outputs": [
    {
     "name": "stdout",
     "output_type": "stream",
     "text": [
      "[[[0 0]\n",
      "  [0 0]\n",
      "  [0 0]]]\n",
      "Dimentions: 3\n",
      "Shape: (1, 3, 2)\n",
      "Size: 6\n"
     ]
    }
   ],
   "source": [
    "a = np.zeros((1,3,2),dtype=int)\n",
    "print(a)\n",
    "print('Dimentions:',a.ndim)\n",
    "print('Shape:',a.shape)\n",
    "print('Size:',a.size)"
   ]
  },
  {
   "cell_type": "code",
   "execution_count": 29,
   "id": "05ddd12e-3b79-41eb-93a2-9a426d81fcd9",
   "metadata": {},
   "outputs": [
    {
     "name": "stdout",
     "output_type": "stream",
     "text": [
      "[[[[0 0 0 0]\n",
      "   [0 0 0 0]\n",
      "   [0 0 0 0]]\n",
      "\n",
      "  [[0 0 0 0]\n",
      "   [0 0 0 0]\n",
      "   [0 0 0 0]]]\n",
      "\n",
      "\n",
      " [[[0 0 0 0]\n",
      "   [0 0 0 0]\n",
      "   [0 0 0 0]]\n",
      "\n",
      "  [[0 0 0 0]\n",
      "   [0 0 0 0]\n",
      "   [0 0 0 0]]]]\n",
      "Dimentions: 4\n",
      "Shape: (2, 2, 3, 4)\n",
      "Size: 48\n"
     ]
    }
   ],
   "source": [
    "# 4-D Arrays --> a collection of 3-D Arrays\n",
    "a = np.zeros((2,2,3,4),dtype=int)\n",
    "print(a)\n",
    "print('Dimentions:',a.ndim)\n",
    "print('Shape:',a.shape)\n",
    "print('Size:',a.size)"
   ]
  },
  {
   "cell_type": "markdown",
   "id": "c01d195c-ff30-466f-99a5-b873d3983167",
   "metadata": {
    "jp-MarkdownHeadingCollapsed": true
   },
   "source": [
    "#### 5. ones()"
   ]
  },
  {
   "cell_type": "code",
   "execution_count": 30,
   "id": "5e23c87d-364c-476b-b21f-3b08e120ceb2",
   "metadata": {},
   "outputs": [],
   "source": [
    "# Exactly similar to zeros() , just the values are 1 instead of 0\n",
    "# help(np.ones) \n",
    "# --> ones(shape, dtype=None, order='C', *, like=None)\n",
    "# --> Return a new array of given shape and type, filled with ones."
   ]
  },
  {
   "cell_type": "code",
   "execution_count": 31,
   "id": "d3bce344-f350-4da1-973b-80166eebd812",
   "metadata": {},
   "outputs": [
    {
     "data": {
      "text/plain": [
       "array([[[1., 1., 1., 1.],\n",
       "        [1., 1., 1., 1.],\n",
       "        [1., 1., 1., 1.]],\n",
       "\n",
       "       [[1., 1., 1., 1.],\n",
       "        [1., 1., 1., 1.],\n",
       "        [1., 1., 1., 1.]]])"
      ]
     },
     "execution_count": 31,
     "metadata": {},
     "output_type": "execute_result"
    }
   ],
   "source": [
    "np.ones((2,3,4))"
   ]
  },
  {
   "cell_type": "markdown",
   "id": "5af55ef6-adf7-4e34-ad7d-cd3c506c0433",
   "metadata": {
    "jp-MarkdownHeadingCollapsed": true
   },
   "source": [
    "#### 6. full()"
   ]
  },
  {
   "cell_type": "code",
   "execution_count": 32,
   "id": "c3a74f9a-a1d0-4c97-b9f6-f5424f88f91a",
   "metadata": {},
   "outputs": [],
   "source": [
    "# help(np.full)\n",
    "# --> full(shape, fill_value, dtype=None, order='C', *, like=None)\n",
    "# --> Return a new array of given shape and type, filled with `fill_value`."
   ]
  },
  {
   "cell_type": "code",
   "execution_count": 33,
   "id": "c182fc55-89b3-4183-a95f-a4c5da4d60ac",
   "metadata": {},
   "outputs": [
    {
     "data": {
      "text/plain": [
       "array([2, 2, 2, 2, 2, 2, 2, 2, 2, 2])"
      ]
     },
     "execution_count": 33,
     "metadata": {},
     "output_type": "execute_result"
    }
   ],
   "source": [
    "np.full((10),2)"
   ]
  },
  {
   "cell_type": "code",
   "execution_count": 34,
   "id": "72707b8b-1d91-43c0-93d3-4b053b4c681b",
   "metadata": {},
   "outputs": [
    {
     "data": {
      "text/plain": [
       "array([[7, 7, 7, 7, 7],\n",
       "       [7, 7, 7, 7, 7],\n",
       "       [7, 7, 7, 7, 7],\n",
       "       [7, 7, 7, 7, 7]])"
      ]
     },
     "execution_count": 34,
     "metadata": {},
     "output_type": "execute_result"
    }
   ],
   "source": [
    "np.full((4,5),7)"
   ]
  },
  {
   "cell_type": "code",
   "execution_count": 35,
   "id": "f10c774f-3609-4a05-8a8c-09b1f37cd1a3",
   "metadata": {},
   "outputs": [
    {
     "data": {
      "text/plain": [
       "array([[[9, 9, 9, 9],\n",
       "        [9, 9, 9, 9],\n",
       "        [9, 9, 9, 9]],\n",
       "\n",
       "       [[9, 9, 9, 9],\n",
       "        [9, 9, 9, 9],\n",
       "        [9, 9, 9, 9]]])"
      ]
     },
     "execution_count": 35,
     "metadata": {},
     "output_type": "execute_result"
    }
   ],
   "source": [
    "np.full((2,3,4),9)"
   ]
  },
  {
   "cell_type": "markdown",
   "id": "84901125-3800-4935-9580-05d2f79d109d",
   "metadata": {
    "jp-MarkdownHeadingCollapsed": true
   },
   "source": [
    "#### 7. eye()"
   ]
  },
  {
   "cell_type": "code",
   "execution_count": 3,
   "id": "99a366b8-485d-404d-9cf5-a1c7402ef4c1",
   "metadata": {},
   "outputs": [],
   "source": [
    "# help(np.eye)\n",
    "# --> eye(N, M=None, k=0, dtype=<class 'float'>, order='C', *, like=None)\n",
    "# --> Return a 2-D array with ones on the diagonal and zeros elsewhere."
   ]
  },
  {
   "cell_type": "code",
   "execution_count": 4,
   "id": "8a85a50e-6a98-4f98-84b4-6583d99ba350",
   "metadata": {},
   "outputs": [
    {
     "name": "stdout",
     "output_type": "stream",
     "text": [
      "[[1. 0. 0.]\n",
      " [0. 1. 0.]]\n"
     ]
    }
   ],
   "source": [
    "a = np.eye(2,3)\n",
    "print(a)"
   ]
  },
  {
   "cell_type": "code",
   "execution_count": 5,
   "id": "07ebc32e-e442-4934-8359-2c3b2fd50905",
   "metadata": {},
   "outputs": [
    {
     "name": "stdout",
     "output_type": "stream",
     "text": [
      "[[1. 0.]\n",
      " [0. 1.]\n",
      " [0. 0.]]\n"
     ]
    }
   ],
   "source": [
    "a = np.eye(3,2)\n",
    "print(a)"
   ]
  },
  {
   "cell_type": "code",
   "execution_count": 7,
   "id": "8ac160bd-e6bb-47d7-a434-da06dee5cce0",
   "metadata": {},
   "outputs": [
    {
     "name": "stdout",
     "output_type": "stream",
     "text": [
      "[[1. 0. 0.]\n",
      " [0. 1. 0.]\n",
      " [0. 0. 1.]]\n"
     ]
    }
   ],
   "source": [
    "a = np.eye(3)\n",
    "print(a)"
   ]
  },
  {
   "cell_type": "code",
   "execution_count": 8,
   "id": "5e262bce-378b-476e-9330-7fa942140b7e",
   "metadata": {},
   "outputs": [
    {
     "name": "stdout",
     "output_type": "stream",
     "text": [
      "[[1 0 0]\n",
      " [0 1 0]\n",
      " [0 0 1]]\n"
     ]
    }
   ],
   "source": [
    "a = np.eye(3,dtype=int)\n",
    "print(a)"
   ]
  },
  {
   "cell_type": "code",
   "execution_count": 11,
   "id": "af020603-5d07-46da-9d4f-16fc6b55d80f",
   "metadata": {},
   "outputs": [
    {
     "name": "stdout",
     "output_type": "stream",
     "text": [
      "[[0. 1. 0. 0. 0.]\n",
      " [0. 0. 1. 0. 0.]\n",
      " [0. 0. 0. 1. 0.]\n",
      " [0. 0. 0. 0. 1.]\n",
      " [0. 0. 0. 0. 0.]]\n"
     ]
    }
   ],
   "source": [
    "a = np.eye(5,k=1)\n",
    "print(a)"
   ]
  },
  {
   "cell_type": "code",
   "execution_count": 15,
   "id": "adf85002-bbb5-46fe-bdc0-0caf2257e2ef",
   "metadata": {},
   "outputs": [
    {
     "name": "stdout",
     "output_type": "stream",
     "text": [
      "[[0. 0. 0. 0. 0.]\n",
      " [0. 0. 0. 0. 0.]\n",
      " [0. 0. 0. 0. 0.]\n",
      " [1. 0. 0. 0. 0.]\n",
      " [0. 1. 0. 0. 0.]]\n"
     ]
    }
   ],
   "source": [
    "a = np.eye(5,k=-3)\n",
    "print(a)"
   ]
  },
  {
   "cell_type": "code",
   "execution_count": null,
   "id": "a9df2987-1802-45b1-a390-7758d963586f",
   "metadata": {},
   "outputs": [],
   "source": []
  },
  {
   "cell_type": "markdown",
   "id": "c3f999a5-abcb-43dd-a809-c7affa96ea48",
   "metadata": {
    "jp-MarkdownHeadingCollapsed": true
   },
   "source": [
    "#### 8. identity()"
   ]
  },
  {
   "cell_type": "code",
   "execution_count": null,
   "id": "c4a4d40c-b999-44a6-87c8-a49bddae783d",
   "metadata": {},
   "outputs": [],
   "source": [
    "# exactly same as eye() function except that \n",
    "# 1. It is always square matrix\n",
    "# 2. only main diagonal contains 1s"
   ]
  },
  {
   "cell_type": "code",
   "execution_count": 17,
   "id": "80225d36-5e82-4756-93cb-03c5c9fdb3c9",
   "metadata": {},
   "outputs": [],
   "source": [
    "# help(np.identity)\n",
    "# --> identity(n, dtype=None, *, like=None)\n",
    "# --> Return the identity array.\n",
    "# --> The identity array is a square array with ones on the main diagonal."
   ]
  },
  {
   "cell_type": "code",
   "execution_count": 18,
   "id": "63a53cae-fd38-453d-852b-e0b2f18c4632",
   "metadata": {},
   "outputs": [
    {
     "name": "stdout",
     "output_type": "stream",
     "text": [
      "[[1. 0. 0. 0. 0.]\n",
      " [0. 1. 0. 0. 0.]\n",
      " [0. 0. 1. 0. 0.]\n",
      " [0. 0. 0. 1. 0.]\n",
      " [0. 0. 0. 0. 1.]]\n"
     ]
    }
   ],
   "source": [
    "a = np.identity(5)\n",
    "print(a)"
   ]
  },
  {
   "cell_type": "code",
   "execution_count": 19,
   "id": "80a91e28-389e-4974-9473-5521773b75a3",
   "metadata": {},
   "outputs": [
    {
     "name": "stdout",
     "output_type": "stream",
     "text": [
      "[[1 0 0 0 0]\n",
      " [0 1 0 0 0]\n",
      " [0 0 1 0 0]\n",
      " [0 0 0 1 0]\n",
      " [0 0 0 0 1]]\n"
     ]
    }
   ],
   "source": [
    "a = np.identity(5,dtype=int)\n",
    "print(a)"
   ]
  },
  {
   "cell_type": "code",
   "execution_count": 22,
   "id": "37610347-da06-495c-94bb-cff6b306e7b9",
   "metadata": {},
   "outputs": [],
   "source": [
    "# help(np.empty)\n",
    "# --> empty(shape, dtype=float, order='C', *, like=None)\n",
    "# --> Return a new array of given shape and type, without initializing entries."
   ]
  },
  {
   "cell_type": "markdown",
   "id": "f70e592f-9b66-4399-b7fd-9ab13a658791",
   "metadata": {
    "jp-MarkdownHeadingCollapsed": true
   },
   "source": [
    "#### 9. empty()"
   ]
  },
  {
   "cell_type": "code",
   "execution_count": 23,
   "id": "abdcac33-f39f-4349-b4f8-4f3fe2ec2498",
   "metadata": {},
   "outputs": [
    {
     "name": "stdout",
     "output_type": "stream",
     "text": [
      "[[5.e-324 0.e+000 0.e+000]\n",
      " [0.e+000 5.e-324 0.e+000]\n",
      " [0.e+000 0.e+000 5.e-324]]\n"
     ]
    }
   ],
   "source": [
    "a = np.empty((3,3))\n",
    "print(a)"
   ]
  },
  {
   "cell_type": "code",
   "execution_count": 24,
   "id": "fcdcb63b-63cc-45f3-b105-84fcdb3ebc1f",
   "metadata": {},
   "outputs": [
    {
     "name": "stdout",
     "output_type": "stream",
     "text": [
      "[[[1.68610835e-316 0.00000000e+000 1.14448379e+243 1.21698002e-152]\n",
      "  [8.70860497e+183 4.89584248e-085 6.01347002e-154 3.32234062e+257]\n",
      "  [2.45652619e+198 5.22373805e+257 2.43812981e-152 1.48890307e+195]]\n",
      "\n",
      " [[4.96181029e+228 5.98129759e-154 5.66774924e+160 1.28625507e+248]\n",
      "  [6.01347002e-154 4.47593816e-091 6.01346953e-154 1.95662563e-152]\n",
      "  [5.98189094e-154 6.01347002e-154 7.03540167e+199 1.54235981e+256]]]\n"
     ]
    }
   ],
   "source": [
    "a = np.empty((2,3,4))\n",
    "print(a)"
   ]
  },
  {
   "cell_type": "code",
   "execution_count": 26,
   "id": "510cfaf0-3a15-434a-89ab-8c187804aea5",
   "metadata": {},
   "outputs": [
    {
     "name": "stdout",
     "output_type": "stream",
     "text": [
      "[           35420604                   0                   0\n",
      "                   0                   0 3472330710117071152\n",
      " 7076330810053387821 3271411255263179056 4121187706026222642\n",
      "          1697790257]\n"
     ]
    }
   ],
   "source": [
    "a = np.empty(10)\n",
    "print(a)"
   ]
  },
  {
   "cell_type": "code",
   "execution_count": 27,
   "id": "3545c08d-efe8-44d2-8de4-bdcab12222c4",
   "metadata": {},
   "outputs": [
    {
     "name": "stdout",
     "output_type": "stream",
     "text": [
      "[           35420604                   0                   0\n",
      "                   0                   0 3472330710117071152\n",
      " 7076330810053387821 3271411255263179056 4121187706026222642\n",
      "          1697790257]\n"
     ]
    }
   ],
   "source": [
    "a = np.empty(10,dtype=int)\n",
    "print(a)"
   ]
  },
  {
   "cell_type": "markdown",
   "id": "fb90d340-a5e3-40df-afb1-80b5b3f89317",
   "metadata": {},
   "source": [
    "<!-- zeros() vs. empty() -->"
   ]
  },
  {
   "cell_type": "markdown",
   "id": "02553316-c53e-414b-9af0-830cd631ea6e",
   "metadata": {
    "jp-MarkdownHeadingCollapsed": true
   },
   "source": [
    "#### zeros() vs. empty()\n",
    "* memory consumption\n",
    "* time consumption"
   ]
  },
  {
   "cell_type": "code",
   "execution_count": 4,
   "id": "f62ef225-8efc-4218-930b-5ecf9d0a2f9f",
   "metadata": {},
   "outputs": [
    {
     "name": "stdout",
     "output_type": "stream",
     "text": [
      "192000144\n",
      "192000144\n"
     ]
    }
   ],
   "source": [
    "# memory consumption comparision\n",
    "import sys\n",
    "a = np.zeros((20000,30,40))\n",
    "b = np.empty((20000,30,40))\n",
    "print(sys.getsizeof(a))\n",
    "print(sys.getsizeof(b))\n",
    "# no difference"
   ]
  },
  {
   "cell_type": "code",
   "execution_count": 10,
   "id": "a1f19def-5a3b-4f8b-b279-56a55bd9932c",
   "metadata": {},
   "outputs": [
    {
     "name": "stdout",
     "output_type": "stream",
     "text": [
      "Time taken by zeros(): 0:00:00.000144\n",
      "Time taken by empty(): 0:00:00.000051\n"
     ]
    }
   ],
   "source": [
    "# Time Consumption Comparision --> empty() is way more faster than zeros()\n",
    "from datetime import datetime\n",
    "\n",
    "begin = datetime.now()\n",
    "a = np.zeros((100000,300,40))\n",
    "end = datetime.now()\n",
    "print('Time taken by zeros():',end-begin)\n",
    "a = None    # making the object eligible for garbage collection\n",
    "begin = datetime.now()\n",
    "a = np.empty((100000,300,40))\n",
    "end = datetime.now()\n",
    "print('Time taken by empty():',end-begin)"
   ]
  },
  {
   "cell_type": "markdown",
   "id": "7b2f8dc2-6bb6-4e96-85bb-00b59f8b2eb0",
   "metadata": {
    "jp-MarkdownHeadingCollapsed": true
   },
   "source": [
    "#### 10. creating array using random library:\n",
    "1. randint()\n",
    "2. rand()\n",
    "3. uniform()\n",
    "4. randn()\n",
    "5. normal()\n",
    "6. shuffle()\n",
    "etc."
   ]
  },
  {
   "cell_type": "markdown",
   "id": "7930da17-d19a-4a5c-a645-173ed6bbedd8",
   "metadata": {
    "jp-MarkdownHeadingCollapsed": true
   },
   "source": [
    "#### 10a. randint()"
   ]
  },
  {
   "cell_type": "code",
   "execution_count": 101,
   "id": "2818f17c-e829-4688-93f3-0095a66cf03b",
   "metadata": {},
   "outputs": [],
   "source": [
    "# help(np.randint)\n",
    "# AttributeError: module 'numpy' has no attribute 'randint'\n",
    "# help(np.random.randint)\n",
    "# randint(low, high=None, size=None, dtype=int)\n",
    "# Return random integers from `low` (inclusive) to `high` (exclusive)."
   ]
  },
  {
   "cell_type": "code",
   "execution_count": 8,
   "id": "b9e64187-ef12-4e09-ac0e-2be91e44f25c",
   "metadata": {},
   "outputs": [
    {
     "data": {
      "text/plain": [
       "13"
      ]
     },
     "execution_count": 8,
     "metadata": {},
     "output_type": "execute_result"
    }
   ],
   "source": [
    "np.random.randint(10,20)"
   ]
  },
  {
   "cell_type": "code",
   "execution_count": 26,
   "id": "9212fb21-641e-4c6d-8442-9a27ec43994d",
   "metadata": {},
   "outputs": [
    {
     "name": "stdout",
     "output_type": "stream",
     "text": [
      "[4 3 4 1 2 1 7 5 2 6]\n",
      "<class 'numpy.ndarray'>\n",
      "1\n",
      "(10,)\n",
      "int64\n"
     ]
    }
   ],
   "source": [
    "a = np.random.randint(1,8,size=10)\n",
    "print(a)\n",
    "print(type(a))\n",
    "print(a.ndim)\n",
    "print(a.shape)\n",
    "print(a.dtype)"
   ]
  },
  {
   "cell_type": "code",
   "execution_count": 23,
   "id": "ea24941e-7593-43c6-a820-56236a2dba27",
   "metadata": {},
   "outputs": [
    {
     "name": "stdout",
     "output_type": "stream",
     "text": [
      "[[55 45 49 96 70]\n",
      " [11 48 95  1 19]\n",
      " [88 86 38 91 77]]\n"
     ]
    }
   ],
   "source": [
    "a = np.random.randint(100,size=(3,5))\n",
    "print(a)"
   ]
  },
  {
   "cell_type": "code",
   "execution_count": 25,
   "id": "53214bbe-f90e-402d-901d-297a135ca362",
   "metadata": {},
   "outputs": [
    {
     "name": "stdout",
     "output_type": "stream",
     "text": [
      "[[[ 3 56 21 37]\n",
      "  [66 20 16  4]\n",
      "  [66 24 40 59]]\n",
      "\n",
      " [[96 93  0 64]\n",
      "  [27 92 67 26]\n",
      "  [87 34 14 24]]]\n",
      "3\n"
     ]
    }
   ],
   "source": [
    "a = np.random.randint(100,size=(2,3,4))\n",
    "print(a)\n",
    "print(a.ndim)"
   ]
  },
  {
   "cell_type": "code",
   "execution_count": 35,
   "id": "f944056e-104f-44e7-83db-a1a9e7589973",
   "metadata": {},
   "outputs": [
    {
     "name": "stdout",
     "output_type": "stream",
     "text": [
      "[[ 1  5  4  6  6  5  3  5  1  3 10  1  7  6  8  4  1  4  4  3  4  6  1  6\n",
      "   9  1  6  5  7  7]\n",
      " [ 2  9  7  6  1  4  5  4 10  2  1  8  1  2  4  7  3  4  9  1  3  7  2  1\n",
      "   3  9  5  4  4  7]\n",
      " [ 3  3  2  8  8  5 10  4  9  6  3  7  8  5  3  6  5  8  7  7  2  8  7  9\n",
      "   4  2  9 10 10  6]\n",
      " [ 2  6  2  6  5  6 10  1  6  4  7  9  9  6  4  2  8 10  1  2  8  7  4  9\n",
      "   9  8 10  1  5  9]\n",
      " [ 7  6  8  8  2  9  4  2  3  9  4  3  8  1  7  4  9  1  8  7 10  2  6  2\n",
      "   2  7  9  9  7  1]\n",
      " [ 1  3  9  6 10  2  4  1  2  4  3  9  4  6  2  9 10 10  6  4  8  5  6  3\n",
      "   1  2 10  4  6 10]\n",
      " [ 4 10  1  6  6 10  3  1  9  1  6 10  6  1  5  2  5  8  8  3  2  6  4  2\n",
      "   7  1 10  4  7 10]\n",
      " [ 6  9  7  7 10  2  8  6  7  4  1  9  6  7  4  2  1  4  1  2  8  3  1  6\n",
      "   7  7  2  2 10 10]\n",
      " [ 9  8  1  4  4  2  2  5  5  7  9  3  1  6  5  4  7  1  2  9 10  2  4 10\n",
      "   4  7  1  2  1 10]\n",
      " [10  3 10  8  3  6  2  5  1  5  1  5  8  8  7  9  4  8  6  6  2  7 10  5\n",
      "   3  1  8  3 10 10]\n",
      " [ 5  1  3  5  4  8  6  6  1  7  3  3 10  6  9  4  3  7  2  3  2  8  4  3\n",
      "   8  3  3  8  1  5]\n",
      " [ 4  6  2  4  2  2  6  3  2  4  8  2  9  1  9  2  7  1  9  4  4  3 10  1\n",
      "   1  1  4  2  6  8]\n",
      " [ 5  9  8  1  7 10  4 10  7  1  7  8  2  2  8  4  1 10  3  3  3  4  6  1\n",
      "   2  3  1  2  5  9]\n",
      " [ 4  4  9  4  3  5  4  9 10  5 10  9  2  9  5  6  4 10  5  3 10  9  6  5\n",
      "   7  9  5 10  8  3]\n",
      " [ 3  2  6  5  6  2  9  6 10  5  3 10  9  7  2 10  1  3  6 10  9  7  5  3\n",
      "   2  5 10  8  9  1]\n",
      " [10  4  3  4  6  3  5  7  5  3 10  4  1  2  4  6  5  1  4  3  2  8 10  8\n",
      "   1  6  3 10  6  3]\n",
      " [ 2  9  4  8  6  5  9  2  9  2  1  2 10  5 10  6  2  9  3  2  4  7  5  7\n",
      "   8  2  3  8  6  6]\n",
      " [10  8  6 10  2  7  4  2  6  5  7  6  4  7  6  6  6  1  3  4  5  3  3  6\n",
      "   1  5  9  1  6  3]\n",
      " [ 3  4  5  7  4  8  7  3  9  7  6  7  3  9  8  5  4  9  6  3  1  9  7  6\n",
      "   8  6  3  7  6  2]\n",
      " [ 8  7  7  8  7  5  8  9  8  7  5  6  6  6  4  5  4  7  6  6  9  1  6  5\n",
      "   9  5  2  9  4 10]]\n",
      "int64\n"
     ]
    },
    {
     "data": {
      "text/plain": [
       "4928"
      ]
     },
     "execution_count": 35,
     "metadata": {},
     "output_type": "execute_result"
    }
   ],
   "source": [
    "import sys\n",
    "a = np.random.randint(1,11,size=(20,30))\n",
    "print(a)\n",
    "print(a.dtype)\n",
    "sys.getsizeof(a)"
   ]
  },
  {
   "cell_type": "code",
   "execution_count": 34,
   "id": "56999d2c-7b22-40c7-869a-a9aa82482a41",
   "metadata": {},
   "outputs": [
    {
     "name": "stdout",
     "output_type": "stream",
     "text": [
      "[[10  5  3  3  4  2 10 10  5  1  1  8 10  6  3  4  7  1  3  6 10  7  4  5\n",
      "   8  5 10  6  6  6]\n",
      " [ 6  7  5  6  4  3  5  4  1  7  6  3  9  5  6  1  1  8  8  5  6  1  8  7\n",
      "   7  4  8  2  3  8]\n",
      " [10  9  9  2  2  4  6  1  1  9  6 10  6 10  7  3  9  5  1  5  6  6 10  2\n",
      "   2  2  5 10  3  2]\n",
      " [10  3  9  9  3  8  8  1  2  4  6  4  8  3  5  1  2  4  2  9  8  5  9  1\n",
      "  10  5  3  2  1  9]\n",
      " [ 5  1  1  5  7  5  4  5  8  9  1  6  8  6  5  3  8  8  2  5 10  9  5  3\n",
      "   8  5  1  5  5  4]\n",
      " [ 5  8  5  8  7  8  1  9  1  2 10  3 10  8  7  4 10  2  9  2  9  4  2  9\n",
      "   9  9  4  2  2  3]\n",
      " [ 9  3  5  1  6  9  1  8  8  2  5  7  7  1  4  8  5  7  7  3  8  8  1 10\n",
      "  10  3  3  8  5  9]\n",
      " [ 5  8  5  3  4  4  1  3  6  7  1  6  9  1  1  5  3  6  3  2  1  3  7  2\n",
      "   2  8  9  1  4 10]\n",
      " [ 4  3 10  6  6 10 10  2  2  8  4  4  7  8  3  2  4  5  4  5  8  3 10  8\n",
      "   2  5 10  4 10  1]\n",
      " [ 6  5  2  1  6  7  8  4  2 10  7  9  5  3  3  9  7  9  6  3  8  3  3  9\n",
      "   4 10  2  9  9  2]\n",
      " [ 9  1  7  9  8  8  2  2  3  8  2  3  9  2  8  1  1  6  8  8  5  2  5  6\n",
      "   7  8  5  9  1  7]\n",
      " [10 10  1  7  7  4  5  4  4  1 10  4 10  6  2  5  9  1  8  9  8  7  6  7\n",
      "   5  6  5  2  4  3]\n",
      " [ 9  7 10  5  4  1  3  4  1  9  7  6  6  3  1  7  5  2  9  6  3  5  8  5\n",
      "   1  2  8  5  8  1]\n",
      " [ 9  2  6  3  2 10  4  1  4  5  3 10  1  4  5  8  7  9  8  2  7  2  4  3\n",
      "   4  9  7  2  5  3]\n",
      " [ 4  8  6  5 10  3  9  1  9  3  2  1  5  5  1  9  9  3  2  1  4  2  2  6\n",
      "   2  8  6 10  3  1]\n",
      " [ 2 10  9  9  3 10  1  5  3  1  8 10  6  9  5  1  6  5  2 10  9  3  6  4\n",
      "   2  2  4  5  4  6]\n",
      " [ 2  3  5  5  9  1  7 10 10  5  4  7  8  4  8  7  5  3  3  9  6  2  2  7\n",
      "   6  6  1  8  7  4]\n",
      " [ 1  9  3  3  2  8  6  5  1  4  8  5  3  8  6  6  7  1  2  1  9  9  4  4\n",
      "   4  2  2  1  2  9]\n",
      " [ 6  5  4  9  8  4  9  5  5  8  8  6 10  4  2  5  4  9  8  5  7  6  2  5\n",
      "   4  2  9  4  9  4]\n",
      " [10  6  9  6  4  9  1  3  3  1  6  7  9  6  8  1 10 10  2  7  8  2  3  9\n",
      "   6  2 10 10  5  9]]\n",
      "int8\n"
     ]
    },
    {
     "data": {
      "text/plain": [
       "728"
      ]
     },
     "execution_count": 34,
     "metadata": {},
     "output_type": "execute_result"
    }
   ],
   "source": [
    "a = np.random.randint(1,11,size=(20,30),dtype='int8')         # memory utilization improves\n",
    "print(a)\n",
    "print(a.dtype)\n",
    "sys.getsizeof(a)"
   ]
  },
  {
   "cell_type": "code",
   "execution_count": 39,
   "id": "dce4f706-45fd-4712-9074-eba2291709ba",
   "metadata": {},
   "outputs": [
    {
     "name": "stdout",
     "output_type": "stream",
     "text": [
      "[[ 1.  5.  4.  6.  6.  5.  3.  5.  1.  3. 10.  1.  7.  6.  8.  4.  1.  4.\n",
      "   4.  3.  4.  6.  1.  6.  9.  1.  6.  5.  7.  7.]\n",
      " [ 2.  9.  7.  6.  1.  4.  5.  4. 10.  2.  1.  8.  1.  2.  4.  7.  3.  4.\n",
      "   9.  1.  3.  7.  2.  1.  3.  9.  5.  4.  4.  7.]\n",
      " [ 3.  3.  2.  8.  8.  5. 10.  4.  9.  6.  3.  7.  8.  5.  3.  6.  5.  8.\n",
      "   7.  7.  2.  8.  7.  9.  4.  2.  9. 10. 10.  6.]\n",
      " [ 2.  6.  2.  6.  5.  6. 10.  1.  6.  4.  7.  9.  9.  6.  4.  2.  8. 10.\n",
      "   1.  2.  8.  7.  4.  9.  9.  8. 10.  1.  5.  9.]\n",
      " [ 7.  6.  8.  8.  2.  9.  4.  2.  3.  9.  4.  3.  8.  1.  7.  4.  9.  1.\n",
      "   8.  7. 10.  2.  6.  2.  2.  7.  9.  9.  7.  1.]\n",
      " [ 1.  3.  9.  6. 10.  2.  4.  1.  2.  4.  3.  9.  4.  6.  2.  9. 10. 10.\n",
      "   6.  4.  8.  5.  6.  3.  1.  2. 10.  4.  6. 10.]\n",
      " [ 4. 10.  1.  6.  6. 10.  3.  1.  9.  1.  6. 10.  6.  1.  5.  2.  5.  8.\n",
      "   8.  3.  2.  6.  4.  2.  7.  1. 10.  4.  7. 10.]\n",
      " [ 6.  9.  7.  7. 10.  2.  8.  6.  7.  4.  1.  9.  6.  7.  4.  2.  1.  4.\n",
      "   1.  2.  8.  3.  1.  6.  7.  7.  2.  2. 10. 10.]\n",
      " [ 9.  8.  1.  4.  4.  2.  2.  5.  5.  7.  9.  3.  1.  6.  5.  4.  7.  1.\n",
      "   2.  9. 10.  2.  4. 10.  4.  7.  1.  2.  1. 10.]\n",
      " [10.  3. 10.  8.  3.  6.  2.  5.  1.  5.  1.  5.  8.  8.  7.  9.  4.  8.\n",
      "   6.  6.  2.  7. 10.  5.  3.  1.  8.  3. 10. 10.]\n",
      " [ 5.  1.  3.  5.  4.  8.  6.  6.  1.  7.  3.  3. 10.  6.  9.  4.  3.  7.\n",
      "   2.  3.  2.  8.  4.  3.  8.  3.  3.  8.  1.  5.]\n",
      " [ 4.  6.  2.  4.  2.  2.  6.  3.  2.  4.  8.  2.  9.  1.  9.  2.  7.  1.\n",
      "   9.  4.  4.  3. 10.  1.  1.  1.  4.  2.  6.  8.]\n",
      " [ 5.  9.  8.  1.  7. 10.  4. 10.  7.  1.  7.  8.  2.  2.  8.  4.  1. 10.\n",
      "   3.  3.  3.  4.  6.  1.  2.  3.  1.  2.  5.  9.]\n",
      " [ 4.  4.  9.  4.  3.  5.  4.  9. 10.  5. 10.  9.  2.  9.  5.  6.  4. 10.\n",
      "   5.  3. 10.  9.  6.  5.  7.  9.  5. 10.  8.  3.]\n",
      " [ 3.  2.  6.  5.  6.  2.  9.  6. 10.  5.  3. 10.  9.  7.  2. 10.  1.  3.\n",
      "   6. 10.  9.  7.  5.  3.  2.  5. 10.  8.  9.  1.]\n",
      " [10.  4.  3.  4.  6.  3.  5.  7.  5.  3. 10.  4.  1.  2.  4.  6.  5.  1.\n",
      "   4.  3.  2.  8. 10.  8.  1.  6.  3. 10.  6.  3.]\n",
      " [ 2.  9.  4.  8.  6.  5.  9.  2.  9.  2.  1.  2. 10.  5. 10.  6.  2.  9.\n",
      "   3.  2.  4.  7.  5.  7.  8.  2.  3.  8.  6.  6.]\n",
      " [10.  8.  6. 10.  2.  7.  4.  2.  6.  5.  7.  6.  4.  7.  6.  6.  6.  1.\n",
      "   3.  4.  5.  3.  3.  6.  1.  5.  9.  1.  6.  3.]\n",
      " [ 3.  4.  5.  7.  4.  8.  7.  3.  9.  7.  6.  7.  3.  9.  8.  5.  4.  9.\n",
      "   6.  3.  1.  9.  7.  6.  8.  6.  3.  7.  6.  2.]\n",
      " [ 8.  7.  7.  8.  7.  5.  8.  9.  8.  7.  5.  6.  6.  6.  4.  5.  4.  7.\n",
      "   6.  6.  9.  1.  6.  5.  9.  5.  2.  9.  4. 10.]]\n",
      "float64\n"
     ]
    }
   ],
   "source": [
    "# how to convert the array created using randint() into float or any other data type\n",
    "b = a.astype('float')\n",
    "print(b)\n",
    "print(b.dtype)"
   ]
  },
  {
   "cell_type": "markdown",
   "id": "cfd7c0eb-24b8-4fd3-9797-395bc0ea0215",
   "metadata": {
    "jp-MarkdownHeadingCollapsed": true
   },
   "source": [
    "#### 10b. rand()"
   ]
  },
  {
   "cell_type": "code",
   "execution_count": 40,
   "id": "c4234062-f803-43b6-be40-c51528c7f7c1",
   "metadata": {},
   "outputs": [
    {
     "name": "stdout",
     "output_type": "stream",
     "text": [
      "Help on built-in function rand:\n",
      "\n",
      "rand(...) method of numpy.random.mtrand.RandomState instance\n",
      "    rand(d0, d1, ..., dn)\n",
      "    \n",
      "    Random values in a given shape.\n",
      "    \n",
      "    .. note::\n",
      "        This is a convenience function for users porting code from Matlab,\n",
      "        and wraps `random_sample`. That function takes a\n",
      "        tuple to specify the size of the output, which is consistent with\n",
      "        other NumPy functions like `numpy.zeros` and `numpy.ones`.\n",
      "    \n",
      "    Create an array of the given shape and populate it with\n",
      "    random samples from a uniform distribution\n",
      "    over ``[0, 1)``.\n",
      "    \n",
      "    Parameters\n",
      "    ----------\n",
      "    d0, d1, ..., dn : int, optional\n",
      "        The dimensions of the returned array, must be non-negative.\n",
      "        If no argument is given a single Python float is returned.\n",
      "    \n",
      "    Returns\n",
      "    -------\n",
      "    out : ndarray, shape ``(d0, d1, ..., dn)``\n",
      "        Random values.\n",
      "    \n",
      "    See Also\n",
      "    --------\n",
      "    random\n",
      "    \n",
      "    Examples\n",
      "    --------\n",
      "    >>> np.random.rand(3,2)\n",
      "    array([[ 0.14022471,  0.96360618],  #random\n",
      "           [ 0.37601032,  0.25528411],  #random\n",
      "           [ 0.49313049,  0.94909878]]) #random\n",
      "\n"
     ]
    }
   ],
   "source": [
    "help(np.random.rand)\n",
    "# rand(d0, d1, ..., dn)\n",
    "# Random values in a given shape."
   ]
  },
  {
   "cell_type": "code",
   "execution_count": 41,
   "id": "dec9338f-82c1-4d95-bb06-d56d8ec6c2cb",
   "metadata": {},
   "outputs": [
    {
     "name": "stdout",
     "output_type": "stream",
     "text": [
      "0.6610315925340672\n"
     ]
    }
   ],
   "source": [
    "a = np.random.rand()\n",
    "print(a)                 # single float value"
   ]
  },
  {
   "cell_type": "code",
   "execution_count": 42,
   "id": "e077cdfc-5d19-464c-a966-5be6a2e39170",
   "metadata": {},
   "outputs": [
    {
     "name": "stdout",
     "output_type": "stream",
     "text": [
      "[0.59932809 0.34099837 0.65287662 0.88016756 0.68694393 0.16983678\n",
      " 0.44244798 0.78882983 0.75184878 0.24341048]\n"
     ]
    }
   ],
   "source": [
    "# 1-D Array\n",
    "a = np.random.rand(10)\n",
    "print(a)"
   ]
  },
  {
   "cell_type": "code",
   "execution_count": 43,
   "id": "86636f28-c528-4326-a627-d9ce04a75d65",
   "metadata": {},
   "outputs": [
    {
     "name": "stdout",
     "output_type": "stream",
     "text": [
      "[[0.77232817 0.05737872 0.81880594 0.80774086 0.3994964 ]\n",
      " [0.50864335 0.3382171  0.07649704 0.17676786 0.28270311]\n",
      " [0.86049266 0.64994466 0.09082752 0.5171344  0.29929204]]\n"
     ]
    }
   ],
   "source": [
    "# 2-D Array\n",
    "a = np.random.rand(3,5)\n",
    "print(a)"
   ]
  },
  {
   "cell_type": "code",
   "execution_count": 44,
   "id": "924ef92a-80e7-40bd-b015-8b12f1235a22",
   "metadata": {},
   "outputs": [
    {
     "name": "stdout",
     "output_type": "stream",
     "text": [
      "[[[0.79646385 0.57157758 0.44242432 0.82616192]\n",
      "  [0.97434353 0.75632132 0.69280631 0.53903456]\n",
      "  [0.16577826 0.62849443 0.53970301 0.93073847]]\n",
      "\n",
      " [[0.41572633 0.50842804 0.55490947 0.21824488]\n",
      "  [0.06587385 0.30054525 0.55568776 0.0281021 ]\n",
      "  [0.00585582 0.93126234 0.38371933 0.26322962]]]\n"
     ]
    }
   ],
   "source": [
    "# 3-D Array\n",
    "a = np.random.rand(2,3,4)\n",
    "print(a)"
   ]
  },
  {
   "cell_type": "markdown",
   "id": "6318c469-e739-41a4-9a1b-8ae33b0fb41b",
   "metadata": {
    "jp-MarkdownHeadingCollapsed": true
   },
   "source": [
    "#### 10c. uniform()"
   ]
  },
  {
   "cell_type": "code",
   "execution_count": 53,
   "id": "f5c42450-2ebb-4f49-8a26-85be1faea5a7",
   "metadata": {},
   "outputs": [],
   "source": [
    "# help(np.random.uniform)\n",
    "# uniform(low=0.0, high=1.0, size=None)     --> can customise range\n",
    "# Draw samples from a uniform distribution."
   ]
  },
  {
   "cell_type": "code",
   "execution_count": 46,
   "id": "8a3b841e-5580-42a4-b1e2-9ef995beafb4",
   "metadata": {},
   "outputs": [
    {
     "name": "stdout",
     "output_type": "stream",
     "text": [
      "13.794834320379262\n"
     ]
    }
   ],
   "source": [
    "# single value\n",
    "a = np.random.uniform(10,20)\n",
    "print(a)"
   ]
  },
  {
   "cell_type": "code",
   "execution_count": 47,
   "id": "1efa1251-ebc1-42cd-9ed5-ee1df452c404",
   "metadata": {},
   "outputs": [
    {
     "name": "stdout",
     "output_type": "stream",
     "text": [
      "[17.94110725 13.50832751 14.73871622 10.31369949 19.92436459 12.99818359\n",
      " 15.47046286 10.37409735 12.67805933 13.10871238]\n"
     ]
    }
   ],
   "source": [
    "# 1-D Array\n",
    "a = np.random.uniform(10,20,size=10)\n",
    "print(a)"
   ]
  },
  {
   "cell_type": "code",
   "execution_count": 48,
   "id": "4d38838f-5c65-47c5-b6b9-7f6b34f553c6",
   "metadata": {},
   "outputs": [
    {
     "name": "stdout",
     "output_type": "stream",
     "text": [
      "[[18.68811416 14.25215189 18.57068739 18.28112668 15.07401803]\n",
      " [10.98226435 10.19413118 19.55530052 16.83029294 18.53834325]\n",
      " [16.93407654 19.15545941 12.86092925 12.50329198 17.87880533]\n",
      " [12.88388195 19.40304718 11.33434487 10.04152265 17.78599124]]\n"
     ]
    }
   ],
   "source": [
    "# 2-D Arrya\n",
    "a = np.random.uniform(10,20,(4,5))\n",
    "print(a)"
   ]
  },
  {
   "cell_type": "code",
   "execution_count": 49,
   "id": "7c5a5131-90f1-44a8-b657-e30bfc5d04a5",
   "metadata": {},
   "outputs": [
    {
     "name": "stdout",
     "output_type": "stream",
     "text": [
      "[[[17.01375418 14.17954866 15.03637592 10.07265143]\n",
      "  [19.84182468 14.32639599 11.35772222 15.99569963]\n",
      "  [18.88935453 14.79403324 10.99568764 16.46091622]]\n",
      "\n",
      " [[18.35609813 15.65171178 15.44325188 17.79479359]\n",
      "  [13.60076544 10.4379158  16.04560475 19.7152216 ]\n",
      "  [14.41890113 13.15766393 14.80267882 18.28394053]]]\n"
     ]
    }
   ],
   "source": [
    "# 3-D Array\n",
    "a = np.random.uniform(10,20,(2,3,4))\n",
    "print(a)"
   ]
  },
  {
   "cell_type": "code",
   "execution_count": 52,
   "id": "05fee166-d697-42a0-8086-184a8c62fb06",
   "metadata": {},
   "outputs": [
    {
     "data": {
      "image/png": "[encoded data removed]",
      "text/plain": [
       "<Figure size 640x480 with 1 Axes>"
      ]
     },
     "metadata": {},
     "output_type": "display_data"
    }
   ],
   "source": [
    "s = np.random.uniform(10,20,size=1000000)\n",
    "import matplotlib.pyplot as plt\n",
    "count,bins,ignored = plt.hist(s,15,density=True)\n",
    "plt.plot(bins,np.ones_like(bins),linewidth=2,color='r')\n",
    "plt.show()"
   ]
  },
  {
   "cell_type": "markdown",
   "id": "67fce81e-c8c6-485d-957a-2bcda8240fa8",
   "metadata": {
    "jp-MarkdownHeadingCollapsed": true
   },
   "source": [
    "#### 10d. randn()"
   ]
  },
  {
   "cell_type": "code",
   "execution_count": 55,
   "id": "573c8d2f-01c6-4fe7-ac53-2d0472e830d6",
   "metadata": {},
   "outputs": [],
   "source": [
    "# help(np.random.randn)\n",
    "# randn(d0, d1, ..., dn)\n",
    "# Return a sample (or samples) from the \"standard normal\" distribution.\n",
    "# mean 0 and variance 1"
   ]
  },
  {
   "cell_type": "code",
   "execution_count": 57,
   "id": "a549de57-cfd2-4e16-9e3e-2e3d68ff5abc",
   "metadata": {},
   "outputs": [
    {
     "name": "stdout",
     "output_type": "stream",
     "text": [
      "[ 0.21689037  0.30681922  1.98542495 -0.37355539 -0.42510175  0.24162178\n",
      "  0.86459021 -0.08977384  0.82118088 -0.10693325]\n"
     ]
    }
   ],
   "source": [
    "# 1-D Array\n",
    "a = np.random.randn(10)\n",
    "print(a)"
   ]
  },
  {
   "cell_type": "code",
   "execution_count": 58,
   "id": "fe73590e-1ef0-40cb-b3b6-c70a275b1653",
   "metadata": {},
   "outputs": [
    {
     "name": "stdout",
     "output_type": "stream",
     "text": [
      "[[ 0.18376431  0.45564548  0.82461572]\n",
      " [-0.80807386 -1.19350417  0.54813137]]\n"
     ]
    }
   ],
   "source": [
    "# 2-D Array\n",
    "a = np.random.randn(2,3)\n",
    "print(a)"
   ]
  },
  {
   "cell_type": "code",
   "execution_count": 59,
   "id": "98998a45-b746-43b3-8423-55b4d3337da2",
   "metadata": {},
   "outputs": [
    {
     "name": "stdout",
     "output_type": "stream",
     "text": [
      "[[[-1.69016634  1.10464822 -2.34211868 -0.18682302]\n",
      "  [-0.75182554 -0.08637419 -1.53910008  1.14813573]\n",
      "  [ 0.08777926 -1.09573969 -0.03950946 -0.59881479]]\n",
      "\n",
      " [[ 1.83644478  1.10804721  0.18577871  1.14763279]\n",
      "  [-0.80949818  1.37352864 -0.61159926  1.06293849]\n",
      "  [ 0.12966123 -0.69875462 -1.67966637  0.47357307]]]\n"
     ]
    }
   ],
   "source": [
    "# 3-D Array\n",
    "a = np.random.randn(2,3,4)\n",
    "print(a)"
   ]
  },
  {
   "cell_type": "code",
   "execution_count": 99,
   "id": "f50f128c-f201-4cee-920a-036d44da1390",
   "metadata": {},
   "outputs": [
    {
     "data": {
      "image/png": "[encoded data removed]",
      "text/plain": [
       "<Figure size 640x480 with 1 Axes>"
      ]
     },
     "metadata": {},
     "output_type": "display_data"
    },
    {
     "data": {
      "text/plain": [
       "-0.0010698203587347162"
      ]
     },
     "execution_count": 99,
     "metadata": {},
     "output_type": "execute_result"
    }
   ],
   "source": [
    "s = np.random.randn(1000000)\n",
    "import matplotlib.pyplot as plt\n",
    "count,bins,ignored = plt.hist(s,15,density=True)\n",
    "plt.plot(bins,np.ones_like(bins),linewidth=2,color='r')\n",
    "plt.show()\n",
    "s.mean()"
   ]
  },
  {
   "cell_type": "code",
   "execution_count": 100,
   "id": "51b3a8f0-7968-4dee-9092-ed6fbc757abf",
   "metadata": {},
   "outputs": [
    {
     "name": "stdout",
     "output_type": "stream",
     "text": [
      "-0.0010698203587347162\n",
      "1.000339848368069\n"
     ]
    }
   ],
   "source": [
    "print(s.mean())\n",
    "print(s.std())"
   ]
  },
  {
   "cell_type": "markdown",
   "id": "2a628595-b5c7-4c8b-8f92-0250f148ff89",
   "metadata": {
    "jp-MarkdownHeadingCollapsed": true
   },
   "source": [
    "#### 10e. normal()"
   ]
  },
  {
   "cell_type": "code",
   "execution_count": 61,
   "id": "f27e1e65-347e-47ee-b945-26554540023a",
   "metadata": {},
   "outputs": [],
   "source": [
    "# can customise mean and variance\n",
    "# help(np.random.normal)\n",
    "# normal(loc=0.0, scale=1.0, size=None)\n",
    "# Draw random samples from a normal (Gaussian) distribution.\n",
    "# loc : float or array_like of floats\n",
    "#         Mean (\"centre\") of the distribution.\n",
    "# scale : float or array_like of floats\n",
    "#         Standard deviation (spread or \"width\") of the distribution. Must be non-negative."
   ]
  },
  {
   "cell_type": "code",
   "execution_count": 62,
   "id": "88dcda2c-3054-4e3e-b9a9-095a5fffc58c",
   "metadata": {},
   "outputs": [
    {
     "name": "stdout",
     "output_type": "stream",
     "text": [
      "1.4478438238696656\n"
     ]
    }
   ],
   "source": [
    "a = np.random.normal()\n",
    "print(a)"
   ]
  },
  {
   "cell_type": "code",
   "execution_count": 71,
   "id": "6a579e01-7a1d-4f36-a334-f392158df0f9",
   "metadata": {},
   "outputs": [
    {
     "name": "stdout",
     "output_type": "stream",
     "text": [
      "[ 9.59728403 11.43125134  7.0390734  10.10322283  2.45862323  4.49634042\n",
      " 14.56895735 10.45124976  9.64369724  8.95942683]\n"
     ]
    }
   ],
   "source": [
    "# 1-D Array\n",
    "a = np.random.normal(10,4,size=10)\n",
    "print(a)"
   ]
  },
  {
   "cell_type": "code",
   "execution_count": 73,
   "id": "00d941af-5014-445f-a782-1a5b4a665833",
   "metadata": {},
   "outputs": [
    {
     "name": "stdout",
     "output_type": "stream",
     "text": [
      "[[ 3.35553621  2.84200006 10.19919811]\n",
      " [ 9.93479836  8.39385267  7.67373468]]\n"
     ]
    }
   ],
   "source": [
    "# 2-D Array\n",
    "a = np.random.normal(10,4,size=(2,3))\n",
    "print(a)"
   ]
  },
  {
   "cell_type": "code",
   "execution_count": 75,
   "id": "0947b588-d697-4a08-8644-1e6245e0d6ef",
   "metadata": {},
   "outputs": [
    {
     "name": "stdout",
     "output_type": "stream",
     "text": [
      "[[[10.53140762  8.85894208 16.81733069  9.4703412 ]\n",
      "  [11.29509398 12.70022271 10.00797974 14.53172999]\n",
      "  [14.18404222  1.89849164 -0.02968265 12.33366808]]\n",
      "\n",
      " [[14.79501101 12.64271682 10.5142555   8.01826819]\n",
      "  [ 9.53553002 12.35782793  8.27844021 10.0424502 ]\n",
      "  [ 6.52932645 12.61404333  6.64655871 15.3105024 ]]]\n"
     ]
    }
   ],
   "source": [
    "# 3-D Array\n",
    "a = np.random.normal(10,4,size=(2,3,4))\n",
    "print(a)"
   ]
  },
  {
   "cell_type": "code",
   "execution_count": null,
   "id": "ffada9bf-425e-4cb7-8d08-c19eb3c1f9af",
   "metadata": {},
   "outputs": [],
   "source": []
  },
  {
   "cell_type": "code",
   "execution_count": 96,
   "id": "dd69dd26-7acd-427d-b409-9fe42dd177b7",
   "metadata": {},
   "outputs": [
    {
     "data": {
      "image/png": "[encoded data removed]",
      "text/plain": [
       "<Figure size 640x480 with 1 Axes>"
      ]
     },
     "metadata": {},
     "output_type": "display_data"
    },
    {
     "data": {
      "text/plain": [
       "3.997875794205079"
      ]
     },
     "execution_count": 96,
     "metadata": {},
     "output_type": "execute_result"
    }
   ],
   "source": [
    "s = np.random.normal(10,4,1000000)\n",
    "import matplotlib.pyplot as plt\n",
    "count,bins,ignored = plt.hist(s,15,density=True)\n",
    "plt.plot(bins,np.ones_like(bins),linewidth=2,color='r')\n",
    "plt.show()"
   ]
  },
  {
   "cell_type": "code",
   "execution_count": 98,
   "id": "c0462eaf-f641-4311-8410-0f6a23ae0741",
   "metadata": {},
   "outputs": [
    {
     "name": "stdout",
     "output_type": "stream",
     "text": [
      "9.997193184898348\n",
      "3.997875794205079\n"
     ]
    }
   ],
   "source": [
    "print(s.mean())\n",
    "print(s.std())"
   ]
  },
  {
   "cell_type": "markdown",
   "id": "36185c8a-1b7f-4a39-92d4-68ceafa00766",
   "metadata": {
    "jp-MarkdownHeadingCollapsed": true,
    "scrolled": true
   },
   "source": [
    "#### 10f. shuffle()"
   ]
  },
  {
   "cell_type": "code",
   "execution_count": 4,
   "id": "1d559093-472e-402f-b9e4-996e8642a4d2",
   "metadata": {},
   "outputs": [],
   "source": [
    "# help(np.random.shuffle)\n",
    "# shuffle(x)\n",
    "# Modify a sequence in-place by shuffling its contents.\n",
    "# This function only shuffles the array along the first axis (axis 0) of amulti-dimensional array.\n",
    "# The order of sub-arrays is changed but their contents remains the same."
   ]
  },
  {
   "cell_type": "code",
   "execution_count": 7,
   "id": "748a7dcb-5df8-49c9-ae17-746cf6aecd29",
   "metadata": {},
   "outputs": [
    {
     "name": "stdout",
     "output_type": "stream",
     "text": [
      "[0 1 2 3 4 5 6 7 8]\n",
      "[6 1 8 4 2 3 7 0 5]\n"
     ]
    }
   ],
   "source": [
    "a = np.arange(9)\n",
    "print(a)\n",
    "np.random.shuffle(a)\n",
    "print(a)"
   ]
  },
  {
   "cell_type": "code",
   "execution_count": 8,
   "id": "9765a69a-a7d2-4bb9-bb00-9d1ac049aa7c",
   "metadata": {},
   "outputs": [
    {
     "name": "stdout",
     "output_type": "stream",
     "text": [
      "[[74 78 49 25 45]\n",
      " [52 82 35 87 22]\n",
      " [87 69 29 92 47]\n",
      " [91 95 17 99 73]\n",
      " [16  7 16 13 37]\n",
      " [59 12  6 83  2]]\n"
     ]
    }
   ],
   "source": [
    "a = np.random.randint(1,101,(6,5))\n",
    "print(a)"
   ]
  },
  {
   "cell_type": "code",
   "execution_count": 9,
   "id": "1e2de24d-0db3-4ce7-aaeb-ed6cb88cbd48",
   "metadata": {},
   "outputs": [
    {
     "name": "stdout",
     "output_type": "stream",
     "text": [
      "[[59 12  6 83  2]\n",
      " [87 69 29 92 47]\n",
      " [74 78 49 25 45]\n",
      " [91 95 17 99 73]\n",
      " [16  7 16 13 37]\n",
      " [52 82 35 87 22]]\n"
     ]
    }
   ],
   "source": [
    "np.random.shuffle(a)\n",
    "print(a)"
   ]
  },
  {
   "cell_type": "code",
   "execution_count": 12,
   "id": "f173a062-0d15-4fe2-953a-8f3624cea545",
   "metadata": {},
   "outputs": [
    {
     "name": "stdout",
     "output_type": "stream",
     "text": [
      "[[[70 57 74 76]\n",
      "  [40 83 21 95]\n",
      "  [24 84 90 66]]\n",
      "\n",
      " [[47 36 95 63]\n",
      "  [83 38 68 10]\n",
      "  [84 51 84 93]]\n",
      "\n",
      " [[80 15 42 75]\n",
      "  [83 17 21 64]\n",
      "  [ 4  3 58 38]]\n",
      "\n",
      " [[80 76 99 80]\n",
      "  [97 46 18  1]\n",
      "  [47 63 74 80]]]\n"
     ]
    }
   ],
   "source": [
    "a = np.random.randint(1,101,(4,3,4))\n",
    "print(a)"
   ]
  },
  {
   "cell_type": "code",
   "execution_count": 13,
   "id": "0f5335b6-f78e-43e9-ab01-b952eaede69f",
   "metadata": {},
   "outputs": [
    {
     "name": "stdout",
     "output_type": "stream",
     "text": [
      "[[[80 15 42 75]\n",
      "  [83 17 21 64]\n",
      "  [ 4  3 58 38]]\n",
      "\n",
      " [[70 57 74 76]\n",
      "  [40 83 21 95]\n",
      "  [24 84 90 66]]\n",
      "\n",
      " [[80 76 99 80]\n",
      "  [97 46 18  1]\n",
      "  [47 63 74 80]]\n",
      "\n",
      " [[47 36 95 63]\n",
      "  [83 38 68 10]\n",
      "  [84 51 84 93]]]\n"
     ]
    }
   ],
   "source": [
    "np.random.shuffle(a)\n",
    "print(a)"
   ]
  },
  {
   "cell_type": "markdown",
   "id": "b1f2514c-8d3e-4325-8792-6249d1c7a3d0",
   "metadata": {
    "jp-MarkdownHeadingCollapsed": true
   },
   "source": [
    "#ascii# Array Attributes"
   ]
  },
  {
   "cell_type": "code",
   "execution_count": 16,
   "id": "e6ea0a7c-43be-4edd-8e4f-bbd04a3c1189",
   "metadata": {},
   "outputs": [
    {
     "name": "stdout",
     "output_type": "stream",
     "text": [
      "1\n",
      "(4,)\n",
      "int64\n",
      "4\n",
      "8\n"
     ]
    }
   ],
   "source": [
    "a = np.array([10,20,30,40])\n",
    "print(a.ndim)\n",
    "print(a.shape)\n",
    "print(a.dtype)\n",
    "print(a.size)\n",
    "print(a.itemsize)"
   ]
  },
  {
   "cell_type": "code",
   "execution_count": 17,
   "id": "5852bd88-6569-47f2-9d18-8e60e207986e",
   "metadata": {},
   "outputs": [
    {
     "name": "stdout",
     "output_type": "stream",
     "text": [
      "2\n",
      "(5, 6)\n",
      "int64\n",
      "30\n",
      "8\n"
     ]
    }
   ],
   "source": [
    "a = np.random.randint(10,20,(5,6))\n",
    "print(a.ndim)\n",
    "print(a.shape)\n",
    "print(a.dtype)\n",
    "print(a.size)\n",
    "print(a.itemsize)"
   ]
  },
  {
   "cell_type": "code",
   "execution_count": 19,
   "id": "1504bd0c-c076-4e37-b8a7-dc52a5ee5db7",
   "metadata": {},
   "outputs": [
    {
     "name": "stdout",
     "output_type": "stream",
     "text": [
      "2\n",
      "(3, 3)\n",
      "float64\n",
      "9\n",
      "8\n"
     ]
    }
   ],
   "source": [
    "a = np.array([[10,20,30],[40,50,60],[70,80,90]],dtype=float)\n",
    "print(a.ndim)\n",
    "print(a.shape)\n",
    "print(a.dtype)\n",
    "print(a.size)\n",
    "print(a.itemsize)"
   ]
  },
  {
   "cell_type": "markdown",
   "id": "70058165-318a-4492-9f05-bc9f01c1c644",
   "metadata": {
    "jp-MarkdownHeadingCollapsed": true
   },
   "source": [
    "# Numpy Data types"
   ]
  },
  {
   "cell_type": "code",
   "execution_count": 20,
   "id": "4ec8bbce-cda4-4067-884a-d20e4c515a9f",
   "metadata": {},
   "outputs": [
    {
     "data": {
      "text/plain": [
       "144"
      ]
     },
     "execution_count": 20,
     "metadata": {},
     "output_type": "execute_result"
    }
   ],
   "source": [
    "a = np.array([10,20,30,40])\n",
    "import sys\n",
    "sys.getsizeof(a)"
   ]
  },
  {
   "cell_type": "code",
   "execution_count": 21,
   "id": "ee18c90b-9613-4771-85e2-7b50283dd054",
   "metadata": {},
   "outputs": [
    {
     "data": {
      "text/plain": [
       "116"
      ]
     },
     "execution_count": 21,
     "metadata": {},
     "output_type": "execute_result"
    }
   ],
   "source": [
    "a = np.array([10,20,30,40],dtype='int8')\n",
    "import sys\n",
    "sys.getsizeof(a)"
   ]
  },
  {
   "cell_type": "code",
   "execution_count": 22,
   "id": "0403ef88-5b02-4899-8ea6-a4f070e1dcc3",
   "metadata": {},
   "outputs": [
    {
     "data": {
      "text/plain": [
       "144"
      ]
     },
     "execution_count": 22,
     "metadata": {},
     "output_type": "execute_result"
    }
   ],
   "source": [
    "a = np.array([10,20,30,40],dtype=float)\n",
    "import sys\n",
    "sys.getsizeof(a)"
   ]
  },
  {
   "cell_type": "code",
   "execution_count": 24,
   "id": "40c30e14-d328-4261-ae40-0f0f4ae9cc7e",
   "metadata": {},
   "outputs": [
    {
     "data": {
      "text/plain": [
       "120"
      ]
     },
     "execution_count": 24,
     "metadata": {},
     "output_type": "execute_result"
    }
   ],
   "source": [
    "a = np.array([10,20,30,40],dtype='float16')\n",
    "import sys\n",
    "sys.getsizeof(a)"
   ]
  },
  {
   "cell_type": "markdown",
   "id": "e49fa7ba-bec4-4de4-9dcb-65ba2c773432",
   "metadata": {},
   "source": [
    "#### How to Change Data Type of Numpy Array"
   ]
  },
  {
   "cell_type": "code",
   "execution_count": 26,
   "id": "148f69ab-b13d-4531-88a5-2da2d8d20cdb",
   "metadata": {},
   "outputs": [
    {
     "name": "stdout",
     "output_type": "stream",
     "text": [
      "[10 20 30 40]\n",
      "int64\n",
      "[10. 20. 30. 40.]\n",
      "float64\n",
      "['10' '20' '30' '40']\n",
      "<U21\n"
     ]
    }
   ],
   "source": [
    "# changing the datatype of existing array using astype()\n",
    "a = np.array([10,20,30,40])\n",
    "print(a)\n",
    "print(a.dtype)\n",
    "b = a.astype('float64')\n",
    "print(b)\n",
    "print(b.dtype)\n",
    "c = a.astype('str')\n",
    "print(c)\n",
    "print(c.dtype)"
   ]
  },
  {
   "cell_type": "code",
   "execution_count": 33,
   "id": "02adfcd5-f1cf-4b82-b658-06879f69db63",
   "metadata": {},
   "outputs": [
    {
     "name": "stdout",
     "output_type": "stream",
     "text": [
      "[10  0 20  0 30]\n",
      "int64\n",
      "[10.  0. 20.  0. 30.]\n",
      "float64\n",
      "[ True False  True False  True]\n",
      "bool\n",
      "[10  0 20  0 30]\n",
      "<U16\n"
     ]
    }
   ],
   "source": [
    "# changing the datatype of existing array using the respective data type method\n",
    "a = np.array([10,0,20,0,30])\n",
    "print(a)\n",
    "print(a.dtype)\n",
    "f = np.float64(a)\n",
    "print(f)\n",
    "print(f.dtype)\n",
    "b = np.bool_(a)\n",
    "print(b)\n",
    "print(b.dtype)\n",
    "c = np.str_(a)\n",
    "print(c)\n",
    "print(c.dtype)"
   ]
  },
  {
   "cell_type": "markdown",
   "id": "b98f59b5-049b-409b-b28a-8771209e938b",
   "metadata": {
    "jp-MarkdownHeadingCollapsed": true
   },
   "source": [
    "# How to Access Elements of Numpy Array\n",
    "- Indexing ---> only one element at a time\n",
    "- Slicing ---> a group of elements \n",
    "- Advanced Indexing"
   ]
  },
  {
   "cell_type": "markdown",
   "id": "5c412b9c-162e-400e-8234-4db08be132f4",
   "metadata": {
    "jp-MarkdownHeadingCollapsed": true
   },
   "source": [
    "## 1. Indexing"
   ]
  },
  {
   "cell_type": "markdown",
   "id": "590762cf-e4de-47b2-9645-41feb206e57f",
   "metadata": {
    "jp-MarkdownHeadingCollapsed": true
   },
   "source": [
    "#### 1a. 1-D ndarray"
   ]
  },
  {
   "cell_type": "code",
   "execution_count": 40,
   "id": "390ec836-4ba1-424b-9dc7-9ea16644a876",
   "metadata": {},
   "outputs": [
    {
     "name": "stdout",
     "output_type": "stream",
     "text": [
      "10\n",
      "50\n"
     ]
    }
   ],
   "source": [
    "# accessing elements from 1-D Array\n",
    "L = [10,20,30,40,50]\n",
    "a = np.array(L)\n",
    "print(a[0])\n",
    "print(a[-1])\n",
    "# print(a[10])   # IndexError: index 10 is out of bounds for axis 0 with size 5"
   ]
  },
  {
   "cell_type": "markdown",
   "id": "61a1e5fb-6836-4ea0-bf2a-afa50f5e00e2",
   "metadata": {
    "jp-MarkdownHeadingCollapsed": true
   },
   "source": [
    "#### 1b. 2-D ndarray"
   ]
  },
  {
   "cell_type": "code",
   "execution_count": 55,
   "id": "42523513-8de0-4eb4-8257-9591322fb7c7",
   "metadata": {},
   "outputs": [
    {
     "name": "stdout",
     "output_type": "stream",
     "text": [
      "[[14 16 12 11]\n",
      " [19 15 14 12]\n",
      " [12 15 16 13]]\n"
     ]
    }
   ],
   "source": [
    "a = np.random.randint(10,21,(3,4))\n",
    "print(a)"
   ]
  },
  {
   "cell_type": "code",
   "execution_count": 56,
   "id": "f42a778a-160b-4a32-a026-bf5436f37b2e",
   "metadata": {},
   "outputs": [
    {
     "name": "stdout",
     "output_type": "stream",
     "text": [
      "Dimentions: 2\n",
      "14\n",
      "11\n",
      "16\n",
      "3\n"
     ]
    }
   ],
   "source": [
    "# Accessing Elements of 2-D Array\n",
    "print('Dimentions:',a.ndim)\n",
    "# accessing 14 1st row \n",
    "print(a[0][0])\n",
    "# accessing 11\n",
    "print(a[-3][-1])\n",
    "# accessing 16\n",
    "print(a[2][2])\n",
    "print(len(a))\n",
    "# print(a[-2][-10])\n",
    "# IndexError: index -10 is out of bounds for axis 0 with size 4"
   ]
  },
  {
   "cell_type": "markdown",
   "id": "5cf9a40c-eaf5-47bb-bc28-24b57e9cc140",
   "metadata": {
    "jp-MarkdownHeadingCollapsed": true
   },
   "source": [
    "#### 1c. 3-D ndarray"
   ]
  },
  {
   "cell_type": "code",
   "execution_count": 59,
   "id": "6d36a44b-176d-4c72-9cbc-613c08fe4722",
   "metadata": {},
   "outputs": [
    {
     "name": "stdout",
     "output_type": "stream",
     "text": [
      "[[[77 92  2 20]\n",
      "  [ 5 39 33 64]\n",
      "  [57 19 65 61]]\n",
      "\n",
      " [[ 8 66 61 10]\n",
      "  [27 96 75 13]\n",
      "  [97 19 78 42]]]\n"
     ]
    }
   ],
   "source": [
    "# Accessing Elements of 3-D Array\n",
    "a = np.random.randint(1,101,(2,3,4))\n",
    "print(a)"
   ]
  },
  {
   "cell_type": "code",
   "execution_count": 60,
   "id": "d17a9290-7a45-4129-b55f-c8807395c355",
   "metadata": {},
   "outputs": [
    {
     "name": "stdout",
     "output_type": "stream",
     "text": [
      "77\n",
      "65\n",
      "78\n",
      "13\n"
     ]
    }
   ],
   "source": [
    "# Accessing Elements\n",
    "# 77\n",
    "print(a[0][0][0])\n",
    "# 65\n",
    "print(a[0][2][2])\n",
    "# 78\n",
    "print(a[1][2][2])\n",
    "# 13\n",
    "print(a[1][1][3])"
   ]
  },
  {
   "cell_type": "markdown",
   "id": "9af26d9e-83df-4445-ad17-299ebf376dc1",
   "metadata": {
    "jp-MarkdownHeadingCollapsed": true
   },
   "source": [
    "#### 1d. 4-D ndarray"
   ]
  },
  {
   "cell_type": "code",
   "execution_count": 87,
   "id": "c60d7ead-b9f0-4257-8449-84621e7131c6",
   "metadata": {},
   "outputs": [
    {
     "name": "stdout",
     "output_type": "stream",
     "text": [
      "[[[[22  3 47 84 69]\n",
      "   [57 70 20 27 23]\n",
      "   [70 30 65 98 37]\n",
      "   [63  1 20  7  9]]\n",
      "\n",
      "  [[34 96 20 82 86]\n",
      "   [11 51 60 28 61]\n",
      "   [14 43 32 72 83]\n",
      "   [30 77 50 66 98]]\n",
      "\n",
      "  [[47 20 42 41 76]\n",
      "   [74 85 18 85 96]\n",
      "   [68 60 18 52 38]\n",
      "   [64 13 44 33 30]]]\n",
      "\n",
      "\n",
      " [[[65 97 27 96 99]\n",
      "   [45 87 34 52 60]\n",
      "   [57 20 53 22 59]\n",
      "   [96 62 90 33 29]]\n",
      "\n",
      "  [[66 38 97  9 89]\n",
      "   [ 1  4 44 72 18]\n",
      "   [36 83 80 20 66]\n",
      "   [60  7 91 85 47]]\n",
      "\n",
      "  [[ 5 39 84 96 45]\n",
      "   [34 53 70 69 34]\n",
      "   [88 84 59 57 31]\n",
      "   [17 53 23  1 15]]]]\n"
     ]
    }
   ],
   "source": [
    "a = np.random.randint(1,101,(2,3,4,5))\n",
    "print(a)"
   ]
  },
  {
   "cell_type": "code",
   "execution_count": 95,
   "id": "c0fc900a-a3a6-4622-85ac-3fdecb362f6c",
   "metadata": {},
   "outputs": [
    {
     "name": "stdout",
     "output_type": "stream",
     "text": [
      "72\n",
      "85\n",
      "1\n",
      "15\n"
     ]
    }
   ],
   "source": [
    "# 72\n",
    "print(a[0][1][2][3])\n",
    "# 85\n",
    "print(a[0][2][1][1])\n",
    "# 1\n",
    "print(a[1][1][1][0])\n",
    "# 15\n",
    "print(a[1][2][3][4])"
   ]
  },
  {
   "cell_type": "code",
   "execution_count": 71,
   "id": "c296ef0a-9d0f-43c3-ac95-3fa20cb4183b",
   "metadata": {},
   "outputs": [
    {
     "data": {
      "text/plain": [
       "(array([1]), array([2]), array([3]), array([3]))"
      ]
     },
     "execution_count": 71,
     "metadata": {},
     "output_type": "execute_result"
    }
   ],
   "source": [
    "np.where(a==39)"
   ]
  },
  {
   "cell_type": "code",
   "execution_count": 72,
   "id": "7f1ae922-3c7b-4b3e-beb8-a142522b678a",
   "metadata": {},
   "outputs": [
    {
     "data": {
      "text/plain": [
       "(array([1, 1]), array([0, 2]), array([0, 3]), array([2, 4]))"
      ]
     },
     "execution_count": 72,
     "metadata": {},
     "output_type": "execute_result"
    }
   ],
   "source": [
    "np.where(a==17)"
   ]
  },
  {
   "cell_type": "markdown",
   "id": "9cbfbde8-b9a7-4190-bbba-ba54d230c4e2",
   "metadata": {
    "jp-MarkdownHeadingCollapsed": true
   },
   "source": [
    "## 2. Slicing"
   ]
  },
  {
   "cell_type": "markdown",
   "id": "1ea1c779-67ec-4520-81d0-9b57543993fb",
   "metadata": {
    "jp-MarkdownHeadingCollapsed": true
   },
   "source": [
    "#### 2a. 1-D ndarray"
   ]
  },
  {
   "cell_type": "code",
   "execution_count": 73,
   "id": "5d663ce6-a9ef-48f3-92b8-04f756996584",
   "metadata": {},
   "outputs": [
    {
     "name": "stdout",
     "output_type": "stream",
     "text": [
      "[66 56 84 10 34 42 79 95 22 12]\n"
     ]
    }
   ],
   "source": [
    "a = np.random.randint(1,101,10)\n",
    "print(a)"
   ]
  },
  {
   "cell_type": "code",
   "execution_count": 85,
   "id": "ed4952e2-6712-4249-a09a-2e2aa5e48ec9",
   "metadata": {},
   "outputs": [
    {
     "name": "stdout",
     "output_type": "stream",
     "text": [
      "[84 10 34]\n",
      "[84 10 34]\n",
      "[95 22 12]\n",
      "[66 56 84]\n",
      "[66 56 84 10 34 42 79 95 22 12]\n"
     ]
    }
   ],
   "source": [
    "print(a[2:5])\n",
    "print(a[-8:-5])\n",
    "print(a[7:])\n",
    "print(a[:3])\n",
    "print(a[:])"
   ]
  },
  {
   "cell_type": "code",
   "execution_count": 2,
   "id": "dfeddcd9-1aa0-4646-bad5-368449b8efb0",
   "metadata": {},
   "outputs": [
    {
     "name": "stdout",
     "output_type": "stream",
     "text": [
      "[63 70 61 83 80  6 93 81 71 50]\n"
     ]
    }
   ],
   "source": [
    "a = np.random.randint(1,101,10)\n",
    "print(a)"
   ]
  },
  {
   "cell_type": "code",
   "execution_count": 7,
   "id": "ec411d38-2700-4250-9c5a-d7e43e7579db",
   "metadata": {},
   "outputs": [
    {
     "name": "stdout",
     "output_type": "stream",
     "text": [
      "[61 83 80  6 93 81]\n",
      "[61 80 93]\n",
      "[63 61 80 93 71]\n"
     ]
    }
   ],
   "source": [
    "print(a[2:8])\n",
    "print(a[2:8:2])\n",
    "print(a[::2])\n",
    "# print(a[::0]) # ValueError: slice step cannot be zero"
   ]
  },
  {
   "cell_type": "code",
   "execution_count": 8,
   "id": "a886ee59-f700-4510-978a-be9efa97222b",
   "metadata": {},
   "outputs": [
    {
     "name": "stdout",
     "output_type": "stream",
     "text": [
      "[50 71 81 93  6 80 83 61 70 63]\n"
     ]
    }
   ],
   "source": [
    "# How to reverse an array \n",
    "print(a[::-1])"
   ]
  },
  {
   "cell_type": "code",
   "execution_count": 10,
   "id": "f942b5fa-e976-41d7-bebd-5ffcb6653abc",
   "metadata": {},
   "outputs": [
    {
     "name": "stdout",
     "output_type": "stream",
     "text": [
      "[]\n",
      "[ 6 80 83]\n"
     ]
    }
   ],
   "source": [
    "print(a[5:-8])\n",
    "print(a[5:-8:-1])"
   ]
  },
  {
   "cell_type": "markdown",
   "id": "23384a6b-96d6-400e-9564-175ff8478de1",
   "metadata": {
    "jp-MarkdownHeadingCollapsed": true
   },
   "source": [
    "#### 2b. 2-D ndarray"
   ]
  },
  {
   "cell_type": "code",
   "execution_count": 11,
   "id": "c19550c3-5cfa-477e-8318-b4437c9972b1",
   "metadata": {},
   "outputs": [
    {
     "name": "stdout",
     "output_type": "stream",
     "text": [
      "[[39 80 62 76]\n",
      " [38 39 94 47]\n",
      " [83 99 42 71]]\n"
     ]
    }
   ],
   "source": [
    "a = np.random.randint(1,101,(3,4))\n",
    "print(a)"
   ]
  },
  {
   "cell_type": "code",
   "execution_count": 27,
   "id": "ef086f42-b6b0-4355-9715-43a7983ebe23",
   "metadata": {},
   "outputs": [
    {
     "name": "stdout",
     "output_type": "stream",
     "text": [
      "[[39 80 62 76]]\n"
     ]
    }
   ],
   "source": [
    "print(a[:1,:])"
   ]
  },
  {
   "cell_type": "code",
   "execution_count": 28,
   "id": "70d5fece-53b2-43d1-8e74-a1b2dfd3272d",
   "metadata": {},
   "outputs": [
    {
     "name": "stdout",
     "output_type": "stream",
     "text": [
      "[[39 80 62 76]\n",
      " [38 39 94 47]]\n"
     ]
    }
   ],
   "source": [
    "print(a[:2,:])"
   ]
  },
  {
   "cell_type": "code",
   "execution_count": 29,
   "id": "6dd6526a-f579-4c62-a1aa-43b13d0664fc",
   "metadata": {},
   "outputs": [
    {
     "name": "stdout",
     "output_type": "stream",
     "text": [
      "[[62 76]\n",
      " [94 47]\n",
      " [42 71]]\n"
     ]
    }
   ],
   "source": [
    "# last two elements of each row\n",
    "print(a[:,2:])"
   ]
  },
  {
   "cell_type": "code",
   "execution_count": 30,
   "id": "e0d01625-88b9-4147-b967-a27f690726db",
   "metadata": {},
   "outputs": [
    {
     "name": "stdout",
     "output_type": "stream",
     "text": [
      "[[76]\n",
      " [47]]\n"
     ]
    }
   ],
   "source": [
    "# last element of first two rows \n",
    "print(a[:2, 3:])"
   ]
  },
  {
   "cell_type": "code",
   "execution_count": 33,
   "id": "93697d64-d78f-49a4-9dac-5a341ff01685",
   "metadata": {},
   "outputs": [
    {
     "name": "stdout",
     "output_type": "stream",
     "text": [
      "[[39 80 62 76]\n",
      " [83 99 42 71]]\n"
     ]
    }
   ],
   "source": [
    "# Step Size with 2-D Array \n",
    "print(a[::2,:])"
   ]
  },
  {
   "cell_type": "code",
   "execution_count": 39,
   "id": "583ed560-ff2b-4b9e-bd2f-5fcbf3e854f9",
   "metadata": {},
   "outputs": [
    {
     "name": "stdout",
     "output_type": "stream",
     "text": [
      "[[71 78]\n",
      " [33 73]\n",
      " [47 47]\n",
      " [88 52]]\n"
     ]
    }
   ],
   "source": [
    "print(a[:,::2])"
   ]
  },
  {
   "cell_type": "code",
   "execution_count": 38,
   "id": "11846a35-631c-4e20-879c-f8f70b63d988",
   "metadata": {},
   "outputs": [
    {
     "name": "stdout",
     "output_type": "stream",
     "text": [
      "[[71 38 78 58]\n",
      " [33 28 73 35]\n",
      " [47 96 47 43]\n",
      " [88  3 52 85]]\n"
     ]
    }
   ],
   "source": [
    "a = np.random.randint(1,101,(4,4))\n",
    "print(a) "
   ]
  },
  {
   "cell_type": "code",
   "execution_count": 35,
   "id": "92e80f64-99c6-4899-b96c-54233874d275",
   "metadata": {},
   "outputs": [
    {
     "name": "stdout",
     "output_type": "stream",
     "text": [
      "[[22 60]\n",
      " [93  5]]\n"
     ]
    }
   ],
   "source": [
    "'''\n",
    "[[22 60]\n",
    " [93  5]]\n",
    "'''\n",
    "print(a[1:3,1:3])"
   ]
  },
  {
   "cell_type": "code",
   "execution_count": 36,
   "id": "ab028e04-738b-4ea5-929c-f22669e5d0ad",
   "metadata": {},
   "outputs": [
    {
     "name": "stdout",
     "output_type": "stream",
     "text": [
      "[[22 42]\n",
      " [39 97]]\n"
     ]
    }
   ],
   "source": [
    "''' \n",
    "[[22 42]\n",
    " [39 97]]\n",
    "'''\n",
    "print(a[::3,::3])"
   ]
  },
  {
   "cell_type": "markdown",
   "id": "10372189-ff29-4c5a-a07e-12ecf0fd07c2",
   "metadata": {
    "jp-MarkdownHeadingCollapsed": true
   },
   "source": [
    "#### 2c. 3-D ndarray"
   ]
  },
  {
   "cell_type": "code",
   "execution_count": 3,
   "id": "5575be2c-9ce6-4f3a-8434-9cd9bd93984d",
   "metadata": {},
   "outputs": [
    {
     "name": "stdout",
     "output_type": "stream",
     "text": [
      "[[[13 72 37 47]\n",
      "  [ 7 64 55  8]\n",
      "  [42 27 15 84]]\n",
      "\n",
      " [[52 76 81  8]\n",
      "  [65 97 53 66]\n",
      "  [ 3 90  1 17]]]\n"
     ]
    }
   ],
   "source": [
    "a = np.random.randint(1,101,(2,3,4))\n",
    "print(a)"
   ]
  },
  {
   "cell_type": "code",
   "execution_count": 4,
   "id": "fe20f9d4-8b5a-4ae0-a7e5-c278893f81d0",
   "metadata": {},
   "outputs": [
    {
     "name": "stdout",
     "output_type": "stream",
     "text": [
      "[[[13]\n",
      "  [ 7]\n",
      "  [42]]\n",
      "\n",
      " [[52]\n",
      "  [65]\n",
      "  [ 3]]]\n"
     ]
    }
   ],
   "source": [
    "# first column elements of each dimention\n",
    "print(a[:,:,:1])"
   ]
  },
  {
   "cell_type": "code",
   "execution_count": 5,
   "id": "78d885a8-8a6d-4d71-b0cf-a8d8164f56c2",
   "metadata": {},
   "outputs": [
    {
     "name": "stdout",
     "output_type": "stream",
     "text": [
      "[[[13 72 37 47]]\n",
      "\n",
      " [[52 76 81  8]]]\n"
     ]
    }
   ],
   "source": [
    "# first row elements of each dimention\n",
    "print(a[:,:1,:])"
   ]
  },
  {
   "cell_type": "code",
   "execution_count": 6,
   "id": "9b3e2086-0532-4b93-b48f-0871d80b2ce9",
   "metadata": {},
   "outputs": [
    {
     "name": "stdout",
     "output_type": "stream",
     "text": [
      "[[[13 72 37 47]\n",
      "  [42 27 15 84]]\n",
      "\n",
      " [[52 76 81  8]\n",
      "  [ 3 90  1 17]]]\n"
     ]
    }
   ],
   "source": [
    "# first and last row elements of each dimention\n",
    "print(a[:,::2,:])"
   ]
  },
  {
   "cell_type": "code",
   "execution_count": 7,
   "id": "5d71e37f-56df-4814-a843-beb5a61f8ef4",
   "metadata": {},
   "outputs": [
    {
     "name": "stdout",
     "output_type": "stream",
     "text": [
      "[[[72 37]\n",
      "  [64 55]]\n",
      "\n",
      " [[76 81]\n",
      "  [97 53]]]\n"
     ]
    }
   ],
   "source": [
    "# middle elements of first 2 rows of each dimention\n",
    "# ==> second and third column elements of first two rows of each dimention\n",
    "print(a[:,:2,1:3])"
   ]
  },
  {
   "cell_type": "code",
   "execution_count": 8,
   "id": "b9c30e46-859d-4b8a-af6a-158e40f487e8",
   "metadata": {},
   "outputs": [
    {
     "name": "stdout",
     "output_type": "stream",
     "text": [
      "[[[13 47]\n",
      "  [42 84]]\n",
      "\n",
      " [[52  8]\n",
      "  [ 3 17]]]\n"
     ]
    }
   ],
   "source": [
    "# all four corner elements of each dimention \n",
    "# ==> first and last column elements of first and last rows of each dimention\n",
    "print(a[:,::2,::3])"
   ]
  },
  {
   "cell_type": "markdown",
   "id": "7fb1e824-a9bd-4815-ba44-41007a1e7661",
   "metadata": {
    "jp-MarkdownHeadingCollapsed": true
   },
   "source": [
    "## 3. Advanced Indexing\n",
    "- accessing Arbitrary Elements"
   ]
  },
  {
   "cell_type": "code",
   "execution_count": 2,
   "id": "4bbda47f-1ed0-497e-bcb6-000f8c72277d",
   "metadata": {},
   "outputs": [
    {
     "name": "stdout",
     "output_type": "stream",
     "text": [
      "[ 10  20  30  40  50  60  70  80  90 100]\n"
     ]
    }
   ],
   "source": [
    "a = np.arange(10,101,10)\n",
    "print(a)"
   ]
  },
  {
   "cell_type": "markdown",
   "id": "d828044b-59c7-4257-b896-65a0174a5e55",
   "metadata": {
    "jp-MarkdownHeadingCollapsed": true
   },
   "source": [
    "#### 3a. 1-D ndarray"
   ]
  },
  {
   "cell_type": "markdown",
   "id": "4820fdd5-624e-4162-a4da-de08e0f78c9e",
   "metadata": {},
   "source": [
    "##### passing ndarray with required indices"
   ]
  },
  {
   "cell_type": "code",
   "execution_count": 5,
   "id": "6189686a-de32-4563-80b4-9d19a0fccb26",
   "metadata": {},
   "outputs": [
    {
     "name": "stdout",
     "output_type": "stream",
     "text": [
      "[30 50 60 90]\n",
      "[30 90 50 60]\n"
     ]
    }
   ],
   "source": [
    "# access 30 50 60 and 90\n",
    "L = [2,4,5,8]\n",
    "indices = np.array(L)\n",
    "print(a[indices])\n",
    "L1 = [2,8,4,5]\n",
    "indices = np.array(L1) \n",
    "print(a[indices])"
   ]
  },
  {
   "cell_type": "markdown",
   "id": "0cd6fa1e-c0b1-43bb-956f-63a2f240c1b2",
   "metadata": {},
   "source": [
    "##### passing List of required Indices directly "
   ]
  },
  {
   "cell_type": "code",
   "execution_count": 6,
   "id": "2b95da7d-81c9-42e2-a6c2-d9094bd8141b",
   "metadata": {},
   "outputs": [
    {
     "name": "stdout",
     "output_type": "stream",
     "text": [
      "[30 50 60 90]\n",
      "[30 90 50 60]\n"
     ]
    }
   ],
   "source": [
    "print(a[L])\n",
    "print(a[L1])"
   ]
  },
  {
   "cell_type": "markdown",
   "id": "631f8a34-da6f-42ea-9b95-98d49c0b39b1",
   "metadata": {
    "jp-MarkdownHeadingCollapsed": true
   },
   "source": [
    "#### 3b. 2-D ndarray"
   ]
  },
  {
   "cell_type": "code",
   "execution_count": 9,
   "id": "27d18b37-5237-4b72-8384-54fef355cd61",
   "metadata": {},
   "outputs": [
    {
     "name": "stdout",
     "output_type": "stream",
     "text": [
      "[[54 50 70 83]\n",
      " [ 3 11 46 42]\n",
      " [34 13 87 28]\n",
      " [78 72 35 54]]\n"
     ]
    }
   ],
   "source": [
    "a = np.random.randint(1,101,(4,4))\n",
    "print(a) "
   ]
  },
  {
   "cell_type": "code",
   "execution_count": 10,
   "id": "a2ac9114-9da7-48b5-b5ec-ea8729cf3347",
   "metadata": {},
   "outputs": [
    {
     "name": "stdout",
     "output_type": "stream",
     "text": [
      "[54 11 87 54]\n"
     ]
    }
   ],
   "source": [
    "# access the main diagonal elements\n",
    "row_indices = [0,1,2,3]\n",
    "column_indices = [0,1,2,3]\n",
    "print(a[row_indices,column_indices])"
   ]
  },
  {
   "cell_type": "code",
   "execution_count": 12,
   "id": "e7a5ef09-c57a-41b0-bec4-cd9e8f14e2ef",
   "metadata": {},
   "outputs": [
    {
     "name": "stdout",
     "output_type": "stream",
     "text": [
      "[50 42 34 35]\n"
     ]
    }
   ],
   "source": [
    "# access 50 42 34 35 \n",
    "row_indices = [0, 1, 2, 3 ]\n",
    "column_indices = [1, 3, 0, 2 ]\n",
    "print(a[row_indices,column_indices])"
   ]
  },
  {
   "cell_type": "code",
   "execution_count": 13,
   "id": "4e945665-ec87-4b5e-a259-77da72b0e918",
   "metadata": {},
   "outputs": [
    {
     "name": "stdout",
     "output_type": "stream",
     "text": [
      "[54  3 34 78 72 35 54]\n"
     ]
    }
   ],
   "source": [
    "# access L-shape elements\n",
    "row_indices = [0,1,2,3,3,3,3]\n",
    "column_indices = [0,0,0,0,1,2,3,]\n",
    "print(a[row_indices,column_indices])"
   ]
  },
  {
   "cell_type": "markdown",
   "id": "75b2ff05-e6a6-42e6-9075-1b5840314a60",
   "metadata": {
    "jp-MarkdownHeadingCollapsed": true
   },
   "source": [
    "#### Observations"
   ]
  },
  {
   "cell_type": "code",
   "execution_count": 15,
   "id": "396bfff6-fefb-4a7e-9793-d661a9e9091f",
   "metadata": {},
   "outputs": [],
   "source": [
    "# print(a[[0,1,2],[0,1]])\n",
    "# IndexError: shape mismatch: indexing arrays could not be broadcast together with shapes (3,) (2,) "
   ]
  },
  {
   "cell_type": "code",
   "execution_count": 18,
   "id": "c623217b-9456-4171-97f2-28b570ba5826",
   "metadata": {},
   "outputs": [],
   "source": [
    "# print(a[[0,1],[0,1,2]])\n",
    "# IndexError: shape mismatch: indexing arrays could not be broadcast together with shapes (2,) (3,) "
   ]
  },
  {
   "cell_type": "code",
   "execution_count": 22,
   "id": "2bf6e11b-278d-458e-b930-3f8c8efa208e",
   "metadata": {},
   "outputs": [
    {
     "name": "stdout",
     "output_type": "stream",
     "text": [
      "[54  3 34]\n"
     ]
    }
   ],
   "source": [
    "print(a[[0,1,2],[0]])            # ***** Surprised!"
   ]
  },
  {
   "cell_type": "code",
   "execution_count": 24,
   "id": "02a777d7-fdc1-4f9d-9ff5-74cb1465e351",
   "metadata": {},
   "outputs": [
    {
     "name": "stdout",
     "output_type": "stream",
     "text": [
      "[54 50 70]\n"
     ]
    }
   ],
   "source": [
    "print(a[[0],[0,1,2]])            # ***** Surprised!"
   ]
  },
  {
   "cell_type": "markdown",
   "id": "5e7a003b-404e-4121-9bb1-358b0c12890a",
   "metadata": {
    "jp-MarkdownHeadingCollapsed": true
   },
   "source": [
    "#### 3c. 3-D ndarray"
   ]
  },
  {
   "cell_type": "code",
   "execution_count": 25,
   "id": "3ac882f6-7150-4b2c-8b3c-c6519eb5fe83",
   "metadata": {},
   "outputs": [
    {
     "name": "stdout",
     "output_type": "stream",
     "text": [
      "[[[ 6 60 32  4]\n",
      "  [ 2 87 27 41]\n",
      "  [94 85 71 41]]\n",
      "\n",
      " [[65  7  9 88]\n",
      "  [81 41 32 98]\n",
      "  [61 95 25 63]]]\n"
     ]
    }
   ],
   "source": [
    "a = np.random.randint(1,101,(2,3,4))\n",
    "print(a)"
   ]
  },
  {
   "cell_type": "code",
   "execution_count": 26,
   "id": "a203c1aa-3ecb-4e79-b276-ea0ed2a10b96",
   "metadata": {},
   "outputs": [
    {
     "name": "stdout",
     "output_type": "stream",
     "text": [
      "[87 32]\n"
     ]
    }
   ],
   "source": [
    "# 87 32\n",
    "dimention_indices = [0,1]\n",
    "row_indices = [1,1] \n",
    "column_indices = [1,2] \n",
    "print(a[dimention_indices,row_indices,column_indices])"
   ]
  },
  {
   "cell_type": "code",
   "execution_count": 29,
   "id": "0fed36b7-9a3f-4671-a5a2-a718f3e950a6",
   "metadata": {},
   "outputs": [
    {
     "name": "stdout",
     "output_type": "stream",
     "text": [
      "[88 81 98]\n"
     ]
    }
   ],
   "source": [
    "# 88 81 98\n",
    "dimention_indices = [1,1,1]\n",
    "row_indices = [0,1,1]\n",
    "column_indices = [3,0,3]\n",
    "print(a[dimention_indices,row_indices,column_indices])"
   ]
  },
  {
   "cell_type": "code",
   "execution_count": 30,
   "id": "e5446a8a-f130-46c2-bfda-da6cd71f1a28",
   "metadata": {},
   "outputs": [
    {
     "name": "stdout",
     "output_type": "stream",
     "text": [
      "[ 6 60 27 25 63]\n"
     ]
    }
   ],
   "source": [
    "# 6 60 27 25 63\n",
    "dimention_indices = [0,0,0,1,1]\n",
    "row_indices = [0,0,1,2,2] \n",
    "column_indices = [0,1,2,2,3] \n",
    "print(a[dimention_indices,row_indices,column_indices])"
   ]
  },
  {
   "cell_type": "markdown",
   "id": "e72a8830-9eb0-46fd-ba95-bd2926b7b0e1",
   "metadata": {
    "jp-MarkdownHeadingCollapsed": true
   },
   "source": [
    "## 4. Condition Based Selection"
   ]
  },
  {
   "cell_type": "markdown",
   "id": "2f52f914-8c14-4900-9333-3c168bad6843",
   "metadata": {
    "jp-MarkdownHeadingCollapsed": true
   },
   "source": [
    "### 4a. 1-D ndarray"
   ]
  },
  {
   "cell_type": "code",
   "execution_count": 3,
   "id": "48714783-3497-4246-be90-5ba0bcd04fe4",
   "metadata": {},
   "outputs": [
    {
     "name": "stdout",
     "output_type": "stream",
     "text": [
      "[73 24 74 10 65 23 64 64 17 96]\n"
     ]
    }
   ],
   "source": [
    "a = np.random.randint(1,101,10)\n",
    "print(a)"
   ]
  },
  {
   "cell_type": "code",
   "execution_count": 6,
   "id": "d8e34b2d-b288-4c6e-9220-1d1a2b6bba34",
   "metadata": {},
   "outputs": [
    {
     "name": "stdout",
     "output_type": "stream",
     "text": [
      "[ True False False  True False  True  True False False False]\n"
     ]
    }
   ],
   "source": [
    "boolean_array = np.array([True,False,False,True,False,True,True,False,False,False])\n",
    "print(boolean_array)"
   ]
  },
  {
   "cell_type": "code",
   "execution_count": 7,
   "id": "ac1d29ae-d042-40c8-9735-d7b65faf6808",
   "metadata": {},
   "outputs": [
    {
     "name": "stdout",
     "output_type": "stream",
     "text": [
      "[73 10 23 64]\n"
     ]
    }
   ],
   "source": [
    "print(a[boolean_array])"
   ]
  },
  {
   "cell_type": "markdown",
   "id": "04daed7f-d562-49d1-8229-6f52d6663c83",
   "metadata": {},
   "source": [
    "#### creating boolean_array"
   ]
  },
  {
   "cell_type": "code",
   "execution_count": 9,
   "id": "a63de5ca-4e78-46c1-b6ab-d9649f19f714",
   "metadata": {},
   "outputs": [
    {
     "name": "stdout",
     "output_type": "stream",
     "text": [
      "[ True False  True False  True False  True  True False  True]\n"
     ]
    }
   ],
   "source": [
    "boolean_array = a>50\n",
    "print(boolean_array)"
   ]
  },
  {
   "cell_type": "markdown",
   "id": "df85bbb9-94da-4886-a3c0-398a8f954edb",
   "metadata": {},
   "source": [
    "#### Accessing Elements of Array based on values of boolean_array"
   ]
  },
  {
   "cell_type": "code",
   "execution_count": 10,
   "id": "d64a491c-d39e-48d6-8b82-e934c5652ea5",
   "metadata": {},
   "outputs": [
    {
     "name": "stdout",
     "output_type": "stream",
     "text": [
      "[73 74 65 64 64 96]\n"
     ]
    }
   ],
   "source": [
    "print(a[boolean_array])"
   ]
  },
  {
   "cell_type": "markdown",
   "id": "4ab89cd2-3552-46a8-8038-ad51fd99b0d5",
   "metadata": {
    "jp-MarkdownHeadingCollapsed": true
   },
   "source": [
    "#### Ex.1: select all negative values"
   ]
  },
  {
   "cell_type": "code",
   "execution_count": 12,
   "id": "7f41f8bd-5dbb-49ba-b429-73e9c5482e1d",
   "metadata": {},
   "outputs": [
    {
     "name": "stdout",
     "output_type": "stream",
     "text": [
      "[ 0 -8  9  1 -4 -4  5 -1  0 -1]\n",
      "[False  True False False  True  True False  True False  True]\n",
      "[-8 -4 -4 -1 -1]\n"
     ]
    }
   ],
   "source": [
    "a = np.random.randint(-10,10,10)\n",
    "print(a)\n",
    "boolean_array = a<0\n",
    "print(boolean_array)\n",
    "print(a[boolean_array])"
   ]
  },
  {
   "cell_type": "markdown",
   "id": "ee636203-fbbf-4877-aed3-7a549c924b96",
   "metadata": {
    "jp-MarkdownHeadingCollapsed": true
   },
   "source": [
    "#### Ex.2 slect all positive values"
   ]
  },
  {
   "cell_type": "code",
   "execution_count": 14,
   "id": "60a42517-c542-45a2-a647-914b9da87f59",
   "metadata": {},
   "outputs": [
    {
     "name": "stdout",
     "output_type": "stream",
     "text": [
      "[0 9 1 5 0]\n"
     ]
    }
   ],
   "source": [
    "boolean_array = a>=0\n",
    "print(a[boolean_array])"
   ]
  },
  {
   "cell_type": "markdown",
   "id": "c5d1957b-920e-4626-931d-da069927fb94",
   "metadata": {
    "jp-MarkdownHeadingCollapsed": true
   },
   "source": [
    "#### Ex.3 select all even number"
   ]
  },
  {
   "cell_type": "code",
   "execution_count": 15,
   "id": "25d2ab43-6a8a-44e5-8a35-282ba858c0ee",
   "metadata": {},
   "outputs": [
    {
     "name": "stdout",
     "output_type": "stream",
     "text": [
      "[ 0 -8 -4 -4  0]\n"
     ]
    }
   ],
   "source": [
    "boolean_array = a%2==0\n",
    "print(a[boolean_array])"
   ]
  },
  {
   "cell_type": "markdown",
   "id": "d66a2a61-5685-43f8-928b-e27ffd8b5332",
   "metadata": {
    "jp-MarkdownHeadingCollapsed": true
   },
   "source": [
    "#### Ex.4 select all odd number"
   ]
  },
  {
   "cell_type": "code",
   "execution_count": 16,
   "id": "7015f640-c3af-42a9-bc63-ad5cec4082be",
   "metadata": {},
   "outputs": [
    {
     "name": "stdout",
     "output_type": "stream",
     "text": [
      "[ 9  1  5 -1 -1]\n"
     ]
    }
   ],
   "source": [
    "boolean_array = a%2!=0\n",
    "print(a[boolean_array])"
   ]
  },
  {
   "cell_type": "markdown",
   "id": "534bd081-0446-4d77-a2ff-f7f211343de2",
   "metadata": {
    "jp-MarkdownHeadingCollapsed": true
   },
   "source": [
    "### 4b. 2-D ndarray"
   ]
  },
  {
   "cell_type": "code",
   "execution_count": 17,
   "id": "a450f92b-7229-4263-b1b0-2b0ad6e9272f",
   "metadata": {},
   "outputs": [
    {
     "name": "stdout",
     "output_type": "stream",
     "text": [
      "[[ 1  2  3  4  5]\n",
      " [ 6  7  8  9 10]\n",
      " [11 12 13 14 15]\n",
      " [16 17 18 19 20]\n",
      " [21 22 23 24 25]]\n"
     ]
    }
   ],
   "source": [
    "a = np.arange(1,26).reshape(5,5)\n",
    "print(a)"
   ]
  },
  {
   "cell_type": "markdown",
   "id": "968ad5c0-21d2-4613-b32e-5960ffa0091a",
   "metadata": {},
   "source": [
    "#### Ex.1 select all even number"
   ]
  },
  {
   "cell_type": "code",
   "execution_count": 19,
   "id": "406cd3f6-4542-4cc0-99e7-a21b9dc7c437",
   "metadata": {},
   "outputs": [
    {
     "name": "stdout",
     "output_type": "stream",
     "text": [
      "[ 2  4  6  8 10 12 14 16 18 20 22 24]\n"
     ]
    }
   ],
   "source": [
    "boolean_array = a%2==0\n",
    "print(a[boolean_array])"
   ]
  },
  {
   "cell_type": "markdown",
   "id": "abca8e57-f9ef-433e-9c56-e489fd4fc220",
   "metadata": {},
   "source": [
    "#### Ex.2 Select Values Divisible by 10"
   ]
  },
  {
   "cell_type": "code",
   "execution_count": 20,
   "id": "c091c869-5164-4180-9736-856bdc80327e",
   "metadata": {},
   "outputs": [
    {
     "name": "stdout",
     "output_type": "stream",
     "text": [
      "[10 20]\n"
     ]
    }
   ],
   "source": [
    "boolean_array = a%10==0\n",
    "print(a[boolean_array])"
   ]
  },
  {
   "cell_type": "markdown",
   "id": "7a11fbe1-1699-4243-9ca0-79940193fb29",
   "metadata": {
    "jp-MarkdownHeadingCollapsed": true
   },
   "source": [
    "# Iteration over ndarray"
   ]
  },
  {
   "cell_type": "markdown",
   "id": "18cbeea5-e6b2-4375-a72b-bfb9c5972f4f",
   "metadata": {},
   "source": [
    "## 1. Python Loops"
   ]
  },
  {
   "cell_type": "markdown",
   "id": "825064be-7758-44c1-8bf2-d81f8fd41fc7",
   "metadata": {
    "jp-MarkdownHeadingCollapsed": true
   },
   "source": [
    "### 1-D ndarray"
   ]
  },
  {
   "cell_type": "code",
   "execution_count": 22,
   "id": "62a9cec9-d725-49de-a0c5-1a0805079426",
   "metadata": {},
   "outputs": [
    {
     "name": "stdout",
     "output_type": "stream",
     "text": [
      "[ 4 29  1 93 76  3 14 21 32 88]\n"
     ]
    }
   ],
   "source": [
    "a = np.random.randint(1,101,10) \n",
    "print(a)"
   ]
  },
  {
   "cell_type": "code",
   "execution_count": 23,
   "id": "c9d841c3-16d0-4b29-8774-96c0936ba047",
   "metadata": {},
   "outputs": [
    {
     "name": "stdout",
     "output_type": "stream",
     "text": [
      "4 29 1 93 76 3 14 21 32 88 "
     ]
    }
   ],
   "source": [
    "for i in a:\n",
    "    print(i,end=' ')"
   ]
  },
  {
   "cell_type": "markdown",
   "id": "5f046676-d302-408e-835a-be4176361d2e",
   "metadata": {
    "jp-MarkdownHeadingCollapsed": true
   },
   "source": [
    "### 2-D ndarray"
   ]
  },
  {
   "cell_type": "code",
   "execution_count": 37,
   "id": "1ce424d4-2eb1-4631-a09e-02f3dde0e28a",
   "metadata": {},
   "outputs": [],
   "source": [
    "a = np.random.randint(1,101,(3,4))\n",
    "# print(a)  "
   ]
  },
  {
   "cell_type": "code",
   "execution_count": 38,
   "id": "4cd0899e-270d-4cab-8266-7d2fc4f0bc39",
   "metadata": {},
   "outputs": [
    {
     "name": "stdout",
     "output_type": "stream",
     "text": [
      "97 27 6 10 7 26 62 63 37 28 37 8 \n",
      "97 27 6 10 7 26 62 63 37 28 37 8 "
     ]
    }
   ],
   "source": [
    "for i in range(len(a)):\n",
    "    for j in range(len(a[i])):\n",
    "        print(a[i][j],end=' ')\n",
    "print()\n",
    "# Alternatively\n",
    "for x in a:\n",
    "    for y in x:\n",
    "        print(y,end=' ')"
   ]
  },
  {
   "cell_type": "markdown",
   "id": "4356eaf8-63c9-40ef-91f5-1d6b4d75d177",
   "metadata": {
    "jp-MarkdownHeadingCollapsed": true
   },
   "source": [
    "### 3-D ndarray "
   ]
  },
  {
   "cell_type": "code",
   "execution_count": 33,
   "id": "7b4bb7ac-8f88-4a6a-a6c5-9fcb56967c71",
   "metadata": {},
   "outputs": [],
   "source": [
    "a = np.random.randint(1,101,(2,3,4))\n",
    "# print(a) "
   ]
  },
  {
   "cell_type": "code",
   "execution_count": 34,
   "id": "749addfc-7cb1-4251-98e8-010a86b88c07",
   "metadata": {},
   "outputs": [
    {
     "name": "stdout",
     "output_type": "stream",
     "text": [
      "47 91 69 68 2 64 12 37 25 15 97 13 75 6 67 25 4 47 64 5 39 95 39 15 "
     ]
    }
   ],
   "source": [
    "for x in a:\n",
    "    for y in x:\n",
    "        for z in y:\n",
    "            print(z,end=' ')"
   ]
  },
  {
   "cell_type": "markdown",
   "id": "ad556238-3b43-427a-9ec0-d60ff0fd6f5b",
   "metadata": {
    "jp-MarkdownHeadingCollapsed": true
   },
   "source": [
    "## 2. nditer()"
   ]
  },
  {
   "cell_type": "markdown",
   "id": "6e6be143-151b-4f24-92fa-acbb53c8e884",
   "metadata": {
    "jp-MarkdownHeadingCollapsed": true
   },
   "source": [
    "### 1-D ndarray"
   ]
  },
  {
   "cell_type": "code",
   "execution_count": 41,
   "id": "ccf0b7da-53c2-4e2c-804e-9034d8fcc076",
   "metadata": {},
   "outputs": [
    {
     "name": "stdout",
     "output_type": "stream",
     "text": [
      "43 75 50 83 59 4 54 86 27 4 "
     ]
    }
   ],
   "source": [
    "a = np.random.randint(1,101,10)\n",
    "for x in np.nditer(a):\n",
    "    print(x,end=' ')"
   ]
  },
  {
   "cell_type": "markdown",
   "id": "3303bc1c-5d57-40cd-a00f-282d464f0828",
   "metadata": {
    "jp-MarkdownHeadingCollapsed": true
   },
   "source": [
    "### 2-D ndarray "
   ]
  },
  {
   "cell_type": "code",
   "execution_count": 42,
   "id": "6b91760f-b47a-4986-88eb-b244f5d302a2",
   "metadata": {},
   "outputs": [
    {
     "name": "stdout",
     "output_type": "stream",
     "text": [
      "41 9 98 91 89 25 11 71 97 26 59 23 "
     ]
    }
   ],
   "source": [
    "a = np.random.randint(1,101,(3,4))\n",
    "for x in np.nditer(a):\n",
    "    print(x,end=' ')"
   ]
  },
  {
   "cell_type": "markdown",
   "id": "14cd1936-35e6-40d5-922a-83c187ceddba",
   "metadata": {
    "jp-MarkdownHeadingCollapsed": true
   },
   "source": [
    "### 3-D ndarray"
   ]
  },
  {
   "cell_type": "code",
   "execution_count": 43,
   "id": "9a38a8f5-893b-454f-90c4-f3abf08bbb4f",
   "metadata": {},
   "outputs": [
    {
     "name": "stdout",
     "output_type": "stream",
     "text": [
      "56 95 17 75 1 86 57 47 60 63 89 60 67 37 3 44 87 93 31 34 70 27 62 68 "
     ]
    }
   ],
   "source": [
    "a = np.random.randint(1,101,(2,3,4))\n",
    "for x in np.nditer(a):\n",
    "    print(x,end=' ')"
   ]
  },
  {
   "cell_type": "markdown",
   "id": "c69b13db-1e22-484a-a59f-97558419b078",
   "metadata": {
    "jp-MarkdownHeadingCollapsed": true
   },
   "source": [
    "### iterating over sliced array "
   ]
  },
  {
   "cell_type": "code",
   "execution_count": 46,
   "id": "4c516d5b-7359-4276-b975-d8aac0be921f",
   "metadata": {},
   "outputs": [
    {
     "name": "stdout",
     "output_type": "stream",
     "text": [
      "[[36  5 13 40]\n",
      " [76 23 91  2]\n",
      " [17 37 87 82]]\n"
     ]
    }
   ],
   "source": [
    "a = np.random.randint(1,101,(3,4))\n",
    "print(a)"
   ]
  },
  {
   "cell_type": "code",
   "execution_count": 47,
   "id": "742ad0cb-edf4-4369-afd6-36cc65f6fd19",
   "metadata": {},
   "outputs": [
    {
     "name": "stdout",
     "output_type": "stream",
     "text": [
      "36 5 76 23 17 37 "
     ]
    }
   ],
   "source": [
    "for x in np.nditer(a[:,:2]):\n",
    "    print(x,end=' ')"
   ]
  },
  {
   "cell_type": "markdown",
   "id": "88e23ce8-3035-41a1-8f10-fe5beda83b90",
   "metadata": {
    "jp-MarkdownHeadingCollapsed": true
   },
   "source": [
    "### op_dtypes"
   ]
  },
  {
   "cell_type": "code",
   "execution_count": 50,
   "id": "63994a63-fb31-4f18-9d85-bb4d40e2140a",
   "metadata": {},
   "outputs": [],
   "source": [
    "# help(np.nditer) \n",
    "# nditer(op, flags=None, op_flags=None, op_dtypes=None, order='K', casting='safe', op_axes=None, itershape=None, buffersize=0)"
   ]
  },
  {
   "cell_type": "code",
   "execution_count": 58,
   "id": "8afae755-b30d-40e9-b277-d3ad5429c976",
   "metadata": {},
   "outputs": [
    {
     "name": "stdout",
     "output_type": "stream",
     "text": [
      "25.0 93.0 65.0 32.0 49.0 98.0 65.0 42.0 13.0 63.0 68.0 9.0 \n",
      "[[25 93 65 32]\n",
      " [49 98 65 42]\n",
      " [13 63 68  9]]\n"
     ]
    }
   ],
   "source": [
    "a = np.random.randint(1,101,(3,4))\n",
    "for x in np.nditer(a,flags=['buffered'],op_dtypes=['float']):\n",
    "    print(x,end=' ')\n",
    "print()\n",
    "print(a) "
   ]
  },
  {
   "cell_type": "markdown",
   "id": "1871b5c0-2456-4b83-9b57-009143be45ec",
   "metadata": {
    "jp-MarkdownHeadingCollapsed": true
   },
   "source": [
    "## 3. ndenumerate()"
   ]
  },
  {
   "cell_type": "markdown",
   "id": "3d9e84d3-9b72-405f-a36d-121dd5cc10b0",
   "metadata": {},
   "source": [
    "### 1-D ndarray"
   ]
  },
  {
   "cell_type": "code",
   "execution_count": 7,
   "id": "1884f4c7-cf1f-4e78-8bf7-989dd5c7e248",
   "metadata": {},
   "outputs": [
    {
     "name": "stdout",
     "output_type": "stream",
     "text": [
      "[ 1 11 21 31 41 51 61 71 81 91]\n"
     ]
    }
   ],
   "source": [
    "a = np.arange(1,101,10) \n",
    "print(a)"
   ]
  },
  {
   "cell_type": "code",
   "execution_count": 8,
   "id": "bf1e13f3-6412-469a-ba8a-e465a54c4eb0",
   "metadata": {},
   "outputs": [
    {
     "name": "stdout",
     "output_type": "stream",
     "text": [
      "1 element present at index/position: (0,)\n",
      "11 element present at index/position: (1,)\n",
      "21 element present at index/position: (2,)\n",
      "31 element present at index/position: (3,)\n",
      "41 element present at index/position: (4,)\n",
      "51 element present at index/position: (5,)\n",
      "61 element present at index/position: (6,)\n",
      "71 element present at index/position: (7,)\n",
      "81 element present at index/position: (8,)\n",
      "91 element present at index/position: (9,)\n"
     ]
    }
   ],
   "source": [
    "for pos,element in np.ndenumerate(a):\n",
    "    print(f'{element} element present at index/position: {pos}')"
   ]
  },
  {
   "cell_type": "markdown",
   "id": "cee3157c-8dbe-47cb-8ea0-a822422d5439",
   "metadata": {},
   "source": [
    "### 2-D ndarray"
   ]
  },
  {
   "cell_type": "code",
   "execution_count": 10,
   "id": "7299577c-9575-4320-ba73-0e24ef9b3c24",
   "metadata": {},
   "outputs": [
    {
     "name": "stdout",
     "output_type": "stream",
     "text": [
      "[[35 12 24]\n",
      " [61  6 61]\n",
      " [67 13 55]]\n"
     ]
    }
   ],
   "source": [
    "a = np.random.randint(1,101,(3,3))\n",
    "print(a)"
   ]
  },
  {
   "cell_type": "code",
   "execution_count": 11,
   "id": "a17259cc-f8ea-4dc3-a5d6-a12b3f110de3",
   "metadata": {},
   "outputs": [
    {
     "name": "stdout",
     "output_type": "stream",
     "text": [
      "35 element present at index/position: (0, 0)\n",
      "12 element present at index/position: (0, 1)\n",
      "24 element present at index/position: (0, 2)\n",
      "61 element present at index/position: (1, 0)\n",
      "6 element present at index/position: (1, 1)\n",
      "61 element present at index/position: (1, 2)\n",
      "67 element present at index/position: (2, 0)\n",
      "13 element present at index/position: (2, 1)\n",
      "55 element present at index/position: (2, 2)\n"
     ]
    }
   ],
   "source": [
    "for pos,element in np.ndenumerate(a):\n",
    "    print(f'{element} element present at index/position: {pos}')"
   ]
  },
  {
   "cell_type": "markdown",
   "id": "48bcba50-e910-4866-8bd2-75b58dafb62c",
   "metadata": {},
   "source": [
    "### 3-D ndarray"
   ]
  },
  {
   "cell_type": "code",
   "execution_count": 12,
   "id": "ddc2e75d-ddd6-4f16-837a-97a532ae9ac5",
   "metadata": {},
   "outputs": [
    {
     "name": "stdout",
     "output_type": "stream",
     "text": [
      "[[[ 26  14  49]\n",
      "  [ 16   9  12]\n",
      "  [ 77  12  38]]\n",
      "\n",
      " [[ 35  22  20]\n",
      "  [ 87  84  90]\n",
      "  [ 27 100  71]]\n",
      "\n",
      " [[ 85   3  85]\n",
      "  [ 88  93  98]\n",
      "  [ 25  84  52]]]\n"
     ]
    }
   ],
   "source": [
    "a = np.random.randint(1,101,(3,3,3))\n",
    "print(a)"
   ]
  },
  {
   "cell_type": "code",
   "execution_count": 13,
   "id": "7b213a18-c7a3-488d-a383-7a3a3b112bdd",
   "metadata": {},
   "outputs": [
    {
     "name": "stdout",
     "output_type": "stream",
     "text": [
      "26 element present at index/position: (0, 0, 0)\n",
      "14 element present at index/position: (0, 0, 1)\n",
      "49 element present at index/position: (0, 0, 2)\n",
      "16 element present at index/position: (0, 1, 0)\n",
      "9 element present at index/position: (0, 1, 1)\n",
      "12 element present at index/position: (0, 1, 2)\n",
      "77 element present at index/position: (0, 2, 0)\n",
      "12 element present at index/position: (0, 2, 1)\n",
      "38 element present at index/position: (0, 2, 2)\n",
      "35 element present at index/position: (1, 0, 0)\n",
      "22 element present at index/position: (1, 0, 1)\n",
      "20 element present at index/position: (1, 0, 2)\n",
      "87 element present at index/position: (1, 1, 0)\n",
      "84 element present at index/position: (1, 1, 1)\n",
      "90 element present at index/position: (1, 1, 2)\n",
      "27 element present at index/position: (1, 2, 0)\n",
      "100 element present at index/position: (1, 2, 1)\n",
      "71 element present at index/position: (1, 2, 2)\n",
      "85 element present at index/position: (2, 0, 0)\n",
      "3 element present at index/position: (2, 0, 1)\n",
      "85 element present at index/position: (2, 0, 2)\n",
      "88 element present at index/position: (2, 1, 0)\n",
      "93 element present at index/position: (2, 1, 1)\n",
      "98 element present at index/position: (2, 1, 2)\n",
      "25 element present at index/position: (2, 2, 0)\n",
      "84 element present at index/position: (2, 2, 1)\n",
      "52 element present at index/position: (2, 2, 2)\n"
     ]
    }
   ],
   "source": [
    "for pos,element in np.ndenumerate(a): \n",
    "    print(f'{element} element present at index/position: {pos}')"
   ]
  },
  {
   "cell_type": "markdown",
   "id": "d1acd6af-2f0e-4f13-84ec-b079d14fb7d9",
   "metadata": {},
   "source": [
    "# Arithmetic Operators"
   ]
  },
  {
   "cell_type": "markdown",
   "id": "3b4a9dca-3761-42f6-bbc7-33141c78a62c",
   "metadata": {
    "jp-MarkdownHeadingCollapsed": true
   },
   "source": [
    "## 0. Normal Division vs Floor Division"
   ]
  },
  {
   "cell_type": "code",
   "execution_count": 23,
   "id": "30fa1d45-02bc-4b26-be63-c4ed777085e1",
   "metadata": {},
   "outputs": [
    {
     "name": "stdout",
     "output_type": "stream",
     "text": [
      "5.0 <class 'float'>\n",
      "5 <class 'int'>\n",
      "3.33 <class 'float'>\n",
      "3 <class 'int'>\n",
      "5.0 <class 'float'>\n",
      "3.0 <class 'float'>\n"
     ]
    }
   ],
   "source": [
    "print(10/2,type(10/2))\n",
    "print(10//2,type(10//2))\n",
    "print(round(10/3,2),type(round(10/3,2)))\n",
    "print(10//3,type(10//3))\n",
    "print(10.0//2,type(10.0//2))\n",
    "print(10.0//3,type(10.0//3))"
   ]
  },
  {
   "cell_type": "markdown",
   "id": "686b4c7b-560e-42e4-8667-1f64af50fb5f",
   "metadata": {
    "jp-MarkdownHeadingCollapsed": true
   },
   "source": [
    "## 1. ndarrays with Scalar Values\n",
    "- element level operations"
   ]
  },
  {
   "cell_type": "code",
   "execution_count": 27,
   "id": "93199efb-189c-495c-a260-d909ae2e730a",
   "metadata": {},
   "outputs": [
    {
     "name": "stdout",
     "output_type": "stream",
     "text": [
      "[21 67 89  6 48  1 34  9 16 22]\n"
     ]
    }
   ],
   "source": [
    "a = np.random.randint(1,101,10)\n",
    "print(a)"
   ]
  },
  {
   "cell_type": "code",
   "execution_count": 32,
   "id": "18795b8d-3e25-4a3c-80a7-c33b2bffe392",
   "metadata": {},
   "outputs": [
    {
     "name": "stdout",
     "output_type": "stream",
     "text": [
      "[23 69 91  8 50  3 36 11 18 24]\n",
      "[19 65 87  4 46 -1 32  7 14 20]\n",
      "[ 42 134 178  12  96   2  68  18  32  44]\n",
      "[10.5 33.5 44.5  3.  24.   0.5 17.   4.5  8.  11. ]\n"
     ]
    }
   ],
   "source": [
    "print(a+2)\n",
    "print(a-2)\n",
    "print(a*2)\n",
    "print(a/2)"
   ]
  },
  {
   "cell_type": "code",
   "execution_count": 31,
   "id": "bd6b6aa8-414d-466d-afd5-57cf1d32914f",
   "metadata": {},
   "outputs": [
    {
     "name": "stdout",
     "output_type": "stream",
     "text": [
      "[ 441 4489 7921   36 2304    1 1156   81  256  484]\n",
      "[1 1 1 0 0 1 0 1 0 0]\n",
      "[10 33 44  3 24  0 17  4  8 11]\n"
     ]
    }
   ],
   "source": [
    "print(a**2)\n",
    "print(a%2)\n",
    "print(a//2)"
   ]
  },
  {
   "cell_type": "code",
   "execution_count": 33,
   "id": "b4c7e984-bcde-4e78-8d75-1f2ea71f2d68",
   "metadata": {},
   "outputs": [
    {
     "name": "stdout",
     "output_type": "stream",
     "text": [
      "[[ 6 83 33]\n",
      " [18 78 27]]\n"
     ]
    }
   ],
   "source": [
    "a = np.random.randint(1,101,(2,3))\n",
    "print(a)"
   ]
  },
  {
   "cell_type": "code",
   "execution_count": 35,
   "id": "f9801a44-60b1-417c-af95-cb823d96e5d2",
   "metadata": {},
   "outputs": [
    {
     "name": "stdout",
     "output_type": "stream",
     "text": [
      "[[ 8 85 35]\n",
      " [20 80 29]]\n"
     ]
    }
   ],
   "source": [
    "print(a+2)"
   ]
  },
  {
   "cell_type": "code",
   "execution_count": 36,
   "id": "dfefb1e3-7c7e-466c-b5a5-9297ee809516",
   "metadata": {},
   "outputs": [
    {
     "name": "stdout",
     "output_type": "stream",
     "text": [
      "[[ 3 41 16]\n",
      " [ 9 39 13]]\n"
     ]
    }
   ],
   "source": [
    "print(a//2)"
   ]
  },
  {
   "cell_type": "markdown",
   "id": "b4176cde-4cea-4019-8045-87eecb0d2a7f",
   "metadata": {},
   "source": [
    "#### no ZeroDivisionError --> (inf) "
   ]
  },
  {
   "cell_type": "code",
   "execution_count": 38,
   "id": "0772a1c4-25cf-48db-a5cb-ca6ce9e9fbb8",
   "metadata": {},
   "outputs": [
    {
     "name": "stdout",
     "output_type": "stream",
     "text": [
      "[[inf inf inf]\n",
      " [inf inf inf]]\n"
     ]
    },
    {
     "name": "stderr",
     "output_type": "stream",
     "text": [
      "/tmp/ipykernel_3846/2740841567.py:1: RuntimeWarning: divide by zero encountered in divide\n",
      "  print(a/0)\n"
     ]
    }
   ],
   "source": [
    "print(a/0)"
   ]
  },
  {
   "cell_type": "code",
   "execution_count": 39,
   "id": "d32d984d-cc51-4a5f-a917-6b6c4cfe4ca5",
   "metadata": {},
   "outputs": [
    {
     "name": "stdout",
     "output_type": "stream",
     "text": [
      "[0 1 2 3 4 5]\n",
      "[nan inf inf inf inf inf]\n"
     ]
    },
    {
     "name": "stderr",
     "output_type": "stream",
     "text": [
      "/tmp/ipykernel_3846/4089446574.py:3: RuntimeWarning: divide by zero encountered in divide\n",
      "  print(a/0)\n",
      "/tmp/ipykernel_3846/4089446574.py:3: RuntimeWarning: invalid value encountered in divide\n",
      "  print(a/0)\n"
     ]
    }
   ],
   "source": [
    "a = np.arange(6)\n",
    "print(a) \n",
    "print(a/0)"
   ]
  },
  {
   "cell_type": "markdown",
   "id": "97096015-8c63-4c73-84eb-f714d3648136",
   "metadata": {
    "jp-MarkdownHeadingCollapsed": true
   },
   "source": [
    "## 2. ndarrays with ndarrays\n",
    "1. Conditions: \n",
    "    - same dimention\n",
    "    - same shape\n",
    "    - same size\n",
    "2. Exception: Broadcast is possible"
   ]
  },
  {
   "cell_type": "markdown",
   "id": "0dbe269b-9f29-4e13-a0e4-5af3e576b467",
   "metadata": {
    "jp-MarkdownHeadingCollapsed": true
   },
   "source": [
    "### 1-D ndarrays"
   ]
  },
  {
   "cell_type": "code",
   "execution_count": 45,
   "id": "bc0ead45-544e-4543-9f6e-864cdd020055",
   "metadata": {},
   "outputs": [
    {
     "name": "stdout",
     "output_type": "stream",
     "text": [
      "[70 53 32 66 65 21 23 88 13 58] 1 (10,) 10\n",
      "[24 94 69 91 65 10 78 87 57 71] 1 (10,) 10\n"
     ]
    }
   ],
   "source": [
    "a = np.random.randint(1,101,10)\n",
    "b = np.random.randint(1,101,10)\n",
    "print(a,a.ndim,a.shape,a.size) \n",
    "print(b,b.ndim,b.shape,b.size) "
   ]
  },
  {
   "cell_type": "code",
   "execution_count": 43,
   "id": "774b05c5-c963-4849-a91e-511b1acc8ad2",
   "metadata": {},
   "outputs": [
    {
     "name": "stdout",
     "output_type": "stream",
     "text": [
      "[106 102 128 131 106  17 169  59 114 164]\n"
     ]
    }
   ],
   "source": [
    "c = a+b\n",
    "print(c)"
   ]
  },
  {
   "cell_type": "code",
   "execution_count": 44,
   "id": "78c4b6f0-e780-4222-a923-d6fafd23fd97",
   "metadata": {},
   "outputs": [
    {
     "name": "stdout",
     "output_type": "stream",
     "text": [
      "[-52  46 -10 -39   8  15  -5  11 -44  22]\n"
     ]
    }
   ],
   "source": [
    "c = a-b\n",
    "print(c)"
   ]
  },
  {
   "cell_type": "code",
   "execution_count": 46,
   "id": "20debbaa-5fea-48f1-8fe4-8091694370da",
   "metadata": {},
   "outputs": [
    {
     "name": "stdout",
     "output_type": "stream",
     "text": [
      "[1680 4982 2208 6006 4225  210 1794 7656  741 4118]\n"
     ]
    }
   ],
   "source": [
    "c = a*b \n",
    "print(c)"
   ]
  },
  {
   "cell_type": "code",
   "execution_count": 48,
   "id": "1fe28f74-5c62-4bd8-83f6-df9af86710df",
   "metadata": {},
   "outputs": [
    {
     "name": "stdout",
     "output_type": "stream",
     "text": [
      "[2.91666667 0.56382979 0.46376812 0.72527473 1.         2.1\n",
      " 0.29487179 1.01149425 0.22807018 0.81690141]\n"
     ]
    }
   ],
   "source": [
    "c = a/b\n",
    "print(c)"
   ]
  },
  {
   "cell_type": "code",
   "execution_count": 49,
   "id": "4005b18e-2d58-4023-a6e4-9e697729623d",
   "metadata": {},
   "outputs": [
    {
     "name": "stdout",
     "output_type": "stream",
     "text": [
      "[0.34285714 1.77358491 2.15625    1.37878788 1.         0.47619048\n",
      " 3.39130435 0.98863636 4.38461538 1.22413793]\n"
     ]
    }
   ],
   "source": [
    "c = b/a\n",
    "print(c)"
   ]
  },
  {
   "cell_type": "code",
   "execution_count": 50,
   "id": "84bbc81c-781b-4aa1-a8a9-79bf05675faf",
   "metadata": {},
   "outputs": [
    {
     "name": "stdout",
     "output_type": "stream",
     "text": [
      "[0 1 2 1 1 0 3 0 4 1]\n"
     ]
    }
   ],
   "source": [
    "c = b//a\n",
    "print(c)"
   ]
  },
  {
   "cell_type": "code",
   "execution_count": 54,
   "id": "3c8f25d0-1583-4bb8-972d-06a4150d4a30",
   "metadata": {},
   "outputs": [
    {
     "ename": "ValueError",
     "evalue": "operands could not be broadcast together with shapes (10,) (5,) ",
     "output_type": "error",
     "traceback": [
      "\u001b[0;31m---------------------------------------------------------------------------\u001b[0m",
      "\u001b[0;31mValueError\u001b[0m                                Traceback (most recent call last)",
      "Cell \u001b[0;32mIn[54], line 3\u001b[0m\n\u001b[1;32m      1\u001b[0m a \u001b[38;5;241m=\u001b[39m np\u001b[38;5;241m.\u001b[39mrandom\u001b[38;5;241m.\u001b[39mrandint(\u001b[38;5;241m1\u001b[39m,\u001b[38;5;241m101\u001b[39m,\u001b[38;5;241m10\u001b[39m)\n\u001b[1;32m      2\u001b[0m b \u001b[38;5;241m=\u001b[39m np\u001b[38;5;241m.\u001b[39mrandom\u001b[38;5;241m.\u001b[39mrandint(\u001b[38;5;241m1\u001b[39m,\u001b[38;5;241m101\u001b[39m,\u001b[38;5;241m5\u001b[39m)\n\u001b[0;32m----> 3\u001b[0m \u001b[38;5;28mprint\u001b[39m(a\u001b[38;5;241m+\u001b[39mb)\n",
      "\u001b[0;31mValueError\u001b[0m: operands could not be broadcast together with shapes (10,) (5,) "
     ]
    }
   ],
   "source": [
    "a = np.random.randint(1,101,10)\n",
    "b = np.random.randint(1,101,5)\n",
    "print(a+b) \n",
    "# ValueError: operands could not be broadcast together with shapes (10,) (5,)"
   ]
  },
  {
   "cell_type": "markdown",
   "id": "d191e48b-5114-4324-855a-f1b85beb19e4",
   "metadata": {
    "jp-MarkdownHeadingCollapsed": true
   },
   "source": [
    "### 2-D ndarrays"
   ]
  },
  {
   "cell_type": "code",
   "execution_count": 52,
   "id": "e2e2555c-e22a-4e73-9ab5-30b88d10ce5a",
   "metadata": {},
   "outputs": [
    {
     "name": "stdout",
     "output_type": "stream",
     "text": [
      "[[25 13]\n",
      " [87 50]]\n",
      "[[88 41]\n",
      " [76 65]]\n"
     ]
    }
   ],
   "source": [
    "a = np.random.randint(1,101,(2,2))\n",
    "b = np.random.randint(1,101,(2,2))\n",
    "print(a) \n",
    "print(b)"
   ]
  },
  {
   "cell_type": "code",
   "execution_count": 53,
   "id": "07634b49-c77d-4586-8f5e-04a05dda55bb",
   "metadata": {},
   "outputs": [
    {
     "name": "stdout",
     "output_type": "stream",
     "text": [
      "[[113  54]\n",
      " [163 115]]\n"
     ]
    }
   ],
   "source": [
    "c = a+b \n",
    "print(c) "
   ]
  },
  {
   "cell_type": "markdown",
   "id": "b4b0ec71-ab03-4e86-a37f-53f6bd8461da",
   "metadata": {},
   "source": [
    "## 3. Broadcasting"
   ]
  },
  {
   "cell_type": "code",
   "execution_count": 2,
   "id": "7d241826-1159-48bd-8e2d-35513323eacf",
   "metadata": {},
   "outputs": [
    {
     "name": "stdout",
     "output_type": "stream",
     "text": [
      "[11 21 31 41]\n"
     ]
    }
   ],
   "source": [
    "# Example 1A\n",
    "a = np.array([10,20,30,40])\n",
    "b = np.array([1])\n",
    "print(a+b)"
   ]
  },
  {
   "cell_type": "code",
   "execution_count": 3,
   "id": "88ee4f27-72bc-4899-a19f-0f23b0917c23",
   "metadata": {},
   "outputs": [
    {
     "ename": "ValueError",
     "evalue": "operands could not be broadcast together with shapes (4,) (2,) ",
     "output_type": "error",
     "traceback": [
      "\u001b[0;31m---------------------------------------------------------------------------\u001b[0m",
      "\u001b[0;31mValueError\u001b[0m                                Traceback (most recent call last)",
      "Cell \u001b[0;32mIn[3], line 3\u001b[0m\n\u001b[1;32m      1\u001b[0m a \u001b[38;5;241m=\u001b[39m np\u001b[38;5;241m.\u001b[39marray([\u001b[38;5;241m10\u001b[39m,\u001b[38;5;241m20\u001b[39m,\u001b[38;5;241m30\u001b[39m,\u001b[38;5;241m40\u001b[39m])\n\u001b[1;32m      2\u001b[0m b \u001b[38;5;241m=\u001b[39m np\u001b[38;5;241m.\u001b[39marray([\u001b[38;5;241m1\u001b[39m,\u001b[38;5;241m2\u001b[39m])\n\u001b[0;32m----> 3\u001b[0m \u001b[38;5;28mprint\u001b[39m(a\u001b[38;5;241m+\u001b[39mb)\n",
      "\u001b[0;31mValueError\u001b[0m: operands could not be broadcast together with shapes (4,) (2,) "
     ]
    }
   ],
   "source": [
    "# Example 1B\n",
    "a = np.array([10,20,30,40])\n",
    "b = np.array([1,2])\n",
    "print(a+b)\n",
    "# Note: Rule 2 of Broadcasting failed!"
   ]
  },
  {
   "cell_type": "code",
   "execution_count": 4,
   "id": "70c27b62-ed22-445d-bfbf-79f4795a4f06",
   "metadata": {},
   "outputs": [
    {
     "name": "stdout",
     "output_type": "stream",
     "text": [
      "[[ 80 100]\n",
      " [100 120]\n",
      " [120 140]]\n"
     ]
    }
   ],
   "source": [
    "# Example 2A\n",
    "a = np.array([[10,20],[30,40],[50,60]])\n",
    "b = np.array([70,80])\n",
    "print(a+b)"
   ]
  },
  {
   "cell_type": "code",
   "execution_count": 5,
   "id": "b294a9a9-a207-4a6f-ae89-66be929c4f92",
   "metadata": {},
   "outputs": [
    {
     "ename": "ValueError",
     "evalue": "operands could not be broadcast together with shapes (3,2) (3,) ",
     "output_type": "error",
     "traceback": [
      "\u001b[0;31m---------------------------------------------------------------------------\u001b[0m",
      "\u001b[0;31mValueError\u001b[0m                                Traceback (most recent call last)",
      "Cell \u001b[0;32mIn[5], line 3\u001b[0m\n\u001b[1;32m      1\u001b[0m a \u001b[38;5;241m=\u001b[39m np\u001b[38;5;241m.\u001b[39marray([[\u001b[38;5;241m10\u001b[39m,\u001b[38;5;241m20\u001b[39m],[\u001b[38;5;241m30\u001b[39m,\u001b[38;5;241m40\u001b[39m],[\u001b[38;5;241m50\u001b[39m,\u001b[38;5;241m60\u001b[39m]])\n\u001b[1;32m      2\u001b[0m b \u001b[38;5;241m=\u001b[39m np\u001b[38;5;241m.\u001b[39marray([\u001b[38;5;241m70\u001b[39m,\u001b[38;5;241m80\u001b[39m,\u001b[38;5;241m90\u001b[39m])\n\u001b[0;32m----> 3\u001b[0m \u001b[38;5;28mprint\u001b[39m(a\u001b[38;5;241m+\u001b[39mb)\n",
      "\u001b[0;31mValueError\u001b[0m: operands could not be broadcast together with shapes (3,2) (3,) "
     ]
    }
   ],
   "source": [
    "# Example 2B\n",
    "a = np.array([[10,20],[30,40],[50,60]])\n",
    "b = np.array([70,80,90])\n",
    "print(a+b)"
   ]
  },
  {
   "cell_type": "code",
   "execution_count": 6,
   "id": "0fa9d309-576f-463e-b2a9-2a5b99eb8c09",
   "metadata": {},
   "outputs": [
    {
     "name": "stdout",
     "output_type": "stream",
     "text": [
      "[[50 60 70]\n",
      " [60 70 80]\n",
      " [70 80 90]]\n"
     ]
    }
   ],
   "source": [
    "# Example 3A\n",
    "a = np.array([[10],[20],[30]])\n",
    "b = np.array([40,50,60])\n",
    "print(a+b)"
   ]
  },
  {
   "cell_type": "code",
   "execution_count": 7,
   "id": "e6951c9d-c324-4a67-a4d0-c3518ba5c37c",
   "metadata": {},
   "outputs": [
    {
     "ename": "ValueError",
     "evalue": "operands could not be broadcast together with shapes (3,2) (3,) ",
     "output_type": "error",
     "traceback": [
      "\u001b[0;31m---------------------------------------------------------------------------\u001b[0m",
      "\u001b[0;31mValueError\u001b[0m                                Traceback (most recent call last)",
      "Cell \u001b[0;32mIn[7], line 4\u001b[0m\n\u001b[1;32m      2\u001b[0m a \u001b[38;5;241m=\u001b[39m np\u001b[38;5;241m.\u001b[39marray([[\u001b[38;5;241m10\u001b[39m,\u001b[38;5;241m10\u001b[39m],[\u001b[38;5;241m20\u001b[39m,\u001b[38;5;241m10\u001b[39m],[\u001b[38;5;241m30\u001b[39m,\u001b[38;5;241m10\u001b[39m]])\n\u001b[1;32m      3\u001b[0m b \u001b[38;5;241m=\u001b[39m np\u001b[38;5;241m.\u001b[39marray([\u001b[38;5;241m40\u001b[39m,\u001b[38;5;241m50\u001b[39m,\u001b[38;5;241m60\u001b[39m])\n\u001b[0;32m----> 4\u001b[0m \u001b[38;5;28mprint\u001b[39m(a\u001b[38;5;241m+\u001b[39mb)\n",
      "\u001b[0;31mValueError\u001b[0m: operands could not be broadcast together with shapes (3,2) (3,) "
     ]
    }
   ],
   "source": [
    "# Example 3B\n",
    "a = np.array([[10,10],[20,10],[30,10]])\n",
    "b = np.array([40,50,60])\n",
    "print(a+b)"
   ]
  },
  {
   "cell_type": "code",
   "execution_count": 3,
   "id": "d649c1f5-4159-408b-b71a-a5481bb9ac41",
   "metadata": {},
   "outputs": [
    {
     "name": "stdout",
     "output_type": "stream",
     "text": [
      "[[ 50  60  70  80]\n",
      " [ 60  70  80  90]\n",
      " [ 70  80  90 100]]\n"
     ]
    }
   ],
   "source": [
    "# Example 3C\n",
    "a = np.array([[10],[20],[30]])\n",
    "b = np.array([40,50,60,70])\n",
    "print(a+b)"
   ]
  },
  {
   "cell_type": "markdown",
   "id": "0876f39c-c76b-4baa-9206-33b10bb00dc9",
   "metadata": {
    "jp-MarkdownHeadingCollapsed": true
   },
   "source": [
    "## 4. Arithmetic Ops. Specific Numpy Methods"
   ]
  },
  {
   "cell_type": "code",
   "execution_count": 58,
   "id": "a2555926-49e7-4779-bbfb-4dab7973fd92",
   "metadata": {},
   "outputs": [
    {
     "name": "stdout",
     "output_type": "stream",
     "text": [
      "[85 26 61 45 57]\n",
      "[36 35 84 64 18]\n"
     ]
    }
   ],
   "source": [
    "a = np.random.randint(1,101,5)\n",
    "b = np.random.randint(1,101,5)\n",
    "print(a) \n",
    "print(b) "
   ]
  },
  {
   "cell_type": "markdown",
   "id": "486d669e-48ba-44b8-9e0f-25b3c5998fb9",
   "metadata": {},
   "source": [
    "### add()"
   ]
  },
  {
   "cell_type": "code",
   "execution_count": 59,
   "id": "74b6bf36-35c4-49fe-9e7f-1a0302bd64d4",
   "metadata": {},
   "outputs": [
    {
     "name": "stdout",
     "output_type": "stream",
     "text": [
      "[121  61 145 109  75]\n"
     ]
    }
   ],
   "source": [
    "c = np.add(a,b) \n",
    "print(c)"
   ]
  },
  {
   "cell_type": "markdown",
   "id": "603ec9f6-52c3-4440-b620-fac6944a391f",
   "metadata": {},
   "source": [
    "### subtract()"
   ]
  },
  {
   "cell_type": "code",
   "execution_count": 60,
   "id": "a477ec69-96ef-47e4-80a3-038ef00f7018",
   "metadata": {},
   "outputs": [
    {
     "name": "stdout",
     "output_type": "stream",
     "text": [
      "[ 49  -9 -23 -19  39]\n",
      "[-49   9  23  19 -39]\n"
     ]
    }
   ],
   "source": [
    "c = np.subtract(a,b)\n",
    "print(c) \n",
    "c = np.subtract(b,a)\n",
    "print(c)"
   ]
  },
  {
   "cell_type": "markdown",
   "id": "dd719f4a-14d3-448c-8cdf-a0ba79a2c135",
   "metadata": {},
   "source": [
    "### multiply()"
   ]
  },
  {
   "cell_type": "code",
   "execution_count": 62,
   "id": "a4f56f9a-9e12-4a3f-a3ec-3d8aa011f981",
   "metadata": {},
   "outputs": [
    {
     "name": "stdout",
     "output_type": "stream",
     "text": [
      "[3060  910 5124 2880 1026]\n"
     ]
    }
   ],
   "source": [
    "c = np.multiply(a,b)\n",
    "print(c)"
   ]
  },
  {
   "cell_type": "markdown",
   "id": "f5895a9c-6f6f-4045-986f-9120d549c908",
   "metadata": {},
   "source": [
    "### divide()"
   ]
  },
  {
   "cell_type": "code",
   "execution_count": 63,
   "id": "b6c48528-662b-42e2-ab4d-6b6bac91fbd3",
   "metadata": {},
   "outputs": [
    {
     "name": "stdout",
     "output_type": "stream",
     "text": [
      "[2.36111111 0.74285714 0.72619048 0.703125   3.16666667]\n"
     ]
    }
   ],
   "source": [
    "c = np.divide(a,b)\n",
    "print(c) "
   ]
  },
  {
   "cell_type": "markdown",
   "id": "1041b0f3-607b-4bee-b3bf-70378f3654ae",
   "metadata": {},
   "source": [
    "### floor_divide()"
   ]
  },
  {
   "cell_type": "code",
   "execution_count": 64,
   "id": "abbcd0bb-1367-446a-bb30-9826e4a87787",
   "metadata": {},
   "outputs": [
    {
     "name": "stdout",
     "output_type": "stream",
     "text": [
      "[2 0 0 0 3]\n",
      "[0 1 1 1 0]\n"
     ]
    }
   ],
   "source": [
    "c = np.floor_divide(a,b)\n",
    "print(c)\n",
    "c = np.floor_divide(b,a)\n",
    "print(c)"
   ]
  },
  {
   "cell_type": "markdown",
   "id": "a2a069d1-5ed0-4f4f-8c5b-5a1e2a4b675b",
   "metadata": {},
   "source": [
    "### mod()"
   ]
  },
  {
   "cell_type": "code",
   "execution_count": 65,
   "id": "880c71ef-8b17-4529-9c1f-f7f53e71c585",
   "metadata": {},
   "outputs": [
    {
     "name": "stdout",
     "output_type": "stream",
     "text": [
      "[13 26 61 45  3]\n",
      "[36  9 23 19 18]\n"
     ]
    }
   ],
   "source": [
    "c = np.mod(a,b) \n",
    "print(c) \n",
    "c = np.mod(b,a) \n",
    "print(c) "
   ]
  },
  {
   "cell_type": "markdown",
   "id": "6f4ff4a9-e1af-464a-8e71-78adc1a5aa8e",
   "metadata": {},
   "source": [
    "### power()"
   ]
  },
  {
   "cell_type": "code",
   "execution_count": 66,
   "id": "c4fb26d5-e7ae-45ad-bd33-d2646b927f01",
   "metadata": {},
   "outputs": [
    {
     "name": "stdout",
     "output_type": "stream",
     "text": [
      "[ -204710832480621007 -2833792586945134592  6743677414034968977\n",
      "  6804387499112569089 -8458688777894939087]\n",
      "[                   0  6735646701142386089                    0\n",
      "                    0 -7926335344172072960]\n"
     ]
    }
   ],
   "source": [
    "c = np.power(a,b)\n",
    "print(c) \n",
    "c = np.power(b,a)\n",
    "print(c)"
   ]
  },
  {
   "cell_type": "code",
   "execution_count": null,
   "id": "5acc77a7-a9c4-4676-ba21-e152cda8e969",
   "metadata": {},
   "outputs": [],
   "source": []
  },
  {
   "cell_type": "code",
   "execution_count": null,
   "id": "c040e001-e780-419f-8763-3796859504a0",
   "metadata": {},
   "outputs": [],
   "source": []
  }
 ],
 "metadata": {
  "kernelspec": {
   "display_name": "Python 3 (ipykernel)",
   "language": "python",
   "name": "python3"
  },
  "language_info": {
   "codemirror_mode": {
    "name": "ipython",
    "version": 3
   },
   "file_extension": ".py",
   "mimetype": "text/x-python",
   "name": "python",
   "nbconvert_exporter": "python",
   "pygments_lexer": "ipython3",
   "version": "3.11.7"
  }
 },
 "nbformat": 4,
 "nbformat_minor": 5
}
