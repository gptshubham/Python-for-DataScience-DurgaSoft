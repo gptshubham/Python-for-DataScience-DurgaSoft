





import numpy as np


# help(np.array)
# --> array(object, dtype=None, *, copy=True, order='K', subok=False, ndmin=0,like=None)
# --> Create an array.


# 1-D Array using List
L = [10,20,30]
a = np.array(L)
print(L)
print(type(L))
print(a)
print(type(a))
print(a.ndim)
print(a.dtype)
print(a.shape)      # (3,) --> (size of array , )
print(a.size)
# a1 = np.array(L,str)
# print(a1.dtype)


# import numpy as np
# help(np.array)
# array(object, dtype=None, *, copy=True, order='K', subok=False, ndmin=0,like=None)


# 2-D Array
L = [[10,20,30],[40,50,60],[70,80,90]]
a = np.array(L)
print(type(a))
print(a.ndim)
print(a)
print(a.shape)
print(a.size)


# 1-D Array using Tuple
t = ('shubham','kumar','gupta')
a = np.array(t)
print(a)
print(type(a))
print(a.ndim)
print(a.shape)
print(a.size)
print(a.dtype)        # <U7 --> string


# Homo Elements --> upcasting
L = [7,'Dhoni',10,'Sachin',18,'Kohli',45,'Rohit']
a = np.array(L)
print(L)
print(a)
print(a.dtype)
L1 = [10,20,30.5]
a1 = np.array(L1)
print(a1)
print(a1.dtype)


# How to create an array of a particular type
L1 = [10,20,30.5,0]
a1 = np.array(L1,int)
print(a1)
a2 = np.array(L1,bool)
print(a2)
a3 = np.array(L1,str)
print(a3)
L2 = [7,'Dhoni',10,'Sachin',18,'Kohli',45,'Rohit']
# a = np.array(L2,int)       # ValueError


# object type array --> Array with Heterogeneous Elements 
L = [7,'Dhoni',10,'Sachin',18,'Kohli',45,'Rohit',True,10.5,10+20j]
a = np.array(L,object)
print(a)
print(a.dtype)
a1 = np.array(L)
print(a1)
print(a1.dtype)





# arguments of arange()
# help(np.arange) 
# --> arange([start,] stop[, step,], dtype=None, *, like=None)
# --> Return evenly spaced values within a given interval.


a = np.arange(10)
print(a)
print(a.ndim)
print(a.dtype)


a = np.arange(1,11)
a


a = np.arange(1,11,2)
a


a = np.arange(1,11,3,dtype=float)
a


# a = np.arange(1,11,3,dtype=str)
# a
# TypeError: arange() not supported for inputs with DType <class 'numpy.dtypes.StrDType'>.





# in the specified interval , linearly spaced values --> evenly spaced (uniform) numbers
# arguments of linspace()
# help(np.linspace) 
# --> linspace(start, stop, num=50, endpoint=True, retstep=False, dtype=None, axis=0)
# --> Return evenly spaced numbers over a specified interval.
# --> Returns `num` evenly spaced samples, calculated over the interval [`start`, `stop`].
# --> The endpoint of the interval can optionally be excluded.


np.linspace(0,1,2)


np.linspace(0,1,3)


np.linspace(0,1,4)


a = np.linspace(0,1)        # dfault argument num=50
print(a)
print('Default Size of array in linspace():',a.size)
print(a.ndim)
print(a.dtype)


np.linspace(1,100,10,dtype=int)





# arguments
# help(np.zeros) 
# --> zeros(shape, dtype=float, order='C', *, like=None)
# --> Return a new array of given shape and type, filled with zeros.


# vercor --> 1-D Array
a = np.zeros((10))
print(a)
print('Dimentions:',a.ndim)
print('Shape:',a.shape)
print('Size:',a.size)


# matrix --> 2-D Array --> a collection of 1-D Arrays
a = np.zeros((3,3))
print(a)
print('Dimentions:',a.ndim)
print('Shape:',a.shape)
print('Size:',a.size)


# 3-D Array --> a collection of 2-D Arrays
a = np.zeros((2,3,4))
# 2 --> 2 2-D Arrays
# 3 --> No. of rows in every 2-D Array
# 4 --> No. of columns in every 2-D Array
# size = 4*3*2 = 24
print(a)
print('Dimentions:',a.ndim)
print('Shape:',a.shape)
print('Size:',a.size)


a = np.zeros((3,3,4))
print(a)
print('Dimentions:',a.ndim)
print('Shape:',a.shape)
print('Size:',a.size)


# dtype argument
a = np.zeros((2,3,4),dtype=int)
print(a)
print('Dimentions:',a.ndim)
print('Shape:',a.shape)
print('Size:',a.size)


a = np.zeros((1,3,2),dtype=int)
print(a)
print('Dimentions:',a.ndim)
print('Shape:',a.shape)
print('Size:',a.size)


# 4-D Arrays --> a collection of 3-D Arrays
a = np.zeros((2,2,3,4),dtype=int)
print(a)
print('Dimentions:',a.ndim)
print('Shape:',a.shape)
print('Size:',a.size)





# Exactly similar to zeros() , just the values are 1 instead of 0
# help(np.ones) 
# --> ones(shape, dtype=None, order='C', *, like=None)
# --> Return a new array of given shape and type, filled with ones.


np.ones((2,3,4))





# help(np.full)
# --> full(shape, fill_value, dtype=None, order='C', *, like=None)
# --> Return a new array of given shape and type, filled with `fill_value`.


np.full((10),2)


np.full((4,5),7)


np.full((2,3,4),9)





# help(np.eye)
# --> eye(N, M=None, k=0, dtype=<class 'float'>, order='C', *, like=None)
# --> Return a 2-D array with ones on the diagonal and zeros elsewhere.


a = np.eye(2,3)
print(a)


a = np.eye(3,2)
print(a)


a = np.eye(3)
print(a)


a = np.eye(3,dtype=int)
print(a)


a = np.eye(5,k=1)
print(a)


a = np.eye(5,k=-3)
print(a)








# exactly same as eye() function except that 
# 1. It is always square matrix
# 2. only main diagonal contains 1s


# help(np.identity)
# --> identity(n, dtype=None, *, like=None)
# --> Return the identity array.
# --> The identity array is a square array with ones on the main diagonal.


a = np.identity(5)
print(a)


a = np.identity(5,dtype=int)
print(a)


# help(np.empty)
# --> empty(shape, dtype=float, order='C', *, like=None)
# --> Return a new array of given shape and type, without initializing entries.





a = np.empty((3,3))
print(a)


a = np.empty((2,3,4))
print(a)


a = np.empty(10)
print(a)


a = np.empty(10,dtype=int)
print(a)








# memory consumption comparision
import sys
a = np.zeros((20000,30,40))
b = np.empty((20000,30,40))
print(sys.getsizeof(a))
print(sys.getsizeof(b))
# no difference


# Time Consumption Comparision --> empty() is way more faster than zeros()
from datetime import datetime

begin = datetime.now()
a = np.zeros((100000,300,40))
end = datetime.now()
print('Time taken by zeros():',end-begin)
a = None    # making the object eligible for garbage collection
begin = datetime.now()
a = np.empty((100000,300,40))
end = datetime.now()
print('Time taken by empty():',end-begin)








# help(np.randint)
# AttributeError: module 'numpy' has no attribute 'randint'
# help(np.random.randint)
# randint(low, high=None, size=None, dtype=int)
# Return random integers from `low` (inclusive) to `high` (exclusive).


np.random.randint(10,20)


a = np.random.randint(1,8,size=10)
print(a)
print(type(a))
print(a.ndim)
print(a.shape)
print(a.dtype)


a = np.random.randint(100,size=(3,5))
print(a)


a = np.random.randint(100,size=(2,3,4))
print(a)
print(a.ndim)


import sys
a = np.random.randint(1,11,size=(20,30))
print(a)
print(a.dtype)
sys.getsizeof(a)


a = np.random.randint(1,11,size=(20,30),dtype='int8')         # memory utilization improves
print(a)
print(a.dtype)
sys.getsizeof(a)


# how to convert the array created using randint() into float or any other data type
b = a.astype('float')
print(b)
print(b.dtype)





help(np.random.rand)
# rand(d0, d1, ..., dn)
# Random values in a given shape.


a = np.random.rand()
print(a)                 # single float value


# 1-D Array
a = np.random.rand(10)
print(a)


# 2-D Array
a = np.random.rand(3,5)
print(a)


# 3-D Array
a = np.random.rand(2,3,4)
print(a)





# help(np.random.uniform)
# uniform(low=0.0, high=1.0, size=None)     --> can customise range
# Draw samples from a uniform distribution.


# single value
a = np.random.uniform(10,20)
print(a)


# 1-D Array
a = np.random.uniform(10,20,size=10)
print(a)


# 2-D Arrya
a = np.random.uniform(10,20,(4,5))
print(a)


# 3-D Array
a = np.random.uniform(10,20,(2,3,4))
print(a)


s = np.random.uniform(10,20,size=1000000)
import matplotlib.pyplot as plt
count,bins,ignored = plt.hist(s,15,density=True)
plt.plot(bins,np.ones_like(bins),linewidth=2,color='r')
plt.show()





# help(np.random.randn)
# randn(d0, d1, ..., dn)
# Return a sample (or samples) from the "standard normal" distribution.
# mean 0 and variance 1


# 1-D Array
a = np.random.randn(10)
print(a)


# 2-D Array
a = np.random.randn(2,3)
print(a)


# 3-D Array
a = np.random.randn(2,3,4)
print(a)


s = np.random.randn(1000000)
import matplotlib.pyplot as plt
count,bins,ignored = plt.hist(s,15,density=True)
plt.plot(bins,np.ones_like(bins),linewidth=2,color='r')
plt.show()
s.mean()


print(s.mean())
print(s.std())





# can customise mean and variance
# help(np.random.normal)
# normal(loc=0.0, scale=1.0, size=None)
# Draw random samples from a normal (Gaussian) distribution.
# loc : float or array_like of floats
#         Mean ("centre") of the distribution.
# scale : float or array_like of floats
#         Standard deviation (spread or "width") of the distribution. Must be non-negative.


a = np.random.normal()
print(a)


# 1-D Array
a = np.random.normal(10,4,size=10)
print(a)


# 2-D Array
a = np.random.normal(10,4,size=(2,3))
print(a)


# 3-D Array
a = np.random.normal(10,4,size=(2,3,4))
print(a)





s = np.random.normal(10,4,1000000)
import matplotlib.pyplot as plt
count,bins,ignored = plt.hist(s,15,density=True)
plt.plot(bins,np.ones_like(bins),linewidth=2,color='r')
plt.show()


print(s.mean())
print(s.std())





# help(np.random.shuffle)
# shuffle(x)
# Modify a sequence in-place by shuffling its contents.
# This function only shuffles the array along the first axis (axis 0) of amulti-dimensional array.
# The order of sub-arrays is changed but their contents remains the same.


a = np.arange(9)
print(a)
np.random.shuffle(a)
print(a)


a = np.random.randint(1,101,(6,5))
print(a)


np.random.shuffle(a)
print(a)


a = np.random.randint(1,101,(4,3,4))
print(a)


np.random.shuffle(a)
print(a)





a = np.array([10,20,30,40])
print(a.ndim)
print(a.shape)
print(a.dtype)
print(a.size)
print(a.itemsize)


a = np.random.randint(10,20,(5,6))
print(a.ndim)
print(a.shape)
print(a.dtype)
print(a.size)
print(a.itemsize)


a = np.array([[10,20,30],[40,50,60],[70,80,90]],dtype=float)
print(a.ndim)
print(a.shape)
print(a.dtype)
print(a.size)
print(a.itemsize)





a = np.array([10,20,30,40])
import sys
sys.getsizeof(a)


a = np.array([10,20,30,40],dtype='int8')
import sys
sys.getsizeof(a)


a = np.array([10,20,30,40],dtype=float)
import sys
sys.getsizeof(a)


a = np.array([10,20,30,40],dtype='float16')
import sys
sys.getsizeof(a)





# changing the datatype of existing array using astype()
a = np.array([10,20,30,40])
print(a)
print(a.dtype)
b = a.astype('float64')
print(b)
print(b.dtype)
c = a.astype('str')
print(c)
print(c.dtype)


# changing the datatype of existing array using the respective data type method
a = np.array([10,0,20,0,30])
print(a)
print(a.dtype)
f = np.float64(a)
print(f)
print(f.dtype)
b = np.bool_(a)
print(b)
print(b.dtype)
c = np.str_(a)
print(c)
print(c.dtype)











# accessing elements from 1-D Array
L = [10,20,30,40,50]
a = np.array(L)
print(a[0])
print(a[-1])
# print(a[10])   # IndexError: index 10 is out of bounds for axis 0 with size 5





a = np.random.randint(10,21,(3,4))
print(a)


# Accessing Elements of 2-D Array
print('Dimentions:',a.ndim)
# accessing 14 1st row 
print(a[0][0])
# accessing 11
print(a[-3][-1])
# accessing 16
print(a[2][2])
print(len(a))
# print(a[-2][-10])
# IndexError: index -10 is out of bounds for axis 0 with size 4





# Accessing Elements of 3-D Array
a = np.random.randint(1,101,(2,3,4))
print(a)


# Accessing Elements
# 77
print(a[0][0][0])
# 65
print(a[0][2][2])
# 78
print(a[1][2][2])
# 13
print(a[1][1][3])





a = np.random.randint(1,101,(2,3,4,5))
print(a)


# 72
print(a[0][1][2][3])
# 85
print(a[0][2][1][1])
# 1
print(a[1][1][1][0])
# 15
print(a[1][2][3][4])


np.where(a==39)


np.where(a==17)








a = np.random.randint(1,101,10)
print(a)


print(a[2:5])
print(a[-8:-5])
print(a[7:])
print(a[:3])
print(a[:])


a = np.random.randint(1,101,10)
print(a)


print(a[2:8])
print(a[2:8:2])
print(a[::2])
# print(a[::0]) # ValueError: slice step cannot be zero


# How to reverse an array 
print(a[::-1])


print(a[5:-8])
print(a[5:-8:-1])





a = np.random.randint(1,101,(3,4))
print(a)


print(a[:1,:])


print(a[:2,:])


# last two elements of each row
print(a[:,2:])


# last element of first two rows 
print(a[:2, 3:])


# Step Size with 2-D Array 
print(a[::2,:])


print(a[:,::2])


a = np.random.randint(1,101,(4,4))
print(a) 


'''
[[22 60]
 [93  5]]
'''
print(a[1:3,1:3])


''' 
[[22 42]
 [39 97]]
'''
print(a[::3,::3])





a = np.random.randint(1,101,(2,3,4))
print(a)


# first column elements of each dimention
print(a[:,:,:1])


# first row elements of each dimention
print(a[:,:1,:])


# first and last row elements of each dimention
print(a[:,::2,:])


# middle elements of first 2 rows of each dimention
# ==> second and third column elements of first two rows of each dimention
print(a[:,:2,1:3])


# all four corner elements of each dimention 
# ==> first and last column elements of first and last rows of each dimention
print(a[:,::2,::3])





a = np.arange(10,101,10)
print(a)








# access 30 50 60 and 90
L = [2,4,5,8]
indices = np.array(L)
print(a[indices])
L1 = [2,8,4,5]
indices = np.array(L1) 
print(a[indices])





print(a[L])
print(a[L1])





a = np.random.randint(1,101,(4,4))
print(a) 


# access the main diagonal elements
row_indices = [0,1,2,3]
column_indices = [0,1,2,3]
print(a[row_indices,column_indices])


# access 50 42 34 35 
row_indices = [0, 1, 2, 3 ]
column_indices = [1, 3, 0, 2 ]
print(a[row_indices,column_indices])


# access L-shape elements
row_indices = [0,1,2,3,3,3,3]
column_indices = [0,0,0,0,1,2,3,]
print(a[row_indices,column_indices])





# print(a[[0,1,2],[0,1]])
# IndexError: shape mismatch: indexing arrays could not be broadcast together with shapes (3,) (2,) 


# print(a[[0,1],[0,1,2]])
# IndexError: shape mismatch: indexing arrays could not be broadcast together with shapes (2,) (3,) 


print(a[[0,1,2],[0]])            # ***** Surprised!


print(a[[0],[0,1,2]])            # ***** Surprised!





a = np.random.randint(1,101,(2,3,4))
print(a)


# 87 32
dimention_indices = [0,1]
row_indices = [1,1] 
column_indices = [1,2] 
print(a[dimention_indices,row_indices,column_indices])


# 88 81 98
dimention_indices = [1,1,1]
row_indices = [0,1,1]
column_indices = [3,0,3]
print(a[dimention_indices,row_indices,column_indices])


# 6 60 27 25 63
dimention_indices = [0,0,0,1,1]
row_indices = [0,0,1,2,2] 
column_indices = [0,1,2,2,3] 
print(a[dimention_indices,row_indices,column_indices])








a = np.random.randint(1,101,10)
print(a)


boolean_array = np.array([True,False,False,True,False,True,True,False,False,False])
print(boolean_array)


print(a[boolean_array])





boolean_array = a>50
print(boolean_array)





print(a[boolean_array])





a = np.random.randint(-10,10,10)
print(a)
boolean_array = a<0
print(boolean_array)
print(a[boolean_array])





boolean_array = a>=0
print(a[boolean_array])





boolean_array = a%2==0
print(a[boolean_array])





boolean_array = a%2!=0
print(a[boolean_array])





a = np.arange(1,26).reshape(5,5)
print(a)





boolean_array = a%2==0
print(a[boolean_array])





boolean_array = a%10==0
print(a[boolean_array])











a = np.random.randint(1,101,10) 
print(a)


for i in a:
    print(i,end=' ')





a = np.random.randint(1,101,(3,4))
# print(a)  


for i in range(len(a)):
    for j in range(len(a[i])):
        print(a[i][j],end=' ')
print()
# Alternatively
for x in a:
    for y in x:
        print(y,end=' ')





a = np.random.randint(1,101,(2,3,4))
# print(a) 


for x in a:
    for y in x:
        for z in y:
            print(z,end=' ')








a = np.random.randint(1,101,10)
for x in np.nditer(a):
    print(x,end=' ')





a = np.random.randint(1,101,(3,4))
for x in np.nditer(a):
    print(x,end=' ')





a = np.random.randint(1,101,(2,3,4))
for x in np.nditer(a):
    print(x,end=' ')





a = np.random.randint(1,101,(3,4))
print(a)


for x in np.nditer(a[:,:2]):
    print(x,end=' ')





# help(np.nditer) 
# nditer(op, flags=None, op_flags=None, op_dtypes=None, order='K', casting='safe', op_axes=None, itershape=None, buffersize=0)


a = np.random.randint(1,101,(3,4))
for x in np.nditer(a,flags=['buffered'],op_dtypes=['float']):
    print(x,end=' ')
print()
print(a) 








a = np.arange(1,101,10) 
print(a)


for pos,element in np.ndenumerate(a):
    print(f'{element} element present at index/position: {pos}')





a = np.random.randint(1,101,(3,3))
print(a)


for pos,element in np.ndenumerate(a):
    print(f'{element} element present at index/position: {pos}')





a = np.random.randint(1,101,(3,3,3))
print(a)


for pos,element in np.ndenumerate(a): 
    print(f'{element} element present at index/position: {pos}')








print(10/2,type(10/2))
print(10//2,type(10//2))
print(round(10/3,2),type(round(10/3,2)))
print(10//3,type(10//3))
print(10.0//2,type(10.0//2))
print(10.0//3,type(10.0//3))





a = np.random.randint(1,101,10)
print(a)


print(a+2)
print(a-2)
print(a*2)
print(a/2)


print(a**2)
print(a%2)
print(a//2)


a = np.random.randint(1,101,(2,3))
print(a)


print(a+2)


print(a//2)





print(a/0)


a = np.arange(6)
print(a) 
print(a/0)








a = np.random.randint(1,101,10)
b = np.random.randint(1,101,10)
print(a,a.ndim,a.shape,a.size) 
print(b,b.ndim,b.shape,b.size) 


c = a+b
print(c)


c = a-b
print(c)


c = a*b 
print(c)


c = a/b
print(c)


c = b/a
print(c)


c = b//a
print(c)


a = np.random.randint(1,101,10)
b = np.random.randint(1,101,5)
print(a+b) 
# ValueError: operands could not be broadcast together with shapes (10,) (5,)





a = np.random.randint(1,101,(2,2))
b = np.random.randint(1,101,(2,2))
print(a) 
print(b)


c = a+b 
print(c) 





# Example 1A
a = np.array([10,20,30,40])
b = np.array([1])
print(a+b)


# Example 1B
a = np.array([10,20,30,40])
b = np.array([1,2])
print(a+b)
# Note: Rule 2 of Broadcasting failed!


# Example 2A
a = np.array([[10,20],[30,40],[50,60]])
b = np.array([70,80])
print(a+b)


# Example 2B
a = np.array([[10,20],[30,40],[50,60]])
b = np.array([70,80,90])
print(a+b)


# Example 3A
a = np.array([[10],[20],[30]])
b = np.array([40,50,60])
print(a+b)


# Example 3B
a = np.array([[10,10],[20,10],[30,10]])
b = np.array([40,50,60])
print(a+b)


# Example 3C
a = np.array([[10],[20],[30]])
b = np.array([40,50,60,70])
print(a+b)





a = np.random.randint(1,101,5)
b = np.random.randint(1,101,5)
print(a) 
print(b) 





c = np.add(a,b) 
print(c)





c = np.subtract(a,b)
print(c) 
c = np.subtract(b,a)
print(c)





c = np.multiply(a,b)
print(c)





c = np.divide(a,b)
print(c) 





c = np.floor_divide(a,b)
print(c)
c = np.floor_divide(b,a)
print(c)





c = np.mod(a,b) 
print(c) 
c = np.mod(b,a) 
print(c) 





c = np.power(a,b)
print(c) 
c = np.power(b,a)
print(c)






