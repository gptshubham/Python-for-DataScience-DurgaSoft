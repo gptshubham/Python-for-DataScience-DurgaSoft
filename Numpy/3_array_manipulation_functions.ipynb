{
 "cells": [
  {
   "cell_type": "markdown",
   "id": "94d9f5fe-2f90-45fb-a9ed-c8bf7c3eb488",
   "metadata": {},
   "source": [
    "# Array Manipulation Functions"
   ]
  },
  {
   "cell_type": "code",
   "execution_count": 2,
   "id": "b9445e23-b484-419c-bc4e-927f1f142fbd",
   "metadata": {},
   "outputs": [],
   "source": [
    "import numpy as np "
   ]
  },
  {
   "cell_type": "markdown",
   "id": "c288f0fe-23a8-41d3-8641-1bbd9e179078",
   "metadata": {
    "jp-MarkdownHeadingCollapsed": true
   },
   "source": [
    "## 1. reshape() \n",
    "- **Condition:** Data should not change **==>** input size and output size must match\n",
    "- **np.reshape()**  : Numpy Library Function\n",
    "- **array.reshape()** : ndarray class method"
   ]
  },
  {
   "cell_type": "markdown",
   "id": "dc944dda-85e4-42f3-a7ff-7bb0dd60316e",
   "metadata": {
    "jp-MarkdownHeadingCollapsed": true
   },
   "source": [
    "#### 1A. 1-D Array"
   ]
  },
  {
   "cell_type": "code",
   "execution_count": 22,
   "id": "f661087c-c17f-440b-95c1-3bc47bddbd17",
   "metadata": {},
   "outputs": [
    {
     "name": "stdout",
     "output_type": "stream",
     "text": [
      "[15 58 58 72 30 31  1 72 91 24]\n",
      "Shape: (10,)\n",
      "Size: 10\n",
      "[[15 58]\n",
      " [58 72]\n",
      " [30 31]\n",
      " [ 1 72]\n",
      " [91 24]]\n"
     ]
    }
   ],
   "source": [
    "# creating 1-D array \n",
    "a = np.random.randint(1,101,10) \n",
    "print(a) \n",
    "print('Shape:',a.shape)\n",
    "print('Size:',a.size)\n",
    "# reshaping 1-D Array to 2-D Array \n",
    "b = np.reshape(a,(5,2))\n",
    "print(b)"
   ]
  },
  {
   "cell_type": "code",
   "execution_count": 1,
   "id": "f1f3cbb0-1881-4211-80d5-910926e7cfa6",
   "metadata": {},
   "outputs": [],
   "source": [
    "# help(np.reshape)"
   ]
  },
  {
   "cell_type": "markdown",
   "id": "794747d3-abb7-4c69-8e15-e36e6d3d6471",
   "metadata": {
    "jp-MarkdownHeadingCollapsed": true
   },
   "source": [
    "#### 1B. 2-D Array"
   ]
  },
  {
   "cell_type": "code",
   "execution_count": 24,
   "id": "9eadbbeb-67bc-4f7b-a6c6-808045a48438",
   "metadata": {},
   "outputs": [
    {
     "name": "stdout",
     "output_type": "stream",
     "text": [
      "[ 96  50  66  74  48  27   5  85  31  50   4  37  48  44  39  27  55  42\n",
      "  62  51   4   7 100  43]\n",
      "Shape: (24,)\n",
      "Size: 24\n",
      "Dimentions: 1\n"
     ]
    }
   ],
   "source": [
    "# creating 1-D Array \n",
    "a = np.random.randint(1,101,24)\n",
    "print(a)\n",
    "print('Shape:',a.shape)\n",
    "print('Size:',a.size)\n",
    "print('Dimentions:',a.ndim)"
   ]
  },
  {
   "cell_type": "code",
   "execution_count": 25,
   "id": "05588f17-6a81-4320-924b-381c9017181b",
   "metadata": {},
   "outputs": [
    {
     "name": "stdout",
     "output_type": "stream",
     "text": [
      "[[ 96  50  66  74  48  27   5  85]\n",
      " [ 31  50   4  37  48  44  39  27]\n",
      " [ 55  42  62  51   4   7 100  43]]\n",
      "Shape: (3, 8)\n",
      "Size: 24\n",
      "Dimentions: 2\n"
     ]
    }
   ],
   "source": [
    "# reshaping 1-D Array to 2-D Array\n",
    "b = np.reshape(a,(3,8))\n",
    "print(b)\n",
    "print('Shape:',b.shape)\n",
    "print('Size:',b.size)\n",
    "print('Dimentions:',b.ndim)"
   ]
  },
  {
   "cell_type": "code",
   "execution_count": 26,
   "id": "224d2ae2-cf34-4c8d-8ab6-9c4d1300eea5",
   "metadata": {},
   "outputs": [
    {
     "name": "stdout",
     "output_type": "stream",
     "text": [
      "[[[ 96  50  66  74]\n",
      "  [ 48  27   5  85]\n",
      "  [ 31  50   4  37]]\n",
      "\n",
      " [[ 48  44  39  27]\n",
      "  [ 55  42  62  51]\n",
      "  [  4   7 100  43]]]\n",
      "Shape: (2, 3, 4)\n",
      "Size: 24\n",
      "Dimentions: 3\n"
     ]
    }
   ],
   "source": [
    "# reshaping 2-D Array to 3-D Array\n",
    "c = np.reshape(b,(2,3,4))\n",
    "print(c)\n",
    "print('Shape:',c.shape)\n",
    "print('Size:',c.size)\n",
    "print('Dimentions:',c.ndim)"
   ]
  },
  {
   "cell_type": "code",
   "execution_count": 28,
   "id": "001b4742-f973-44f8-a2ee-cdd6765ff1ab",
   "metadata": {},
   "outputs": [
    {
     "name": "stdout",
     "output_type": "stream",
     "text": [
      "[[[[ 96  50  66]\n",
      "   [ 74  48  27]]\n",
      "\n",
      "  [[  5  85  31]\n",
      "   [ 50   4  37]]]\n",
      "\n",
      "\n",
      " [[[ 48  44  39]\n",
      "   [ 27  55  42]]\n",
      "\n",
      "  [[ 62  51   4]\n",
      "   [  7 100  43]]]]\n",
      "Shape: (2, 2, 2, 3)\n",
      "Size 24\n",
      "Dimentions: 4\n"
     ]
    }
   ],
   "source": [
    "# reshaping 2-D Array to 4-D Array \n",
    "e = np.reshape(b,(2,2,2,3))\n",
    "print(e) \n",
    "print('Shape:',e.shape)\n",
    "print('Size',e.size)\n",
    "print('Dimentions:',e.ndim)"
   ]
  },
  {
   "cell_type": "code",
   "execution_count": 27,
   "id": "5572442c-8854-4073-ba92-c8a41db724a7",
   "metadata": {},
   "outputs": [
    {
     "name": "stdout",
     "output_type": "stream",
     "text": [
      "[[ 96  50  66  74  48  27]\n",
      " [  5  85  31  50   4  37]\n",
      " [ 48  44  39  27  55  42]\n",
      " [ 62  51   4   7 100  43]]\n",
      "Shape: (4, 6)\n",
      "Size 24\n",
      "Dimentions: 2\n"
     ]
    }
   ],
   "source": [
    "# reshaping 2-D Array to 2-D Array of Different Shape \n",
    "d = np.reshape(b,(4,6))\n",
    "print(d)\n",
    "print('Shape:',d.shape)\n",
    "print('Size',d.size)\n",
    "print('Dimentions:',d.ndim)"
   ]
  },
  {
   "cell_type": "code",
   "execution_count": 29,
   "id": "bb63991a-4aba-4363-8548-0309650656fa",
   "metadata": {},
   "outputs": [
    {
     "name": "stdout",
     "output_type": "stream",
     "text": [
      "[[ 96  50  66  74]\n",
      " [ 48  27   5  85]\n",
      " [ 31  50   4  37]\n",
      " [ 48  44  39  27]\n",
      " [ 55  42  62  51]\n",
      " [  4   7 100  43]]\n",
      "Shape: (6, 4)\n",
      "Size 24\n",
      "Dimentions: 2\n"
     ]
    }
   ],
   "source": [
    "# reshaping 2-D Array to 2-D Array of Different Shape \n",
    "d = np.reshape(b,(6,4))\n",
    "print(d)\n",
    "print('Shape:',d.shape)\n",
    "print('Size',d.size)\n",
    "print('Dimentions:',d.ndim)"
   ]
  },
  {
   "cell_type": "code",
   "execution_count": 30,
   "id": "ce960e2c-4f68-445c-9ca7-d01a0adc4b02",
   "metadata": {},
   "outputs": [
    {
     "name": "stdout",
     "output_type": "stream",
     "text": [
      "[[ 96  50  66]\n",
      " [ 74  48  27]\n",
      " [  5  85  31]\n",
      " [ 50   4  37]\n",
      " [ 48  44  39]\n",
      " [ 27  55  42]\n",
      " [ 62  51   4]\n",
      " [  7 100  43]]\n",
      "Shape: (8, 3)\n",
      "Size 24\n",
      "Dimentions: 2\n"
     ]
    }
   ],
   "source": [
    "# reshaping 2-D Array to 2-D Array of Different Shape \n",
    "d = np.reshape(b,(8,3))\n",
    "print(d)\n",
    "print('Shape:',d.shape)\n",
    "print('Size',d.size)\n",
    "print('Dimentions:',d.ndim)"
   ]
  },
  {
   "cell_type": "markdown",
   "id": "769e6351-9f2a-4527-986c-9bea5a5194dc",
   "metadata": {
    "jp-MarkdownHeadingCollapsed": true
   },
   "source": [
    "#### 1C. View of Original only\n",
    "- ***No New Object is Created***\n",
    "- ***Change in One is reflected in the other***"
   ]
  },
  {
   "cell_type": "code",
   "execution_count": 32,
   "id": "7360308d-188c-4a98-944b-d638846b8dd9",
   "metadata": {},
   "outputs": [
    {
     "name": "stdout",
     "output_type": "stream",
     "text": [
      "[7777   50   66   74   48   27    5   85   31   50    4   37   48   44\n",
      "   39   27   55   42   62   51    4    7  100   43]\n"
     ]
    }
   ],
   "source": [
    "a[0] = 7777\n",
    "print(a)"
   ]
  },
  {
   "cell_type": "code",
   "execution_count": 33,
   "id": "a5d3640f-3523-4bc2-af45-45c35c68fc3e",
   "metadata": {},
   "outputs": [
    {
     "name": "stdout",
     "output_type": "stream",
     "text": [
      "[[7777   50   66   74   48   27    5   85]\n",
      " [  31   50    4   37   48   44   39   27]\n",
      " [  55   42   62   51    4    7  100   43]]\n"
     ]
    }
   ],
   "source": [
    "print(b)"
   ]
  },
  {
   "cell_type": "code",
   "execution_count": 34,
   "id": "9648350c-3b3d-4abb-8ccc-3f0f0aeda09f",
   "metadata": {},
   "outputs": [
    {
     "name": "stdout",
     "output_type": "stream",
     "text": [
      "[[[7777   50   66   74]\n",
      "  [  48   27    5   85]\n",
      "  [  31   50    4   37]]\n",
      "\n",
      " [[  48   44   39   27]\n",
      "  [  55   42   62   51]\n",
      "  [   4    7  100   43]]]\n"
     ]
    }
   ],
   "source": [
    "print(c)"
   ]
  },
  {
   "cell_type": "code",
   "execution_count": 35,
   "id": "333fa305-ecc3-4eb9-a2d8-43876ec5c9ed",
   "metadata": {},
   "outputs": [
    {
     "name": "stdout",
     "output_type": "stream",
     "text": [
      "[[7777   50   66]\n",
      " [  74   48   27]\n",
      " [   5   85   31]\n",
      " [  50    4   37]\n",
      " [  48   44   39]\n",
      " [  27   55   42]\n",
      " [  62   51    4]\n",
      " [   7  100   43]]\n"
     ]
    }
   ],
   "source": [
    "print(d)"
   ]
  },
  {
   "cell_type": "code",
   "execution_count": 36,
   "id": "fbb334d9-4acd-4eaa-9ec4-d66d571265a5",
   "metadata": {},
   "outputs": [
    {
     "name": "stdout",
     "output_type": "stream",
     "text": [
      "[[[[7777   50   66]\n",
      "   [  74   48   27]]\n",
      "\n",
      "  [[   5   85   31]\n",
      "   [  50    4   37]]]\n",
      "\n",
      "\n",
      " [[[  48   44   39]\n",
      "   [  27   55   42]]\n",
      "\n",
      "  [[  62   51    4]\n",
      "   [   7  100   43]]]]\n"
     ]
    }
   ],
   "source": [
    "print(e)"
   ]
  },
  {
   "cell_type": "code",
   "execution_count": 38,
   "id": "63a1cbff-9673-4a6f-ae20-d4721ea839d9",
   "metadata": {},
   "outputs": [
    {
     "name": "stdout",
     "output_type": "stream",
     "text": [
      "[[7777   50   66   74   48   27    5   85]\n",
      " [  31   50    4   37   48   44   39   27]\n",
      " [9999   42   62   51    4    7  100   43]]\n"
     ]
    }
   ],
   "source": [
    "b[2][0] = 9999\n",
    "print(b)"
   ]
  },
  {
   "cell_type": "code",
   "execution_count": 39,
   "id": "26484a7a-e13d-445e-8a26-9f6a0014ace4",
   "metadata": {},
   "outputs": [
    {
     "name": "stdout",
     "output_type": "stream",
     "text": [
      "[7777   50   66   74   48   27    5   85   31   50    4   37   48   44\n",
      "   39   27 9999   42   62   51    4    7  100   43]\n"
     ]
    }
   ],
   "source": [
    "print(a)"
   ]
  },
  {
   "cell_type": "code",
   "execution_count": 40,
   "id": "8ef86f9c-b528-4c0e-b44d-ed7345f93b04",
   "metadata": {},
   "outputs": [
    {
     "name": "stdout",
     "output_type": "stream",
     "text": [
      "[[[7777   50   66   74]\n",
      "  [  48   27    5   85]\n",
      "  [  31   50    4   37]]\n",
      "\n",
      " [[  48   44   39   27]\n",
      "  [9999   42   62   51]\n",
      "  [   4    7  100   43]]]\n"
     ]
    }
   ],
   "source": [
    "print(c)"
   ]
  },
  {
   "cell_type": "code",
   "execution_count": 41,
   "id": "3fb94acd-4fe0-4283-bdce-2dbeeb93b052",
   "metadata": {},
   "outputs": [
    {
     "name": "stdout",
     "output_type": "stream",
     "text": [
      "[[7777   50   66]\n",
      " [  74   48   27]\n",
      " [   5   85   31]\n",
      " [  50    4   37]\n",
      " [  48   44   39]\n",
      " [  27 9999   42]\n",
      " [  62   51    4]\n",
      " [   7  100   43]]\n"
     ]
    }
   ],
   "source": [
    "print(d)"
   ]
  },
  {
   "cell_type": "code",
   "execution_count": 42,
   "id": "943de9ca-5242-4033-b2ea-4a0738e82991",
   "metadata": {},
   "outputs": [
    {
     "name": "stdout",
     "output_type": "stream",
     "text": [
      "[[[[7777   50   66]\n",
      "   [  74   48   27]]\n",
      "\n",
      "  [[   5   85   31]\n",
      "   [  50    4   37]]]\n",
      "\n",
      "\n",
      " [[[  48   44   39]\n",
      "   [  27 9999   42]]\n",
      "\n",
      "  [[  62   51    4]\n",
      "   [   7  100   43]]]]\n"
     ]
    }
   ],
   "source": [
    "print(e)"
   ]
  },
  {
   "cell_type": "markdown",
   "id": "75548cc9-2d13-4644-aed4-6b99d7a1c57d",
   "metadata": {
    "jp-MarkdownHeadingCollapsed": true
   },
   "source": [
    "#### 1D. Taking Unknown Dimention Size as -1\n",
    "- ***Value decided by Numpy automatically***\n",
    "- ***Allowed Only Once***"
   ]
  },
  {
   "cell_type": "code",
   "execution_count": 52,
   "id": "9e1f5f34-9198-448d-864f-5ac3c3680b0a",
   "metadata": {},
   "outputs": [
    {
     "name": "stdout",
     "output_type": "stream",
     "text": [
      "[18 32 69 13 18 97  9 22  1 48 19 83]\n",
      "Shape (12,)\n"
     ]
    }
   ],
   "source": [
    "a = np.random.randint(1,101,12)\n",
    "print(a)\n",
    "print('Shape',a.shape)"
   ]
  },
  {
   "cell_type": "code",
   "execution_count": 53,
   "id": "3f0589f3-938e-40d1-ba8c-7c632836fcc3",
   "metadata": {},
   "outputs": [
    {
     "name": "stdout",
     "output_type": "stream",
     "text": [
      "[[18 32]\n",
      " [69 13]\n",
      " [18 97]\n",
      " [ 9 22]\n",
      " [ 1 48]\n",
      " [19 83]]\n",
      "Shape (12,)\n"
     ]
    }
   ],
   "source": [
    "b = np.reshape(a,(6,-1))\n",
    "print(b)\n",
    "print('Shape',b.shape)"
   ]
  },
  {
   "cell_type": "code",
   "execution_count": 54,
   "id": "219c873a-e238-460a-ba6c-b63d4be25679",
   "metadata": {},
   "outputs": [
    {
     "name": "stdout",
     "output_type": "stream",
     "text": [
      "[[18 32 69 13]\n",
      " [18 97  9 22]\n",
      " [ 1 48 19 83]]\n",
      "Shape (3, 4)\n"
     ]
    }
   ],
   "source": [
    "b = np.reshape(a,(3,-1))\n",
    "print(b)\n",
    "print('Shape',b.shape)"
   ]
  },
  {
   "cell_type": "code",
   "execution_count": 55,
   "id": "550388aa-3652-4c5a-b41d-f689c87be903",
   "metadata": {},
   "outputs": [
    {
     "name": "stdout",
     "output_type": "stream",
     "text": [
      "[[18 32 69 13 18 97]\n",
      " [ 9 22  1 48 19 83]]\n",
      "Shape (2, 6)\n"
     ]
    }
   ],
   "source": [
    "b = np.reshape(a,(-1,6))\n",
    "print(b)\n",
    "print('Shape',b.shape)"
   ]
  },
  {
   "cell_type": "code",
   "execution_count": 56,
   "id": "545facc9-ae1e-4ad2-806b-858278257a0a",
   "metadata": {},
   "outputs": [
    {
     "name": "stdout",
     "output_type": "stream",
     "text": [
      "[[18 32 69]\n",
      " [13 18 97]\n",
      " [ 9 22  1]\n",
      " [48 19 83]]\n",
      "Shape (4, 3)\n"
     ]
    }
   ],
   "source": [
    "b = np.reshape(a,(-1,3))\n",
    "print(b)\n",
    "print('Shape',b.shape)"
   ]
  },
  {
   "cell_type": "code",
   "execution_count": 58,
   "id": "b49a1ef2-31a6-4f10-b0e1-dc0314e5a568",
   "metadata": {},
   "outputs": [
    {
     "name": "stdout",
     "output_type": "stream",
     "text": [
      "[[[18 32]\n",
      "  [69 13]\n",
      "  [18 97]]\n",
      "\n",
      " [[ 9 22]\n",
      "  [ 1 48]\n",
      "  [19 83]]]\n",
      "Shape (2, 3, 2)\n"
     ]
    }
   ],
   "source": [
    "c = np.reshape(a,(2,3,-1))\n",
    "print(c)\n",
    "print('Shape',c.shape)"
   ]
  },
  {
   "cell_type": "code",
   "execution_count": 59,
   "id": "4408c02d-9e1a-4595-b75b-55f29686a15d",
   "metadata": {},
   "outputs": [
    {
     "name": "stdout",
     "output_type": "stream",
     "text": [
      "[[[18 32 69]\n",
      "  [13 18 97]]\n",
      "\n",
      " [[ 9 22  1]\n",
      "  [48 19 83]]]\n",
      "Shape (2, 2, 3)\n"
     ]
    }
   ],
   "source": [
    "c = np.reshape(a,(2,-1,3))\n",
    "print(c)\n",
    "print('Shape',c.shape)"
   ]
  },
  {
   "cell_type": "code",
   "execution_count": 61,
   "id": "24f6281b-a9c8-469b-a447-a87eba668f28",
   "metadata": {},
   "outputs": [
    {
     "name": "stdout",
     "output_type": "stream",
     "text": [
      "[[[18 32]\n",
      "  [69 13]]\n",
      "\n",
      " [[18 97]\n",
      "  [ 9 22]]\n",
      "\n",
      " [[ 1 48]\n",
      "  [19 83]]]\n",
      "Shape (3, 2, 2)\n"
     ]
    }
   ],
   "source": [
    "c = np.reshape(a,(-1,2,2))\n",
    "print(c)\n",
    "print('Shape',c.shape)"
   ]
  },
  {
   "cell_type": "markdown",
   "id": "099b7004-ca57-4e39-b9e9-192313ffcb03",
   "metadata": {
    "jp-MarkdownHeadingCollapsed": true
   },
   "source": [
    "#### 1E. ValueError : Different Cases"
   ]
  },
  {
   "cell_type": "code",
   "execution_count": 57,
   "id": "f294250a-2295-48db-9497-3bf9ba25ef92",
   "metadata": {},
   "outputs": [],
   "source": [
    "# b = np.reshape(a,(-1,-1))\n",
    "# ValueError: can only specify one unknown dimension"
   ]
  },
  {
   "cell_type": "code",
   "execution_count": 63,
   "id": "f13f7ced-fd44-40a6-b538-e98c830d1038",
   "metadata": {},
   "outputs": [],
   "source": [
    "# c = np.reshape(a,(5,-1))\n",
    "# ValueError: cannot reshape array of size 12 into shape (5,newaxis)"
   ]
  },
  {
   "cell_type": "markdown",
   "id": "3c3222ab-7c40-455a-9697-6e1bda36fb89",
   "metadata": {
    "jp-MarkdownHeadingCollapsed": true
   },
   "source": [
    "#### 1F. order Argument (Optional)\n",
    "- order='C' (Default): C Style : Row Major Order\n",
    "- order='F' : Fortran Styly : Column Manor Order\n",
    "- order='A' : Fortran Styly "
   ]
  },
  {
   "cell_type": "code",
   "execution_count": 78,
   "id": "36d07a46-7584-4ba4-a8d4-d6487dcdb921",
   "metadata": {},
   "outputs": [
    {
     "name": "stdout",
     "output_type": "stream",
     "text": [
      "[[ 0  1  2  3]\n",
      " [ 4  5  6  7]\n",
      " [ 8  9 10 11]]\n"
     ]
    }
   ],
   "source": [
    "# Example 1 \n",
    "a = np.arange(12).reshape(3,4)\n",
    "print(a)"
   ]
  },
  {
   "cell_type": "code",
   "execution_count": 80,
   "id": "32669195-cac1-4948-ad3b-177523725426",
   "metadata": {},
   "outputs": [
    {
     "name": "stdout",
     "output_type": "stream",
     "text": [
      "[ 0  1  2  3  4  5  6  7  8  9 10 11]\n",
      "[ 0  1  2  3  4  5  6  7  8  9 10 11]\n"
     ]
    }
   ],
   "source": [
    "# order='C'\n",
    "b = np.reshape(a,(12,),'C')\n",
    "print(b)\n",
    "b = np.reshape(a,(12,))\n",
    "print(b)"
   ]
  },
  {
   "cell_type": "code",
   "execution_count": 81,
   "id": "c11f975f-7bbd-4a38-938e-f745e7da310b",
   "metadata": {},
   "outputs": [
    {
     "name": "stdout",
     "output_type": "stream",
     "text": [
      "[ 0  4  8  1  5  9  2  6 10  3  7 11]\n"
     ]
    }
   ],
   "source": [
    "# order='F'\n",
    "c = np.reshape(a,(12,),'F')\n",
    "print(c)"
   ]
  },
  {
   "cell_type": "code",
   "execution_count": 75,
   "id": "a4cb26ca-cc3d-4347-bdc4-8261694b0ce1",
   "metadata": {},
   "outputs": [
    {
     "name": "stdout",
     "output_type": "stream",
     "text": [
      "[ 0  1  2  3  4  5  6  7  8  9 10 11 12 13 14 15 16 17 18 19 20 21 22 23]\n"
     ]
    }
   ],
   "source": [
    "# Example 2\n",
    "a = np.arange(24)\n",
    "print(a)"
   ]
  },
  {
   "cell_type": "code",
   "execution_count": 76,
   "id": "80ec0405-aeed-476d-8478-b7ff811841f3",
   "metadata": {},
   "outputs": [
    {
     "name": "stdout",
     "output_type": "stream",
     "text": [
      "[[ 0  1  2  3]\n",
      " [ 4  5  6  7]\n",
      " [ 8  9 10 11]\n",
      " [12 13 14 15]\n",
      " [16 17 18 19]\n",
      " [20 21 22 23]]\n"
     ]
    }
   ],
   "source": [
    "b = np.reshape(a,(6,4))\n",
    "print(b)"
   ]
  },
  {
   "cell_type": "code",
   "execution_count": 77,
   "id": "39e87a96-233d-4980-ab17-3782b909ca23",
   "metadata": {},
   "outputs": [
    {
     "name": "stdout",
     "output_type": "stream",
     "text": [
      "[[ 0  6 12 18]\n",
      " [ 1  7 13 19]\n",
      " [ 2  8 14 20]\n",
      " [ 3  9 15 21]\n",
      " [ 4 10 16 22]\n",
      " [ 5 11 17 23]]\n"
     ]
    }
   ],
   "source": [
    "c = np.reshape(a,(6,4),'F')\n",
    "print(c)"
   ]
  },
  {
   "cell_type": "markdown",
   "id": "e056768b-a58e-4c7f-af76-21286cd13b70",
   "metadata": {
    "jp-MarkdownHeadingCollapsed": true
   },
   "source": [
    "## 2. resize()\n",
    "- Input Size and Output Size need not match\n",
    "- The Data may change\n",
    "- We will get **Copy** , not view\n",
    "- **np.resize()** : repeats elements of input array\n",
    "- **array.resize()** : uses **zero** for **extra elements**, **Inline Modification**\n",
    "- Taking Unknown Dimention Size as -1 is **not applicable**"
   ]
  },
  {
   "cell_type": "code",
   "execution_count": 100,
   "id": "d7793961-e579-4dbd-adba-f299408e1b95",
   "metadata": {},
   "outputs": [],
   "source": [
    "# help(np.resize) "
   ]
  },
  {
   "cell_type": "code",
   "execution_count": 83,
   "id": "07e725ba-0b28-4d21-b818-ef68b2ef6038",
   "metadata": {},
   "outputs": [
    {
     "name": "stdout",
     "output_type": "stream",
     "text": [
      "[1 2 3 4 5]\n"
     ]
    }
   ],
   "source": [
    "a = np.arange(1,6)\n",
    "print(a)"
   ]
  },
  {
   "cell_type": "code",
   "execution_count": 85,
   "id": "59eb973f-e028-4560-8ae3-b25eca4ba498",
   "metadata": {},
   "outputs": [
    {
     "name": "stdout",
     "output_type": "stream",
     "text": [
      "[[1 2 3]\n",
      " [4 5 1]]\n"
     ]
    }
   ],
   "source": [
    "b = np.resize(a,(2,3))\n",
    "print(b)"
   ]
  },
  {
   "cell_type": "markdown",
   "id": "4be41026-9a61-4b7d-b7c7-3912c9b49163",
   "metadata": {
    "jp-MarkdownHeadingCollapsed": true
   },
   "source": [
    "#### 2A. np.resize()\n",
    "**repeats elements of input array**"
   ]
  },
  {
   "cell_type": "code",
   "execution_count": 86,
   "id": "19ccb07c-a7bf-489f-9d7a-d6be258d95ba",
   "metadata": {},
   "outputs": [
    {
     "name": "stdout",
     "output_type": "stream",
     "text": [
      "[[1 2 3]\n",
      " [4 5 1]\n",
      " [2 3 4]\n",
      " [5 1 2]]\n"
     ]
    }
   ],
   "source": [
    "b = np.resize(a,(4,3))\n",
    "print(b)"
   ]
  },
  {
   "cell_type": "markdown",
   "id": "72ef44f9-b086-4117-b964-f64c9d13a57e",
   "metadata": {
    "jp-MarkdownHeadingCollapsed": true
   },
   "source": [
    "#### 2B. Copy but not View\n",
    "- **change in one does not affect the other**"
   ]
  },
  {
   "cell_type": "code",
   "execution_count": 89,
   "id": "39dc9f26-38df-46e0-a3b9-d32dec9147bc",
   "metadata": {},
   "outputs": [
    {
     "name": "stdout",
     "output_type": "stream",
     "text": [
      "[7777    2    3    4    5]\n"
     ]
    }
   ],
   "source": [
    "a[0] = 7777\n",
    "print(a)"
   ]
  },
  {
   "cell_type": "code",
   "execution_count": 90,
   "id": "f04e1cd4-e1bd-4005-a041-16bdcea7b13b",
   "metadata": {},
   "outputs": [
    {
     "name": "stdout",
     "output_type": "stream",
     "text": [
      "[[1 2 3]\n",
      " [4 5 1]\n",
      " [2 3 4]\n",
      " [5 1 2]]\n"
     ]
    }
   ],
   "source": [
    "print(b)"
   ]
  },
  {
   "cell_type": "markdown",
   "id": "a1f08468-5acd-4611-8138-1881b533dbe3",
   "metadata": {
    "jp-MarkdownHeadingCollapsed": true
   },
   "source": [
    "#### 2C. Taking Unknown Dimention Size as -1 \n",
    "***not applicable***"
   ]
  },
  {
   "cell_type": "code",
   "execution_count": 93,
   "id": "9c6e821c-6132-4f80-ae0e-f07a901c2649",
   "metadata": {},
   "outputs": [],
   "source": [
    "# b = np.resize(a,(5,-1))\n",
    "# ValueError: all elements of `new_shape` must be non-negative"
   ]
  },
  {
   "cell_type": "markdown",
   "id": "8a5a6e91-e10f-499b-9d49-a63e2d2e960c",
   "metadata": {
    "jp-MarkdownHeadingCollapsed": true
   },
   "source": [
    "#### 2D. ndarray.resize()\n",
    "- uses **zero** for extra elements\n",
    "- **Inline Modification**"
   ]
  },
  {
   "cell_type": "code",
   "execution_count": 94,
   "id": "589c0584-33b7-4b45-b82b-ce541d565329",
   "metadata": {},
   "outputs": [
    {
     "ename": "ValueError",
     "evalue": "cannot resize an array that references or is referenced\nby another array in this way.\nUse the np.resize function or refcheck=False",
     "output_type": "error",
     "traceback": [
      "\u001b[0;31m---------------------------------------------------------------------------\u001b[0m",
      "\u001b[0;31mValueError\u001b[0m                                Traceback (most recent call last)",
      "Cell \u001b[0;32mIn[94], line 1\u001b[0m\n\u001b[0;32m----> 1\u001b[0m b \u001b[38;5;241m=\u001b[39m a\u001b[38;5;241m.\u001b[39mresize(\u001b[38;5;241m5\u001b[39m,\u001b[38;5;241m3\u001b[39m)\n",
      "\u001b[0;31mValueError\u001b[0m: cannot resize an array that references or is referenced\nby another array in this way.\nUse the np.resize function or refcheck=False"
     ]
    }
   ],
   "source": [
    "b = a.resize(5,3)"
   ]
  },
  {
   "cell_type": "code",
   "execution_count": 98,
   "id": "9da0742b-2a7a-4e59-973c-d9b6c74170ce",
   "metadata": {},
   "outputs": [
    {
     "name": "stdout",
     "output_type": "stream",
     "text": [
      "[1 2 3 4 5]\n",
      "[[1 2 3]\n",
      " [4 5 0]\n",
      " [0 0 0]\n",
      " [0 0 0]\n",
      " [0 0 0]]\n",
      "None\n"
     ]
    }
   ],
   "source": [
    "a = np.arange(1,6)\n",
    "print(a)\n",
    "b = a.resize(5,3)\n",
    "print(a)\n",
    "# inline modification check \n",
    "print(b)"
   ]
  },
  {
   "cell_type": "markdown",
   "id": "0ff0e545-cc59-4cb0-b34e-a98e5b54474d",
   "metadata": {
    "jp-MarkdownHeadingCollapsed": true
   },
   "source": [
    "#### 2E. numpy.resize() vs. ndarray.resize()"
   ]
  },
  {
   "cell_type": "code",
   "execution_count": 2,
   "id": "4afb9e9b-0f9c-4750-872a-a5e6d0becd4c",
   "metadata": {},
   "outputs": [
    {
     "name": "stdout",
     "output_type": "stream",
     "text": [
      "[[90 69 10 27]\n",
      " [63 60 77 55]\n",
      " [53 95 60 60]]\n"
     ]
    }
   ],
   "source": [
    "# numpy.resize() --> returns new ndarray \n",
    "a = np.random.randint(1,101,(3,4))\n",
    "print(a)"
   ]
  },
  {
   "cell_type": "code",
   "execution_count": 4,
   "id": "3942bc53-1372-410c-8c33-bbd47b1f8ceb",
   "metadata": {},
   "outputs": [
    {
     "name": "stdout",
     "output_type": "stream",
     "text": [
      "[[[90 69 10 27]\n",
      "  [63 60 77 55]\n",
      "  [53 95 60 60]]\n",
      "\n",
      " [[90 69 10 27]\n",
      "  [63 60 77 55]\n",
      "  [53 95 60 60]]]\n"
     ]
    }
   ],
   "source": [
    "b = np.resize(a,(2,3,4)) \n",
    "print(b)"
   ]
  },
  {
   "cell_type": "code",
   "execution_count": 10,
   "id": "30496739-5c1d-45aa-a4f9-706fa5d08555",
   "metadata": {},
   "outputs": [
    {
     "name": "stdout",
     "output_type": "stream",
     "text": [
      "[[51 49 68 14]\n",
      " [97 42 97 68]\n",
      " [45 28 86 98]]\n",
      "None\n"
     ]
    }
   ],
   "source": [
    "# ndarray.resize() --> inline modification \n",
    "a = np.random.randint(1,101,(3,4))\n",
    "print(a)\n",
    "b = a.resize(2,3,4) \n",
    "print(b)"
   ]
  },
  {
   "cell_type": "code",
   "execution_count": 11,
   "id": "bf4942d9-9d8b-4330-9d80-2e040461e5e5",
   "metadata": {},
   "outputs": [
    {
     "name": "stdout",
     "output_type": "stream",
     "text": [
      "[[[51 49 68 14]\n",
      "  [97 42 97 68]\n",
      "  [45 28 86 98]]\n",
      "\n",
      " [[ 0  0  0  0]\n",
      "  [ 0  0  0  0]\n",
      "  [ 0  0  0  0]]]\n"
     ]
    }
   ],
   "source": [
    "print(a) "
   ]
  },
  {
   "cell_type": "markdown",
   "id": "1e019cfb-2f38-46c2-bef5-227eb77bb518",
   "metadata": {
    "jp-MarkdownHeadingCollapsed": true
   },
   "source": [
    "## reshape() vs. resize()\n",
    "***VVI for Interviews***\n",
    "\n",
    "***refer class notes***\n",
    "\n",
    "***LinkedIn Post :***\n",
    "  https://www.linkedin.com/feed/update/urn:li:activity:7176761178570858498/"
   ]
  },
  {
   "cell_type": "markdown",
   "id": "e6f9b6ed-8e2e-409d-b342-fb01125c1b8d",
   "metadata": {
    "jp-MarkdownHeadingCollapsed": true
   },
   "source": [
    "## 3. flatten() "
   ]
  },
  {
   "cell_type": "markdown",
   "id": "97eb7196-6197-4e0d-86ee-51e7f3b4883e",
   "metadata": {},
   "source": [
    "#### -> method of ndarray class and not a function of numpy library"
   ]
  },
  {
   "cell_type": "code",
   "execution_count": 25,
   "id": "dc82c67e-f899-4b82-9867-13f86a82b1f3",
   "metadata": {},
   "outputs": [
    {
     "name": "stdout",
     "output_type": "stream",
     "text": [
      "[[ 8 35 76  8 37]\n",
      " [72 81 58 48 53]]\n"
     ]
    }
   ],
   "source": [
    "# 2-D -> 1-D\n",
    "a = np.random.randint(1,101,(2,5))\n",
    "print(a)"
   ]
  },
  {
   "cell_type": "code",
   "execution_count": 26,
   "id": "269d56f1-4f2a-4074-a86c-4a1579865440",
   "metadata": {},
   "outputs": [],
   "source": [
    "# b = np.flatten(a) \n",
    "# AttributeError: module 'numpy' has no attribute 'flatten' "
   ]
  },
  {
   "cell_type": "code",
   "execution_count": 27,
   "id": "cd9e03b1-ad2e-4624-ac0e-da8dc34e87fa",
   "metadata": {},
   "outputs": [
    {
     "data": {
      "text/plain": [
       "\"\\nflatten(...)\\n    a.flatten(order='C')\\n    \\n    Return a copy of the array collapsed into one dimension.\\n\""
      ]
     },
     "execution_count": 27,
     "metadata": {},
     "output_type": "execute_result"
    }
   ],
   "source": [
    "# help(np.ndarray.flatten) \n",
    "'''\n",
    "flatten(...)\n",
    "    a.flatten(order='C')\n",
    "    \n",
    "    Return a copy of the array collapsed into one dimension.\n",
    "'''"
   ]
  },
  {
   "cell_type": "code",
   "execution_count": 28,
   "id": "23e3b9a0-433d-4e33-b50f-7be78eff4622",
   "metadata": {},
   "outputs": [
    {
     "name": "stdout",
     "output_type": "stream",
     "text": [
      "[[33 75 66 71 92]\n",
      " [33 73  7 92 59]]\n"
     ]
    }
   ],
   "source": [
    "a = np.random.randint(1,101,(2,5))\n",
    "print(a)"
   ]
  },
  {
   "cell_type": "code",
   "execution_count": 29,
   "id": "5ace951d-9d05-490e-afac-4e67235e368f",
   "metadata": {},
   "outputs": [
    {
     "name": "stdout",
     "output_type": "stream",
     "text": [
      "[33 75 66 71 92 33 73  7 92 59]\n"
     ]
    }
   ],
   "source": [
    "b = a.flatten()\n",
    "print(b)"
   ]
  },
  {
   "cell_type": "code",
   "execution_count": 43,
   "id": "5f6cbe4f-97b4-48c0-9b97-73d6b4c009ec",
   "metadata": {},
   "outputs": [
    {
     "name": "stdout",
     "output_type": "stream",
     "text": [
      "[[[88 43 23 82]\n",
      "  [32 46 60 73]\n",
      "  [94 18 90  4]]\n",
      "\n",
      " [[28 69 20 42]\n",
      "  [48 22 28 16]\n",
      "  [54 57  5 29]]]\n"
     ]
    }
   ],
   "source": [
    "a = np.random.randint(1,101,(2,3,4))\n",
    "print(a)"
   ]
  },
  {
   "cell_type": "code",
   "execution_count": 44,
   "id": "8c1c941b-8e61-444c-a9c5-31f6f2091db5",
   "metadata": {},
   "outputs": [
    {
     "name": "stdout",
     "output_type": "stream",
     "text": [
      "[88 43 23 82 32 46 60 73 94 18 90  4 28 69 20 42 48 22 28 16 54 57  5 29]\n"
     ]
    }
   ],
   "source": [
    "b = a.flatten()\n",
    "print(b)"
   ]
  },
  {
   "cell_type": "code",
   "execution_count": 45,
   "id": "524488c3-faa7-4e8b-a369-392e713c13b1",
   "metadata": {},
   "outputs": [
    {
     "name": "stdout",
     "output_type": "stream",
     "text": [
      "[88 28 32 48 94 54 43 69 46 22 18 57 23 20 60 28 90  5 82 42 73 16  4 29]\n"
     ]
    }
   ],
   "source": [
    "c = a.flatten(order='F')\n",
    "print(c)"
   ]
  },
  {
   "cell_type": "markdown",
   "id": "edbfcfbd-8b91-45c2-94d5-0e0176fa44b4",
   "metadata": {
    "jp-MarkdownHeadingCollapsed": true
   },
   "source": [
    "#### -> separate copy but not view"
   ]
  },
  {
   "cell_type": "code",
   "execution_count": 46,
   "id": "8ae115a0-e2cb-4c9c-b753-eaf0774622c3",
   "metadata": {},
   "outputs": [
    {
     "name": "stdout",
     "output_type": "stream",
     "text": [
      "[[[7777   43   23   82]\n",
      "  [  32   46   60   73]\n",
      "  [  94   18   90    4]]\n",
      "\n",
      " [[  28   69   20   42]\n",
      "  [  48   22   28   16]\n",
      "  [  54   57    5   29]]]\n"
     ]
    }
   ],
   "source": [
    "a[0][0][0] = 7777\n",
    "print(a)"
   ]
  },
  {
   "cell_type": "code",
   "execution_count": 47,
   "id": "19de4a5c-3ab3-445c-84f0-acbd467b87d8",
   "metadata": {},
   "outputs": [
    {
     "name": "stdout",
     "output_type": "stream",
     "text": [
      "[88 43 23 82 32 46 60 73 94 18 90  4 28 69 20 42 48 22 28 16 54 57  5 29]\n"
     ]
    }
   ],
   "source": [
    "print(b)"
   ]
  },
  {
   "cell_type": "code",
   "execution_count": 48,
   "id": "f10855e7-c4f4-4838-a5b6-a8f9b324e9f1",
   "metadata": {},
   "outputs": [
    {
     "name": "stdout",
     "output_type": "stream",
     "text": [
      "[88 28 32 48 94 54 43 69 46 22 18 57 23 20 60 28 90  5 82 42 73 16  4 29]\n"
     ]
    }
   ],
   "source": [
    "print(c)"
   ]
  },
  {
   "cell_type": "markdown",
   "id": "703389b6-9fe2-4366-8487-bb0a2bc6c956",
   "metadata": {
    "jp-MarkdownHeadingCollapsed": true
   },
   "source": [
    "#### -> order"
   ]
  },
  {
   "cell_type": "code",
   "execution_count": 52,
   "id": "cdd98fa3-0f9a-48e8-acd9-d04c0a7886c9",
   "metadata": {},
   "outputs": [
    {
     "name": "stdout",
     "output_type": "stream",
     "text": [
      "Reshape: 3\n",
      "[[[ 1  2]\n",
      "  [ 3  4]\n",
      "  [ 5  6]]\n",
      "\n",
      " [[ 7  8]\n",
      "  [ 9 10]\n",
      "  [11 12]]\n",
      "\n",
      " [[13 14]\n",
      "  [15 16]\n",
      "  [17 18]]]\n"
     ]
    }
   ],
   "source": [
    "a = np.arange(1,19).reshape(3,3,2)\n",
    "print('Dimentions:',a.ndim)\n",
    "print(a)"
   ]
  },
  {
   "cell_type": "code",
   "execution_count": 53,
   "id": "1e4a9c3b-c81c-48ed-9447-d1c8db97913e",
   "metadata": {},
   "outputs": [
    {
     "name": "stdout",
     "output_type": "stream",
     "text": [
      "Dimentions: 1\n",
      "[ 1  2  3  4  5  6  7  8  9 10 11 12 13 14 15 16 17 18]\n"
     ]
    }
   ],
   "source": [
    "b = a.flatten()\n",
    "print('Dimentions:',b.ndim)\n",
    "print(b)"
   ]
  },
  {
   "cell_type": "markdown",
   "id": "dd33ed63-aee4-4729-9b49-d512c926976c",
   "metadata": {
    "jp-MarkdownHeadingCollapsed": true
   },
   "source": [
    "#### -> flat variable"
   ]
  },
  {
   "cell_type": "code",
   "execution_count": 2,
   "id": "0a195326-7a54-4827-8104-bf45f582feaf",
   "metadata": {},
   "outputs": [
    {
     "name": "stdout",
     "output_type": "stream",
     "text": [
      "[[[69 69 31 76]\n",
      "  [40 55 21 85]\n",
      "  [ 4 29  6 67]]\n",
      "\n",
      " [[75 84 48  7]\n",
      "  [ 6 17 73 74]\n",
      "  [12 88 73 35]]]\n"
     ]
    }
   ],
   "source": [
    "a = np.random.randint(1,101,(2,3,4))\n",
    "print(a)"
   ]
  },
  {
   "cell_type": "code",
   "execution_count": 3,
   "id": "5825adb5-2ea6-4f2f-8c42-a3dbe027d557",
   "metadata": {},
   "outputs": [
    {
     "data": {
      "text/plain": [
       "<numpy.flatiter at 0x303bcc0>"
      ]
     },
     "execution_count": 3,
     "metadata": {},
     "output_type": "execute_result"
    }
   ],
   "source": [
    "a.flat"
   ]
  },
  {
   "cell_type": "code",
   "execution_count": 4,
   "id": "eb1399eb-428e-4ebd-a036-8f6660f53bf9",
   "metadata": {},
   "outputs": [
    {
     "data": {
      "text/plain": [
       "31"
      ]
     },
     "execution_count": 4,
     "metadata": {},
     "output_type": "execute_result"
    }
   ],
   "source": [
    "a.flat[2]"
   ]
  },
  {
   "cell_type": "code",
   "execution_count": 6,
   "id": "3b5994a2-7f98-485d-8ff0-5e8e3b90165b",
   "metadata": {},
   "outputs": [
    {
     "data": {
      "text/plain": [
       "6"
      ]
     },
     "execution_count": 6,
     "metadata": {},
     "output_type": "execute_result"
    }
   ],
   "source": [
    "a.flat[10]"
   ]
  },
  {
   "cell_type": "code",
   "execution_count": 10,
   "id": "5608aa24-330a-4ef2-8a43-e78b4e38ed72",
   "metadata": {},
   "outputs": [
    {
     "name": "stdout",
     "output_type": "stream",
     "text": [
      "69 69 31 76 40 55 21 85 4 29 6 67 75 84 48 7 6 17 73 74 12 88 73 35 "
     ]
    }
   ],
   "source": [
    "for x in a.flat:print(x,end=' ')"
   ]
  },
  {
   "cell_type": "code",
   "execution_count": 11,
   "id": "3c1ced1e-4e4b-4f0f-a833-35e32f3727a2",
   "metadata": {},
   "outputs": [
    {
     "data": {
      "text/plain": [
       "'\\nHelp on class flatiter in module numpy:\\n\\nclass flatiter(builtins.object)\\n |  Flat iterator object to iterate over arrays.\\n'"
      ]
     },
     "execution_count": 11,
     "metadata": {},
     "output_type": "execute_result"
    }
   ],
   "source": [
    "# help(np.flatiter) \n",
    "'''\n",
    "Help on class flatiter in module numpy:\n",
    "\n",
    "class flatiter(builtins.object)\n",
    " |  Flat iterator object to iterate over arrays.\n",
    "'''"
   ]
  },
  {
   "cell_type": "markdown",
   "id": "f6c63bb6-4341-423c-8620-bd14cd3e264d",
   "metadata": {
    "jp-MarkdownHeadingCollapsed": true
   },
   "source": [
    "## 4. ravel()"
   ]
  },
  {
   "cell_type": "code",
   "execution_count": 15,
   "id": "dca12b14-cd9e-4220-8b29-bb67bc9d3abd",
   "metadata": {},
   "outputs": [
    {
     "data": {
      "text/plain": [
       "\"\\nHelp on _ArrayFunctionDispatcher in module numpy:\\n\\nravel(a, order='C')\\n    Return a contiguous flattened array.\\n\""
      ]
     },
     "execution_count": 15,
     "metadata": {},
     "output_type": "execute_result"
    }
   ],
   "source": [
    "# help(np.ravel) \n",
    "'''\n",
    "Help on _ArrayFunctionDispatcher in module numpy:\n",
    "\n",
    "ravel(a, order='C')\n",
    "    Return a contiguous flattened array.\n",
    "'''"
   ]
  },
  {
   "cell_type": "code",
   "execution_count": 13,
   "id": "85a8a711-ed84-4d96-b4e3-6947248f00a0",
   "metadata": {},
   "outputs": [
    {
     "name": "stdout",
     "output_type": "stream",
     "text": [
      "[[[99 86 16]\n",
      "  [ 2 28 92]]\n",
      "\n",
      " [[64 21 81]\n",
      "  [50 83 51]]\n",
      "\n",
      " [[ 2 82  6]\n",
      "  [29 21 37]]]\n"
     ]
    }
   ],
   "source": [
    "a = np.random.randint(1,101,(3,2,3))\n",
    "print(a)"
   ]
  },
  {
   "cell_type": "markdown",
   "id": "ee7598ac-0a74-4328-9444-b13fcb7fcbd1",
   "metadata": {
    "jp-MarkdownHeadingCollapsed": true
   },
   "source": [
    "#### -> ndarray class method"
   ]
  },
  {
   "cell_type": "code",
   "execution_count": 16,
   "id": "622f6300-3cfa-497f-a5e3-66fe2521a586",
   "metadata": {},
   "outputs": [
    {
     "name": "stdout",
     "output_type": "stream",
     "text": [
      "[99 86 16  2 28 92 64 21 81 50 83 51  2 82  6 29 21 37]\n"
     ]
    }
   ],
   "source": [
    "b = a.ravel()\n",
    "print(b)"
   ]
  },
  {
   "cell_type": "markdown",
   "id": "730e8648-6ea6-448a-9b41-0a435b8c2529",
   "metadata": {
    "jp-MarkdownHeadingCollapsed": true
   },
   "source": [
    "#### -> numpy library function"
   ]
  },
  {
   "cell_type": "code",
   "execution_count": 18,
   "id": "e29cc807-76e3-4564-b5b0-ecff2c7422f8",
   "metadata": {},
   "outputs": [
    {
     "name": "stdout",
     "output_type": "stream",
     "text": [
      "[99 86 16  2 28 92 64 21 81 50 83 51  2 82  6 29 21 37]\n"
     ]
    }
   ],
   "source": [
    "c = np.ravel(a)\n",
    "print(c)"
   ]
  },
  {
   "cell_type": "markdown",
   "id": "2d566be0-37ef-40cd-9415-0e47a4d82f1d",
   "metadata": {
    "jp-MarkdownHeadingCollapsed": true
   },
   "source": [
    "#### returns view but not copy "
   ]
  },
  {
   "cell_type": "code",
   "execution_count": 19,
   "id": "e7976eda-b464-40f8-b5fd-858d1ad245dd",
   "metadata": {},
   "outputs": [
    {
     "name": "stdout",
     "output_type": "stream",
     "text": [
      "[7777   86   16    2   28   92   64   21   81   50   83   51    2   82\n",
      "    6   29   21   37]\n"
     ]
    }
   ],
   "source": [
    "b[0] = 7777\n",
    "print(b)"
   ]
  },
  {
   "cell_type": "code",
   "execution_count": 20,
   "id": "c36194eb-858d-4b48-908a-f6cc133a38cb",
   "metadata": {},
   "outputs": [
    {
     "name": "stdout",
     "output_type": "stream",
     "text": [
      "[7777   86   16    2   28   92   64   21   81   50   83   51    2   82\n",
      "    6   29   21   37]\n"
     ]
    }
   ],
   "source": [
    "print(c)"
   ]
  },
  {
   "cell_type": "code",
   "execution_count": 21,
   "id": "870172ee-0a78-4331-a441-03bf29ba74e0",
   "metadata": {},
   "outputs": [
    {
     "name": "stdout",
     "output_type": "stream",
     "text": [
      "[[[7777   86   16]\n",
      "  [   2   28   92]]\n",
      "\n",
      " [[  64   21   81]\n",
      "  [  50   83   51]]\n",
      "\n",
      " [[   2   82    6]\n",
      "  [  29   21   37]]]\n"
     ]
    }
   ],
   "source": [
    "print(a)"
   ]
  },
  {
   "cell_type": "markdown",
   "id": "cf96dd87-05a8-4dff-ac9b-9e1eb4daf03b",
   "metadata": {},
   "source": [
    "## 5. transpose()\n",
    "- not usefull for 1-D arrays"
   ]
  },
  {
   "cell_type": "markdown",
   "id": "ffdd786d-611e-4820-976d-289488906b01",
   "metadata": {
    "jp-MarkdownHeadingCollapsed": true
   },
   "source": [
    "### numpy.transpose() -> numpy library function"
   ]
  },
  {
   "cell_type": "code",
   "execution_count": 28,
   "id": "2dd2b6bc-03c1-4676-97fd-a7cbac220714",
   "metadata": {},
   "outputs": [
    {
     "data": {
      "text/plain": [
       "'\\ntranspose(a, axes=None)\\n    Returns an array with axes transposed.\\n'"
      ]
     },
     "execution_count": 28,
     "metadata": {},
     "output_type": "execute_result"
    }
   ],
   "source": [
    "# help(np.transpose) \n",
    "'''\n",
    "transpose(a, axes=None)\n",
    "    Returns an array with axes transposed.\n",
    "'''"
   ]
  },
  {
   "cell_type": "markdown",
   "id": "f0027e67-c1fc-48de-93ce-bfae486694e8",
   "metadata": {},
   "source": [
    "#### -> 2-D ndarray"
   ]
  },
  {
   "cell_type": "markdown",
   "id": "d2b74a3a-d2ee-44d6-8fbb-2ed73e1f8703",
   "metadata": {},
   "source": [
    "#### -> interchanges rows and columns"
   ]
  },
  {
   "cell_type": "code",
   "execution_count": 26,
   "id": "008888f5-62a1-43be-9849-82ada52d2d1f",
   "metadata": {},
   "outputs": [
    {
     "name": "stdout",
     "output_type": "stream",
     "text": [
      "[[90 73 65 82]\n",
      " [69 82 66  4]\n",
      " [65 64 32 86]]\n",
      "dimentions: 2\n",
      "shape: (3, 4)\n"
     ]
    }
   ],
   "source": [
    "a = np.random.randint(1,101,(3,4))\n",
    "print(a)\n",
    "print('dimentions:',a.ndim)\n",
    "print('shape:',a.shape)"
   ]
  },
  {
   "cell_type": "code",
   "execution_count": 27,
   "id": "acb53fe7-4eee-4d52-9b33-9db30e4bf301",
   "metadata": {},
   "outputs": [
    {
     "name": "stdout",
     "output_type": "stream",
     "text": [
      "[[90 69 65]\n",
      " [73 82 64]\n",
      " [65 66 32]\n",
      " [82  4 86]]\n",
      "dimentions: 2\n",
      "shape: (4, 3)\n"
     ]
    }
   ],
   "source": [
    "b = np.transpose(a)\n",
    "print(b)\n",
    "print('dimentions:',b.ndim)\n",
    "print('shape:',b.shape)"
   ]
  },
  {
   "cell_type": "markdown",
   "id": "1a6f4e98-cbbd-4980-a084-8108d8ead173",
   "metadata": {},
   "source": [
    "#### -> returns view but not copy"
   ]
  },
  {
   "cell_type": "code",
   "execution_count": 29,
   "id": "e3375283-4324-44e7-bd9b-85df97928a06",
   "metadata": {},
   "outputs": [
    {
     "name": "stdout",
     "output_type": "stream",
     "text": [
      "[[7777   69   65]\n",
      " [  73   82   64]\n",
      " [  65   66   32]\n",
      " [  82    4   86]]\n"
     ]
    }
   ],
   "source": [
    "b[0][0] = 7777\n",
    "print(b)"
   ]
  },
  {
   "cell_type": "code",
   "execution_count": 30,
   "id": "f948277d-a36d-437f-b906-9dbb2b25fe0d",
   "metadata": {},
   "outputs": [
    {
     "name": "stdout",
     "output_type": "stream",
     "text": [
      "[[7777   73   65   82]\n",
      " [  69   82   66    4]\n",
      " [  65   64   32   86]]\n"
     ]
    }
   ],
   "source": [
    "print(a)"
   ]
  },
  {
   "cell_type": "markdown",
   "id": "2dbb6c95-48dc-46bc-9d20-46d68b708ccb",
   "metadata": {},
   "source": [
    "#### -> 3-D ndarray"
   ]
  },
  {
   "cell_type": "code",
   "execution_count": 6,
   "id": "5083615f-208f-4969-87ec-f123df4219b8",
   "metadata": {},
   "outputs": [
    {
     "name": "stdout",
     "output_type": "stream",
     "text": [
      "[[[60 46 83 27]\n",
      "  [ 3 96 38 58]\n",
      "  [39 65 52 24]]\n",
      "\n",
      " [[21  7 19 59]\n",
      "  [77 84 40 33]\n",
      "  [59 41 30 95]]]\n",
      "dimentions: 3\n",
      "shape: (2, 3, 4)\n",
      "size: 24\n"
     ]
    }
   ],
   "source": [
    "a = np.random.randint(1,101,(2,3,4))\n",
    "print(a)\n",
    "print('dimentions:',a.ndim)\n",
    "print('shape:',a.shape)\n",
    "print('size:',a.size)"
   ]
  },
  {
   "cell_type": "code",
   "execution_count": 7,
   "id": "000119f3-b9df-4f63-b1e9-cb482f028be6",
   "metadata": {},
   "outputs": [
    {
     "name": "stdout",
     "output_type": "stream",
     "text": [
      "[[[60 21]\n",
      "  [ 3 77]\n",
      "  [39 59]]\n",
      "\n",
      " [[46  7]\n",
      "  [96 84]\n",
      "  [65 41]]\n",
      "\n",
      " [[83 19]\n",
      "  [38 40]\n",
      "  [52 30]]\n",
      "\n",
      " [[27 59]\n",
      "  [58 33]\n",
      "  [24 95]]]\n",
      "dimentions: 3\n",
      "shape: (4, 3, 2)\n",
      "size: 24\n"
     ]
    }
   ],
   "source": [
    "b = np.transpose(a)\n",
    "print(b)\n",
    "print('dimentions:',b.ndim)\n",
    "print('shape:',b.shape)\n",
    "print('size:',b.size)"
   ]
  },
  {
   "cell_type": "markdown",
   "id": "01a2fc93-1d8f-4a14-a3f5-acb0e0238af6",
   "metadata": {},
   "source": [
    "#### -> axes parameter\n",
    "- not usefull for 2-D arrays"
   ]
  },
  {
   "cell_type": "code",
   "execution_count": 12,
   "id": "74c553f4-e348-4324-b9fd-fff6523bd4b1",
   "metadata": {},
   "outputs": [
    {
     "name": "stdout",
     "output_type": "stream",
     "text": [
      "[[[53 40 55 82]\n",
      "  [70  3 92 47]\n",
      "  [ 9 74 47 71]]\n",
      "\n",
      " [[28 35 81 90]\n",
      "  [51 31 98 69]\n",
      "  [80 34 16  4]]]\n",
      "dimentions: 3\n",
      "shape: (2, 3, 4)\n",
      "size: 24\n"
     ]
    }
   ],
   "source": [
    "a = np.random.randint(1,101,(2,3,4))\n",
    "print(a)\n",
    "print('dimentions:',a.ndim)\n",
    "print('shape:',a.shape)\n",
    "print('size:',a.size)"
   ]
  },
  {
   "cell_type": "code",
   "execution_count": 16,
   "id": "63062f13-ba35-48f1-8ff6-e186a8e4ca4f",
   "metadata": {},
   "outputs": [
    {
     "name": "stdout",
     "output_type": "stream",
     "text": [
      "[[[53 70  9]\n",
      "  [40  3 74]\n",
      "  [55 92 47]\n",
      "  [82 47 71]]\n",
      "\n",
      " [[28 51 80]\n",
      "  [35 31 34]\n",
      "  [81 98 16]\n",
      "  [90 69  4]]]\n",
      "dimentions: 3\n",
      "shape: (2, 4, 3)\n",
      "size: 24\n"
     ]
    }
   ],
   "source": [
    "b = np.transpose(a,axes=(0,2,1))\n",
    "print(b)\n",
    "print('dimentions:',b.ndim)\n",
    "print('shape:',b.shape)\n",
    "print('size:',b.size)"
   ]
  },
  {
   "cell_type": "code",
   "execution_count": 17,
   "id": "3b8907ea-3642-4059-a9ae-950f40d8c414",
   "metadata": {},
   "outputs": [
    {
     "name": "stdout",
     "output_type": "stream",
     "text": [
      "[[[53 28]\n",
      "  [40 35]\n",
      "  [55 81]\n",
      "  [82 90]]\n",
      "\n",
      " [[70 51]\n",
      "  [ 3 31]\n",
      "  [92 98]\n",
      "  [47 69]]\n",
      "\n",
      " [[ 9 80]\n",
      "  [74 34]\n",
      "  [47 16]\n",
      "  [71  4]]]\n",
      "dimentions: 3\n",
      "shape: (3, 4, 2)\n",
      "size: 24\n"
     ]
    }
   ],
   "source": [
    "c = np.transpose(a,axes=(1,2,0))\n",
    "print(c)\n",
    "print('dimentions:',c.ndim)\n",
    "print('shape:',c.shape)\n",
    "print('size:',c.size)"
   ]
  },
  {
   "cell_type": "code",
   "execution_count": 19,
   "id": "7c823d3a-de07-4b4e-9307-e5c0c2a141fb",
   "metadata": {},
   "outputs": [
    {
     "name": "stdout",
     "output_type": "stream",
     "text": [
      "[[[53 70  9]\n",
      "  [28 51 80]]\n",
      "\n",
      " [[40  3 74]\n",
      "  [35 31 34]]\n",
      "\n",
      " [[55 92 47]\n",
      "  [81 98 16]]\n",
      "\n",
      " [[82 47 71]\n",
      "  [90 69  4]]]\n",
      "dimentions: 3\n",
      "shape: (4, 2, 3)\n",
      "size: 24\n"
     ]
    }
   ],
   "source": [
    "d = np.transpose(a,axes=(2,0,1))\n",
    "print(d)\n",
    "print('dimentions:',d.ndim)\n",
    "print('shape:',d.shape)\n",
    "print('size:',d.size)"
   ]
  },
  {
   "cell_type": "markdown",
   "id": "bff3971e-4f50-45b5-8efa-289ee14ddb5f",
   "metadata": {},
   "source": [
    "#### -> ValueError: repeated axis in transpose"
   ]
  },
  {
   "cell_type": "code",
   "execution_count": 20,
   "id": "4c0bdacc-0e9e-4823-8977-1780f8cd5931",
   "metadata": {},
   "outputs": [
    {
     "ename": "ValueError",
     "evalue": "repeated axis in transpose",
     "output_type": "error",
     "traceback": [
      "\u001b[0;31m---------------------------------------------------------------------------\u001b[0m",
      "\u001b[0;31mValueError\u001b[0m                                Traceback (most recent call last)",
      "Cell \u001b[0;32mIn[20], line 1\u001b[0m\n\u001b[0;32m----> 1\u001b[0m e \u001b[38;5;241m=\u001b[39m np\u001b[38;5;241m.\u001b[39mtranspose(a,axes\u001b[38;5;241m=\u001b[39m(\u001b[38;5;241m0\u001b[39m,\u001b[38;5;241m2\u001b[39m,\u001b[38;5;241m2\u001b[39m))\n",
      "File \u001b[0;32m~/anaconda3/lib/python3.11/site-packages/numpy/core/fromnumeric.py:655\u001b[0m, in \u001b[0;36mtranspose\u001b[0;34m(a, axes)\u001b[0m\n\u001b[1;32m    588\u001b[0m \u001b[38;5;129m@array_function_dispatch\u001b[39m(_transpose_dispatcher)\n\u001b[1;32m    589\u001b[0m \u001b[38;5;28;01mdef\u001b[39;00m \u001b[38;5;21mtranspose\u001b[39m(a, axes\u001b[38;5;241m=\u001b[39m\u001b[38;5;28;01mNone\u001b[39;00m):\n\u001b[1;32m    590\u001b[0m \u001b[38;5;250m    \u001b[39m\u001b[38;5;124;03m\"\"\"\u001b[39;00m\n\u001b[1;32m    591\u001b[0m \u001b[38;5;124;03m    Returns an array with axes transposed.\u001b[39;00m\n\u001b[1;32m    592\u001b[0m \n\u001b[0;32m   (...)\u001b[0m\n\u001b[1;32m    653\u001b[0m \n\u001b[1;32m    654\u001b[0m \u001b[38;5;124;03m    \"\"\"\u001b[39;00m\n\u001b[0;32m--> 655\u001b[0m     \u001b[38;5;28;01mreturn\u001b[39;00m _wrapfunc(a, \u001b[38;5;124m'\u001b[39m\u001b[38;5;124mtranspose\u001b[39m\u001b[38;5;124m'\u001b[39m, axes)\n",
      "File \u001b[0;32m~/anaconda3/lib/python3.11/site-packages/numpy/core/fromnumeric.py:59\u001b[0m, in \u001b[0;36m_wrapfunc\u001b[0;34m(obj, method, *args, **kwds)\u001b[0m\n\u001b[1;32m     56\u001b[0m     \u001b[38;5;28;01mreturn\u001b[39;00m _wrapit(obj, method, \u001b[38;5;241m*\u001b[39margs, \u001b[38;5;241m*\u001b[39m\u001b[38;5;241m*\u001b[39mkwds)\n\u001b[1;32m     58\u001b[0m \u001b[38;5;28;01mtry\u001b[39;00m:\n\u001b[0;32m---> 59\u001b[0m     \u001b[38;5;28;01mreturn\u001b[39;00m bound(\u001b[38;5;241m*\u001b[39margs, \u001b[38;5;241m*\u001b[39m\u001b[38;5;241m*\u001b[39mkwds)\n\u001b[1;32m     60\u001b[0m \u001b[38;5;28;01mexcept\u001b[39;00m \u001b[38;5;167;01mTypeError\u001b[39;00m:\n\u001b[1;32m     61\u001b[0m     \u001b[38;5;66;03m# A TypeError occurs if the object does have such a method in its\u001b[39;00m\n\u001b[1;32m     62\u001b[0m     \u001b[38;5;66;03m# class, but its signature is not identical to that of NumPy's. This\u001b[39;00m\n\u001b[0;32m   (...)\u001b[0m\n\u001b[1;32m     66\u001b[0m     \u001b[38;5;66;03m# Call _wrapit from within the except clause to ensure a potential\u001b[39;00m\n\u001b[1;32m     67\u001b[0m     \u001b[38;5;66;03m# exception has a traceback chain.\u001b[39;00m\n\u001b[1;32m     68\u001b[0m     \u001b[38;5;28;01mreturn\u001b[39;00m _wrapit(obj, method, \u001b[38;5;241m*\u001b[39margs, \u001b[38;5;241m*\u001b[39m\u001b[38;5;241m*\u001b[39mkwds)\n",
      "\u001b[0;31mValueError\u001b[0m: repeated axis in transpose"
     ]
    }
   ],
   "source": [
    "e = np.transpose(a,axes=(0,2,2))"
   ]
  },
  {
   "cell_type": "markdown",
   "id": "74aa79db-3a5d-4667-a2e3-efd149424198",
   "metadata": {},
   "source": [
    "### ndarray.transpose() -> ndarray class method"
   ]
  },
  {
   "cell_type": "markdown",
   "id": "5d9bb031-dbe4-4133-8411-6e8b15d74708",
   "metadata": {
    "jp-MarkdownHeadingCollapsed": true
   },
   "source": [
    "#### -> same as numpy.transpose()"
   ]
  },
  {
   "cell_type": "code",
   "execution_count": 22,
   "id": "6ef84bba-fda3-4c4a-9da6-7339bac0bb5d",
   "metadata": {},
   "outputs": [
    {
     "data": {
      "text/plain": [
       "'\\ntranspose(...)\\n    a.transpose(*axes)\\n    \\n    Returns a view of the array with axes transposed.\\n    \\n    Refer to `numpy.transpose` for full documentation.\\n'"
      ]
     },
     "execution_count": 22,
     "metadata": {},
     "output_type": "execute_result"
    }
   ],
   "source": [
    "# help(np.ndarray.transpose)\n",
    "'''\n",
    "transpose(...)\n",
    "    a.transpose(*axes)\n",
    "    \n",
    "    Returns a view of the array with axes transposed.\n",
    "    \n",
    "    Refer to `numpy.transpose` for full documentation.\n",
    "'''"
   ]
  },
  {
   "cell_type": "code",
   "execution_count": 31,
   "id": "a35771b5-ea66-426f-a2ba-c4ef90c39c94",
   "metadata": {},
   "outputs": [
    {
     "name": "stdout",
     "output_type": "stream",
     "text": [
      "[[[ 0  1  2  3]\n",
      "  [ 4  5  6  7]\n",
      "  [ 8  9 10 11]]\n",
      "\n",
      " [[12 13 14 15]\n",
      "  [16 17 18 19]\n",
      "  [20 21 22 23]]]\n",
      "dimentions: 3\n",
      "shape: (2, 3, 4)\n",
      "size: 24\n"
     ]
    }
   ],
   "source": [
    "a = np.arange(24).reshape(2,3,4)\n",
    "print(a)\n",
    "print('dimentions:',a.ndim)\n",
    "print('shape:',a.shape)\n",
    "print('size:',a.size)"
   ]
  },
  {
   "cell_type": "code",
   "execution_count": 32,
   "id": "bd108bfe-fb7c-4c6c-a98c-5e95afc940be",
   "metadata": {},
   "outputs": [
    {
     "name": "stdout",
     "output_type": "stream",
     "text": [
      "[[[ 0 12]\n",
      "  [ 4 16]\n",
      "  [ 8 20]]\n",
      "\n",
      " [[ 1 13]\n",
      "  [ 5 17]\n",
      "  [ 9 21]]\n",
      "\n",
      " [[ 2 14]\n",
      "  [ 6 18]\n",
      "  [10 22]]\n",
      "\n",
      " [[ 3 15]\n",
      "  [ 7 19]\n",
      "  [11 23]]]\n",
      "dimentions: 3\n",
      "shape: (4, 3, 2)\n",
      "size: 24\n"
     ]
    }
   ],
   "source": [
    "b = a.transpose()\n",
    "print(b)\n",
    "print('dimentions:',b.ndim)\n",
    "print('shape:',b.shape)\n",
    "print('size:',b.size)"
   ]
  },
  {
   "cell_type": "code",
   "execution_count": 34,
   "id": "4a6619f4-f224-4147-8948-b230ad4f4959",
   "metadata": {},
   "outputs": [
    {
     "name": "stdout",
     "output_type": "stream",
     "text": [
      "[[[ 0  4  8]\n",
      "  [12 16 20]]\n",
      "\n",
      " [[ 1  5  9]\n",
      "  [13 17 21]]\n",
      "\n",
      " [[ 2  6 10]\n",
      "  [14 18 22]]\n",
      "\n",
      " [[ 3  7 11]\n",
      "  [15 19 23]]]\n",
      "dimentions: 3\n",
      "shape: (4, 2, 3)\n",
      "size: 24\n"
     ]
    }
   ],
   "source": [
    "c = a.transpose(2,0,1)\n",
    "print(c)\n",
    "print('dimentions:',c.ndim)\n",
    "print('shape:',c.shape)\n",
    "print('size:',c.size)"
   ]
  },
  {
   "cell_type": "markdown",
   "id": "7209e25e-7169-4007-a054-0d094724b7ac",
   "metadata": {
    "jp-MarkdownHeadingCollapsed": true
   },
   "source": [
    "#### -> shortcut representation of transpose "
   ]
  },
  {
   "cell_type": "code",
   "execution_count": 35,
   "id": "bac9de02-516a-43ff-992a-8140d91ee973",
   "metadata": {},
   "outputs": [
    {
     "name": "stdout",
     "output_type": "stream",
     "text": [
      "[[[ 0 12]\n",
      "  [ 4 16]\n",
      "  [ 8 20]]\n",
      "\n",
      " [[ 1 13]\n",
      "  [ 5 17]\n",
      "  [ 9 21]]\n",
      "\n",
      " [[ 2 14]\n",
      "  [ 6 18]\n",
      "  [10 22]]\n",
      "\n",
      " [[ 3 15]\n",
      "  [ 7 19]\n",
      "  [11 23]]]\n",
      "dimentions: 3\n",
      "shape: (4, 3, 2)\n",
      "size: 24\n"
     ]
    }
   ],
   "source": [
    "e = a.T\n",
    "print(e)\n",
    "print('dimentions:',e.ndim)\n",
    "print('shape:',e.shape)\n",
    "print('size:',e.size)"
   ]
  },
  {
   "cell_type": "markdown",
   "id": "7bd6fb29-0a1a-4587-82a1-05fadadb5824",
   "metadata": {
    "jp-MarkdownHeadingCollapsed": true
   },
   "source": [
    "## 6. swapaxes()\n",
    "- swap only two axes but not all"
   ]
  },
  {
   "cell_type": "code",
   "execution_count": 37,
   "id": "6f31baaa-91db-4a36-a665-35bbf7e73d07",
   "metadata": {},
   "outputs": [
    {
     "data": {
      "text/plain": [
       "' \\nswapaxes(a, axis1, axis2)\\n    Interchange two axes of an array.\\n'"
      ]
     },
     "execution_count": 37,
     "metadata": {},
     "output_type": "execute_result"
    }
   ],
   "source": [
    "# help(np.swapaxes) \n",
    "''' \n",
    "swapaxes(a, axis1, axis2)\n",
    "    Interchange two axes of an array.\n",
    "'''"
   ]
  },
  {
   "cell_type": "markdown",
   "id": "c3cc2bd5-605f-4999-a391-b6fcf81ecfd1",
   "metadata": {
    "jp-MarkdownHeadingCollapsed": true
   },
   "source": [
    "### numpy.swapaxes()\n",
    "- numpy library function"
   ]
  },
  {
   "cell_type": "code",
   "execution_count": 40,
   "id": "b2943baf-f768-49e1-8ae8-0fe25aa59dc1",
   "metadata": {},
   "outputs": [
    {
     "name": "stdout",
     "output_type": "stream",
     "text": [
      "[[[ 0  1  2  3]\n",
      "  [ 4  5  6  7]\n",
      "  [ 8  9 10 11]]\n",
      "\n",
      " [[12 13 14 15]\n",
      "  [16 17 18 19]\n",
      "  [20 21 22 23]]]\n",
      "dimentions: 3\n",
      "shape: (2, 3, 4)\n",
      "size: 24\n"
     ]
    }
   ],
   "source": [
    "a = np.arange(24).reshape(2,3,4)\n",
    "print(a) \n",
    "print('dimentions:',a.ndim)\n",
    "print('shape:',a.shape)\n",
    "print('size:',a.size)"
   ]
  },
  {
   "cell_type": "code",
   "execution_count": 42,
   "id": "315f07d8-5c99-45f5-9ef2-13094d1fc891",
   "metadata": {},
   "outputs": [
    {
     "name": "stdout",
     "output_type": "stream",
     "text": [
      "[[[ 0  4  8]\n",
      "  [ 1  5  9]\n",
      "  [ 2  6 10]\n",
      "  [ 3  7 11]]\n",
      "\n",
      " [[12 16 20]\n",
      "  [13 17 21]\n",
      "  [14 18 22]\n",
      "  [15 19 23]]]\n",
      "dimentions: 3\n",
      "shape: (2, 4, 3)\n",
      "size: 24\n"
     ]
    }
   ],
   "source": [
    "b = np.swapaxes(a,1,2)\n",
    "print(b)\n",
    "print('dimentions:',b.ndim)\n",
    "print('shape:',b.shape)\n",
    "print('size:',b.size)"
   ]
  },
  {
   "cell_type": "code",
   "execution_count": 43,
   "id": "9e5981ce-e878-4698-8d62-c459340db33a",
   "metadata": {},
   "outputs": [
    {
     "name": "stdout",
     "output_type": "stream",
     "text": [
      "[[[ 0 12]\n",
      "  [ 4 16]\n",
      "  [ 8 20]]\n",
      "\n",
      " [[ 1 13]\n",
      "  [ 5 17]\n",
      "  [ 9 21]]\n",
      "\n",
      " [[ 2 14]\n",
      "  [ 6 18]\n",
      "  [10 22]]\n",
      "\n",
      " [[ 3 15]\n",
      "  [ 7 19]\n",
      "  [11 23]]]\n",
      "dimentions: 3\n",
      "shape: (4, 3, 2)\n",
      "size: 24\n"
     ]
    }
   ],
   "source": [
    "c = np.swapaxes(a,0,2)\n",
    "print(c)\n",
    "print('dimentions:',c.ndim)\n",
    "print('shape:',c.shape)\n",
    "print('size:',c.size)"
   ]
  },
  {
   "cell_type": "markdown",
   "id": "9ddb5d9d-d34c-47dc-b447-2c971ac295a2",
   "metadata": {},
   "source": [
    "### ndarray.swapaxes()"
   ]
  },
  {
   "cell_type": "code",
   "execution_count": 3,
   "id": "d41a6a53-f836-42de-bf85-8e22b736ae9c",
   "metadata": {},
   "outputs": [
    {
     "data": {
      "text/plain": [
       "' \\nswapaxes(...)\\n    a.swapaxes(axis1, axis2)\\n    \\n    Return a view of the array with `axis1` and `axis2` interchanged.\\n    \\n    Refer to `numpy.swapaxes` for full documentation.\\n'"
      ]
     },
     "execution_count": 3,
     "metadata": {},
     "output_type": "execute_result"
    }
   ],
   "source": [
    "# help(np.ndarray.swapaxes)\n",
    "''' \n",
    "swapaxes(...)\n",
    "    a.swapaxes(axis1, axis2)\n",
    "    \n",
    "    Return a view of the array with `axis1` and `axis2` interchanged.\n",
    "    \n",
    "    Refer to `numpy.swapaxes` for full documentation.\n",
    "'''"
   ]
  },
  {
   "cell_type": "code",
   "execution_count": 4,
   "id": "ec23a777-1c0a-4b2f-824d-105a7545fadf",
   "metadata": {},
   "outputs": [
    {
     "name": "stdout",
     "output_type": "stream",
     "text": [
      "[[[ 0  1  2  3]\n",
      "  [ 4  5  6  7]\n",
      "  [ 8  9 10 11]]\n",
      "\n",
      " [[12 13 14 15]\n",
      "  [16 17 18 19]\n",
      "  [20 21 22 23]]]\n",
      "dimentions: 3\n",
      "shape: (2, 3, 4)\n",
      "size: 24\n"
     ]
    }
   ],
   "source": [
    "a = np.arange(24).reshape(2,3,4)\n",
    "print(a) \n",
    "print('dimentions:',a.ndim)\n",
    "print('shape:',a.shape)\n",
    "print('size:',a.size)"
   ]
  },
  {
   "cell_type": "code",
   "execution_count": 5,
   "id": "84800c8f-f6cc-4722-b858-89c34f112f99",
   "metadata": {},
   "outputs": [
    {
     "name": "stdout",
     "output_type": "stream",
     "text": [
      "[[[ 0  1  2  3]\n",
      "  [12 13 14 15]]\n",
      "\n",
      " [[ 4  5  6  7]\n",
      "  [16 17 18 19]]\n",
      "\n",
      " [[ 8  9 10 11]\n",
      "  [20 21 22 23]]]\n",
      "dimentions: 3\n",
      "shape: (3, 2, 4)\n",
      "size: 24\n"
     ]
    }
   ],
   "source": [
    "b = a.swapaxes(0,1)\n",
    "print(b)\n",
    "print('dimentions:',b.ndim)\n",
    "print('shape:',b.shape)\n",
    "print('size:',b.size)"
   ]
  },
  {
   "cell_type": "markdown",
   "id": "b11d5780-8806-4064-9806-dd6736f5cc52",
   "metadata": {},
   "source": [
    "# Joining Multiple Numpy Arrays into a Single One"
   ]
  },
  {
   "cell_type": "markdown",
   "id": "4b8b15dd-2aff-4037-8e32-4525769b0289",
   "metadata": {},
   "source": [
    "## 1. concatenate()\n",
    "- **dimentions must match**"
   ]
  },
  {
   "cell_type": "code",
   "execution_count": 3,
   "id": "ee8ad7a5-c43d-48b5-b4eb-b188f52bfadf",
   "metadata": {},
   "outputs": [
    {
     "data": {
      "text/plain": [
       "' \\nconcatenate(...)\\n    concatenate((a1, a2, ...), axis=0, out=None, dtype=None, casting=\"same_kind\")\\n    \\n    Join a sequence of arrays along an existing axis.\\n'"
      ]
     },
     "execution_count": 3,
     "metadata": {},
     "output_type": "execute_result"
    }
   ],
   "source": [
    "# help(np.concatenate) \n",
    "''' \n",
    "concatenate(...)\n",
    "    concatenate((a1, a2, ...), axis=0, out=None, dtype=None, casting=\"same_kind\")\n",
    "    \n",
    "    Join a sequence of arrays along an existing axis.\n",
    "'''"
   ]
  },
  {
   "cell_type": "markdown",
   "id": "e78812f9-1e2c-4c52-83a5-851601922937",
   "metadata": {},
   "source": [
    "### Joining 2-D Arrays"
   ]
  },
  {
   "cell_type": "markdown",
   "id": "5f03e3d7-7567-43dc-874a-f0950a745a82",
   "metadata": {},
   "source": [
    "#### -> Vertical Concatenation \n",
    "- **column size must match**"
   ]
  },
  {
   "cell_type": "code",
   "execution_count": 36,
   "id": "cc06f63a-ea41-4d9c-99a9-ddb13c4f3091",
   "metadata": {},
   "outputs": [
    {
     "name": "stdout",
     "output_type": "stream",
     "text": [
      "[[61 63 62 16]\n",
      " [92 51 33 51]\n",
      " [59 14 31 69]]\n",
      "shape: (3, 4)\n"
     ]
    }
   ],
   "source": [
    "a = np.random.randint(1,101,(3,4))\n",
    "print(a)\n",
    "print('shape:',a.shape)"
   ]
  },
  {
   "cell_type": "code",
   "execution_count": 37,
   "id": "e27c0cfd-d300-4c58-ac82-eb445960eb80",
   "metadata": {},
   "outputs": [
    {
     "name": "stdout",
     "output_type": "stream",
     "text": [
      "[[45 79  8]\n",
      " [36 71 91]]\n",
      "shape: (2, 3)\n"
     ]
    }
   ],
   "source": [
    "b = np.random.randint(1,101,(2,3))\n",
    "print(b)\n",
    "print('shape:',b.shape)"
   ]
  },
  {
   "cell_type": "code",
   "execution_count": 13,
   "id": "dcf58ef6-fdd3-4f6a-98df-3439f51fd95a",
   "metadata": {},
   "outputs": [
    {
     "ename": "ValueError",
     "evalue": "all the input array dimensions except for the concatenation axis must match exactly, but along dimension 1, the array at index 0 has size 4 and the array at index 1 has size 3",
     "output_type": "error",
     "traceback": [
      "\u001b[0;31m---------------------------------------------------------------------------\u001b[0m",
      "\u001b[0;31mValueError\u001b[0m                                Traceback (most recent call last)",
      "Cell \u001b[0;32mIn[13], line 1\u001b[0m\n\u001b[0;32m----> 1\u001b[0m c \u001b[38;5;241m=\u001b[39m np\u001b[38;5;241m.\u001b[39mconcatenate((a,b))\n\u001b[1;32m      2\u001b[0m \u001b[38;5;28mprint\u001b[39m(c)\n",
      "\u001b[0;31mValueError\u001b[0m: all the input array dimensions except for the concatenation axis must match exactly, but along dimension 1, the array at index 0 has size 4 and the array at index 1 has size 3"
     ]
    }
   ],
   "source": [
    "c = np.concatenate((a,b))\n",
    "print(c)"
   ]
  },
  {
   "cell_type": "code",
   "execution_count": 38,
   "id": "82125542-8f25-4d9c-963c-1ed1b4abc5b1",
   "metadata": {},
   "outputs": [
    {
     "name": "stdout",
     "output_type": "stream",
     "text": [
      "[[12 59 22 32]\n",
      " [17 56 48 68]]\n",
      "shape: (2, 4)\n"
     ]
    }
   ],
   "source": [
    "d = np.random.randint(1,101,(2,4))\n",
    "print(d)\n",
    "print('shape:',d.shape)"
   ]
  },
  {
   "cell_type": "code",
   "execution_count": 39,
   "id": "e8f986c8-a8c1-4f6e-aa34-876692398ed9",
   "metadata": {},
   "outputs": [
    {
     "name": "stdout",
     "output_type": "stream",
     "text": [
      "[[61 63 62 16]\n",
      " [92 51 33 51]\n",
      " [59 14 31 69]\n",
      " [12 59 22 32]\n",
      " [17 56 48 68]]\n",
      "shape: (5, 4)\n"
     ]
    }
   ],
   "source": [
    "e = np.concatenate((a,d))  \n",
    "print(e)\n",
    "print('shape:',e.shape)"
   ]
  },
  {
   "cell_type": "markdown",
   "id": "f9abcb18-8a27-4122-891c-167cda20efb6",
   "metadata": {},
   "source": [
    "#### -> Horizontal Concatenation\n",
    "- **row size must match**"
   ]
  },
  {
   "cell_type": "code",
   "execution_count": 41,
   "id": "e4ac8225-95e0-40d3-827d-6e2b6d8ab1eb",
   "metadata": {},
   "outputs": [
    {
     "name": "stdout",
     "output_type": "stream",
     "text": [
      "[[13 61 58 65]\n",
      " [30 25 61 42]\n",
      " [30 56 54 76]]\n",
      "shape: (3, 4)\n"
     ]
    }
   ],
   "source": [
    "a = np.random.randint(1,101,(3,4))\n",
    "print(a)\n",
    "print('shape:',a.shape)"
   ]
  },
  {
   "cell_type": "code",
   "execution_count": 42,
   "id": "1dd19ac5-3d85-42b6-9990-68a8bc44f693",
   "metadata": {},
   "outputs": [
    {
     "name": "stdout",
     "output_type": "stream",
     "text": [
      "[[ 9 64 62 40]\n",
      " [71 34 65 51]]\n",
      "shape: (2, 4)\n"
     ]
    }
   ],
   "source": [
    "b = np.random.randint(1,101,(2,4))\n",
    "print(b)\n",
    "print('shape:',b.shape)"
   ]
  },
  {
   "cell_type": "code",
   "execution_count": 43,
   "id": "5cacfbae-8ff1-40b3-a35f-fbb42a9605d5",
   "metadata": {},
   "outputs": [
    {
     "ename": "ValueError",
     "evalue": "all the input array dimensions except for the concatenation axis must match exactly, but along dimension 0, the array at index 0 has size 3 and the array at index 1 has size 2",
     "output_type": "error",
     "traceback": [
      "\u001b[0;31m---------------------------------------------------------------------------\u001b[0m",
      "\u001b[0;31mValueError\u001b[0m                                Traceback (most recent call last)",
      "Cell \u001b[0;32mIn[43], line 1\u001b[0m\n\u001b[0;32m----> 1\u001b[0m c \u001b[38;5;241m=\u001b[39m np\u001b[38;5;241m.\u001b[39mconcatenate((a,b),axis\u001b[38;5;241m=\u001b[39m\u001b[38;5;241m1\u001b[39m) \n\u001b[1;32m      2\u001b[0m \u001b[38;5;28mprint\u001b[39m(c)\n",
      "\u001b[0;31mValueError\u001b[0m: all the input array dimensions except for the concatenation axis must match exactly, but along dimension 0, the array at index 0 has size 3 and the array at index 1 has size 2"
     ]
    }
   ],
   "source": [
    "c = np.concatenate((a,b),axis=1) \n",
    "print(c)"
   ]
  },
  {
   "cell_type": "code",
   "execution_count": 44,
   "id": "50a44046-105d-450f-9d42-f468c447534e",
   "metadata": {},
   "outputs": [
    {
     "name": "stdout",
     "output_type": "stream",
     "text": [
      "[[35 49]\n",
      " [93 16]\n",
      " [88  3]]\n",
      "shape: (3, 2)\n"
     ]
    }
   ],
   "source": [
    "d = np.random.randint(1,101,(3,2))\n",
    "print(d)\n",
    "print('shape:',d.shape)"
   ]
  },
  {
   "cell_type": "code",
   "execution_count": 45,
   "id": "d7a64fcb-c45b-45e1-a377-7125e12f6697",
   "metadata": {},
   "outputs": [
    {
     "name": "stdout",
     "output_type": "stream",
     "text": [
      "[[13 61 58 65 35 49]\n",
      " [30 25 61 42 93 16]\n",
      " [30 56 54 76 88  3]]\n",
      "shape: (3, 6)\n"
     ]
    }
   ],
   "source": [
    "e = np.concatenate((a,d),axis=1)\n",
    "print(e)\n",
    "print('shape:',e.shape)"
   ]
  },
  {
   "cell_type": "markdown",
   "id": "d926f13b-c2ea-4132-b078-730fcc1a74f7",
   "metadata": {},
   "source": [
    "#### -> When V / H Concatenation is not possible"
   ]
  },
  {
   "cell_type": "code",
   "execution_count": 46,
   "id": "7d89d7d6-021b-44cf-bc4d-8b9a39ee88e9",
   "metadata": {},
   "outputs": [
    {
     "name": "stdout",
     "output_type": "stream",
     "text": [
      "[[64 82 29 78]\n",
      " [80  1 64 29]\n",
      " [70 37 82 87]]\n",
      "shape: (3, 4)\n"
     ]
    }
   ],
   "source": [
    "# Vertical Concatenation fails \n",
    "a = np.random.randint(1,101,(3,4))\n",
    "print(a)\n",
    "print('shape:',a.shape)"
   ]
  },
  {
   "cell_type": "code",
   "execution_count": 47,
   "id": "aaa87460-55e0-4b34-b0f4-2bb4fd8feff9",
   "metadata": {},
   "outputs": [
    {
     "name": "stdout",
     "output_type": "stream",
     "text": [
      "[[97 38 65]\n",
      " [93 37 56]]\n",
      "shape: (2, 3)\n"
     ]
    }
   ],
   "source": [
    "b = np.random.randint(1,101,(2,3))\n",
    "print(b)\n",
    "print('shape:',b.shape)"
   ]
  },
  {
   "cell_type": "code",
   "execution_count": 48,
   "id": "b37ed578-9db9-4840-976a-baaa893f6978",
   "metadata": {},
   "outputs": [
    {
     "name": "stdout",
     "output_type": "stream",
     "text": [
      "[64 82 29 78 80  1 64 29 70 37 82 87 97 38 65 93 37 56]\n",
      "shape: (18,)\n"
     ]
    }
   ],
   "source": [
    "c = np.concatenate((a,b),axis=None) \n",
    "print(c)\n",
    "print('shape:',c.shape)"
   ]
  },
  {
   "cell_type": "code",
   "execution_count": 49,
   "id": "e001107d-2bfb-4d18-91c0-bfdab18bdb5e",
   "metadata": {},
   "outputs": [
    {
     "name": "stdout",
     "output_type": "stream",
     "text": [
      "[[78  8 59 99]\n",
      " [75  8 53 96]\n",
      " [43 78 61 60]]\n",
      "shape: (3, 4)\n"
     ]
    }
   ],
   "source": [
    "# Horizontal Concatenation fails \n",
    "a = np.random.randint(1,101,(3,4))\n",
    "print(a)\n",
    "print('shape:',a.shape)"
   ]
  },
  {
   "cell_type": "code",
   "execution_count": 50,
   "id": "99be841b-9710-4767-97c7-907ad7ac33f3",
   "metadata": {},
   "outputs": [
    {
     "name": "stdout",
     "output_type": "stream",
     "text": [
      "[[34 59 94 15]\n",
      " [56 34 27 57]]\n",
      "shape: (2, 4)\n"
     ]
    }
   ],
   "source": [
    "b = np.random.randint(1,101,(2,4))\n",
    "print(b)\n",
    "print('shape:',b.shape)"
   ]
  },
  {
   "cell_type": "code",
   "execution_count": 51,
   "id": "e7daf4f7-b16b-41b8-a872-c953619575d0",
   "metadata": {},
   "outputs": [
    {
     "name": "stdout",
     "output_type": "stream",
     "text": [
      "[78  8 59 99 75  8 53 96 43 78 61 60 34 59 94 15 56 34 27 57]\n",
      "shape: (20,)\n"
     ]
    }
   ],
   "source": [
    "c = np.concatenate((a,b),axis=None)  \n",
    "print(c)\n",
    "print('shape:',c.shape)"
   ]
  },
  {
   "cell_type": "markdown",
   "id": "f36eabf5",
   "metadata": {},
   "source": [
    "#### -> When V/H Concatenation both are possible"
   ]
  },
  {
   "cell_type": "code",
   "execution_count": 32,
   "id": "9888f5e7",
   "metadata": {},
   "outputs": [
    {
     "name": "stdout",
     "output_type": "stream",
     "text": [
      "[[0 1]\n",
      " [2 3]\n",
      " [4 5]\n",
      " [0 1]\n",
      " [2 3]\n",
      " [4 5]]\n"
     ]
    }
   ],
   "source": [
    "# when both rowsizes and column suzes matche\n",
    "a = np.arange(6).reshape(3,2)\n",
    "b = np.arange(6).reshape(3,2)\n",
    "c = np.concatenate((a,b),axis=0)\n",
    "print(c)"
   ]
  },
  {
   "cell_type": "code",
   "execution_count": 33,
   "id": "4f9844bb",
   "metadata": {},
   "outputs": [
    {
     "name": "stdout",
     "output_type": "stream",
     "text": [
      "[[0 1 0 1]\n",
      " [2 3 2 3]\n",
      " [4 5 4 5]]\n"
     ]
    }
   ],
   "source": [
    "d = np.concatenate((a,b),axis=1)\n",
    "print(d)"
   ]
  },
  {
   "cell_type": "code",
   "execution_count": 34,
   "id": "452e34f6",
   "metadata": {},
   "outputs": [
    {
     "name": "stdout",
     "output_type": "stream",
     "text": [
      "[0 1 2 3 4 5 0 1 2 3 4 5]\n"
     ]
    }
   ],
   "source": [
    "e = np.concatenate((a,b),axis=None)\n",
    "print(e)"
   ]
  },
  {
   "cell_type": "markdown",
   "id": "f138a3b7",
   "metadata": {},
   "source": [
    "### Joining 1-D Arrays"
   ]
  },
  {
   "cell_type": "code",
   "execution_count": 9,
   "id": "51b4ce88",
   "metadata": {},
   "outputs": [
    {
     "name": "stdout",
     "output_type": "stream",
     "text": [
      "a: [0 1 2 3]\n",
      "b: [0 1 2 3 4]\n",
      "c: [0 1 2 3 0 1 2 3 4]\n",
      "Dimentions: 1\n"
     ]
    }
   ],
   "source": [
    "# Two 1-D Arrays\n",
    "a = np.arange(4)\n",
    "print('a:',a)\n",
    "b = np.arange(5)\n",
    "print('b:',b)\n",
    "c = np.concatenate((a,b))\n",
    "print('c:',c)\n",
    "print('Dimentions:',c.ndim)"
   ]
  },
  {
   "cell_type": "code",
   "execution_count": 13,
   "id": "ae6f37ef",
   "metadata": {},
   "outputs": [
    {
     "name": "stdout",
     "output_type": "stream",
     "text": [
      "d: [0 1 2 3 0 1 2 3 4 0 1 2 3 0 1 2 3 4]\n",
      "Dimentions: 1\n"
     ]
    }
   ],
   "source": [
    "# Three 1-D Arrays\n",
    "d = np.concatenate((a,b,c))\n",
    "print('d:',d)\n",
    "print('Dimentions:',c.ndim)"
   ]
  },
  {
   "cell_type": "markdown",
   "id": "df441aed",
   "metadata": {},
   "source": [
    "### Out Parameter and dtype"
   ]
  },
  {
   "cell_type": "code",
   "execution_count": 12,
   "id": "1992c65d",
   "metadata": {},
   "outputs": [
    {
     "name": "stdout",
     "output_type": "stream",
     "text": [
      "[0.0e+000 4.9e-324 9.9e-324 1.5e-323 0.0e+000 4.9e-324 9.9e-324 1.5e-323\n",
      " 2.0e-323 0.0e+000 4.9e-324 9.9e-324 1.5e-323 0.0e+000 4.9e-324 9.9e-324\n",
      " 1.5e-323 2.0e-323]\n"
     ]
    },
    {
     "data": {
      "text/plain": [
       "array([0., 1., 2., 3., 0., 1., 2., 3., 4., 0., 1., 2., 3., 0., 1., 2., 3.,\n",
       "       4.])"
      ]
     },
     "execution_count": 12,
     "metadata": {},
     "output_type": "execute_result"
    }
   ],
   "source": [
    "e = np.empty(18)\n",
    "print(e)\n",
    "np.concatenate((a,b,c),out=e)"
   ]
  },
  {
   "cell_type": "code",
   "execution_count": 19,
   "id": "9bfef58c",
   "metadata": {},
   "outputs": [
    {
     "name": "stdout",
     "output_type": "stream",
     "text": [
      "[1.7192826e-316 0.0000000e+000 0.0000000e+000 0.0000000e+000\n",
      " 0.0000000e+000 0.0000000e+000 0.0000000e+000 0.0000000e+000\n",
      " 0.0000000e+000 0.0000000e+000 0.0000000e+000 0.0000000e+000\n",
      " 0.0000000e+000 0.0000000e+000 0.0000000e+000 0.0000000e+000\n",
      " 0.0000000e+000 0.0000000e+000]\n"
     ]
    },
    {
     "ename": "TypeError",
     "evalue": "concatenate() only takes `out` or `dtype` as an argument, but both were provided.",
     "output_type": "error",
     "traceback": [
      "\u001b[0;31m---------------------------------------------------------------------------\u001b[0m",
      "\u001b[0;31mTypeError\u001b[0m                                 Traceback (most recent call last)",
      "Cell \u001b[0;32mIn[19], line 3\u001b[0m\n\u001b[1;32m      1\u001b[0m e \u001b[38;5;241m=\u001b[39m np\u001b[38;5;241m.\u001b[39mempty(\u001b[38;5;241m18\u001b[39m)\n\u001b[1;32m      2\u001b[0m \u001b[38;5;28mprint\u001b[39m(e)\n\u001b[0;32m----> 3\u001b[0m np\u001b[38;5;241m.\u001b[39mconcatenate((a,b,c),out\u001b[38;5;241m=\u001b[39me,dtype\u001b[38;5;241m=\u001b[39m\u001b[38;5;124m'\u001b[39m\u001b[38;5;124mint\u001b[39m\u001b[38;5;124m'\u001b[39m)\n",
      "\u001b[0;31mTypeError\u001b[0m: concatenate() only takes `out` or `dtype` as an argument, but both were provided."
     ]
    }
   ],
   "source": [
    "e = np.empty(18)\n",
    "print(e)\n",
    "np.concatenate((a,b,c),out=e,dtype='int')"
   ]
  },
  {
   "cell_type": "code",
   "execution_count": 20,
   "id": "8f4f3294",
   "metadata": {},
   "outputs": [
    {
     "name": "stdout",
     "output_type": "stream",
     "text": [
      "[34798667        0        0        0        0        0        0        0\n",
      "        0        0        0        0        0        0        0        0\n",
      "        0        0]\n"
     ]
    },
    {
     "data": {
      "text/plain": [
       "array([0, 1, 2, 3, 0, 1, 2, 3, 4, 0, 1, 2, 3, 0, 1, 2, 3, 4])"
      ]
     },
     "execution_count": 20,
     "metadata": {},
     "output_type": "execute_result"
    }
   ],
   "source": [
    "e = np.empty(18,dtype='int')\n",
    "print(e)\n",
    "np.concatenate((a,b,c),out=e)"
   ]
  },
  {
   "cell_type": "code",
   "execution_count": 21,
   "id": "d9152633",
   "metadata": {},
   "outputs": [
    {
     "name": "stdout",
     "output_type": "stream",
     "text": [
      "[0 1 2 3 0 1 2 3 4 0 1 2 3 0 1 2 3 4]\n"
     ]
    }
   ],
   "source": [
    "print(e)"
   ]
  },
  {
   "cell_type": "code",
   "execution_count": 16,
   "id": "c4d1c13b",
   "metadata": {},
   "outputs": [
    {
     "name": "stdout",
     "output_type": "stream",
     "text": [
      "[0 0 0 0 0 0 0 0 0 0 0 0 0 0 0 0 0 0]\n"
     ]
    },
    {
     "data": {
      "text/plain": [
       "array([0, 1, 2, 3, 0, 1, 2, 3, 4, 0, 1, 2, 3, 0, 1, 2, 3, 4])"
      ]
     },
     "execution_count": 16,
     "metadata": {},
     "output_type": "execute_result"
    }
   ],
   "source": [
    "e = np.zeros(18,dtype=int)\n",
    "print(e)\n",
    "np.concatenate((a,b,c),out=e)"
   ]
  },
  {
   "cell_type": "code",
   "execution_count": 17,
   "id": "34191f2b",
   "metadata": {},
   "outputs": [
    {
     "name": "stdout",
     "output_type": "stream",
     "text": [
      "[0 1 2 3 0 1 2 3 4 0 1 2 3 0 1 2 3 4]\n"
     ]
    }
   ],
   "source": [
    "print(e)"
   ]
  },
  {
   "cell_type": "code",
   "execution_count": 22,
   "id": "266a22c6",
   "metadata": {},
   "outputs": [
    {
     "ename": "ValueError",
     "evalue": "Output array is the wrong shape",
     "output_type": "error",
     "traceback": [
      "\u001b[0;31m---------------------------------------------------------------------------\u001b[0m",
      "\u001b[0;31mValueError\u001b[0m                                Traceback (most recent call last)",
      "Cell \u001b[0;32mIn[22], line 2\u001b[0m\n\u001b[1;32m      1\u001b[0m f \u001b[38;5;241m=\u001b[39m np\u001b[38;5;241m.\u001b[39mempty(\u001b[38;5;241m12\u001b[39m,dtype\u001b[38;5;241m=\u001b[39m\u001b[38;5;28mint\u001b[39m)\n\u001b[0;32m----> 2\u001b[0m np\u001b[38;5;241m.\u001b[39mconcatenate((a,b,c),out\u001b[38;5;241m=\u001b[39mf)\n",
      "\u001b[0;31mValueError\u001b[0m: Output array is the wrong shape"
     ]
    }
   ],
   "source": [
    "f = np.empty(12,dtype=int)\n",
    "np.concatenate((a,b,c),out=f)"
   ]
  },
  {
   "cell_type": "markdown",
   "id": "2e30351b",
   "metadata": {},
   "source": [
    "### dtype Parameter"
   ]
  },
  {
   "cell_type": "code",
   "execution_count": 24,
   "id": "af57abe3",
   "metadata": {},
   "outputs": [
    {
     "name": "stdout",
     "output_type": "stream",
     "text": [
      "a: [0 1 2 3]\n",
      "b: [0 1 2 3 4]\n",
      "[0. 1. 2. 3. 0. 1. 2. 3. 4.]\n"
     ]
    }
   ],
   "source": [
    "a = np.arange(4)\n",
    "print('a:',a)\n",
    "b = np.arange(5)\n",
    "print('b:',b)\n",
    "c = np.concatenate((a,b),dtype=float)\n",
    "print(c)"
   ]
  },
  {
   "cell_type": "code",
   "execution_count": 25,
   "id": "0679acc0",
   "metadata": {},
   "outputs": [
    {
     "name": "stdout",
     "output_type": "stream",
     "text": [
      "['0' '1' '2' '3' '0' '1' '2' '3' '4']\n"
     ]
    }
   ],
   "source": [
    "d = np.concatenate((a,b),dtype=str)\n",
    "print(d)"
   ]
  },
  {
   "cell_type": "code",
   "execution_count": 27,
   "id": "26bf2fb3",
   "metadata": {},
   "outputs": [
    {
     "ename": "TypeError",
     "evalue": "concatenate() only takes `out` or `dtype` as an argument, but both were provided.",
     "output_type": "error",
     "traceback": [
      "\u001b[0;31m---------------------------------------------------------------------------\u001b[0m",
      "\u001b[0;31mTypeError\u001b[0m                                 Traceback (most recent call last)",
      "Cell \u001b[0;32mIn[27], line 2\u001b[0m\n\u001b[1;32m      1\u001b[0m e \u001b[38;5;241m=\u001b[39m np\u001b[38;5;241m.\u001b[39mempty(\u001b[38;5;241m9\u001b[39m)\n\u001b[0;32m----> 2\u001b[0m np\u001b[38;5;241m.\u001b[39mconcatenate((a,b),out\u001b[38;5;241m=\u001b[39me,dtype\u001b[38;5;241m=\u001b[39m\u001b[38;5;28mint\u001b[39m)\n",
      "\u001b[0;31mTypeError\u001b[0m: concatenate() only takes `out` or `dtype` as an argument, but both were provided."
     ]
    }
   ],
   "source": [
    "# cannot use out and dtype together\n",
    "e = np.empty(9)\n",
    "np.concatenate((a,b),out=e,dtype=int)"
   ]
  },
  {
   "cell_type": "markdown",
   "id": "93961458",
   "metadata": {},
   "source": [
    "### Same Dimention"
   ]
  },
  {
   "cell_type": "code",
   "execution_count": 28,
   "id": "0656e8cf",
   "metadata": {},
   "outputs": [
    {
     "ename": "ValueError",
     "evalue": "all the input arrays must have same number of dimensions, but the array at index 0 has 1 dimension(s) and the array at index 1 has 2 dimension(s)",
     "output_type": "error",
     "traceback": [
      "\u001b[0;31m---------------------------------------------------------------------------\u001b[0m",
      "\u001b[0;31mValueError\u001b[0m                                Traceback (most recent call last)",
      "Cell \u001b[0;32mIn[28], line 3\u001b[0m\n\u001b[1;32m      1\u001b[0m a \u001b[38;5;241m=\u001b[39m np\u001b[38;5;241m.\u001b[39marange(\u001b[38;5;241m5\u001b[39m)\n\u001b[1;32m      2\u001b[0m b \u001b[38;5;241m=\u001b[39m np\u001b[38;5;241m.\u001b[39marange(\u001b[38;5;241m12\u001b[39m)\u001b[38;5;241m.\u001b[39mreshape(\u001b[38;5;241m3\u001b[39m,\u001b[38;5;241m4\u001b[39m)\n\u001b[0;32m----> 3\u001b[0m c \u001b[38;5;241m=\u001b[39m np\u001b[38;5;241m.\u001b[39mconcatenate((a,b))\n",
      "\u001b[0;31mValueError\u001b[0m: all the input arrays must have same number of dimensions, but the array at index 0 has 1 dimension(s) and the array at index 1 has 2 dimension(s)"
     ]
    }
   ],
   "source": [
    "# Joinint 1-D and 2-D Arrays --> ValueError\n",
    "a = np.arange(5)\n",
    "b = np.arange(12).reshape(3,4)\n",
    "c = np.concatenate((a,b))"
   ]
  },
  {
   "cell_type": "markdown",
   "id": "038f33ec",
   "metadata": {},
   "source": [
    "### Joining 3-D Arrays"
   ]
  },
  {
   "cell_type": "markdown",
   "id": "b985b100",
   "metadata": {},
   "source": [
    "#### -> Same Size in Every Dimention"
   ]
  },
  {
   "cell_type": "code",
   "execution_count": 36,
   "id": "7a2f96ba",
   "metadata": {},
   "outputs": [
    {
     "name": "stdout",
     "output_type": "stream",
     "text": [
      "[[[0 1]\n",
      "  [2 3]]\n",
      "\n",
      " [[4 5]\n",
      "  [6 7]]]\n",
      "[[[0 1]\n",
      "  [2 3]]\n",
      "\n",
      " [[4 5]\n",
      "  [6 7]]]\n"
     ]
    }
   ],
   "source": [
    "a = np.arange(8).reshape(2,2,2)\n",
    "print(a)\n",
    "b = np.arange(8).reshape(2,2,2)\n",
    "print(b)"
   ]
  },
  {
   "cell_type": "code",
   "execution_count": 37,
   "id": "66519ec0",
   "metadata": {},
   "outputs": [
    {
     "name": "stdout",
     "output_type": "stream",
     "text": [
      "[[[0 1]\n",
      "  [2 3]]\n",
      "\n",
      " [[4 5]\n",
      "  [6 7]]\n",
      "\n",
      " [[0 1]\n",
      "  [2 3]]\n",
      "\n",
      " [[4 5]\n",
      "  [6 7]]]\n"
     ]
    }
   ],
   "source": [
    "# axis=0\n",
    "c = np.concatenate((a,b))\n",
    "print(c)"
   ]
  },
  {
   "cell_type": "code",
   "execution_count": 38,
   "id": "7b033e61",
   "metadata": {},
   "outputs": [
    {
     "name": "stdout",
     "output_type": "stream",
     "text": [
      "[[[0 1]\n",
      "  [2 3]\n",
      "  [0 1]\n",
      "  [2 3]]\n",
      "\n",
      " [[4 5]\n",
      "  [6 7]\n",
      "  [4 5]\n",
      "  [6 7]]]\n"
     ]
    }
   ],
   "source": [
    "# axis=1\n",
    "d = np.concatenate((a,b),axis=1)\n",
    "print(d)"
   ]
  },
  {
   "cell_type": "code",
   "execution_count": 39,
   "id": "9197a3da",
   "metadata": {},
   "outputs": [
    {
     "name": "stdout",
     "output_type": "stream",
     "text": [
      "[[[0 1 0 1]\n",
      "  [2 3 2 3]]\n",
      "\n",
      " [[4 5 4 5]\n",
      "  [6 7 6 7]]]\n"
     ]
    }
   ],
   "source": [
    "# axis=2\n",
    "e = np.concatenate((a,b),axis=2)\n",
    "print(e)"
   ]
  },
  {
   "cell_type": "code",
   "execution_count": 40,
   "id": "a9e0fd47",
   "metadata": {},
   "outputs": [
    {
     "name": "stdout",
     "output_type": "stream",
     "text": [
      "[0 1 2 3 4 5 6 7 0 1 2 3 4 5 6 7]\n"
     ]
    }
   ],
   "source": [
    "# axis=None\n",
    "f = np.concatenate((a,b),axis=None)\n",
    "print(f)"
   ]
  },
  {
   "cell_type": "markdown",
   "id": "7fdaa91c",
   "metadata": {},
   "source": [
    "#### -> Different Size in Every Dimention"
   ]
  },
  {
   "cell_type": "code",
   "execution_count": 41,
   "id": "e0a8fa03",
   "metadata": {},
   "outputs": [
    {
     "name": "stdout",
     "output_type": "stream",
     "text": [
      "[[[ 0  1]\n",
      "  [ 2  3]\n",
      "  [ 4  5]]\n",
      "\n",
      " [[ 6  7]\n",
      "  [ 8  9]\n",
      "  [10 11]]]\n"
     ]
    }
   ],
   "source": [
    "a = np.arange(12).reshape(2,3,2)\n",
    "print(a)"
   ]
  },
  {
   "cell_type": "code",
   "execution_count": 42,
   "id": "0d901edb",
   "metadata": {},
   "outputs": [
    {
     "name": "stdout",
     "output_type": "stream",
     "text": [
      "[[[ 0  1  2]\n",
      "  [ 3  4  5]\n",
      "  [ 6  7  8]]\n",
      "\n",
      " [[ 9 10 11]\n",
      "  [12 13 14]\n",
      "  [15 16 17]]]\n"
     ]
    }
   ],
   "source": [
    "b = np.arange(18).reshape(2,3,3)\n",
    "print(b)"
   ]
  },
  {
   "cell_type": "code",
   "execution_count": 43,
   "id": "837293ad",
   "metadata": {},
   "outputs": [
    {
     "ename": "ValueError",
     "evalue": "all the input array dimensions except for the concatenation axis must match exactly, but along dimension 2, the array at index 0 has size 2 and the array at index 1 has size 3",
     "output_type": "error",
     "traceback": [
      "\u001b[0;31m---------------------------------------------------------------------------\u001b[0m",
      "\u001b[0;31mValueError\u001b[0m                                Traceback (most recent call last)",
      "Cell \u001b[0;32mIn[43], line 1\u001b[0m\n\u001b[0;32m----> 1\u001b[0m c \u001b[38;5;241m=\u001b[39m np\u001b[38;5;241m.\u001b[39mconcatenate((a,b))\n",
      "\u001b[0;31mValueError\u001b[0m: all the input array dimensions except for the concatenation axis must match exactly, but along dimension 2, the array at index 0 has size 2 and the array at index 1 has size 3"
     ]
    }
   ],
   "source": [
    "# axis=0\n",
    "c = np.concatenate((a,b))\n",
    "# axis 2 does not match"
   ]
  },
  {
   "cell_type": "code",
   "execution_count": 44,
   "id": "9c8ad4d1",
   "metadata": {},
   "outputs": [
    {
     "ename": "ValueError",
     "evalue": "all the input array dimensions except for the concatenation axis must match exactly, but along dimension 2, the array at index 0 has size 2 and the array at index 1 has size 3",
     "output_type": "error",
     "traceback": [
      "\u001b[0;31m---------------------------------------------------------------------------\u001b[0m",
      "\u001b[0;31mValueError\u001b[0m                                Traceback (most recent call last)",
      "Cell \u001b[0;32mIn[44], line 1\u001b[0m\n\u001b[0;32m----> 1\u001b[0m d \u001b[38;5;241m=\u001b[39m np\u001b[38;5;241m.\u001b[39mconcatenate((a,b),axis\u001b[38;5;241m=\u001b[39m\u001b[38;5;241m1\u001b[39m)\n\u001b[1;32m      2\u001b[0m \u001b[38;5;28mprint\u001b[39m(d)\n",
      "\u001b[0;31mValueError\u001b[0m: all the input array dimensions except for the concatenation axis must match exactly, but along dimension 2, the array at index 0 has size 2 and the array at index 1 has size 3"
     ]
    }
   ],
   "source": [
    "d = np.concatenate((a,b),axis=1)\n",
    "print(d)\n",
    "# axis 2 does not match"
   ]
  },
  {
   "cell_type": "code",
   "execution_count": 45,
   "id": "a500da83",
   "metadata": {},
   "outputs": [
    {
     "name": "stdout",
     "output_type": "stream",
     "text": [
      "[[[ 0  1  0  1  2]\n",
      "  [ 2  3  3  4  5]\n",
      "  [ 4  5  6  7  8]]\n",
      "\n",
      " [[ 6  7  9 10 11]\n",
      "  [ 8  9 12 13 14]\n",
      "  [10 11 15 16 17]]]\n"
     ]
    }
   ],
   "source": [
    "e = np.concatenate((a,b),axis=2)\n",
    "print(e)"
   ]
  },
  {
   "cell_type": "markdown",
   "id": "4f048c28",
   "metadata": {},
   "source": [
    "## 2. stack()"
   ]
  },
  {
   "cell_type": "code",
   "execution_count": 50,
   "id": "950dab66",
   "metadata": {},
   "outputs": [
    {
     "data": {
      "text/plain": [
       "\"\\nstack(arrays, axis=0, out=None, *, dtype=None, casting='same_kind')\\n    Join a sequence of arrays along a new axis.\\n\\nReturns\\n    -------\\n    stacked : ndarray\\n        The stacked array has one more dimension than the input arrays.\\n\""
      ]
     },
     "execution_count": 50,
     "metadata": {},
     "output_type": "execute_result"
    }
   ],
   "source": [
    "# help(np.stack)\n",
    "'''\n",
    "stack(arrays, axis=0, out=None, *, dtype=None, casting='same_kind')\n",
    "    Join a sequence of arrays along a new axis.\n",
    "\n",
    "Returns\n",
    "    -------\n",
    "    stacked : ndarray\n",
    "        The stacked array has one more dimension than the input arrays.\n",
    "'''"
   ]
  },
  {
   "cell_type": "markdown",
   "id": "f71044e6",
   "metadata": {},
   "source": [
    "### Stacking of 1-D Arrays"
   ]
  },
  {
   "cell_type": "code",
   "execution_count": 51,
   "id": "c498a680",
   "metadata": {},
   "outputs": [
    {
     "ename": "ValueError",
     "evalue": "all input arrays must have the same shape",
     "output_type": "error",
     "traceback": [
      "\u001b[0;31m---------------------------------------------------------------------------\u001b[0m",
      "\u001b[0;31mValueError\u001b[0m                                Traceback (most recent call last)",
      "Cell \u001b[0;32mIn[51], line 3\u001b[0m\n\u001b[1;32m      1\u001b[0m a \u001b[38;5;241m=\u001b[39m np\u001b[38;5;241m.\u001b[39marray([\u001b[38;5;241m10\u001b[39m,\u001b[38;5;241m20\u001b[39m,\u001b[38;5;241m30\u001b[39m])\n\u001b[1;32m      2\u001b[0m b \u001b[38;5;241m=\u001b[39m np\u001b[38;5;241m.\u001b[39marray([\u001b[38;5;241m40\u001b[39m,\u001b[38;5;241m50\u001b[39m,\u001b[38;5;241m60\u001b[39m,\u001b[38;5;241m70\u001b[39m])\n\u001b[0;32m----> 3\u001b[0m c \u001b[38;5;241m=\u001b[39m np\u001b[38;5;241m.\u001b[39mstack((a,b))\n",
      "File \u001b[0;32m~/anaconda3/lib/python3.11/site-packages/numpy/core/shape_base.py:449\u001b[0m, in \u001b[0;36mstack\u001b[0;34m(arrays, axis, out, dtype, casting)\u001b[0m\n\u001b[1;32m    447\u001b[0m shapes \u001b[38;5;241m=\u001b[39m {arr\u001b[38;5;241m.\u001b[39mshape \u001b[38;5;28;01mfor\u001b[39;00m arr \u001b[38;5;129;01min\u001b[39;00m arrays}\n\u001b[1;32m    448\u001b[0m \u001b[38;5;28;01mif\u001b[39;00m \u001b[38;5;28mlen\u001b[39m(shapes) \u001b[38;5;241m!=\u001b[39m \u001b[38;5;241m1\u001b[39m:\n\u001b[0;32m--> 449\u001b[0m     \u001b[38;5;28;01mraise\u001b[39;00m \u001b[38;5;167;01mValueError\u001b[39;00m(\u001b[38;5;124m'\u001b[39m\u001b[38;5;124mall input arrays must have the same shape\u001b[39m\u001b[38;5;124m'\u001b[39m)\n\u001b[1;32m    451\u001b[0m result_ndim \u001b[38;5;241m=\u001b[39m arrays[\u001b[38;5;241m0\u001b[39m]\u001b[38;5;241m.\u001b[39mndim \u001b[38;5;241m+\u001b[39m \u001b[38;5;241m1\u001b[39m\n\u001b[1;32m    452\u001b[0m axis \u001b[38;5;241m=\u001b[39m normalize_axis_index(axis, result_ndim)\n",
      "\u001b[0;31mValueError\u001b[0m: all input arrays must have the same shape"
     ]
    }
   ],
   "source": [
    "# Example 1\n",
    "a = np.array([10,20,30])\n",
    "b = np.array([40,50,60,70])\n",
    "c = np.stack((a,b))"
   ]
  },
  {
   "cell_type": "markdown",
   "id": "d0b0a6a6",
   "metadata": {},
   "source": [
    "#### axis=0 --> row-wise stacking"
   ]
  },
  {
   "cell_type": "code",
   "execution_count": 52,
   "id": "c4fb3eb3",
   "metadata": {},
   "outputs": [
    {
     "name": "stdout",
     "output_type": "stream",
     "text": [
      "[[10 20 30]\n",
      " [40 50 60]]\n"
     ]
    }
   ],
   "source": [
    "a = np.array([10,20,30])\n",
    "b = np.array([40,50,60])\n",
    "c = np.stack((a,b))\n",
    "print(c)"
   ]
  },
  {
   "cell_type": "markdown",
   "id": "3d865d42",
   "metadata": {},
   "source": [
    "#### axis=1 --> column-wise stacking\n"
   ]
  },
  {
   "cell_type": "code",
   "execution_count": 53,
   "id": "c646aaf0",
   "metadata": {},
   "outputs": [
    {
     "name": "stdout",
     "output_type": "stream",
     "text": [
      "[[10 40]\n",
      " [20 50]\n",
      " [30 60]]\n"
     ]
    }
   ],
   "source": [
    "a = np.array([10,20,30])\n",
    "b = np.array([40,50,60])\n",
    "c = np.stack((a,b),axis=1)\n",
    "print(c)"
   ]
  },
  {
   "cell_type": "code",
   "execution_count": null,
   "id": "3b24b952",
   "metadata": {},
   "outputs": [],
   "source": []
  }
 ],
 "metadata": {
  "kernelspec": {
   "display_name": "Python 3 (ipykernel)",
   "language": "python",
   "name": "python3"
  },
  "language_info": {
   "codemirror_mode": {
    "name": "ipython",
    "version": 3
   },
   "file_extension": ".py",
   "mimetype": "text/x-python",
   "name": "python",
   "nbconvert_exporter": "python",
   "pygments_lexer": "ipython3",
   "version": "3.11.7"
  }
 },
 "nbformat": 4,
 "nbformat_minor": 5
}
