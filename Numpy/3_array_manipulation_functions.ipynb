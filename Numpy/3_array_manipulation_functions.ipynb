{
 "cells": [
  {
   "cell_type": "markdown",
   "id": "94d9f5fe-2f90-45fb-a9ed-c8bf7c3eb488",
   "metadata": {},
   "source": [
    "# Array Manipulation Functions"
   ]
  },
  {
   "cell_type": "code",
   "execution_count": 1,
   "id": "b9445e23-b484-419c-bc4e-927f1f142fbd",
   "metadata": {},
   "outputs": [],
   "source": [
    "import numpy as np "
   ]
  },
  {
   "cell_type": "markdown",
   "id": "c288f0fe-23a8-41d3-8641-1bbd9e179078",
   "metadata": {},
   "source": [
    "## 1. reshape() \n",
    "- **Condition:** Data should not change **==>** input size and output size must match\n",
    "- **np.reshape()**  : Numpy Library Function\n",
    "- **array.reshape()** : ndarray class method"
   ]
  },
  {
   "cell_type": "markdown",
   "id": "dc944dda-85e4-42f3-a7ff-7bb0dd60316e",
   "metadata": {},
   "source": [
    "#### 1A. 1-D Array"
   ]
  },
  {
   "cell_type": "code",
   "execution_count": 22,
   "id": "f661087c-c17f-440b-95c1-3bc47bddbd17",
   "metadata": {},
   "outputs": [
    {
     "name": "stdout",
     "output_type": "stream",
     "text": [
      "[15 58 58 72 30 31  1 72 91 24]\n",
      "Shape: (10,)\n",
      "Size: 10\n",
      "[[15 58]\n",
      " [58 72]\n",
      " [30 31]\n",
      " [ 1 72]\n",
      " [91 24]]\n"
     ]
    }
   ],
   "source": [
    "# creating 1-D array \n",
    "a = np.random.randint(1,101,10) \n",
    "print(a) \n",
    "print('Shape:',a.shape)\n",
    "print('Size:',a.size)\n",
    "# reshaping 1-D Array to 2-D Array \n",
    "b = np.reshape(a,(5,2))\n",
    "print(b)"
   ]
  },
  {
   "cell_type": "code",
   "execution_count": 5,
   "id": "f1f3cbb0-1881-4211-80d5-910926e7cfa6",
   "metadata": {},
   "outputs": [
    {
     "name": "stdout",
     "output_type": "stream",
     "text": [
      "Help on _ArrayFunctionDispatcher in module numpy:\n",
      "\n",
      "reshape(a, newshape, order='C')\n",
      "    Gives a new shape to an array without changing its data.\n",
      "    \n",
      "    Parameters\n",
      "    ----------\n",
      "    a : array_like\n",
      "        Array to be reshaped.\n",
      "    newshape : int or tuple of ints\n",
      "        The new shape should be compatible with the original shape. If\n",
      "        an integer, then the result will be a 1-D array of that length.\n",
      "        One shape dimension can be -1. In this case, the value is\n",
      "        inferred from the length of the array and remaining dimensions.\n",
      "    order : {'C', 'F', 'A'}, optional\n",
      "        Read the elements of `a` using this index order, and place the\n",
      "        elements into the reshaped array using this index order.  'C'\n",
      "        means to read / write the elements using C-like index order,\n",
      "        with the last axis index changing fastest, back to the first\n",
      "        axis index changing slowest. 'F' means to read / write the\n",
      "        elements using Fortran-like index order, with the first index\n",
      "        changing fastest, and the last index changing slowest. Note that\n",
      "        the 'C' and 'F' options take no account of the memory layout of\n",
      "        the underlying array, and only refer to the order of indexing.\n",
      "        'A' means to read / write the elements in Fortran-like index\n",
      "        order if `a` is Fortran *contiguous* in memory, C-like order\n",
      "        otherwise.\n",
      "    \n",
      "    Returns\n",
      "    -------\n",
      "    reshaped_array : ndarray\n",
      "        This will be a new view object if possible; otherwise, it will\n",
      "        be a copy.  Note there is no guarantee of the *memory layout* (C- or\n",
      "        Fortran- contiguous) of the returned array.\n",
      "    \n",
      "    See Also\n",
      "    --------\n",
      "    ndarray.reshape : Equivalent method.\n",
      "    \n",
      "    Notes\n",
      "    -----\n",
      "    It is not always possible to change the shape of an array without copying\n",
      "    the data.\n",
      "    \n",
      "    The `order` keyword gives the index ordering both for *fetching* the values\n",
      "    from `a`, and then *placing* the values into the output array.\n",
      "    For example, let's say you have an array:\n",
      "    \n",
      "    >>> a = np.arange(6).reshape((3, 2))\n",
      "    >>> a\n",
      "    array([[0, 1],\n",
      "           [2, 3],\n",
      "           [4, 5]])\n",
      "    \n",
      "    You can think of reshaping as first raveling the array (using the given\n",
      "    index order), then inserting the elements from the raveled array into the\n",
      "    new array using the same kind of index ordering as was used for the\n",
      "    raveling.\n",
      "    \n",
      "    >>> np.reshape(a, (2, 3)) # C-like index ordering\n",
      "    array([[0, 1, 2],\n",
      "           [3, 4, 5]])\n",
      "    >>> np.reshape(np.ravel(a), (2, 3)) # equivalent to C ravel then C reshape\n",
      "    array([[0, 1, 2],\n",
      "           [3, 4, 5]])\n",
      "    >>> np.reshape(a, (2, 3), order='F') # Fortran-like index ordering\n",
      "    array([[0, 4, 3],\n",
      "           [2, 1, 5]])\n",
      "    >>> np.reshape(np.ravel(a, order='F'), (2, 3), order='F')\n",
      "    array([[0, 4, 3],\n",
      "           [2, 1, 5]])\n",
      "    \n",
      "    Examples\n",
      "    --------\n",
      "    >>> a = np.array([[1,2,3], [4,5,6]])\n",
      "    >>> np.reshape(a, 6)\n",
      "    array([1, 2, 3, 4, 5, 6])\n",
      "    >>> np.reshape(a, 6, order='F')\n",
      "    array([1, 4, 2, 5, 3, 6])\n",
      "    \n",
      "    >>> np.reshape(a, (3,-1))       # the unspecified value is inferred to be 2\n",
      "    array([[1, 2],\n",
      "           [3, 4],\n",
      "           [5, 6]])\n",
      "\n"
     ]
    }
   ],
   "source": [
    "help(np.reshape)"
   ]
  },
  {
   "cell_type": "markdown",
   "id": "794747d3-abb7-4c69-8e15-e36e6d3d6471",
   "metadata": {},
   "source": [
    "#### 1B. 2-D Array"
   ]
  },
  {
   "cell_type": "code",
   "execution_count": 24,
   "id": "9eadbbeb-67bc-4f7b-a6c6-808045a48438",
   "metadata": {},
   "outputs": [
    {
     "name": "stdout",
     "output_type": "stream",
     "text": [
      "[ 96  50  66  74  48  27   5  85  31  50   4  37  48  44  39  27  55  42\n",
      "  62  51   4   7 100  43]\n",
      "Shape: (24,)\n",
      "Size: 24\n",
      "Dimentions: 1\n"
     ]
    }
   ],
   "source": [
    "# creating 1-D Array \n",
    "a = np.random.randint(1,101,24)\n",
    "print(a)\n",
    "print('Shape:',a.shape)\n",
    "print('Size:',a.size)\n",
    "print('Dimentions:',a.ndim)"
   ]
  },
  {
   "cell_type": "code",
   "execution_count": 25,
   "id": "05588f17-6a81-4320-924b-381c9017181b",
   "metadata": {},
   "outputs": [
    {
     "name": "stdout",
     "output_type": "stream",
     "text": [
      "[[ 96  50  66  74  48  27   5  85]\n",
      " [ 31  50   4  37  48  44  39  27]\n",
      " [ 55  42  62  51   4   7 100  43]]\n",
      "Shape: (3, 8)\n",
      "Size: 24\n",
      "Dimentions: 2\n"
     ]
    }
   ],
   "source": [
    "# reshaping 1-D Array to 2-D Array\n",
    "b = np.reshape(a,(3,8))\n",
    "print(b)\n",
    "print('Shape:',b.shape)\n",
    "print('Size:',b.size)\n",
    "print('Dimentions:',b.ndim)"
   ]
  },
  {
   "cell_type": "code",
   "execution_count": 26,
   "id": "224d2ae2-cf34-4c8d-8ab6-9c4d1300eea5",
   "metadata": {},
   "outputs": [
    {
     "name": "stdout",
     "output_type": "stream",
     "text": [
      "[[[ 96  50  66  74]\n",
      "  [ 48  27   5  85]\n",
      "  [ 31  50   4  37]]\n",
      "\n",
      " [[ 48  44  39  27]\n",
      "  [ 55  42  62  51]\n",
      "  [  4   7 100  43]]]\n",
      "Shape: (2, 3, 4)\n",
      "Size: 24\n",
      "Dimentions: 3\n"
     ]
    }
   ],
   "source": [
    "# reshaping 2-D Array to 3-D Array\n",
    "c = np.reshape(b,(2,3,4))\n",
    "print(c)\n",
    "print('Shape:',c.shape)\n",
    "print('Size:',c.size)\n",
    "print('Dimentions:',c.ndim)"
   ]
  },
  {
   "cell_type": "code",
   "execution_count": 28,
   "id": "001b4742-f973-44f8-a2ee-cdd6765ff1ab",
   "metadata": {},
   "outputs": [
    {
     "name": "stdout",
     "output_type": "stream",
     "text": [
      "[[[[ 96  50  66]\n",
      "   [ 74  48  27]]\n",
      "\n",
      "  [[  5  85  31]\n",
      "   [ 50   4  37]]]\n",
      "\n",
      "\n",
      " [[[ 48  44  39]\n",
      "   [ 27  55  42]]\n",
      "\n",
      "  [[ 62  51   4]\n",
      "   [  7 100  43]]]]\n",
      "Shape: (2, 2, 2, 3)\n",
      "Size 24\n",
      "Dimentions: 4\n"
     ]
    }
   ],
   "source": [
    "# reshaping 2-D Array to 4-D Array \n",
    "e = np.reshape(b,(2,2,2,3))\n",
    "print(e) \n",
    "print('Shape:',e.shape)\n",
    "print('Size',e.size)\n",
    "print('Dimentions:',e.ndim)"
   ]
  },
  {
   "cell_type": "code",
   "execution_count": 27,
   "id": "5572442c-8854-4073-ba92-c8a41db724a7",
   "metadata": {},
   "outputs": [
    {
     "name": "stdout",
     "output_type": "stream",
     "text": [
      "[[ 96  50  66  74  48  27]\n",
      " [  5  85  31  50   4  37]\n",
      " [ 48  44  39  27  55  42]\n",
      " [ 62  51   4   7 100  43]]\n",
      "Shape: (4, 6)\n",
      "Size 24\n",
      "Dimentions: 2\n"
     ]
    }
   ],
   "source": [
    "# reshaping 2-D Array to 2-D Array of Different Shape \n",
    "d = np.reshape(b,(4,6))\n",
    "print(d)\n",
    "print('Shape:',d.shape)\n",
    "print('Size',d.size)\n",
    "print('Dimentions:',d.ndim)"
   ]
  },
  {
   "cell_type": "code",
   "execution_count": 29,
   "id": "bb63991a-4aba-4363-8548-0309650656fa",
   "metadata": {},
   "outputs": [
    {
     "name": "stdout",
     "output_type": "stream",
     "text": [
      "[[ 96  50  66  74]\n",
      " [ 48  27   5  85]\n",
      " [ 31  50   4  37]\n",
      " [ 48  44  39  27]\n",
      " [ 55  42  62  51]\n",
      " [  4   7 100  43]]\n",
      "Shape: (6, 4)\n",
      "Size 24\n",
      "Dimentions: 2\n"
     ]
    }
   ],
   "source": [
    "# reshaping 2-D Array to 2-D Array of Different Shape \n",
    "d = np.reshape(b,(6,4))\n",
    "print(d)\n",
    "print('Shape:',d.shape)\n",
    "print('Size',d.size)\n",
    "print('Dimentions:',d.ndim)"
   ]
  },
  {
   "cell_type": "code",
   "execution_count": 30,
   "id": "ce960e2c-4f68-445c-9ca7-d01a0adc4b02",
   "metadata": {},
   "outputs": [
    {
     "name": "stdout",
     "output_type": "stream",
     "text": [
      "[[ 96  50  66]\n",
      " [ 74  48  27]\n",
      " [  5  85  31]\n",
      " [ 50   4  37]\n",
      " [ 48  44  39]\n",
      " [ 27  55  42]\n",
      " [ 62  51   4]\n",
      " [  7 100  43]]\n",
      "Shape: (8, 3)\n",
      "Size 24\n",
      "Dimentions: 2\n"
     ]
    }
   ],
   "source": [
    "# reshaping 2-D Array to 2-D Array of Different Shape \n",
    "d = np.reshape(b,(8,3))\n",
    "print(d)\n",
    "print('Shape:',d.shape)\n",
    "print('Size',d.size)\n",
    "print('Dimentions:',d.ndim)"
   ]
  },
  {
   "cell_type": "markdown",
   "id": "769e6351-9f2a-4527-986c-9bea5a5194dc",
   "metadata": {},
   "source": [
    "#### 1C. View of Original only\n",
    "- ***No New Object is Created***\n",
    "- ***Change in One is reflected in the other***"
   ]
  },
  {
   "cell_type": "code",
   "execution_count": 32,
   "id": "7360308d-188c-4a98-944b-d638846b8dd9",
   "metadata": {},
   "outputs": [
    {
     "name": "stdout",
     "output_type": "stream",
     "text": [
      "[7777   50   66   74   48   27    5   85   31   50    4   37   48   44\n",
      "   39   27   55   42   62   51    4    7  100   43]\n"
     ]
    }
   ],
   "source": [
    "a[0] = 7777\n",
    "print(a)"
   ]
  },
  {
   "cell_type": "code",
   "execution_count": 33,
   "id": "a5d3640f-3523-4bc2-af45-45c35c68fc3e",
   "metadata": {},
   "outputs": [
    {
     "name": "stdout",
     "output_type": "stream",
     "text": [
      "[[7777   50   66   74   48   27    5   85]\n",
      " [  31   50    4   37   48   44   39   27]\n",
      " [  55   42   62   51    4    7  100   43]]\n"
     ]
    }
   ],
   "source": [
    "print(b)"
   ]
  },
  {
   "cell_type": "code",
   "execution_count": 34,
   "id": "9648350c-3b3d-4abb-8ccc-3f0f0aeda09f",
   "metadata": {},
   "outputs": [
    {
     "name": "stdout",
     "output_type": "stream",
     "text": [
      "[[[7777   50   66   74]\n",
      "  [  48   27    5   85]\n",
      "  [  31   50    4   37]]\n",
      "\n",
      " [[  48   44   39   27]\n",
      "  [  55   42   62   51]\n",
      "  [   4    7  100   43]]]\n"
     ]
    }
   ],
   "source": [
    "print(c)"
   ]
  },
  {
   "cell_type": "code",
   "execution_count": 35,
   "id": "333fa305-ecc3-4eb9-a2d8-43876ec5c9ed",
   "metadata": {},
   "outputs": [
    {
     "name": "stdout",
     "output_type": "stream",
     "text": [
      "[[7777   50   66]\n",
      " [  74   48   27]\n",
      " [   5   85   31]\n",
      " [  50    4   37]\n",
      " [  48   44   39]\n",
      " [  27   55   42]\n",
      " [  62   51    4]\n",
      " [   7  100   43]]\n"
     ]
    }
   ],
   "source": [
    "print(d)"
   ]
  },
  {
   "cell_type": "code",
   "execution_count": 36,
   "id": "fbb334d9-4acd-4eaa-9ec4-d66d571265a5",
   "metadata": {},
   "outputs": [
    {
     "name": "stdout",
     "output_type": "stream",
     "text": [
      "[[[[7777   50   66]\n",
      "   [  74   48   27]]\n",
      "\n",
      "  [[   5   85   31]\n",
      "   [  50    4   37]]]\n",
      "\n",
      "\n",
      " [[[  48   44   39]\n",
      "   [  27   55   42]]\n",
      "\n",
      "  [[  62   51    4]\n",
      "   [   7  100   43]]]]\n"
     ]
    }
   ],
   "source": [
    "print(e)"
   ]
  },
  {
   "cell_type": "code",
   "execution_count": 38,
   "id": "63a1cbff-9673-4a6f-ae20-d4721ea839d9",
   "metadata": {},
   "outputs": [
    {
     "name": "stdout",
     "output_type": "stream",
     "text": [
      "[[7777   50   66   74   48   27    5   85]\n",
      " [  31   50    4   37   48   44   39   27]\n",
      " [9999   42   62   51    4    7  100   43]]\n"
     ]
    }
   ],
   "source": [
    "b[2][0] = 9999\n",
    "print(b)"
   ]
  },
  {
   "cell_type": "code",
   "execution_count": 39,
   "id": "26484a7a-e13d-445e-8a26-9f6a0014ace4",
   "metadata": {},
   "outputs": [
    {
     "name": "stdout",
     "output_type": "stream",
     "text": [
      "[7777   50   66   74   48   27    5   85   31   50    4   37   48   44\n",
      "   39   27 9999   42   62   51    4    7  100   43]\n"
     ]
    }
   ],
   "source": [
    "print(a)"
   ]
  },
  {
   "cell_type": "code",
   "execution_count": 40,
   "id": "8ef86f9c-b528-4c0e-b44d-ed7345f93b04",
   "metadata": {},
   "outputs": [
    {
     "name": "stdout",
     "output_type": "stream",
     "text": [
      "[[[7777   50   66   74]\n",
      "  [  48   27    5   85]\n",
      "  [  31   50    4   37]]\n",
      "\n",
      " [[  48   44   39   27]\n",
      "  [9999   42   62   51]\n",
      "  [   4    7  100   43]]]\n"
     ]
    }
   ],
   "source": [
    "print(c)"
   ]
  },
  {
   "cell_type": "code",
   "execution_count": 41,
   "id": "3fb94acd-4fe0-4283-bdce-2dbeeb93b052",
   "metadata": {},
   "outputs": [
    {
     "name": "stdout",
     "output_type": "stream",
     "text": [
      "[[7777   50   66]\n",
      " [  74   48   27]\n",
      " [   5   85   31]\n",
      " [  50    4   37]\n",
      " [  48   44   39]\n",
      " [  27 9999   42]\n",
      " [  62   51    4]\n",
      " [   7  100   43]]\n"
     ]
    }
   ],
   "source": [
    "print(d)"
   ]
  },
  {
   "cell_type": "code",
   "execution_count": 42,
   "id": "943de9ca-5242-4033-b2ea-4a0738e82991",
   "metadata": {},
   "outputs": [
    {
     "name": "stdout",
     "output_type": "stream",
     "text": [
      "[[[[7777   50   66]\n",
      "   [  74   48   27]]\n",
      "\n",
      "  [[   5   85   31]\n",
      "   [  50    4   37]]]\n",
      "\n",
      "\n",
      " [[[  48   44   39]\n",
      "   [  27 9999   42]]\n",
      "\n",
      "  [[  62   51    4]\n",
      "   [   7  100   43]]]]\n"
     ]
    }
   ],
   "source": [
    "print(e)"
   ]
  },
  {
   "cell_type": "markdown",
   "id": "75548cc9-2d13-4644-aed4-6b99d7a1c57d",
   "metadata": {},
   "source": [
    "#### 1D. Taking Unknown Dimention Size as -1\n",
    "- ***Value decided by Numpy automatically***\n",
    "- ***Allowed Only Once***"
   ]
  },
  {
   "cell_type": "code",
   "execution_count": 52,
   "id": "9e1f5f34-9198-448d-864f-5ac3c3680b0a",
   "metadata": {},
   "outputs": [
    {
     "name": "stdout",
     "output_type": "stream",
     "text": [
      "[18 32 69 13 18 97  9 22  1 48 19 83]\n",
      "Shape (12,)\n"
     ]
    }
   ],
   "source": [
    "a = np.random.randint(1,101,12)\n",
    "print(a)\n",
    "print('Shape',a.shape)"
   ]
  },
  {
   "cell_type": "code",
   "execution_count": 53,
   "id": "3f0589f3-938e-40d1-ba8c-7c632836fcc3",
   "metadata": {},
   "outputs": [
    {
     "name": "stdout",
     "output_type": "stream",
     "text": [
      "[[18 32]\n",
      " [69 13]\n",
      " [18 97]\n",
      " [ 9 22]\n",
      " [ 1 48]\n",
      " [19 83]]\n",
      "Shape (12,)\n"
     ]
    }
   ],
   "source": [
    "b = np.reshape(a,(6,-1))\n",
    "print(b)\n",
    "print('Shape',b.shape)"
   ]
  },
  {
   "cell_type": "code",
   "execution_count": 54,
   "id": "219c873a-e238-460a-ba6c-b63d4be25679",
   "metadata": {},
   "outputs": [
    {
     "name": "stdout",
     "output_type": "stream",
     "text": [
      "[[18 32 69 13]\n",
      " [18 97  9 22]\n",
      " [ 1 48 19 83]]\n",
      "Shape (3, 4)\n"
     ]
    }
   ],
   "source": [
    "b = np.reshape(a,(3,-1))\n",
    "print(b)\n",
    "print('Shape',b.shape)"
   ]
  },
  {
   "cell_type": "code",
   "execution_count": 55,
   "id": "550388aa-3652-4c5a-b41d-f689c87be903",
   "metadata": {},
   "outputs": [
    {
     "name": "stdout",
     "output_type": "stream",
     "text": [
      "[[18 32 69 13 18 97]\n",
      " [ 9 22  1 48 19 83]]\n",
      "Shape (2, 6)\n"
     ]
    }
   ],
   "source": [
    "b = np.reshape(a,(-1,6))\n",
    "print(b)\n",
    "print('Shape',b.shape)"
   ]
  },
  {
   "cell_type": "code",
   "execution_count": 56,
   "id": "545facc9-ae1e-4ad2-806b-858278257a0a",
   "metadata": {},
   "outputs": [
    {
     "name": "stdout",
     "output_type": "stream",
     "text": [
      "[[18 32 69]\n",
      " [13 18 97]\n",
      " [ 9 22  1]\n",
      " [48 19 83]]\n",
      "Shape (4, 3)\n"
     ]
    }
   ],
   "source": [
    "b = np.reshape(a,(-1,3))\n",
    "print(b)\n",
    "print('Shape',b.shape)"
   ]
  },
  {
   "cell_type": "code",
   "execution_count": 58,
   "id": "b49a1ef2-31a6-4f10-b0e1-dc0314e5a568",
   "metadata": {},
   "outputs": [
    {
     "name": "stdout",
     "output_type": "stream",
     "text": [
      "[[[18 32]\n",
      "  [69 13]\n",
      "  [18 97]]\n",
      "\n",
      " [[ 9 22]\n",
      "  [ 1 48]\n",
      "  [19 83]]]\n",
      "Shape (2, 3, 2)\n"
     ]
    }
   ],
   "source": [
    "c = np.reshape(a,(2,3,-1))\n",
    "print(c)\n",
    "print('Shape',c.shape)"
   ]
  },
  {
   "cell_type": "code",
   "execution_count": 59,
   "id": "4408c02d-9e1a-4595-b75b-55f29686a15d",
   "metadata": {},
   "outputs": [
    {
     "name": "stdout",
     "output_type": "stream",
     "text": [
      "[[[18 32 69]\n",
      "  [13 18 97]]\n",
      "\n",
      " [[ 9 22  1]\n",
      "  [48 19 83]]]\n",
      "Shape (2, 2, 3)\n"
     ]
    }
   ],
   "source": [
    "c = np.reshape(a,(2,-1,3))\n",
    "print(c)\n",
    "print('Shape',c.shape)"
   ]
  },
  {
   "cell_type": "code",
   "execution_count": 61,
   "id": "24f6281b-a9c8-469b-a447-a87eba668f28",
   "metadata": {},
   "outputs": [
    {
     "name": "stdout",
     "output_type": "stream",
     "text": [
      "[[[18 32]\n",
      "  [69 13]]\n",
      "\n",
      " [[18 97]\n",
      "  [ 9 22]]\n",
      "\n",
      " [[ 1 48]\n",
      "  [19 83]]]\n",
      "Shape (3, 2, 2)\n"
     ]
    }
   ],
   "source": [
    "c = np.reshape(a,(-1,2,2))\n",
    "print(c)\n",
    "print('Shape',c.shape)"
   ]
  },
  {
   "cell_type": "markdown",
   "id": "099b7004-ca57-4e39-b9e9-192313ffcb03",
   "metadata": {},
   "source": [
    "#### 1E. ValueError : Different Cases"
   ]
  },
  {
   "cell_type": "code",
   "execution_count": 57,
   "id": "f294250a-2295-48db-9497-3bf9ba25ef92",
   "metadata": {},
   "outputs": [],
   "source": [
    "# b = np.reshape(a,(-1,-1))\n",
    "# ValueError: can only specify one unknown dimension"
   ]
  },
  {
   "cell_type": "code",
   "execution_count": 63,
   "id": "f13f7ced-fd44-40a6-b538-e98c830d1038",
   "metadata": {},
   "outputs": [],
   "source": [
    "# c = np.reshape(a,(5,-1))\n",
    "# ValueError: cannot reshape array of size 12 into shape (5,newaxis)"
   ]
  },
  {
   "cell_type": "markdown",
   "id": "3c3222ab-7c40-455a-9697-6e1bda36fb89",
   "metadata": {},
   "source": [
    "#### 1F. order Argument (Optional)\n",
    "- order='C' (Default): C Style : Row Major Order\n",
    "- order='F' : Fortran Styly : Column Manor Order\n",
    "- order='A' : Fortran Styly "
   ]
  },
  {
   "cell_type": "code",
   "execution_count": 78,
   "id": "36d07a46-7584-4ba4-a8d4-d6487dcdb921",
   "metadata": {},
   "outputs": [
    {
     "name": "stdout",
     "output_type": "stream",
     "text": [
      "[[ 0  1  2  3]\n",
      " [ 4  5  6  7]\n",
      " [ 8  9 10 11]]\n"
     ]
    }
   ],
   "source": [
    "# Example 1 \n",
    "a = np.arange(12).reshape(3,4)\n",
    "print(a)"
   ]
  },
  {
   "cell_type": "code",
   "execution_count": 80,
   "id": "32669195-cac1-4948-ad3b-177523725426",
   "metadata": {},
   "outputs": [
    {
     "name": "stdout",
     "output_type": "stream",
     "text": [
      "[ 0  1  2  3  4  5  6  7  8  9 10 11]\n",
      "[ 0  1  2  3  4  5  6  7  8  9 10 11]\n"
     ]
    }
   ],
   "source": [
    "# order='C'\n",
    "b = np.reshape(a,(12,),'C')\n",
    "print(b)\n",
    "b = np.reshape(a,(12,))\n",
    "print(b)"
   ]
  },
  {
   "cell_type": "code",
   "execution_count": 81,
   "id": "c11f975f-7bbd-4a38-938e-f745e7da310b",
   "metadata": {},
   "outputs": [
    {
     "name": "stdout",
     "output_type": "stream",
     "text": [
      "[ 0  4  8  1  5  9  2  6 10  3  7 11]\n"
     ]
    }
   ],
   "source": [
    "# order='F'\n",
    "c = np.reshape(a,(12,),'F')\n",
    "print(c)"
   ]
  },
  {
   "cell_type": "code",
   "execution_count": 75,
   "id": "a4cb26ca-cc3d-4347-bdc4-8261694b0ce1",
   "metadata": {},
   "outputs": [
    {
     "name": "stdout",
     "output_type": "stream",
     "text": [
      "[ 0  1  2  3  4  5  6  7  8  9 10 11 12 13 14 15 16 17 18 19 20 21 22 23]\n"
     ]
    }
   ],
   "source": [
    "# Example 2\n",
    "a = np.arange(24)\n",
    "print(a)"
   ]
  },
  {
   "cell_type": "code",
   "execution_count": 76,
   "id": "80ec0405-aeed-476d-8478-b7ff811841f3",
   "metadata": {},
   "outputs": [
    {
     "name": "stdout",
     "output_type": "stream",
     "text": [
      "[[ 0  1  2  3]\n",
      " [ 4  5  6  7]\n",
      " [ 8  9 10 11]\n",
      " [12 13 14 15]\n",
      " [16 17 18 19]\n",
      " [20 21 22 23]]\n"
     ]
    }
   ],
   "source": [
    "b = np.reshape(a,(6,4))\n",
    "print(b)"
   ]
  },
  {
   "cell_type": "code",
   "execution_count": 77,
   "id": "39e87a96-233d-4980-ab17-3782b909ca23",
   "metadata": {},
   "outputs": [
    {
     "name": "stdout",
     "output_type": "stream",
     "text": [
      "[[ 0  6 12 18]\n",
      " [ 1  7 13 19]\n",
      " [ 2  8 14 20]\n",
      " [ 3  9 15 21]\n",
      " [ 4 10 16 22]\n",
      " [ 5 11 17 23]]\n"
     ]
    }
   ],
   "source": [
    "c = np.reshape(a,(6,4),'F')\n",
    "print(c)"
   ]
  },
  {
   "cell_type": "markdown",
   "id": "e056768b-a58e-4c7f-af76-21286cd13b70",
   "metadata": {},
   "source": [
    "## 2. resize()\n",
    "- Input Size and Output Size need not match\n",
    "- The Data may change\n",
    "- We will get **Copy** , not view\n",
    "- **np.resize()** : repeats elements of input array\n",
    "- **array.resize()** : uses **zero** for **extra elements**, **Inline Modification**\n",
    "- Taking Unknown Dimention Size as -1 is **not applicable**"
   ]
  },
  {
   "cell_type": "code",
   "execution_count": 100,
   "id": "d7793961-e579-4dbd-adba-f299408e1b95",
   "metadata": {},
   "outputs": [],
   "source": [
    "# help(np.resize) "
   ]
  },
  {
   "cell_type": "code",
   "execution_count": 83,
   "id": "07e725ba-0b28-4d21-b818-ef68b2ef6038",
   "metadata": {},
   "outputs": [
    {
     "name": "stdout",
     "output_type": "stream",
     "text": [
      "[1 2 3 4 5]\n"
     ]
    }
   ],
   "source": [
    "a = np.arange(1,6)\n",
    "print(a)"
   ]
  },
  {
   "cell_type": "code",
   "execution_count": 85,
   "id": "59eb973f-e028-4560-8ae3-b25eca4ba498",
   "metadata": {},
   "outputs": [
    {
     "name": "stdout",
     "output_type": "stream",
     "text": [
      "[[1 2 3]\n",
      " [4 5 1]]\n"
     ]
    }
   ],
   "source": [
    "b = np.resize(a,(2,3))\n",
    "print(b)"
   ]
  },
  {
   "cell_type": "markdown",
   "id": "4be41026-9a61-4b7d-b7c7-3912c9b49163",
   "metadata": {},
   "source": [
    "#### 2A. np.resize()\n",
    "**repeats elements of input array**"
   ]
  },
  {
   "cell_type": "code",
   "execution_count": 86,
   "id": "19ccb07c-a7bf-489f-9d7a-d6be258d95ba",
   "metadata": {},
   "outputs": [
    {
     "name": "stdout",
     "output_type": "stream",
     "text": [
      "[[1 2 3]\n",
      " [4 5 1]\n",
      " [2 3 4]\n",
      " [5 1 2]]\n"
     ]
    }
   ],
   "source": [
    "b = np.resize(a,(4,3))\n",
    "print(b)"
   ]
  },
  {
   "cell_type": "markdown",
   "id": "72ef44f9-b086-4117-b964-f64c9d13a57e",
   "metadata": {},
   "source": [
    "#### 2B. Copy but not View\n",
    "- **change in one does not affect the other**"
   ]
  },
  {
   "cell_type": "code",
   "execution_count": 89,
   "id": "39dc9f26-38df-46e0-a3b9-d32dec9147bc",
   "metadata": {},
   "outputs": [
    {
     "name": "stdout",
     "output_type": "stream",
     "text": [
      "[7777    2    3    4    5]\n"
     ]
    }
   ],
   "source": [
    "a[0] = 7777\n",
    "print(a)"
   ]
  },
  {
   "cell_type": "code",
   "execution_count": 90,
   "id": "f04e1cd4-e1bd-4005-a041-16bdcea7b13b",
   "metadata": {},
   "outputs": [
    {
     "name": "stdout",
     "output_type": "stream",
     "text": [
      "[[1 2 3]\n",
      " [4 5 1]\n",
      " [2 3 4]\n",
      " [5 1 2]]\n"
     ]
    }
   ],
   "source": [
    "print(b)"
   ]
  },
  {
   "cell_type": "markdown",
   "id": "a1f08468-5acd-4611-8138-1881b533dbe3",
   "metadata": {},
   "source": [
    "#### 2C. Taking Unknown Dimention Size as -1 \n",
    "***not applicable***"
   ]
  },
  {
   "cell_type": "code",
   "execution_count": 93,
   "id": "9c6e821c-6132-4f80-ae0e-f07a901c2649",
   "metadata": {},
   "outputs": [],
   "source": [
    "# b = np.resize(a,(5,-1))\n",
    "# ValueError: all elements of `new_shape` must be non-negative"
   ]
  },
  {
   "cell_type": "markdown",
   "id": "8a5a6e91-e10f-499b-9d49-a63e2d2e960c",
   "metadata": {},
   "source": [
    "#### 2D. array.resize()\n",
    "- uses **zero** for extra elements\n",
    "- **Inline Modification**"
   ]
  },
  {
   "cell_type": "code",
   "execution_count": 94,
   "id": "589c0584-33b7-4b45-b82b-ce541d565329",
   "metadata": {},
   "outputs": [
    {
     "ename": "ValueError",
     "evalue": "cannot resize an array that references or is referenced\nby another array in this way.\nUse the np.resize function or refcheck=False",
     "output_type": "error",
     "traceback": [
      "\u001b[0;31m---------------------------------------------------------------------------\u001b[0m",
      "\u001b[0;31mValueError\u001b[0m                                Traceback (most recent call last)",
      "Cell \u001b[0;32mIn[94], line 1\u001b[0m\n\u001b[0;32m----> 1\u001b[0m b \u001b[38;5;241m=\u001b[39m a\u001b[38;5;241m.\u001b[39mresize(\u001b[38;5;241m5\u001b[39m,\u001b[38;5;241m3\u001b[39m)\n",
      "\u001b[0;31mValueError\u001b[0m: cannot resize an array that references or is referenced\nby another array in this way.\nUse the np.resize function or refcheck=False"
     ]
    }
   ],
   "source": [
    "b = a.resize(5,3)"
   ]
  },
  {
   "cell_type": "code",
   "execution_count": 98,
   "id": "9da0742b-2a7a-4e59-973c-d9b6c74170ce",
   "metadata": {},
   "outputs": [
    {
     "name": "stdout",
     "output_type": "stream",
     "text": [
      "[1 2 3 4 5]\n",
      "[[1 2 3]\n",
      " [4 5 0]\n",
      " [0 0 0]\n",
      " [0 0 0]\n",
      " [0 0 0]]\n",
      "None\n"
     ]
    }
   ],
   "source": [
    "a = np.arange(1,6)\n",
    "print(a)\n",
    "b = a.resize(5,3)\n",
    "print(a)\n",
    "# inline modification check \n",
    "print(b)"
   ]
  },
  {
   "cell_type": "code",
   "execution_count": null,
   "id": "b3796ece-f983-4fb6-9646-106a48f9ff1a",
   "metadata": {},
   "outputs": [],
   "source": []
  }
 ],
 "metadata": {
  "kernelspec": {
   "display_name": "Python 3 (ipykernel)",
   "language": "python",
   "name": "python3"
  },
  "language_info": {
   "codemirror_mode": {
    "name": "ipython",
    "version": 3
   },
   "file_extension": ".py",
   "mimetype": "text/x-python",
   "name": "python",
   "nbconvert_exporter": "python",
   "pygments_lexer": "ipython3",
   "version": "3.11.7"
  }
 },
 "nbformat": 4,
 "nbformat_minor": 5
}
