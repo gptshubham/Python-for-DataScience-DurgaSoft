{
 "cells": [
  {
   "cell_type": "markdown",
   "id": "c6eac9e2-7a77-4d17-8c65-4c1c5ec67743",
   "metadata": {},
   "source": [
    "## Creating Numpy Arrays"
   ]
  },
  {
   "cell_type": "markdown",
   "id": "29d383ef-c91d-494a-9ee3-de978c5e448e",
   "metadata": {},
   "source": [
    "#### 1. array()"
   ]
  },
  {
   "cell_type": "code",
   "execution_count": 41,
   "id": "50024747-89a4-4413-88e8-d8b15db84d9b",
   "metadata": {},
   "outputs": [
    {
     "name": "stdout",
     "output_type": "stream",
     "text": [
      "[10, 20, 30]\n",
      "<class 'list'>\n",
      "[10 20 30]\n",
      "<class 'numpy.ndarray'>\n",
      "1\n",
      "int64\n",
      "(3,)\n",
      "3\n"
     ]
    }
   ],
   "source": [
    "# 1-D Array using List\n",
    "import numpy as np\n",
    "L = [10,20,30]\n",
    "a = np.array(L)\n",
    "print(L)\n",
    "print(type(L))\n",
    "print(a)\n",
    "print(type(a))\n",
    "print(a.ndim)\n",
    "print(a.dtype)\n",
    "print(a.shape)      # (3,) --> (size of array , )\n",
    "print(a.size)\n",
    "# a1 = np.array(L,str)\n",
    "# print(a1.dtype)"
   ]
  },
  {
   "cell_type": "code",
   "execution_count": 11,
   "id": "5801d3b9-dedb-4ceb-a7d4-ba17d7c47318",
   "metadata": {},
   "outputs": [],
   "source": [
    "# import numpy as np\n",
    "# help(np.array)\n",
    "# array(object, dtype=None, *, copy=True, order='K', subok=False, ndmin=0,like=None)"
   ]
  },
  {
   "cell_type": "code",
   "execution_count": 42,
   "id": "c1654249-5e3b-4157-b99c-b6f62bcdb71a",
   "metadata": {},
   "outputs": [
    {
     "name": "stdout",
     "output_type": "stream",
     "text": [
      "<class 'numpy.ndarray'>\n",
      "2\n",
      "[[10 20 30]\n",
      " [40 50 60]\n",
      " [70 80 90]]\n",
      "(3, 3)\n",
      "9\n"
     ]
    }
   ],
   "source": [
    "# 2-D Array\n",
    "L = [[10,20,30],[40,50,60],[70,80,90]]\n",
    "a = np.array(L)\n",
    "print(type(a))\n",
    "print(a.ndim)\n",
    "print(a)\n",
    "print(a.shape)\n",
    "print(a.size)"
   ]
  },
  {
   "cell_type": "code",
   "execution_count": 43,
   "id": "cf6f06bb-8c83-480b-a07b-07fcfa387926",
   "metadata": {},
   "outputs": [
    {
     "name": "stdout",
     "output_type": "stream",
     "text": [
      "['shubham' 'kumar' 'gupta']\n",
      "<class 'numpy.ndarray'>\n",
      "1\n",
      "(3,)\n",
      "3\n",
      "<U7\n"
     ]
    }
   ],
   "source": [
    "# 1-D Array using Tuple\n",
    "t = ('shubham','kumar','gupta')\n",
    "a = np.array(t)\n",
    "print(a)\n",
    "print(type(a))\n",
    "print(a.ndim)\n",
    "print(a.shape)\n",
    "print(a.size)\n",
    "print(a.dtype)        # <U7 --> string"
   ]
  },
  {
   "cell_type": "code",
   "execution_count": 44,
   "id": "5041a019-1d06-4a1b-a3cd-4eb6698569e9",
   "metadata": {},
   "outputs": [
    {
     "name": "stdout",
     "output_type": "stream",
     "text": [
      "[7, 'Dhoni', 10, 'Sachin', 18, 'Kohli', 45, 'Rohit']\n",
      "['7' 'Dhoni' '10' 'Sachin' '18' 'Kohli' '45' 'Rohit']\n",
      "<U21\n",
      "[10.  20.  30.5]\n",
      "float64\n"
     ]
    }
   ],
   "source": [
    "# Homo Elements --> upcasting\n",
    "L = [7,'Dhoni',10,'Sachin',18,'Kohli',45,'Rohit']\n",
    "a = np.array(L)\n",
    "print(L)\n",
    "print(a)\n",
    "print(a.dtype)\n",
    "L1 = [10,20,30.5]\n",
    "a1 = np.array(L1)\n",
    "print(a1)\n",
    "print(a1.dtype)"
   ]
  },
  {
   "cell_type": "code",
   "execution_count": 51,
   "id": "9e1803cd-f227-496e-880b-6b06178ab59a",
   "metadata": {},
   "outputs": [
    {
     "name": "stdout",
     "output_type": "stream",
     "text": [
      "[10 20 30  0]\n",
      "[ True  True  True False]\n",
      "['10' '20' '30.5' '0']\n"
     ]
    }
   ],
   "source": [
    "# How to create an array of a particular type\n",
    "L1 = [10,20,30.5,0]\n",
    "a1 = np.array(L1,int)\n",
    "print(a1)\n",
    "a2 = np.array(L1,bool)\n",
    "print(a2)\n",
    "a3 = np.array(L1,str)\n",
    "print(a3)\n",
    "L2 = [7,'Dhoni',10,'Sachin',18,'Kohli',45,'Rohit']\n",
    "# a = np.array(L2,int)       # ValueError"
   ]
  },
  {
   "cell_type": "code",
   "execution_count": 57,
   "id": "849588b9-8b40-42fd-862d-a0795c9aab73",
   "metadata": {},
   "outputs": [
    {
     "name": "stdout",
     "output_type": "stream",
     "text": [
      "[7 'Dhoni' 10 'Sachin' 18 'Kohli' 45 'Rohit' True 10.5 (10+20j)]\n",
      "object\n",
      "['7' 'Dhoni' '10' 'Sachin' '18' 'Kohli' '45' 'Rohit' 'True' '10.5'\n",
      " '(10+20j)']\n",
      "<U64\n"
     ]
    }
   ],
   "source": [
    "# object type array --> Array with Heterogeneous Elements \n",
    "L = [7,'Dhoni',10,'Sachin',18,'Kohli',45,'Rohit',True,10.5,10+20j]\n",
    "a = np.array(L,object)\n",
    "print(a)\n",
    "print(a.dtype)\n",
    "a1 = np.array(L)\n",
    "print(a1)\n",
    "print(a1.dtype)"
   ]
  },
  {
   "cell_type": "code",
   "execution_count": null,
   "id": "fed75452-6190-405d-aeda-860562f86ec7",
   "metadata": {},
   "outputs": [],
   "source": []
  }
 ],
 "metadata": {
  "kernelspec": {
   "display_name": "Python 3 (ipykernel)",
   "language": "python",
   "name": "python3"
  },
  "language_info": {
   "codemirror_mode": {
    "name": "ipython",
    "version": 3
   },
   "file_extension": ".py",
   "mimetype": "text/x-python",
   "name": "python",
   "nbconvert_exporter": "python",
   "pygments_lexer": "ipython3",
   "version": "3.11.7"
  }
 },
 "nbformat": 4,
 "nbformat_minor": 5
}
