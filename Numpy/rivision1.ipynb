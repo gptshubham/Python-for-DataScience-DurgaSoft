{
 "cells": [
  {
   "cell_type": "code",
   "execution_count": 33,
   "id": "53a7300f-61a2-4c59-99d2-8a5390ea29c3",
   "metadata": {},
   "outputs": [],
   "source": [
    "import numpy as np"
   ]
  },
  {
   "cell_type": "code",
   "execution_count": 8,
   "id": "d827fd2f-1ce8-400f-9e9c-b38fc46542d2",
   "metadata": {},
   "outputs": [
    {
     "name": "stdout",
     "output_type": "stream",
     "text": [
      "[10. 20. 30.]\n",
      "1\n",
      "float64\n",
      "(3,)\n",
      "3\n"
     ]
    }
   ],
   "source": [
    "# array()\n",
    "L = [10,20,30]\n",
    "a = np.array(L,float)\n",
    "print(a)\n",
    "print(a.ndim)\n",
    "print(a.dtype)\n",
    "print(a.shape)\n",
    "print(a.size)"
   ]
  },
  {
   "cell_type": "code",
   "execution_count": 26,
   "id": "2be6a5e4-21c9-4e61-8d65-b9a85fb8e61e",
   "metadata": {},
   "outputs": [
    {
     "name": "stdout",
     "output_type": "stream",
     "text": [
      "[10. 12. 14. 16. 18. 20.]\n"
     ]
    }
   ],
   "source": [
    "# arange()\n",
    "a = np.arange(10,21,2,float)\n",
    "# dtype=str --> TypeError\n",
    "# dtype=bool --> TypeError\n",
    "print(a)"
   ]
  },
  {
   "cell_type": "code",
   "execution_count": 31,
   "id": "3a161ce5-718d-40f3-98b3-54dba2d2bd7e",
   "metadata": {},
   "outputs": [
    {
     "name": "stdout",
     "output_type": "stream",
     "text": [
      "['0' '2' '4' '6' '8' '10' '12' '14' '16' '18' '20']\n",
      "<U2\n",
      "[False  True  True  True  True  True  True  True  True  True  True]\n",
      "bool\n",
      "[ 0.  2.  4.  6.  8. 10. 12. 14. 16. 18. 20.]\n",
      "float64\n",
      "[ 0  2  4  6  8 10 12 14 16 18 20]\n",
      "int64\n"
     ]
    }
   ],
   "source": [
    "# Alternative of arange() --> array() is a better alternative of arange()\n",
    "a = np.array(range(0,21,2),str)\n",
    "print(a)\n",
    "print(a.dtype)\n",
    "a = np.array(range(0,21,2),bool)\n",
    "print(a)\n",
    "print(a.dtype)\n",
    "a = np.array(range(0,21,2),float)\n",
    "print(a)\n",
    "print(a.dtype)\n",
    "a = np.array(range(0,21,2))\n",
    "print(a)\n",
    "print(a.dtype)"
   ]
  },
  {
   "cell_type": "code",
   "execution_count": 52,
   "id": "5352f199-69ae-4f24-9015-a77bdd30f6e4",
   "metadata": {},
   "outputs": [
    {
     "name": "stdout",
     "output_type": "stream",
     "text": [
      "[50. 40. 30. 20. 10.]\n",
      "[50 40 30 20 10]\n",
      "['50.0' '40.0' '30.0' '20.0' '10.0']\n",
      "[ True  True  True  True  True]\n"
     ]
    }
   ],
   "source": [
    "# linspace() --> linspace is like an advancement to arange()\n",
    "a = np.linspace(50,10,5)    # evenly spaced values in descending order\n",
    "print(a)\n",
    "a = np.linspace(50,10,5,dtype=int)\n",
    "print(a)\n",
    "a = np.linspace(50,10,5,dtype=str)\n",
    "print(a)\n",
    "a = np.linspace(50,10,5,dtype=bool)\n",
    "print(a)"
   ]
  },
  {
   "cell_type": "code",
   "execution_count": 62,
   "id": "4bcedb7c-26c5-4abc-9c05-68dbda7621f9",
   "metadata": {},
   "outputs": [
    {
     "name": "stdout",
     "output_type": "stream",
     "text": [
      "[[0 0 0]\n",
      " [0 0 0]]\n",
      "int64\n",
      "2\n",
      "(2, 3)\n",
      "6\n"
     ]
    }
   ],
   "source": [
    "# zeros() --> the biggest advantage of using zeros(),ones() or full() is that we can create multi-dimentional arrays\n",
    "shape_of_array = (2,3)\n",
    "a = np.zeros(shape_of_array,dtype=int)\n",
    "print(a)\n",
    "print(a.dtype)\n",
    "print(a.ndim)\n",
    "print(a.shape)\n",
    "print(a.size)"
   ]
  },
  {
   "cell_type": "code",
   "execution_count": 63,
   "id": "ab795fc4-fed9-45f7-b115-2c0ca4fdf322",
   "metadata": {},
   "outputs": [
    {
     "name": "stdout",
     "output_type": "stream",
     "text": [
      "[['' '' '']\n",
      " ['' '' '']]\n",
      "<U1\n",
      "2\n",
      "(2, 3)\n",
      "6\n"
     ]
    }
   ],
   "source": [
    "shape_of_array = (2,3)\n",
    "a = np.zeros(shape_of_array,dtype=str)\n",
    "print(a)\n",
    "print(a.dtype)\n",
    "print(a.ndim)\n",
    "print(a.shape)\n",
    "print(a.size)"
   ]
  },
  {
   "cell_type": "code",
   "execution_count": 66,
   "id": "e9360219-8317-42fd-8b29-9c8ef194078e",
   "metadata": {},
   "outputs": [
    {
     "name": "stdout",
     "output_type": "stream",
     "text": [
      "[[False False False]\n",
      " [False False False]]\n",
      "bool\n",
      "2\n",
      "(2, 3)\n",
      "6\n"
     ]
    }
   ],
   "source": [
    "shape_of_array = (2,3)\n",
    "a = np.zeros(shape_of_array,dtype=bool)\n",
    "print(a)\n",
    "print(a.dtype)\n",
    "print(a.ndim)\n",
    "print(a.shape)\n",
    "print(a.size)"
   ]
  },
  {
   "cell_type": "code",
   "execution_count": 64,
   "id": "3c1f34c1-d3ec-47dd-bed6-3f42a62f1e2d",
   "metadata": {},
   "outputs": [
    {
     "name": "stdout",
     "output_type": "stream",
     "text": [
      "[[[0. 0. 0. 0.]\n",
      "  [0. 0. 0. 0.]\n",
      "  [0. 0. 0. 0.]]\n",
      "\n",
      " [[0. 0. 0. 0.]\n",
      "  [0. 0. 0. 0.]\n",
      "  [0. 0. 0. 0.]]]\n",
      "float64\n",
      "3\n",
      "(2, 3, 4)\n",
      "24\n"
     ]
    }
   ],
   "source": [
    "shape_of_array = (2,3,4)\n",
    "a = np.zeros(shape_of_array)\n",
    "print(a)\n",
    "print(a.dtype)\n",
    "print(a.ndim)\n",
    "print(a.shape)\n",
    "print(a.size)"
   ]
  },
  {
   "cell_type": "code",
   "execution_count": 65,
   "id": "e110c779-b596-4f33-8a8a-6e08293b04ba",
   "metadata": {},
   "outputs": [
    {
     "name": "stdout",
     "output_type": "stream",
     "text": [
      "[[[[0. 0. 0. 0. 0.]\n",
      "   [0. 0. 0. 0. 0.]\n",
      "   [0. 0. 0. 0. 0.]\n",
      "   [0. 0. 0. 0. 0.]]\n",
      "\n",
      "  [[0. 0. 0. 0. 0.]\n",
      "   [0. 0. 0. 0. 0.]\n",
      "   [0. 0. 0. 0. 0.]\n",
      "   [0. 0. 0. 0. 0.]]\n",
      "\n",
      "  [[0. 0. 0. 0. 0.]\n",
      "   [0. 0. 0. 0. 0.]\n",
      "   [0. 0. 0. 0. 0.]\n",
      "   [0. 0. 0. 0. 0.]]]\n",
      "\n",
      "\n",
      " [[[0. 0. 0. 0. 0.]\n",
      "   [0. 0. 0. 0. 0.]\n",
      "   [0. 0. 0. 0. 0.]\n",
      "   [0. 0. 0. 0. 0.]]\n",
      "\n",
      "  [[0. 0. 0. 0. 0.]\n",
      "   [0. 0. 0. 0. 0.]\n",
      "   [0. 0. 0. 0. 0.]\n",
      "   [0. 0. 0. 0. 0.]]\n",
      "\n",
      "  [[0. 0. 0. 0. 0.]\n",
      "   [0. 0. 0. 0. 0.]\n",
      "   [0. 0. 0. 0. 0.]\n",
      "   [0. 0. 0. 0. 0.]]]]\n",
      "float64\n",
      "4\n",
      "(2, 3, 4, 5)\n",
      "120\n"
     ]
    }
   ],
   "source": [
    "shape_of_array = (2,3,4,5)\n",
    "a = np.zeros(shape_of_array)\n",
    "print(a)\n",
    "print(a.dtype)\n",
    "print(a.ndim)\n",
    "print(a.shape)\n",
    "print(a.size)"
   ]
  },
  {
   "cell_type": "code",
   "execution_count": 71,
   "id": "257c34b7-8ffa-4299-b537-5ec08dcae863",
   "metadata": {},
   "outputs": [
    {
     "name": "stdout",
     "output_type": "stream",
     "text": [
      "[[1. 1. 1.]\n",
      " [1. 1. 1.]]\n",
      "\n",
      "[[1 1 1]\n",
      " [1 1 1]]\n",
      "\n",
      "[['1' '1' '1']\n",
      " ['1' '1' '1']]\n"
     ]
    }
   ],
   "source": [
    "# ones()\n",
    "shape_of_array = (2,3)\n",
    "a = np.ones(shape_of_array)\n",
    "print(a)\n",
    "print()\n",
    "shape_of_array = (2,3)\n",
    "a = np.ones(shape_of_array,dtype=int)\n",
    "print(a)\n",
    "print()\n",
    "shape_of_array = (2,3)\n",
    "a = np.ones(shape_of_array,dtype=str)\n",
    "print(a)\n",
    "print()"
   ]
  },
  {
   "cell_type": "code",
   "execution_count": 74,
   "id": "c09472a0-82ee-42cf-b003-fc61b0546630",
   "metadata": {},
   "outputs": [
    {
     "name": "stdout",
     "output_type": "stream",
     "text": [
      "[[7 7 7]\n",
      " [7 7 7]]\n"
     ]
    }
   ],
   "source": [
    "# full()\n",
    "shape_of_array = (2,3)\n",
    "a = np.full(shape_of_array,7)\n",
    "print(a)"
   ]
  },
  {
   "cell_type": "code",
   "execution_count": 75,
   "id": "b41f6c82-276d-4d3d-8ee8-f8f0c76c8a68",
   "metadata": {},
   "outputs": [
    {
     "name": "stdout",
     "output_type": "stream",
     "text": [
      "[['7' '7' '7']\n",
      " ['7' '7' '7']]\n"
     ]
    }
   ],
   "source": [
    "shape_of_array = (2,3)\n",
    "a = np.full(shape_of_array,7,str)\n",
    "print(a)"
   ]
  },
  {
   "cell_type": "code",
   "execution_count": 8,
   "id": "cd30af18-acb1-4358-816c-0f32f656e692",
   "metadata": {},
   "outputs": [
    {
     "name": "stdout",
     "output_type": "stream",
     "text": [
      "[[0 1 0 0]\n",
      " [0 0 1 0]\n",
      " [0 0 0 1]]\n"
     ]
    }
   ],
   "source": [
    "a = np.eye(3,4,1,int)\n",
    "print(a)"
   ]
  },
  {
   "cell_type": "code",
   "execution_count": 6,
   "id": "5dd11023-79d9-4f85-86f7-c0659beb7a53",
   "metadata": {},
   "outputs": [
    {
     "name": "stdout",
     "output_type": "stream",
     "text": [
      "[[1 0 0 0 0]\n",
      " [0 1 0 0 0]\n",
      " [0 0 1 0 0]\n",
      " [0 0 0 1 0]\n",
      " [0 0 0 0 1]]\n"
     ]
    }
   ],
   "source": [
    "a = np.identity(5,int)\n",
    "print(a)"
   ]
  },
  {
   "cell_type": "code",
   "execution_count": 10,
   "id": "fde7bb7d-73a8-463c-9db9-7b3700426b23",
   "metadata": {},
   "outputs": [
    {
     "name": "stdout",
     "output_type": "stream",
     "text": [
      "(7, 'dhoni', True, 7.77, (10+20j))\n",
      "[7 'dhoni' True 7.77 (10+20j)]\n",
      "object\n"
     ]
    }
   ],
   "source": [
    "# creating an array with Heterogeneous Daya Types --> I love this hack !\n",
    "L = (7,'dhoni',True,7.77,10+20j)\n",
    "print(L)\n",
    "a = np.array(L,dtype=object)\n",
    "print(a)\n",
    "print(a.dtype)"
   ]
  },
  {
   "cell_type": "markdown",
   "id": "a6acd49e-da52-4f7d-9395-5cc87db7c50c",
   "metadata": {
    "jp-MarkdownHeadingCollapsed": true
   },
   "source": [
    "#### creating numpy array using random library "
   ]
  },
  {
   "cell_type": "code",
   "execution_count": 5,
   "id": "99e1b258-9a14-4d24-9b60-27ff4f77d6d8",
   "metadata": {},
   "outputs": [
    {
     "name": "stdout",
     "output_type": "stream",
     "text": [
      "6\n"
     ]
    }
   ],
   "source": [
    "# randint()\n",
    "# help(np.random.randint)"
   ]
  },
  {
   "cell_type": "code",
   "execution_count": 8,
   "id": "d131d58a-2a43-49a7-b1c5-0802ce35b47b",
   "metadata": {},
   "outputs": [
    {
     "name": "stdout",
     "output_type": "stream",
     "text": [
      "7\n"
     ]
    }
   ],
   "source": [
    "a = np.random.randint(10)\n",
    "print(a)"
   ]
  },
  {
   "cell_type": "code",
   "execution_count": 31,
   "id": "c47a9181-6d4a-49a1-b65d-62a8accf4f02",
   "metadata": {},
   "outputs": [
    {
     "name": "stdout",
     "output_type": "stream",
     "text": [
      "27\n"
     ]
    }
   ],
   "source": [
    "a = np.random.randint(10,51)\n",
    "print(a)"
   ]
  },
  {
   "cell_type": "code",
   "execution_count": 32,
   "id": "9f0650b1-e217-437d-855e-978bbee9c8df",
   "metadata": {},
   "outputs": [
    {
     "name": "stdout",
     "output_type": "stream",
     "text": [
      "[32 30 43 13 50 15 24 35 13 12]\n"
     ]
    }
   ],
   "source": [
    "a = np.random.randint(10,51,10)\n",
    "print(a)"
   ]
  },
  {
   "cell_type": "code",
   "execution_count": 33,
   "id": "7fb547e3-7f84-4789-b9bf-ecf6041c984c",
   "metadata": {},
   "outputs": [
    {
     "name": "stdout",
     "output_type": "stream",
     "text": [
      "[[20 18 38 34 44 10]\n",
      " [29 12 46 20 24 41]\n",
      " [19 13 10 20 34 27]\n",
      " [18 25 25 35 19 28]\n",
      " [30 26 43 34 17 28]]\n"
     ]
    }
   ],
   "source": [
    "a = np.random.randint(10,51,(5,6))\n",
    "print(a)"
   ]
  },
  {
   "cell_type": "code",
   "execution_count": 34,
   "id": "621fa9b2-d8bb-411a-a293-511e5011cc22",
   "metadata": {},
   "outputs": [
    {
     "name": "stdout",
     "output_type": "stream",
     "text": [
      "[[[40 12 37 23 39]\n",
      "  [37 15 26 35 32]\n",
      "  [15 24 11 31 44]]\n",
      "\n",
      " [[19 39 11 11 27]\n",
      "  [23 32 50 37 45]\n",
      "  [35 32 25 32 16]]\n",
      "\n",
      " [[22 43 24 37 17]\n",
      "  [40 43 24 21 14]\n",
      "  [48 10 47 28 23]]]\n"
     ]
    }
   ],
   "source": [
    "a = np.random.randint(10,51,(3,3,5))\n",
    "print(a)"
   ]
  },
  {
   "cell_type": "code",
   "execution_count": 56,
   "id": "3f1f5100-b929-4337-8f3e-161ecf00bbb3",
   "metadata": {},
   "outputs": [],
   "source": [
    "# rand()\n",
    "# help(np.random.rand)"
   ]
  },
  {
   "cell_type": "code",
   "execution_count": 58,
   "id": "48fd5258-de43-42c5-8298-79c497afd5fe",
   "metadata": {},
   "outputs": [
    {
     "name": "stdout",
     "output_type": "stream",
     "text": [
      "[0.17266437 0.88982384 0.94947615 0.41372066 0.59746684 0.75169646\n",
      " 0.05318515 0.94905529 0.25791991 0.89145875]\n"
     ]
    }
   ],
   "source": [
    "a = np.random.rand(10)\n",
    "print(a)"
   ]
  },
  {
   "cell_type": "code",
   "execution_count": 43,
   "id": "e6bc639c-1e0e-4940-8e77-e815ae937113",
   "metadata": {},
   "outputs": [
    {
     "name": "stdout",
     "output_type": "stream",
     "text": [
      "[[0.89386067 0.10651889 0.62061049 0.92251325 0.23577266 0.92025106]\n",
      " [0.99152075 0.74546447 0.2833087  0.23165867 0.21673396 0.59658633]\n",
      " [0.05744223 0.94789411 0.41009759 0.75080233 0.89450134 0.36474387]\n",
      " [0.34369935 0.3756683  0.51997487 0.63181472 0.79383057 0.37225127]\n",
      " [0.36517121 0.57156215 0.94010724 0.13675066 0.02142397 0.13767915]]\n"
     ]
    }
   ],
   "source": [
    "a = np.random.rand(5,6)\n",
    "print(a)"
   ]
  },
  {
   "cell_type": "code",
   "execution_count": 46,
   "id": "eaa1ce7f-8a94-4713-be86-c7ee2146eee0",
   "metadata": {},
   "outputs": [
    {
     "name": "stdout",
     "output_type": "stream",
     "text": [
      "[[[0.07256087 0.78396101]\n",
      "  [0.67663034 0.74988303]\n",
      "  [0.30636169 0.66435813]\n",
      "  [0.79784913 0.37235594]]\n",
      "\n",
      " [[0.2280373  0.47894368]\n",
      "  [0.73730372 0.62911344]\n",
      "  [0.8619454  0.24749256]\n",
      "  [0.22960593 0.49876648]]\n",
      "\n",
      " [[0.44993838 0.72824357]\n",
      "  [0.00856109 0.31045106]\n",
      "  [0.24031444 0.80113274]\n",
      "  [0.45336651 0.65928609]]\n",
      "\n",
      " [[0.47029055 0.0505263 ]\n",
      "  [0.99473682 0.32318907]\n",
      "  [0.57800479 0.91441765]\n",
      "  [0.77397569 0.94353067]]\n",
      "\n",
      " [[0.12239347 0.20174717]\n",
      "  [0.90887987 0.63017399]\n",
      "  [0.18273186 0.33575392]\n",
      "  [0.57195851 0.92571301]]]\n",
      "3\n",
      "40\n"
     ]
    }
   ],
   "source": [
    "a = np.random.rand(5,4,2)\n",
    "print(a)\n",
    "print(a.ndim)\n",
    "print(a.size)"
   ]
  },
  {
   "cell_type": "code",
   "execution_count": 55,
   "id": "84cb7d99-f2a5-48ad-acc4-5467b1df09b5",
   "metadata": {},
   "outputs": [],
   "source": [
    "# uniform()\n",
    "# help(np.random.uniform)"
   ]
  },
  {
   "cell_type": "code",
   "execution_count": 75,
   "id": "3d77886d-53ac-462b-a26d-7385fb532796",
   "metadata": {},
   "outputs": [
    {
     "name": "stdout",
     "output_type": "stream",
     "text": [
      "1.6843178118108746\n"
     ]
    }
   ],
   "source": [
    "a = np.random.uniform(10)\n",
    "print(a)"
   ]
  },
  {
   "cell_type": "code",
   "execution_count": 52,
   "id": "9acbedf0-fd99-4056-864d-5b01aafa8fd5",
   "metadata": {},
   "outputs": [
    {
     "name": "stdout",
     "output_type": "stream",
     "text": [
      "13.51180341789243\n"
     ]
    }
   ],
   "source": [
    "a = np.random.uniform(10,20)\n",
    "print(a)"
   ]
  },
  {
   "cell_type": "code",
   "execution_count": 53,
   "id": "bd35fd18-0509-424b-a4d8-75f5cf3d5ecc",
   "metadata": {},
   "outputs": [
    {
     "name": "stdout",
     "output_type": "stream",
     "text": [
      "[19.40767049 17.77329367 19.61019338 18.50678738 10.37800053 11.13671659\n",
      " 10.21013293 17.34852878 14.09924254 13.44713295]\n"
     ]
    }
   ],
   "source": [
    "a = np.random.uniform(10,20,10)\n",
    "print(a)"
   ]
  },
  {
   "cell_type": "code",
   "execution_count": 59,
   "id": "718d8796-3092-412b-bfad-9c084a118653",
   "metadata": {},
   "outputs": [
    {
     "name": "stdout",
     "output_type": "stream",
     "text": [
      "[[12.81485851 17.18262899 19.58655697 15.50023869]\n",
      " [15.21027881 12.15997802 15.70823835 10.99170423]\n",
      " [16.50925237 16.37442268 13.61978778 15.90455262]]\n"
     ]
    }
   ],
   "source": [
    "a = np.random.uniform(10,20,(3,4))\n",
    "print(a)"
   ]
  },
  {
   "cell_type": "code",
   "execution_count": 60,
   "id": "2fe061ee-c9f0-44fc-b3e0-d4fcf4109f5a",
   "metadata": {},
   "outputs": [
    {
     "name": "stdout",
     "output_type": "stream",
     "text": [
      "[[[10.24607783 16.39326711 12.78434108 18.6691482  15.63677336]\n",
      "  [18.89672845 13.48506654 12.6200404  10.62319264 19.3221788 ]\n",
      "  [15.82679134 11.00182457 17.33389225 17.98922501 14.08029907]\n",
      "  [14.84041206 16.79380329 14.86972312 10.04867989 18.11050131]]\n",
      "\n",
      " [[18.45785469 14.84763822 15.24732869 13.43078499 15.26129221]\n",
      "  [14.60171828 11.4365815  10.53241352 13.58942124 19.34914825]\n",
      "  [14.47116288 16.59956947 19.50370775 11.69655863 19.7153524 ]\n",
      "  [12.02079958 18.52166146 17.07519835 15.47868264 11.41297847]]\n",
      "\n",
      " [[15.63899563 16.52294135 11.43216833 14.86502165 13.94070064]\n",
      "  [15.10786983 18.33382534 16.75744976 10.21453792 15.69232065]\n",
      "  [15.56429568 14.41610313 17.60191306 14.78455829 12.04588415]\n",
      "  [15.19239029 19.27077266 12.86834187 16.7645387  11.03764299]]]\n"
     ]
    }
   ],
   "source": [
    "a = np.random.uniform(10,20,(3,4,5))\n",
    "print(a)"
   ]
  },
  {
   "cell_type": "code",
   "execution_count": 68,
   "id": "9c2f3cf8-0ace-4005-87ca-e916d70b4fa4",
   "metadata": {},
   "outputs": [
    {
     "data": {
      "image/png": "[encoded data removed]",
      "text/plain": [
       "<Figure size 640x480 with 1 Axes>"
      ]
     },
     "metadata": {},
     "output_type": "display_data"
    }
   ],
   "source": [
    "s = np.random.uniform(10,20,size=1000)\n",
    "import matplotlib.pyplot as plt\n",
    "count,bins,ignored = plt.hist(s,15,density=True)\n",
    "plt.plot(bins,np.ones_like(bins),linewidth=2,color='r')\n",
    "plt.show()"
   ]
  },
  {
   "cell_type": "code",
   "execution_count": 70,
   "id": "124bcb94-8bf9-4975-a442-a4a6b5aabb99",
   "metadata": {},
   "outputs": [],
   "source": [
    "# randn()\n",
    "# help(np.random.randn)"
   ]
  },
  {
   "cell_type": "code",
   "execution_count": 77,
   "id": "a91f822d-0231-4119-bf70-382b9024d77d",
   "metadata": {},
   "outputs": [
    {
     "name": "stdout",
     "output_type": "stream",
     "text": [
      "[-1.66853955  1.66433644 -0.26820836  1.01987457 -1.46806016 -0.82052852\n",
      "  0.10999398 -1.39490076 -0.94607898  0.62714714]\n"
     ]
    }
   ],
   "source": [
    "a = np.random.randn(10)\n",
    "print(a)"
   ]
  },
  {
   "cell_type": "code",
   "execution_count": 72,
   "id": "59a01ec2-43b1-4d6f-9a78-d769f49d3bab",
   "metadata": {},
   "outputs": [
    {
     "name": "stdout",
     "output_type": "stream",
     "text": [
      "[[ 0.33651444  0.17698118  2.45058538  0.72080139 -1.05510772 -1.0696377 ]\n",
      " [-0.39999126  0.37658267 -1.70355733  1.92852545 -0.9560415  -0.99862705]\n",
      " [ 0.50197357 -2.76074757 -1.0650457  -0.42435407  0.77980959  1.11539441]\n",
      " [ 1.06303417 -0.77915028 -0.81065933 -1.32163599  1.03169067  2.14022911]\n",
      " [ 1.25681253  1.20347938 -0.35354771  1.1810839   0.58335884  0.72005472]]\n"
     ]
    }
   ],
   "source": [
    "a = np.random.randn(5,6)\n",
    "print(a)"
   ]
  },
  {
   "cell_type": "code",
   "execution_count": 73,
   "id": "90b69d3f-1b40-4240-8aef-ad86eceb6e65",
   "metadata": {},
   "outputs": [
    {
     "name": "stdout",
     "output_type": "stream",
     "text": [
      "[[[ 0.83659418  1.67415024]\n",
      "  [-1.78937059  0.3197215 ]\n",
      "  [-0.44159979  0.12260325]\n",
      "  [-0.77571191 -0.98395925]]\n",
      "\n",
      " [[ 0.11828123 -0.88304197]\n",
      "  [-0.23747427  0.67690648]\n",
      "  [ 1.00764609  0.37531762]\n",
      "  [-0.85684209  1.37007818]]\n",
      "\n",
      " [[-1.63659252  1.27177828]\n",
      "  [-0.3414224  -1.74585356]\n",
      "  [ 0.06189078  0.37787589]\n",
      "  [ 2.77220592  0.27769883]]]\n"
     ]
    }
   ],
   "source": [
    "a = np.random.randn(3,4,2)\n",
    "print(a)"
   ]
  },
  {
   "cell_type": "code",
   "execution_count": 79,
   "id": "81ccd513-6dcc-4b89-a391-ee41ab3363f4",
   "metadata": {},
   "outputs": [],
   "source": [
    "# normal()\n",
    "# help(np.random.normal)"
   ]
  },
  {
   "cell_type": "code",
   "execution_count": 80,
   "id": "00165174-c763-450c-868d-0b31f00b8d9d",
   "metadata": {},
   "outputs": [
    {
     "name": "stdout",
     "output_type": "stream",
     "text": [
      "10.252025613355109\n"
     ]
    }
   ],
   "source": [
    "a = np.random.normal(10)\n",
    "print(a)"
   ]
  },
  {
   "cell_type": "code",
   "execution_count": 81,
   "id": "f4155730-7556-4048-a2b5-e3c451fc0080",
   "metadata": {},
   "outputs": [
    {
     "name": "stdout",
     "output_type": "stream",
     "text": [
      "-11.666148862625036\n"
     ]
    }
   ],
   "source": [
    "a = np.random.normal(10,20)\n",
    "print(a)"
   ]
  },
  {
   "cell_type": "code",
   "execution_count": 82,
   "id": "ab0590ca-a172-46b2-9f01-746b3588dbe1",
   "metadata": {},
   "outputs": [
    {
     "name": "stdout",
     "output_type": "stream",
     "text": [
      "[ 8.9474949  10.960202    5.90480027  6.74053738  7.10498009 11.81405396\n",
      "  6.59122815  8.89608415 10.43905386 20.60059422]\n"
     ]
    }
   ],
   "source": [
    "a = np.random.normal(10,5,10)\n",
    "print(a)"
   ]
  },
  {
   "cell_type": "code",
   "execution_count": 83,
   "id": "a79b297c-3f92-467a-94ba-8e008487aebb",
   "metadata": {},
   "outputs": [
    {
     "name": "stdout",
     "output_type": "stream",
     "text": [
      "[[ 3.28371304 13.51558581 18.94327211]\n",
      " [ 9.50250752 12.4830328   7.79988088]\n",
      " [ 4.26950777  9.5079059  16.28197221]\n",
      " [12.19889436 18.80072757 16.52674934]]\n"
     ]
    }
   ],
   "source": [
    "a = np.random.normal(10,5,(4,3))\n",
    "print(a)"
   ]
  },
  {
   "cell_type": "code",
   "execution_count": 85,
   "id": "b727e442-d4ba-4051-b79a-404b0f7c2930",
   "metadata": {},
   "outputs": [
    {
     "name": "stdout",
     "output_type": "stream",
     "text": [
      "[[[ 8.54656371  9.6511087  11.8952534  10.22170044]\n",
      "  [ 3.86306757 12.16743561 13.11066099  6.94988811]\n",
      "  [ 9.25271331 11.33373589  1.36279114 14.32831649]\n",
      "  [ 9.14042452  8.34646748  8.99843739 12.83629436]]\n",
      "\n",
      " [[ 9.02499968  8.40509709  4.00606828  7.2784172 ]\n",
      "  [ 4.35178378 12.4419726  10.93575672 15.45244824]\n",
      "  [ 8.7122688  18.06191289 11.67269001 15.79753321]\n",
      "  [ 2.3715982  14.72495222 11.99558421  8.96755907]]\n",
      "\n",
      " [[ 5.57197633  3.02396677 14.72269956  5.24113474]\n",
      "  [14.39298804 11.25442833  7.07339214 14.84806824]\n",
      "  [19.40673609  7.90570363 14.13659037  8.36108946]\n",
      "  [12.9912422  12.26488634  9.13169343 10.31603554]]]\n"
     ]
    }
   ],
   "source": [
    "a = np.random.normal(10,5,(3,4,4))\n",
    "print(a)"
   ]
  },
  {
   "cell_type": "markdown",
   "id": "b52b9c51-521d-408f-b20a-c42d1912c5e7",
   "metadata": {
    "jp-MarkdownHeadingCollapsed": true
   },
   "source": [
    "#### Slicing 2-D ndarray"
   ]
  },
  {
   "cell_type": "code",
   "execution_count": 3,
   "id": "6299deab-603e-4529-a664-8d066d1ac558",
   "metadata": {},
   "outputs": [
    {
     "name": "stdout",
     "output_type": "stream",
     "text": [
      "[[83 58 27 15]\n",
      " [17  7 26  2]\n",
      " [32  2 51 94]\n",
      " [15 93 68 94]]\n"
     ]
    }
   ],
   "source": [
    "a = np.random.randint(1,101,(4,4))\n",
    "print(a) "
   ]
  },
  {
   "cell_type": "code",
   "execution_count": 4,
   "id": "af3fd1fb-2ea2-4b26-9302-6a71b1e4064c",
   "metadata": {},
   "outputs": [
    {
     "name": "stdout",
     "output_type": "stream",
     "text": [
      "[[ 7 26]\n",
      " [ 2 51]]\n"
     ]
    }
   ],
   "source": [
    "'''\n",
    "[[ 7 26]\n",
    " [ 2 51]]\n",
    "'''\n",
    "print(a[1:3,1:3])"
   ]
  },
  {
   "cell_type": "code",
   "execution_count": 5,
   "id": "136cbd03-7ba7-438f-b8ec-1965807fe4b7",
   "metadata": {},
   "outputs": [
    {
     "name": "stdout",
     "output_type": "stream",
     "text": [
      "[[83 15]\n",
      " [15 94]]\n"
     ]
    }
   ],
   "source": [
    "''' \n",
    "[[83 15]\n",
    " [15 94]]\n",
    "'''\n",
    "print(a[::3,::3])"
   ]
  },
  {
   "cell_type": "code",
   "execution_count": 6,
   "id": "dc1090f2-b98a-4987-99e0-6ff07f4306fc",
   "metadata": {},
   "outputs": [
    {
     "name": "stdout",
     "output_type": "stream",
     "text": [
      "[[58 27]\n",
      " [93 68]]\n"
     ]
    }
   ],
   "source": [
    "''' \n",
    "[[58 27]\n",
    " [93 68]]\n",
    "'''\n",
    "print(a[::3,1:3])"
   ]
  },
  {
   "cell_type": "code",
   "execution_count": 7,
   "id": "9f6192cd-8398-49a8-bd37-b3c2b1888a95",
   "metadata": {},
   "outputs": [
    {
     "name": "stdout",
     "output_type": "stream",
     "text": [
      "[[17  2]\n",
      " [32 94]]\n"
     ]
    }
   ],
   "source": [
    "''' \n",
    "[[17  2]\n",
    " [32 94]]\n",
    "'''\n",
    "print(a[1:3,::3])"
   ]
  },
  {
   "cell_type": "code",
   "execution_count": 3,
   "id": "5a1fd4fc-a7ee-43c5-9e8f-ea5c2e676c3a",
   "metadata": {},
   "outputs": [
    {
     "name": "stdout",
     "output_type": "stream",
     "text": [
      "[[45 64 52 75 35]\n",
      " [76 13 63  7 59]\n",
      " [90 94 63 70 90]\n",
      " [ 7 13 88 20 11]]\n"
     ]
    }
   ],
   "source": [
    "a = np.random.randint(1,101,(4,5))\n",
    "print(a)"
   ]
  },
  {
   "cell_type": "code",
   "execution_count": 7,
   "id": "14c1c441-cbe9-4bbd-ac07-fde65e5588ef",
   "metadata": {},
   "outputs": [
    {
     "name": "stdout",
     "output_type": "stream",
     "text": [
      "70\n"
     ]
    }
   ],
   "source": [
    "print(a[2][3])"
   ]
  },
  {
   "cell_type": "code",
   "execution_count": 6,
   "id": "911b5a21-c2ee-4190-9675-5c89790f643d",
   "metadata": {},
   "outputs": [
    {
     "name": "stdout",
     "output_type": "stream",
     "text": [
      "[[45]\n",
      " [76]\n",
      " [90]\n",
      " [ 7]]\n"
     ]
    }
   ],
   "source": [
    "print(a[:,:1])"
   ]
  },
  {
   "cell_type": "code",
   "execution_count": 8,
   "id": "182534d6-a057-4ef8-bd1d-10843b971656",
   "metadata": {},
   "outputs": [
    {
     "name": "stdout",
     "output_type": "stream",
     "text": [
      "[[ 7 13 88 20 11]]\n"
     ]
    }
   ],
   "source": [
    "print(a[3:4,:])"
   ]
  },
  {
   "cell_type": "code",
   "execution_count": 9,
   "id": "aceeaa22-021a-4418-9710-9a0662df21af",
   "metadata": {},
   "outputs": [
    {
     "name": "stdout",
     "output_type": "stream",
     "text": [
      "[[13 63  7]\n",
      " [94 63 70]]\n"
     ]
    }
   ],
   "source": [
    "print(a[1:3,1:4])"
   ]
  },
  {
   "cell_type": "code",
   "execution_count": 2,
   "id": "3e2b7386-ef5e-41de-9cc7-6f8e396a813d",
   "metadata": {},
   "outputs": [
    {
     "name": "stdout",
     "output_type": "stream",
     "text": [
      "[[[78 98 53 35]\n",
      "  [ 1 31 27 95]\n",
      "  [55 29 16 50]\n",
      "  [87 25 96  2]]\n",
      "\n",
      " [[75 20 83 89]\n",
      "  [19 18 91 15]\n",
      "  [48 50 79 36]\n",
      "  [78 59 47 95]]\n",
      "\n",
      " [[30 94 96 29]\n",
      "  [68 66 83 22]\n",
      "  [27 99 64 52]\n",
      "  [86 13  1 48]]\n",
      "\n",
      " [[64 45 62 88]\n",
      "  [22 51 24 77]\n",
      "  [28 17 97 28]\n",
      "  [36 81 61 96]]]\n"
     ]
    }
   ],
   "source": [
    "# nditer() and dtypes \n",
    "a = np.random.randint(1,101,(4,4,4))\n",
    "print(a)"
   ]
  },
  {
   "cell_type": "code",
   "execution_count": 9,
   "id": "f216e40b-f431-4f5b-ac91-04fac74c4d8d",
   "metadata": {},
   "outputs": [
    {
     "name": "stdout",
     "output_type": "stream",
     "text": [
      "78 98 53 35 1 31 27 95 55 29 16 50 87 25 96 2 75 20 83 89 19 18 91 15 48 50 79 36 78 59 47 95 30 94 96 29 68 66 83 22 27 99 64 52 86 13 1 48 64 45 62 88 22 51 24 77 28 17 97 28 36 81 61 96 "
     ]
    }
   ],
   "source": [
    "for x in np.nditer(a):\n",
    "    print(x,end=' ')"
   ]
  },
  {
   "cell_type": "code",
   "execution_count": 8,
   "id": "190f2077-341e-4521-bc5c-b2fcda1aba6a",
   "metadata": {},
   "outputs": [
    {
     "name": "stdout",
     "output_type": "stream",
     "text": [
      "78.0 98.0 53.0 35.0 1.0 31.0 27.0 95.0 55.0 29.0 16.0 50.0 87.0 25.0 96.0 2.0 75.0 20.0 83.0 89.0 19.0 18.0 91.0 15.0 48.0 50.0 79.0 36.0 78.0 59.0 47.0 95.0 30.0 94.0 96.0 29.0 68.0 66.0 83.0 22.0 27.0 99.0 64.0 52.0 86.0 13.0 1.0 48.0 64.0 45.0 62.0 88.0 22.0 51.0 24.0 77.0 28.0 17.0 97.0 28.0 36.0 81.0 61.0 96.0 "
     ]
    }
   ],
   "source": [
    "for x in np.nditer(a,flags=['buffered'],op_dtypes=['float']):\n",
    "    print(x,end=' ')"
   ]
  },
  {
   "cell_type": "code",
   "execution_count": 12,
   "id": "b9f5e0a4-ceb0-43de-896c-fd1567c82305",
   "metadata": {},
   "outputs": [
    {
     "name": "stdout",
     "output_type": "stream",
     "text": [
      "78 98 53 35 1 31 27 95 55 29 16 50 87 25 96 2 75 20 83 89 19 18 91 15 48 50 79 36 78 59 47 95 30 94 96 29 68 66 83 22 27 99 64 52 86 13 1 48 64 45 62 88 22 51 24 77 28 17 97 28 36 81 61 96 "
     ]
    }
   ],
   "source": [
    "for x in np.nditer(a,flags=['buffered'],op_dtypes=['str']):\n",
    "    print(x,end=' ')"
   ]
  },
  {
   "cell_type": "markdown",
   "id": "2fb2292a-2418-4d9e-93a0-15c5b958bf42",
   "metadata": {
    "jp-MarkdownHeadingCollapsed": true
   },
   "source": [
    "## Week 1 Revision"
   ]
  },
  {
   "cell_type": "code",
   "execution_count": 2,
   "id": "afc5899d-2b38-462f-be84-53776019a79b",
   "metadata": {},
   "outputs": [
    {
     "name": "stdout",
     "output_type": "stream",
     "text": [
      "[93 42 98 62 54 92 28 51 44 62]\n"
     ]
    }
   ],
   "source": [
    "a = np.random.randint(1,101,10) \n",
    "print(a)"
   ]
  },
  {
   "cell_type": "code",
   "execution_count": 4,
   "id": "847ac5b3-585e-4f18-877e-340f4717fdde",
   "metadata": {},
   "outputs": [
    {
     "name": "stdout",
     "output_type": "stream",
     "text": [
      "[[93 42 98 62 54]\n",
      " [92 28 51 44 62]]\n"
     ]
    }
   ],
   "source": [
    "b = a.reshape(2,5)\n",
    "print(b)"
   ]
  },
  {
   "cell_type": "code",
   "execution_count": 6,
   "id": "a5565df2-f016-4d49-b5e1-b309cd4d0bb6",
   "metadata": {},
   "outputs": [
    {
     "name": "stdout",
     "output_type": "stream",
     "text": [
      "[[93 42]\n",
      " [98 62]\n",
      " [54 92]\n",
      " [28 51]\n",
      " [44 62]]\n"
     ]
    }
   ],
   "source": [
    "b = a.reshape(5,2)\n",
    "print(b)"
   ]
  },
  {
   "cell_type": "code",
   "execution_count": 8,
   "id": "bab95322-1426-42ce-bd33-d118d289abee",
   "metadata": {},
   "outputs": [
    {
     "name": "stdout",
     "output_type": "stream",
     "text": [
      "[[92 99 94 60]\n",
      " [ 4  8 34 15]\n",
      " [ 9 24 92 77]]\n"
     ]
    }
   ],
   "source": [
    "a = np.random.randint(1,101,(3,4))\n",
    "print(a)"
   ]
  },
  {
   "cell_type": "code",
   "execution_count": 12,
   "id": "d590c887-374b-4f83-abba-48b947e8c5cd",
   "metadata": {},
   "outputs": [
    {
     "name": "stdout",
     "output_type": "stream",
     "text": [
      "[92 99 94 60  4  8 34 15  9 24 92 77]\n"
     ]
    }
   ],
   "source": [
    "b = np.reshape(a,12)\n",
    "print(b)"
   ]
  },
  {
   "cell_type": "code",
   "execution_count": 13,
   "id": "7cd9b43e-d090-4431-8186-e77294f744ba",
   "metadata": {},
   "outputs": [
    {
     "name": "stdout",
     "output_type": "stream",
     "text": [
      "[[[92 99]\n",
      "  [94 60]\n",
      "  [ 4  8]]\n",
      "\n",
      " [[34 15]\n",
      "  [ 9 24]\n",
      "  [92 77]]]\n"
     ]
    }
   ],
   "source": [
    "c = np.reshape(a,(2,3,2))\n",
    "print(c)"
   ]
  },
  {
   "cell_type": "code",
   "execution_count": 14,
   "id": "98de1800-b8f8-4b85-b8f9-e4dfed5e8d1a",
   "metadata": {},
   "outputs": [
    {
     "name": "stdout",
     "output_type": "stream",
     "text": [
      "[32 90 64 18 43 51 65  9 13 91 11 19 57 44 22 70 16 23 86 64  2 54 92 24]\n"
     ]
    }
   ],
   "source": [
    "a = np.random.randint(1,101,24)\n",
    "print(a)"
   ]
  },
  {
   "cell_type": "code",
   "execution_count": 16,
   "id": "4f407d99-7e51-43b0-9121-433cabd4ca24",
   "metadata": {},
   "outputs": [
    {
     "name": "stdout",
     "output_type": "stream",
     "text": [
      "[[32 90 64 18 43 51]\n",
      " [65  9 13 91 11 19]\n",
      " [57 44 22 70 16 23]\n",
      " [86 64  2 54 92 24]]\n"
     ]
    }
   ],
   "source": [
    "b = np.reshape(a,(4,-1))\n",
    "print(b)"
   ]
  },
  {
   "cell_type": "code",
   "execution_count": 18,
   "id": "52366841-cc66-4aae-b705-3e01a7a0a5e1",
   "metadata": {},
   "outputs": [
    {
     "name": "stdout",
     "output_type": "stream",
     "text": [
      "[[32 90 64 18]\n",
      " [43 51 65  9]\n",
      " [13 91 11 19]\n",
      " [57 44 22 70]\n",
      " [16 23 86 64]\n",
      " [ 2 54 92 24]]\n"
     ]
    }
   ],
   "source": [
    "c = a.reshape(-1,4)\n",
    "print(c)"
   ]
  },
  {
   "cell_type": "code",
   "execution_count": 24,
   "id": "b1934e77-055e-406c-aa1e-7f122ed8e19f",
   "metadata": {},
   "outputs": [
    {
     "name": "stdout",
     "output_type": "stream",
     "text": [
      "[[32 44 18 16]\n",
      " [65 64 91 92]\n",
      " [57 64 70 51]\n",
      " [86 13 54 19]\n",
      " [90 22 43 23]\n",
      " [ 9  2 11 24]]\n"
     ]
    }
   ],
   "source": [
    "d = b.reshape((-1,4),order='F')\n",
    "print(d)"
   ]
  },
  {
   "cell_type": "code",
   "execution_count": 28,
   "id": "1b5ef3e2-193b-495b-a7e2-71208e0b94d1",
   "metadata": {},
   "outputs": [
    {
     "name": "stdout",
     "output_type": "stream",
     "text": [
      "[69 25 17 25 32 32]\n",
      "6\n"
     ]
    }
   ],
   "source": [
    "a = np.random.randint(1,101,6)\n",
    "print(a)\n",
    "print(a.size)"
   ]
  },
  {
   "cell_type": "code",
   "execution_count": 29,
   "id": "c817d1fe-dcb4-4504-a82b-ecde18a4ed62",
   "metadata": {},
   "outputs": [
    {
     "name": "stdout",
     "output_type": "stream",
     "text": [
      "[[69 25 17 25]\n",
      " [32 32 69 25]]\n"
     ]
    }
   ],
   "source": [
    "b = np.resize(a,(2,4))\n",
    "print(b)"
   ]
  },
  {
   "cell_type": "code",
   "execution_count": 30,
   "id": "dca4c405-d9d2-4128-87a3-ecddf160ea7b",
   "metadata": {},
   "outputs": [
    {
     "ename": "ValueError",
     "evalue": "cannot resize an array that references or is referenced\nby another array in this way.\nUse the np.resize function or refcheck=False",
     "output_type": "error",
     "traceback": [
      "\u001b[0;31m---------------------------------------------------------------------------\u001b[0m",
      "\u001b[0;31mValueError\u001b[0m                                Traceback (most recent call last)",
      "Cell \u001b[0;32mIn[30], line 1\u001b[0m\n\u001b[0;32m----> 1\u001b[0m a\u001b[38;5;241m.\u001b[39mresize((\u001b[38;5;241m2\u001b[39m,\u001b[38;5;241m2\u001b[39m,\u001b[38;5;241m2\u001b[39m))\n\u001b[1;32m      2\u001b[0m \u001b[38;5;28mprint\u001b[39m(a)\n",
      "\u001b[0;31mValueError\u001b[0m: cannot resize an array that references or is referenced\nby another array in this way.\nUse the np.resize function or refcheck=False"
     ]
    }
   ],
   "source": [
    "a.resize((2,2,2))\n",
    "print(a)"
   ]
  },
  {
   "cell_type": "code",
   "execution_count": 32,
   "id": "5c51bc76-2eea-4810-82c2-12f79dd60b06",
   "metadata": {},
   "outputs": [
    {
     "name": "stdout",
     "output_type": "stream",
     "text": [
      "[1 2 3 4 5 6]\n",
      "After being Resized\n",
      "[[[1 2]\n",
      "  [3 4]]\n",
      "\n",
      " [[5 6]\n",
      "  [0 0]]]\n"
     ]
    }
   ],
   "source": [
    "a = np.arange(1,7)\n",
    "print(a)\n",
    "print('After being Resized')\n",
    "a.resize(2,2,2)\n",
    "print(a)"
   ]
  },
  {
   "cell_type": "code",
   "execution_count": 47,
   "id": "7952fec5-bf34-4089-a6cc-fd987fb2e6e9",
   "metadata": {},
   "outputs": [
    {
     "name": "stdout",
     "output_type": "stream",
     "text": [
      "['7' 'dhoni' '18' 'kohli' '45' 'rohit' 'True' '7.7']\n",
      "<U32\n"
     ]
    }
   ],
   "source": [
    "# How to use Hetero Elements in numpy array Hetero Elements\n",
    "L = [7,'dhoni',18,'kohli',45,'rohit',True,7.7]\n",
    "a = np.array(L)\n",
    "print(a)\n",
    "print(a.dtype)"
   ]
  },
  {
   "cell_type": "code",
   "execution_count": 48,
   "id": "773f3118-6d1d-4d15-a588-1b99b8e6fbe4",
   "metadata": {},
   "outputs": [
    {
     "name": "stdout",
     "output_type": "stream",
     "text": [
      "7 : <class 'numpy.str_'>\n",
      "dhoni : <class 'numpy.str_'>\n",
      "18 : <class 'numpy.str_'>\n",
      "kohli : <class 'numpy.str_'>\n",
      "45 : <class 'numpy.str_'>\n",
      "rohit : <class 'numpy.str_'>\n",
      "True : <class 'numpy.str_'>\n",
      "7.7 : <class 'numpy.str_'>\n"
     ]
    }
   ],
   "source": [
    "for i in a:\n",
    "    print(f'{i} : {type(i)}')"
   ]
  },
  {
   "cell_type": "code",
   "execution_count": 51,
   "id": "5036d20e-57c6-455d-ae46-19b999e19b35",
   "metadata": {},
   "outputs": [
    {
     "name": "stdout",
     "output_type": "stream",
     "text": [
      "[7 'dhoni' 18 'kohli' 45 'rohit' True 7.7 (2, 4) list([2, 4])]\n",
      "object\n"
     ]
    }
   ],
   "source": [
    "# Trick to use Hetero Elements with arrays \n",
    "L = [7,'dhoni',18,'kohli',45,'rohit',True,7.7,(2,4),[2,4]]\n",
    "b = np.array(L,dtype='object')\n",
    "print(b)\n",
    "print(b.dtype)"
   ]
  },
  {
   "cell_type": "code",
   "execution_count": 52,
   "id": "1c966896-86b0-44a4-92be-c762db4bdcc2",
   "metadata": {},
   "outputs": [
    {
     "name": "stdout",
     "output_type": "stream",
     "text": [
      "7 : <class 'int'>\n",
      "dhoni : <class 'str'>\n",
      "18 : <class 'int'>\n",
      "kohli : <class 'str'>\n",
      "45 : <class 'int'>\n",
      "rohit : <class 'str'>\n",
      "True : <class 'bool'>\n",
      "7.7 : <class 'float'>\n",
      "(2, 4) : <class 'tuple'>\n",
      "[2, 4] : <class 'list'>\n"
     ]
    }
   ],
   "source": [
    "for i in b:\n",
    "    print(f'{i} : {type(i)}')"
   ]
  },
  {
   "cell_type": "code",
   "execution_count": null,
   "id": "fa066392-5df6-4993-80ce-1b345c601484",
   "metadata": {},
   "outputs": [],
   "source": []
  }
 ],
 "metadata": {
  "kernelspec": {
   "display_name": "Python 3 (ipykernel)",
   "language": "python",
   "name": "python3"
  },
  "language_info": {
   "codemirror_mode": {
    "name": "ipython",
    "version": 3
   },
   "file_extension": ".py",
   "mimetype": "text/x-python",
   "name": "python",
   "nbconvert_exporter": "python",
   "pygments_lexer": "ipython3",
   "version": "3.11.7"
  }
 },
 "nbformat": 4,
 "nbformat_minor": 5
}
