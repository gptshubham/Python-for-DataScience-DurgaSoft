{
 "cells": [
  {
   "cell_type": "code",
   "execution_count": 2,
   "id": "53a7300f-61a2-4c59-99d2-8a5390ea29c3",
   "metadata": {},
   "outputs": [],
   "source": [
    "import numpy as np"
   ]
  },
  {
   "cell_type": "code",
   "execution_count": 8,
   "id": "d827fd2f-1ce8-400f-9e9c-b38fc46542d2",
   "metadata": {},
   "outputs": [
    {
     "name": "stdout",
     "output_type": "stream",
     "text": [
      "[10. 20. 30.]\n",
      "1\n",
      "float64\n",
      "(3,)\n",
      "3\n"
     ]
    }
   ],
   "source": [
    "# array()\n",
    "L = [10,20,30]\n",
    "a = np.array(L,float)\n",
    "print(a)\n",
    "print(a.ndim)\n",
    "print(a.dtype)\n",
    "print(a.shape)\n",
    "print(a.size)"
   ]
  },
  {
   "cell_type": "code",
   "execution_count": 26,
   "id": "2be6a5e4-21c9-4e61-8d65-b9a85fb8e61e",
   "metadata": {},
   "outputs": [
    {
     "name": "stdout",
     "output_type": "stream",
     "text": [
      "[10. 12. 14. 16. 18. 20.]\n"
     ]
    }
   ],
   "source": [
    "# arange()\n",
    "a = np.arange(10,21,2,float)\n",
    "# dtype=str --> TypeError\n",
    "# dtype=bool --> TypeError\n",
    "print(a)"
   ]
  },
  {
   "cell_type": "code",
   "execution_count": 31,
   "id": "3a161ce5-718d-40f3-98b3-54dba2d2bd7e",
   "metadata": {},
   "outputs": [
    {
     "name": "stdout",
     "output_type": "stream",
     "text": [
      "['0' '2' '4' '6' '8' '10' '12' '14' '16' '18' '20']\n",
      "<U2\n",
      "[False  True  True  True  True  True  True  True  True  True  True]\n",
      "bool\n",
      "[ 0.  2.  4.  6.  8. 10. 12. 14. 16. 18. 20.]\n",
      "float64\n",
      "[ 0  2  4  6  8 10 12 14 16 18 20]\n",
      "int64\n"
     ]
    }
   ],
   "source": [
    "# Alternative of arange() --> array() is a better alternative of arange()\n",
    "a = np.array(range(0,21,2),str)\n",
    "print(a)\n",
    "print(a.dtype)\n",
    "a = np.array(range(0,21,2),bool)\n",
    "print(a)\n",
    "print(a.dtype)\n",
    "a = np.array(range(0,21,2),float)\n",
    "print(a)\n",
    "print(a.dtype)\n",
    "a = np.array(range(0,21,2))\n",
    "print(a)\n",
    "print(a.dtype)"
   ]
  },
  {
   "cell_type": "code",
   "execution_count": 52,
   "id": "5352f199-69ae-4f24-9015-a77bdd30f6e4",
   "metadata": {},
   "outputs": [
    {
     "name": "stdout",
     "output_type": "stream",
     "text": [
      "[50. 40. 30. 20. 10.]\n",
      "[50 40 30 20 10]\n",
      "['50.0' '40.0' '30.0' '20.0' '10.0']\n",
      "[ True  True  True  True  True]\n"
     ]
    }
   ],
   "source": [
    "# linspace() --> linspace is like an advancement to arange()\n",
    "a = np.linspace(50,10,5)    # evenly spaced values in descending order\n",
    "print(a)\n",
    "a = np.linspace(50,10,5,dtype=int)\n",
    "print(a)\n",
    "a = np.linspace(50,10,5,dtype=str)\n",
    "print(a)\n",
    "a = np.linspace(50,10,5,dtype=bool)\n",
    "print(a)"
   ]
  },
  {
   "cell_type": "code",
   "execution_count": 62,
   "id": "4bcedb7c-26c5-4abc-9c05-68dbda7621f9",
   "metadata": {},
   "outputs": [
    {
     "name": "stdout",
     "output_type": "stream",
     "text": [
      "[[0 0 0]\n",
      " [0 0 0]]\n",
      "int64\n",
      "2\n",
      "(2, 3)\n",
      "6\n"
     ]
    }
   ],
   "source": [
    "# zeros() --> the biggest advantage of using zeros(),ones() or full() is that we can create multi-dimentional arrays\n",
    "shape_of_array = (2,3)\n",
    "a = np.zeros(shape_of_array,dtype=int)\n",
    "print(a)\n",
    "print(a.dtype)\n",
    "print(a.ndim)\n",
    "print(a.shape)\n",
    "print(a.size)"
   ]
  },
  {
   "cell_type": "code",
   "execution_count": 63,
   "id": "ab795fc4-fed9-45f7-b115-2c0ca4fdf322",
   "metadata": {},
   "outputs": [
    {
     "name": "stdout",
     "output_type": "stream",
     "text": [
      "[['' '' '']\n",
      " ['' '' '']]\n",
      "<U1\n",
      "2\n",
      "(2, 3)\n",
      "6\n"
     ]
    }
   ],
   "source": [
    "shape_of_array = (2,3)\n",
    "a = np.zeros(shape_of_array,dtype=str)\n",
    "print(a)\n",
    "print(a.dtype)\n",
    "print(a.ndim)\n",
    "print(a.shape)\n",
    "print(a.size)"
   ]
  },
  {
   "cell_type": "code",
   "execution_count": 66,
   "id": "e9360219-8317-42fd-8b29-9c8ef194078e",
   "metadata": {},
   "outputs": [
    {
     "name": "stdout",
     "output_type": "stream",
     "text": [
      "[[False False False]\n",
      " [False False False]]\n",
      "bool\n",
      "2\n",
      "(2, 3)\n",
      "6\n"
     ]
    }
   ],
   "source": [
    "shape_of_array = (2,3)\n",
    "a = np.zeros(shape_of_array,dtype=bool)\n",
    "print(a)\n",
    "print(a.dtype)\n",
    "print(a.ndim)\n",
    "print(a.shape)\n",
    "print(a.size)"
   ]
  },
  {
   "cell_type": "code",
   "execution_count": 64,
   "id": "3c1f34c1-d3ec-47dd-bed6-3f42a62f1e2d",
   "metadata": {},
   "outputs": [
    {
     "name": "stdout",
     "output_type": "stream",
     "text": [
      "[[[0. 0. 0. 0.]\n",
      "  [0. 0. 0. 0.]\n",
      "  [0. 0. 0. 0.]]\n",
      "\n",
      " [[0. 0. 0. 0.]\n",
      "  [0. 0. 0. 0.]\n",
      "  [0. 0. 0. 0.]]]\n",
      "float64\n",
      "3\n",
      "(2, 3, 4)\n",
      "24\n"
     ]
    }
   ],
   "source": [
    "shape_of_array = (2,3,4)\n",
    "a = np.zeros(shape_of_array)\n",
    "print(a)\n",
    "print(a.dtype)\n",
    "print(a.ndim)\n",
    "print(a.shape)\n",
    "print(a.size)"
   ]
  },
  {
   "cell_type": "code",
   "execution_count": 65,
   "id": "e110c779-b596-4f33-8a8a-6e08293b04ba",
   "metadata": {},
   "outputs": [
    {
     "name": "stdout",
     "output_type": "stream",
     "text": [
      "[[[[0. 0. 0. 0. 0.]\n",
      "   [0. 0. 0. 0. 0.]\n",
      "   [0. 0. 0. 0. 0.]\n",
      "   [0. 0. 0. 0. 0.]]\n",
      "\n",
      "  [[0. 0. 0. 0. 0.]\n",
      "   [0. 0. 0. 0. 0.]\n",
      "   [0. 0. 0. 0. 0.]\n",
      "   [0. 0. 0. 0. 0.]]\n",
      "\n",
      "  [[0. 0. 0. 0. 0.]\n",
      "   [0. 0. 0. 0. 0.]\n",
      "   [0. 0. 0. 0. 0.]\n",
      "   [0. 0. 0. 0. 0.]]]\n",
      "\n",
      "\n",
      " [[[0. 0. 0. 0. 0.]\n",
      "   [0. 0. 0. 0. 0.]\n",
      "   [0. 0. 0. 0. 0.]\n",
      "   [0. 0. 0. 0. 0.]]\n",
      "\n",
      "  [[0. 0. 0. 0. 0.]\n",
      "   [0. 0. 0. 0. 0.]\n",
      "   [0. 0. 0. 0. 0.]\n",
      "   [0. 0. 0. 0. 0.]]\n",
      "\n",
      "  [[0. 0. 0. 0. 0.]\n",
      "   [0. 0. 0. 0. 0.]\n",
      "   [0. 0. 0. 0. 0.]\n",
      "   [0. 0. 0. 0. 0.]]]]\n",
      "float64\n",
      "4\n",
      "(2, 3, 4, 5)\n",
      "120\n"
     ]
    }
   ],
   "source": [
    "shape_of_array = (2,3,4,5)\n",
    "a = np.zeros(shape_of_array)\n",
    "print(a)\n",
    "print(a.dtype)\n",
    "print(a.ndim)\n",
    "print(a.shape)\n",
    "print(a.size)"
   ]
  },
  {
   "cell_type": "code",
   "execution_count": 71,
   "id": "257c34b7-8ffa-4299-b537-5ec08dcae863",
   "metadata": {},
   "outputs": [
    {
     "name": "stdout",
     "output_type": "stream",
     "text": [
      "[[1. 1. 1.]\n",
      " [1. 1. 1.]]\n",
      "\n",
      "[[1 1 1]\n",
      " [1 1 1]]\n",
      "\n",
      "[['1' '1' '1']\n",
      " ['1' '1' '1']]\n"
     ]
    }
   ],
   "source": [
    "# ones()\n",
    "shape_of_array = (2,3)\n",
    "a = np.ones(shape_of_array)\n",
    "print(a)\n",
    "print()\n",
    "shape_of_array = (2,3)\n",
    "a = np.ones(shape_of_array,dtype=int)\n",
    "print(a)\n",
    "print()\n",
    "shape_of_array = (2,3)\n",
    "a = np.ones(shape_of_array,dtype=str)\n",
    "print(a)\n",
    "print()"
   ]
  },
  {
   "cell_type": "code",
   "execution_count": 74,
   "id": "c09472a0-82ee-42cf-b003-fc61b0546630",
   "metadata": {},
   "outputs": [
    {
     "name": "stdout",
     "output_type": "stream",
     "text": [
      "[[7 7 7]\n",
      " [7 7 7]]\n"
     ]
    }
   ],
   "source": [
    "# full()\n",
    "shape_of_array = (2,3)\n",
    "a = np.full(shape_of_array,7)\n",
    "print(a)"
   ]
  },
  {
   "cell_type": "code",
   "execution_count": 75,
   "id": "b41f6c82-276d-4d3d-8ee8-f8f0c76c8a68",
   "metadata": {},
   "outputs": [
    {
     "name": "stdout",
     "output_type": "stream",
     "text": [
      "[['7' '7' '7']\n",
      " ['7' '7' '7']]\n"
     ]
    }
   ],
   "source": [
    "shape_of_array = (2,3)\n",
    "a = np.full(shape_of_array,7,str)\n",
    "print(a)"
   ]
  },
  {
   "cell_type": "code",
   "execution_count": 8,
   "id": "cd30af18-acb1-4358-816c-0f32f656e692",
   "metadata": {},
   "outputs": [
    {
     "name": "stdout",
     "output_type": "stream",
     "text": [
      "[[0 1 0 0]\n",
      " [0 0 1 0]\n",
      " [0 0 0 1]]\n"
     ]
    }
   ],
   "source": [
    "a = np.eye(3,4,1,int)\n",
    "print(a)"
   ]
  },
  {
   "cell_type": "code",
   "execution_count": 6,
   "id": "5dd11023-79d9-4f85-86f7-c0659beb7a53",
   "metadata": {},
   "outputs": [
    {
     "name": "stdout",
     "output_type": "stream",
     "text": [
      "[[1 0 0 0 0]\n",
      " [0 1 0 0 0]\n",
      " [0 0 1 0 0]\n",
      " [0 0 0 1 0]\n",
      " [0 0 0 0 1]]\n"
     ]
    }
   ],
   "source": [
    "a = np.identity(5,int)\n",
    "print(a)"
   ]
  },
  {
   "cell_type": "code",
   "execution_count": 10,
   "id": "fde7bb7d-73a8-463c-9db9-7b3700426b23",
   "metadata": {},
   "outputs": [
    {
     "name": "stdout",
     "output_type": "stream",
     "text": [
      "(7, 'dhoni', True, 7.77, (10+20j))\n",
      "[7 'dhoni' True 7.77 (10+20j)]\n",
      "object\n"
     ]
    }
   ],
   "source": [
    "# creating an array with Heterogeneous Daya Types --> I love this hack !\n",
    "L = (7,'dhoni',True,7.77,10+20j)\n",
    "print(L)\n",
    "a = np.array(L,dtype=object)\n",
    "print(a)\n",
    "print(a.dtype)"
   ]
  },
  {
   "cell_type": "code",
   "execution_count": null,
   "id": "99e1b258-9a14-4d24-9b60-27ff4f77d6d8",
   "metadata": {},
   "outputs": [],
   "source": []
  }
 ],
 "metadata": {
  "kernelspec": {
   "display_name": "Python 3 (ipykernel)",
   "language": "python",
   "name": "python3"
  },
  "language_info": {
   "codemirror_mode": {
    "name": "ipython",
    "version": 3
   },
   "file_extension": ".py",
   "mimetype": "text/x-python",
   "name": "python",
   "nbconvert_exporter": "python",
   "pygments_lexer": "ipython3",
   "version": "3.11.7"
  }
 },
 "nbformat": 4,
 "nbformat_minor": 5
}
