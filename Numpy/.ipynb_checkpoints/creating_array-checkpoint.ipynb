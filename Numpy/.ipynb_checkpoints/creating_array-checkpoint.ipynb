{
 "cells": [
  {
   "cell_type": "markdown",
   "id": "c6eac9e2-7a77-4d17-8c65-4c1c5ec67743",
   "metadata": {},
   "source": [
    "## Creating Numpy Arrays"
   ]
  },
  {
   "cell_type": "markdown",
   "id": "29d383ef-c91d-494a-9ee3-de978c5e448e",
   "metadata": {},
   "source": [
    "#### 1. array()"
   ]
  },
  {
   "cell_type": "code",
   "execution_count": 135,
   "id": "f9e7fd8a-3b21-400b-a162-06e02af63449",
   "metadata": {},
   "outputs": [],
   "source": [
    "import numpy as np"
   ]
  },
  {
   "cell_type": "code",
   "execution_count": 136,
   "id": "2a9972d3-457c-4f00-be46-23663daf41c9",
   "metadata": {},
   "outputs": [],
   "source": [
    "# help(np.array)\n",
    "# --> array(object, dtype=None, *, copy=True, order='K', subok=False, ndmin=0,like=None)\n",
    "# --> Create an array."
   ]
  },
  {
   "cell_type": "code",
   "execution_count": 137,
   "id": "50024747-89a4-4413-88e8-d8b15db84d9b",
   "metadata": {},
   "outputs": [
    {
     "name": "stdout",
     "output_type": "stream",
     "text": [
      "[10, 20, 30]\n",
      "<class 'list'>\n",
      "[10 20 30]\n",
      "<class 'numpy.ndarray'>\n",
      "1\n",
      "int64\n",
      "(3,)\n",
      "3\n"
     ]
    }
   ],
   "source": [
    "# 1-D Array using List\n",
    "L = [10,20,30]\n",
    "a = np.array(L)\n",
    "print(L)\n",
    "print(type(L))\n",
    "print(a)\n",
    "print(type(a))\n",
    "print(a.ndim)\n",
    "print(a.dtype)\n",
    "print(a.shape)      # (3,) --> (size of array , )\n",
    "print(a.size)\n",
    "# a1 = np.array(L,str)\n",
    "# print(a1.dtype)"
   ]
  },
  {
   "cell_type": "code",
   "execution_count": 138,
   "id": "5801d3b9-dedb-4ceb-a7d4-ba17d7c47318",
   "metadata": {},
   "outputs": [],
   "source": [
    "# import numpy as np\n",
    "# help(np.array)\n",
    "# array(object, dtype=None, *, copy=True, order='K', subok=False, ndmin=0,like=None)"
   ]
  },
  {
   "cell_type": "code",
   "execution_count": 139,
   "id": "c1654249-5e3b-4157-b99c-b6f62bcdb71a",
   "metadata": {},
   "outputs": [
    {
     "name": "stdout",
     "output_type": "stream",
     "text": [
      "<class 'numpy.ndarray'>\n",
      "2\n",
      "[[10 20 30]\n",
      " [40 50 60]\n",
      " [70 80 90]]\n",
      "(3, 3)\n",
      "9\n"
     ]
    }
   ],
   "source": [
    "# 2-D Array\n",
    "L = [[10,20,30],[40,50,60],[70,80,90]]\n",
    "a = np.array(L)\n",
    "print(type(a))\n",
    "print(a.ndim)\n",
    "print(a)\n",
    "print(a.shape)\n",
    "print(a.size)"
   ]
  },
  {
   "cell_type": "code",
   "execution_count": 140,
   "id": "cf6f06bb-8c83-480b-a07b-07fcfa387926",
   "metadata": {},
   "outputs": [
    {
     "name": "stdout",
     "output_type": "stream",
     "text": [
      "['shubham' 'kumar' 'gupta']\n",
      "<class 'numpy.ndarray'>\n",
      "1\n",
      "(3,)\n",
      "3\n",
      "<U7\n"
     ]
    }
   ],
   "source": [
    "# 1-D Array using Tuple\n",
    "t = ('shubham','kumar','gupta')\n",
    "a = np.array(t)\n",
    "print(a)\n",
    "print(type(a))\n",
    "print(a.ndim)\n",
    "print(a.shape)\n",
    "print(a.size)\n",
    "print(a.dtype)        # <U7 --> string"
   ]
  },
  {
   "cell_type": "code",
   "execution_count": 141,
   "id": "5041a019-1d06-4a1b-a3cd-4eb6698569e9",
   "metadata": {},
   "outputs": [
    {
     "name": "stdout",
     "output_type": "stream",
     "text": [
      "[7, 'Dhoni', 10, 'Sachin', 18, 'Kohli', 45, 'Rohit']\n",
      "['7' 'Dhoni' '10' 'Sachin' '18' 'Kohli' '45' 'Rohit']\n",
      "<U21\n",
      "[10.  20.  30.5]\n",
      "float64\n"
     ]
    }
   ],
   "source": [
    "# Homo Elements --> upcasting\n",
    "L = [7,'Dhoni',10,'Sachin',18,'Kohli',45,'Rohit']\n",
    "a = np.array(L)\n",
    "print(L)\n",
    "print(a)\n",
    "print(a.dtype)\n",
    "L1 = [10,20,30.5]\n",
    "a1 = np.array(L1)\n",
    "print(a1)\n",
    "print(a1.dtype)"
   ]
  },
  {
   "cell_type": "code",
   "execution_count": 142,
   "id": "9e1803cd-f227-496e-880b-6b06178ab59a",
   "metadata": {},
   "outputs": [
    {
     "name": "stdout",
     "output_type": "stream",
     "text": [
      "[10 20 30  0]\n",
      "[ True  True  True False]\n",
      "['10' '20' '30.5' '0']\n"
     ]
    }
   ],
   "source": [
    "# How to create an array of a particular type\n",
    "L1 = [10,20,30.5,0]\n",
    "a1 = np.array(L1,int)\n",
    "print(a1)\n",
    "a2 = np.array(L1,bool)\n",
    "print(a2)\n",
    "a3 = np.array(L1,str)\n",
    "print(a3)\n",
    "L2 = [7,'Dhoni',10,'Sachin',18,'Kohli',45,'Rohit']\n",
    "# a = np.array(L2,int)       # ValueError"
   ]
  },
  {
   "cell_type": "code",
   "execution_count": 143,
   "id": "849588b9-8b40-42fd-862d-a0795c9aab73",
   "metadata": {},
   "outputs": [
    {
     "name": "stdout",
     "output_type": "stream",
     "text": [
      "[7 'Dhoni' 10 'Sachin' 18 'Kohli' 45 'Rohit' True 10.5 (10+20j)]\n",
      "object\n",
      "['7' 'Dhoni' '10' 'Sachin' '18' 'Kohli' '45' 'Rohit' 'True' '10.5'\n",
      " '(10+20j)']\n",
      "<U64\n"
     ]
    }
   ],
   "source": [
    "# object type array --> Array with Heterogeneous Elements \n",
    "L = [7,'Dhoni',10,'Sachin',18,'Kohli',45,'Rohit',True,10.5,10+20j]\n",
    "a = np.array(L,object)\n",
    "print(a)\n",
    "print(a.dtype)\n",
    "a1 = np.array(L)\n",
    "print(a1)\n",
    "print(a1.dtype)"
   ]
  },
  {
   "cell_type": "markdown",
   "id": "044d0740-477e-42ee-8bcf-79f57319141a",
   "metadata": {},
   "source": [
    "#### 2. arange()"
   ]
  },
  {
   "cell_type": "code",
   "execution_count": 144,
   "id": "31a96f83-3484-454b-9d85-56de60a8092d",
   "metadata": {
    "editable": true,
    "slideshow": {
     "slide_type": ""
    },
    "tags": []
   },
   "outputs": [],
   "source": [
    "# arguments of arange()\n",
    "# help(np.arange) \n",
    "# --> arange([start,] stop[, step,], dtype=None, *, like=None)\n",
    "# --> Return evenly spaced values within a given interval."
   ]
  },
  {
   "cell_type": "code",
   "execution_count": 145,
   "id": "5390538b-9918-4e3c-bbb0-7fae18502a97",
   "metadata": {},
   "outputs": [
    {
     "name": "stdout",
     "output_type": "stream",
     "text": [
      "[0 1 2 3 4 5 6 7 8 9]\n",
      "1\n",
      "int64\n"
     ]
    }
   ],
   "source": [
    "a = np.arange(10)\n",
    "print(a)\n",
    "print(a.ndim)\n",
    "print(a.dtype)"
   ]
  },
  {
   "cell_type": "code",
   "execution_count": 146,
   "id": "505b9119-47b2-4916-9296-76069f646167",
   "metadata": {},
   "outputs": [
    {
     "data": {
      "text/plain": [
       "array([ 1,  2,  3,  4,  5,  6,  7,  8,  9, 10])"
      ]
     },
     "execution_count": 146,
     "metadata": {},
     "output_type": "execute_result"
    }
   ],
   "source": [
    "a = np.arange(1,11)\n",
    "a"
   ]
  },
  {
   "cell_type": "code",
   "execution_count": 147,
   "id": "d0d3991e-dc74-45bb-9837-5e97c7cd740e",
   "metadata": {},
   "outputs": [
    {
     "data": {
      "text/plain": [
       "array([1, 3, 5, 7, 9])"
      ]
     },
     "execution_count": 147,
     "metadata": {},
     "output_type": "execute_result"
    }
   ],
   "source": [
    "a = np.arange(1,11,2)\n",
    "a"
   ]
  },
  {
   "cell_type": "code",
   "execution_count": 148,
   "id": "b1bca752-22d3-4729-b835-3cc4458c4d60",
   "metadata": {},
   "outputs": [
    {
     "data": {
      "text/plain": [
       "array([ 1.,  4.,  7., 10.])"
      ]
     },
     "execution_count": 148,
     "metadata": {},
     "output_type": "execute_result"
    }
   ],
   "source": [
    "a = np.arange(1,11,3,dtype=float)\n",
    "a"
   ]
  },
  {
   "cell_type": "code",
   "execution_count": 149,
   "id": "5699d609-9905-4c21-88f6-ac18d0da6eee",
   "metadata": {},
   "outputs": [],
   "source": [
    "# a = np.arange(1,11,3,dtype=str)\n",
    "# a\n",
    "# TypeError: arange() not supported for inputs with DType <class 'numpy.dtypes.StrDType'>."
   ]
  },
  {
   "cell_type": "markdown",
   "id": "3d29c624-1634-4897-bc37-8db7887cd6ea",
   "metadata": {},
   "source": [
    "#### 3. linspace()"
   ]
  },
  {
   "cell_type": "code",
   "execution_count": 151,
   "id": "85c0cf43-1e32-48f5-b7bb-63c9c33c317c",
   "metadata": {},
   "outputs": [],
   "source": [
    "# in the specified interval , linearly spaced values --> evenly spaced (uniform) numbers\n",
    "# arguments of linspace()\n",
    "# help(np.linspace) \n",
    "# --> linspace(start, stop, num=50, endpoint=True, retstep=False, dtype=None, axis=0)\n",
    "# --> Return evenly spaced numbers over a specified interval.\n",
    "# --> Returns `num` evenly spaced samples, calculated over the interval [`start`, `stop`].\n",
    "# --> The endpoint of the interval can optionally be excluded."
   ]
  },
  {
   "cell_type": "code",
   "execution_count": 152,
   "id": "4df4a980-b135-401b-974d-a2c03943f4f8",
   "metadata": {},
   "outputs": [
    {
     "data": {
      "text/plain": [
       "array([0., 1.])"
      ]
     },
     "execution_count": 152,
     "metadata": {},
     "output_type": "execute_result"
    }
   ],
   "source": [
    "np.linspace(0,1,2)"
   ]
  },
  {
   "cell_type": "code",
   "execution_count": 153,
   "id": "168036e7-f885-4419-a69d-59785d6ffc9f",
   "metadata": {},
   "outputs": [
    {
     "data": {
      "text/plain": [
       "array([0. , 0.5, 1. ])"
      ]
     },
     "execution_count": 153,
     "metadata": {},
     "output_type": "execute_result"
    }
   ],
   "source": [
    "np.linspace(0,1,3)"
   ]
  },
  {
   "cell_type": "code",
   "execution_count": 154,
   "id": "2bf00489-f8fd-4852-b63c-26c375027796",
   "metadata": {},
   "outputs": [
    {
     "data": {
      "text/plain": [
       "array([0.        , 0.33333333, 0.66666667, 1.        ])"
      ]
     },
     "execution_count": 154,
     "metadata": {},
     "output_type": "execute_result"
    }
   ],
   "source": [
    "np.linspace(0,1,4)"
   ]
  },
  {
   "cell_type": "code",
   "execution_count": 155,
   "id": "4ec233ea-5324-4648-9efe-df0694ec86ad",
   "metadata": {},
   "outputs": [
    {
     "name": "stdout",
     "output_type": "stream",
     "text": [
      "[0.         0.02040816 0.04081633 0.06122449 0.08163265 0.10204082\n",
      " 0.12244898 0.14285714 0.16326531 0.18367347 0.20408163 0.2244898\n",
      " 0.24489796 0.26530612 0.28571429 0.30612245 0.32653061 0.34693878\n",
      " 0.36734694 0.3877551  0.40816327 0.42857143 0.44897959 0.46938776\n",
      " 0.48979592 0.51020408 0.53061224 0.55102041 0.57142857 0.59183673\n",
      " 0.6122449  0.63265306 0.65306122 0.67346939 0.69387755 0.71428571\n",
      " 0.73469388 0.75510204 0.7755102  0.79591837 0.81632653 0.83673469\n",
      " 0.85714286 0.87755102 0.89795918 0.91836735 0.93877551 0.95918367\n",
      " 0.97959184 1.        ]\n",
      "Default Size of array in linspace(): 50\n",
      "1\n",
      "float64\n"
     ]
    }
   ],
   "source": [
    "a = np.linspace(0,1)        # dfault argument num=50\n",
    "print(a)\n",
    "print('Default Size of array in linspace():',a.size)\n",
    "print(a.ndim)\n",
    "print(a.dtype)"
   ]
  },
  {
   "cell_type": "code",
   "execution_count": 156,
   "id": "10194f40-4ddb-4f03-aa28-43db3701e3fa",
   "metadata": {},
   "outputs": [
    {
     "data": {
      "text/plain": [
       "array([  1,  12,  23,  34,  45,  56,  67,  78,  89, 100])"
      ]
     },
     "execution_count": 156,
     "metadata": {},
     "output_type": "execute_result"
    }
   ],
   "source": [
    "np.linspace(1,100,10,dtype=int)"
   ]
  },
  {
   "cell_type": "markdown",
   "id": "7526c991-5397-4489-8730-8b69a3ed3637",
   "metadata": {},
   "source": [
    "#### 4. zeros()"
   ]
  },
  {
   "cell_type": "code",
   "execution_count": 158,
   "id": "fce6e4c6-770d-4c5e-8d5c-5014b435423c",
   "metadata": {},
   "outputs": [],
   "source": [
    "# arguments\n",
    "# help(np.zeros) \n",
    "# --> zeros(shape, dtype=float, order='C', *, like=None)\n",
    "# --> Return a new array of given shape and type, filled with zeros."
   ]
  },
  {
   "cell_type": "code",
   "execution_count": 159,
   "id": "fd551845-ffa7-4324-aa4e-33bcbc705bda",
   "metadata": {},
   "outputs": [
    {
     "name": "stdout",
     "output_type": "stream",
     "text": [
      "[0. 0. 0. 0. 0. 0. 0. 0. 0. 0.]\n",
      "Dimentions: 1\n",
      "Shape: (10,)\n",
      "Size: 10\n"
     ]
    }
   ],
   "source": [
    "# vercor --> 1-D Array\n",
    "a = np.zeros((10))\n",
    "print(a)\n",
    "print('Dimentions:',a.ndim)\n",
    "print('Shape:',a.shape)\n",
    "print('Size:',a.size)"
   ]
  },
  {
   "cell_type": "code",
   "execution_count": 160,
   "id": "c9fa94f0-3c29-438f-9d7b-87ebf576a954",
   "metadata": {},
   "outputs": [
    {
     "name": "stdout",
     "output_type": "stream",
     "text": [
      "[[0. 0. 0.]\n",
      " [0. 0. 0.]\n",
      " [0. 0. 0.]]\n",
      "Dimentions: 2\n",
      "Shape: (3, 3)\n",
      "Size: 9\n"
     ]
    }
   ],
   "source": [
    "# matrix --> 2-D Array --> a collection of 1-D Arrays\n",
    "a = np.zeros((3,3))\n",
    "print(a)\n",
    "print('Dimentions:',a.ndim)\n",
    "print('Shape:',a.shape)\n",
    "print('Size:',a.size)"
   ]
  },
  {
   "cell_type": "code",
   "execution_count": 161,
   "id": "d489b02f-10f1-4f45-bec3-dd10a3ac3b1f",
   "metadata": {},
   "outputs": [
    {
     "name": "stdout",
     "output_type": "stream",
     "text": [
      "[[[0. 0. 0. 0.]\n",
      "  [0. 0. 0. 0.]\n",
      "  [0. 0. 0. 0.]]\n",
      "\n",
      " [[0. 0. 0. 0.]\n",
      "  [0. 0. 0. 0.]\n",
      "  [0. 0. 0. 0.]]]\n",
      "Dimentions: 3\n",
      "Shape: (2, 3, 4)\n",
      "Size: 24\n"
     ]
    }
   ],
   "source": [
    "# 3-D Array --> a collection of 2-D Arrays\n",
    "a = np.zeros((2,3,4))\n",
    "# 2 --> 2 2-D Arrays\n",
    "# 3 --> No. of rows in every 2-D Array\n",
    "# 4 --> No. of columns in every 2-D Array\n",
    "# size = 4*3*2 = 24\n",
    "print(a)\n",
    "print('Dimentions:',a.ndim)\n",
    "print('Shape:',a.shape)\n",
    "print('Size:',a.size)"
   ]
  },
  {
   "cell_type": "code",
   "execution_count": 162,
   "id": "77d490b6-2ff5-4bfb-8669-14844d66a6a6",
   "metadata": {},
   "outputs": [
    {
     "name": "stdout",
     "output_type": "stream",
     "text": [
      "[[[0. 0. 0. 0.]\n",
      "  [0. 0. 0. 0.]\n",
      "  [0. 0. 0. 0.]]\n",
      "\n",
      " [[0. 0. 0. 0.]\n",
      "  [0. 0. 0. 0.]\n",
      "  [0. 0. 0. 0.]]\n",
      "\n",
      " [[0. 0. 0. 0.]\n",
      "  [0. 0. 0. 0.]\n",
      "  [0. 0. 0. 0.]]]\n",
      "Dimentions: 3\n",
      "Shape: (3, 3, 4)\n",
      "Size: 36\n"
     ]
    }
   ],
   "source": [
    "a = np.zeros((3,3,4))\n",
    "print(a)\n",
    "print('Dimentions:',a.ndim)\n",
    "print('Shape:',a.shape)\n",
    "print('Size:',a.size)"
   ]
  },
  {
   "cell_type": "code",
   "execution_count": 163,
   "id": "dce00f12-817f-4912-8660-18ba056734d7",
   "metadata": {},
   "outputs": [
    {
     "name": "stdout",
     "output_type": "stream",
     "text": [
      "[[[0 0 0 0]\n",
      "  [0 0 0 0]\n",
      "  [0 0 0 0]]\n",
      "\n",
      " [[0 0 0 0]\n",
      "  [0 0 0 0]\n",
      "  [0 0 0 0]]]\n",
      "Dimentions: 3\n",
      "Shape: (2, 3, 4)\n",
      "Size: 24\n"
     ]
    }
   ],
   "source": [
    "# dtype argument\n",
    "a = np.zeros((2,3,4),dtype=int)\n",
    "print(a)\n",
    "print('Dimentions:',a.ndim)\n",
    "print('Shape:',a.shape)\n",
    "print('Size:',a.size)"
   ]
  },
  {
   "cell_type": "code",
   "execution_count": 164,
   "id": "1123a676-a40b-45d6-913f-4b7a86355a58",
   "metadata": {},
   "outputs": [
    {
     "name": "stdout",
     "output_type": "stream",
     "text": [
      "[[[0 0]\n",
      "  [0 0]\n",
      "  [0 0]]]\n",
      "Dimentions: 3\n",
      "Shape: (1, 3, 2)\n",
      "Size: 6\n"
     ]
    }
   ],
   "source": [
    "a = np.zeros((1,3,2),dtype=int)\n",
    "print(a)\n",
    "print('Dimentions:',a.ndim)\n",
    "print('Shape:',a.shape)\n",
    "print('Size:',a.size)"
   ]
  },
  {
   "cell_type": "code",
   "execution_count": 165,
   "id": "05ddd12e-3b79-41eb-93a2-9a426d81fcd9",
   "metadata": {},
   "outputs": [
    {
     "name": "stdout",
     "output_type": "stream",
     "text": [
      "[[[[0 0 0 0]\n",
      "   [0 0 0 0]\n",
      "   [0 0 0 0]]\n",
      "\n",
      "  [[0 0 0 0]\n",
      "   [0 0 0 0]\n",
      "   [0 0 0 0]]]\n",
      "\n",
      "\n",
      " [[[0 0 0 0]\n",
      "   [0 0 0 0]\n",
      "   [0 0 0 0]]\n",
      "\n",
      "  [[0 0 0 0]\n",
      "   [0 0 0 0]\n",
      "   [0 0 0 0]]]]\n",
      "Dimentions: 4\n",
      "Shape: (2, 2, 3, 4)\n",
      "Size: 48\n"
     ]
    }
   ],
   "source": [
    "# 4-D Arrays --> a collection of 3-D Arrays\n",
    "a = np.zeros((2,2,3,4),dtype=int)\n",
    "print(a)\n",
    "print('Dimentions:',a.ndim)\n",
    "print('Shape:',a.shape)\n",
    "print('Size:',a.size)"
   ]
  },
  {
   "cell_type": "markdown",
   "id": "c01d195c-ff30-466f-99a5-b873d3983167",
   "metadata": {},
   "source": [
    "#### 5. ones()"
   ]
  },
  {
   "cell_type": "code",
   "execution_count": 166,
   "id": "5e23c87d-364c-476b-b21f-3b08e120ceb2",
   "metadata": {},
   "outputs": [],
   "source": [
    "# Exactly similar to zeros() , just the values are 1 instead of 0\n",
    "# help(np.ones) \n",
    "# --> ones(shape, dtype=None, order='C', *, like=None)\n",
    "# --> Return a new array of given shape and type, filled with ones."
   ]
  },
  {
   "cell_type": "code",
   "execution_count": 168,
   "id": "d3bce344-f350-4da1-973b-80166eebd812",
   "metadata": {},
   "outputs": [
    {
     "data": {
      "text/plain": [
       "array([[[1., 1., 1., 1.],\n",
       "        [1., 1., 1., 1.],\n",
       "        [1., 1., 1., 1.]],\n",
       "\n",
       "       [[1., 1., 1., 1.],\n",
       "        [1., 1., 1., 1.],\n",
       "        [1., 1., 1., 1.]]])"
      ]
     },
     "execution_count": 168,
     "metadata": {},
     "output_type": "execute_result"
    }
   ],
   "source": [
    "np.ones((2,3,4))"
   ]
  },
  {
   "cell_type": "markdown",
   "id": "5af55ef6-adf7-4e34-ad7d-cd3c506c0433",
   "metadata": {},
   "source": [
    "#### 6. full()"
   ]
  },
  {
   "cell_type": "code",
   "execution_count": 170,
   "id": "c3a74f9a-a1d0-4c97-b9f6-f5424f88f91a",
   "metadata": {},
   "outputs": [],
   "source": [
    "# help(np.full)\n",
    "# --> full(shape, fill_value, dtype=None, order='C', *, like=None)\n",
    "# --> Return a new array of given shape and type, filled with `fill_value`."
   ]
  },
  {
   "cell_type": "code",
   "execution_count": 171,
   "id": "c182fc55-89b3-4183-a95f-a4c5da4d60ac",
   "metadata": {},
   "outputs": [
    {
     "data": {
      "text/plain": [
       "array([2, 2, 2, 2, 2, 2, 2, 2, 2, 2])"
      ]
     },
     "execution_count": 171,
     "metadata": {},
     "output_type": "execute_result"
    }
   ],
   "source": [
    "np.full((10),2)"
   ]
  },
  {
   "cell_type": "code",
   "execution_count": 175,
   "id": "72707b8b-1d91-43c0-93d3-4b053b4c681b",
   "metadata": {},
   "outputs": [
    {
     "data": {
      "text/plain": [
       "array([[7, 7, 7, 7, 7],\n",
       "       [7, 7, 7, 7, 7],\n",
       "       [7, 7, 7, 7, 7],\n",
       "       [7, 7, 7, 7, 7]])"
      ]
     },
     "execution_count": 175,
     "metadata": {},
     "output_type": "execute_result"
    }
   ],
   "source": [
    "np.full((4,5),7)"
   ]
  },
  {
   "cell_type": "code",
   "execution_count": 174,
   "id": "f10c774f-3609-4a05-8a8c-09b1f37cd1a3",
   "metadata": {},
   "outputs": [
    {
     "data": {
      "text/plain": [
       "array([[[9, 9, 9, 9],\n",
       "        [9, 9, 9, 9],\n",
       "        [9, 9, 9, 9]],\n",
       "\n",
       "       [[9, 9, 9, 9],\n",
       "        [9, 9, 9, 9],\n",
       "        [9, 9, 9, 9]]])"
      ]
     },
     "execution_count": 174,
     "metadata": {},
     "output_type": "execute_result"
    }
   ],
   "source": [
    "np.full((2,3,4),9)"
   ]
  },
  {
   "cell_type": "code",
   "execution_count": null,
   "id": "76b725a4-8abe-415c-8da0-e118895ac3ef",
   "metadata": {},
   "outputs": [],
   "source": []
  }
 ],
 "metadata": {
  "kernelspec": {
   "display_name": "Python 3 (ipykernel)",
   "language": "python",
   "name": "python3"
  },
  "language_info": {
   "codemirror_mode": {
    "name": "ipython",
    "version": 3
   },
   "file_extension": ".py",
   "mimetype": "text/x-python",
   "name": "python",
   "nbconvert_exporter": "python",
   "pygments_lexer": "ipython3",
   "version": "3.11.7"
  }
 },
 "nbformat": 4,
 "nbformat_minor": 5
}
