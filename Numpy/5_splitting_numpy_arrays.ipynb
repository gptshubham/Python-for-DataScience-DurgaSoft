{
 "cells": [
  {
   "cell_type": "code",
   "execution_count": 1,
   "metadata": {},
   "outputs": [],
   "source": [
    "import numpy as np"
   ]
  },
  {
   "cell_type": "markdown",
   "metadata": {},
   "source": [
    "# 1. split()"
   ]
  },
  {
   "cell_type": "code",
   "execution_count": 3,
   "metadata": {},
   "outputs": [],
   "source": [
    "# help(np.split)"
   ]
  },
  {
   "cell_type": "markdown",
   "metadata": {},
   "source": [
    "## A. Section Based"
   ]
  },
  {
   "cell_type": "markdown",
   "metadata": {},
   "source": [
    "### 1-D Arrays"
   ]
  },
  {
   "cell_type": "code",
   "execution_count": 4,
   "metadata": {},
   "outputs": [
    {
     "name": "stdout",
     "output_type": "stream",
     "text": [
      "[1 2 3 4 5 6 7 8 9]\n"
     ]
    }
   ],
   "source": [
    "a = np.arange(1,10)\n",
    "print(a)"
   ]
  },
  {
   "cell_type": "code",
   "execution_count": 11,
   "metadata": {},
   "outputs": [
    {
     "name": "stdout",
     "output_type": "stream",
     "text": [
      "[array([1, 2, 3]), array([4, 5, 6]), array([7, 8, 9])]\n"
     ]
    }
   ],
   "source": [
    "sub_arrays = np.split(a,3)\n",
    "print(sub_arrays)"
   ]
  },
  {
   "cell_type": "code",
   "execution_count": 12,
   "metadata": {},
   "outputs": [
    {
     "name": "stdout",
     "output_type": "stream",
     "text": [
      "[1 2 3]\n",
      "[4 5 6]\n",
      "[7 8 9]\n"
     ]
    }
   ],
   "source": [
    "for arr in sub_arrays:\n",
    "    print(arr)"
   ]
  },
  {
   "cell_type": "code",
   "execution_count": 13,
   "metadata": {},
   "outputs": [
    {
     "name": "stdout",
     "output_type": "stream",
     "text": [
      "1\n",
      "2\n",
      "3\n",
      "4\n",
      "5\n",
      "6\n",
      "7\n",
      "8\n",
      "9\n"
     ]
    }
   ],
   "source": [
    "for arr in sub_arrays:\n",
    "    for elements in arr:\n",
    "        print(elements)"
   ]
  },
  {
   "cell_type": "code",
   "execution_count": 14,
   "metadata": {},
   "outputs": [
    {
     "name": "stdout",
     "output_type": "stream",
     "text": [
      "[1 2 3]\n"
     ]
    }
   ],
   "source": [
    "print(sub_arrays[0])"
   ]
  },
  {
   "cell_type": "code",
   "execution_count": 15,
   "metadata": {},
   "outputs": [
    {
     "ename": "ValueError",
     "evalue": "array split does not result in an equal division",
     "output_type": "error",
     "traceback": [
      "\u001b[0;31m---------------------------------------------------------------------------\u001b[0m",
      "\u001b[0;31mValueError\u001b[0m                                Traceback (most recent call last)",
      "Cell \u001b[0;32mIn[15], line 1\u001b[0m\n\u001b[0;32m----> 1\u001b[0m new_sub_arrays \u001b[38;5;241m=\u001b[39m np\u001b[38;5;241m.\u001b[39msplit(a,\u001b[38;5;241m4\u001b[39m)\n",
      "File \u001b[0;32m~/anaconda3/lib/python3.11/site-packages/numpy/lib/shape_base.py:864\u001b[0m, in \u001b[0;36msplit\u001b[0;34m(ary, indices_or_sections, axis)\u001b[0m\n\u001b[1;32m    862\u001b[0m     N \u001b[38;5;241m=\u001b[39m ary\u001b[38;5;241m.\u001b[39mshape[axis]\n\u001b[1;32m    863\u001b[0m     \u001b[38;5;28;01mif\u001b[39;00m N \u001b[38;5;241m%\u001b[39m sections:\n\u001b[0;32m--> 864\u001b[0m         \u001b[38;5;28;01mraise\u001b[39;00m \u001b[38;5;167;01mValueError\u001b[39;00m(\n\u001b[1;32m    865\u001b[0m             \u001b[38;5;124m'\u001b[39m\u001b[38;5;124marray split does not result in an equal division\u001b[39m\u001b[38;5;124m'\u001b[39m) \u001b[38;5;28;01mfrom\u001b[39;00m \u001b[38;5;28;01mNone\u001b[39;00m\n\u001b[1;32m    866\u001b[0m \u001b[38;5;28;01mreturn\u001b[39;00m array_split(ary, indices_or_sections, axis)\n",
      "\u001b[0;31mValueError\u001b[0m: array split does not result in an equal division"
     ]
    }
   ],
   "source": [
    "new_sub_arrays = np.split(a,4)\n",
    "# no. of sections should be of eqal size "
   ]
  },
  {
   "cell_type": "markdown",
   "metadata": {},
   "source": [
    "### 2-D Arrays"
   ]
  },
  {
   "cell_type": "markdown",
   "metadata": {},
   "source": [
    "#### Vertical Split --> row-wise --> axis=0"
   ]
  },
  {
   "cell_type": "code",
   "execution_count": 16,
   "metadata": {},
   "outputs": [
    {
     "name": "stdout",
     "output_type": "stream",
     "text": [
      "[[ 1  2  3  4]\n",
      " [ 5  6  7  8]\n",
      " [ 9 10 11 12]\n",
      " [13 14 15 16]\n",
      " [17 18 19 20]\n",
      " [21 22 23 24]]\n"
     ]
    }
   ],
   "source": [
    "a = np.arange(1,25).reshape(6,4)\n",
    "print(a)"
   ]
  },
  {
   "cell_type": "code",
   "execution_count": 18,
   "metadata": {},
   "outputs": [
    {
     "name": "stdout",
     "output_type": "stream",
     "text": [
      "[[ 1  2  3  4]\n",
      " [ 5  6  7  8]\n",
      " [ 9 10 11 12]]\n",
      "\n",
      "[[13 14 15 16]\n",
      " [17 18 19 20]\n",
      " [21 22 23 24]]\n"
     ]
    }
   ],
   "source": [
    "split_arrays = np.split(a,2)\n",
    "print(split_arrays[0])\n",
    "print()\n",
    "print(split_arrays[1])"
   ]
  },
  {
   "cell_type": "code",
   "execution_count": 19,
   "metadata": {},
   "outputs": [
    {
     "name": "stdout",
     "output_type": "stream",
     "text": [
      "[[1 2 3 4]\n",
      " [5 6 7 8]]\n",
      "\n",
      "[[ 9 10 11 12]\n",
      " [13 14 15 16]]\n",
      "\n",
      "[[17 18 19 20]\n",
      " [21 22 23 24]]\n"
     ]
    }
   ],
   "source": [
    "split_arrays = np.split(a,3)\n",
    "print(split_arrays[0])\n",
    "print()\n",
    "print(split_arrays[1])\n",
    "print()\n",
    "print(split_arrays[2])"
   ]
  },
  {
   "cell_type": "code",
   "execution_count": 20,
   "metadata": {},
   "outputs": [
    {
     "name": "stdout",
     "output_type": "stream",
     "text": [
      "[[1 2 3 4]]\n",
      "[[5 6 7 8]]\n",
      "[[ 9 10 11 12]]\n",
      "[[13 14 15 16]]\n",
      "[[17 18 19 20]]\n",
      "[[21 22 23 24]]\n"
     ]
    }
   ],
   "source": [
    "split_arrays = np.split(a,6)\n",
    "for arr in split_arrays:\n",
    "    print(arr)\n"
   ]
  },
  {
   "cell_type": "code",
   "execution_count": 21,
   "metadata": {},
   "outputs": [
    {
     "ename": "ValueError",
     "evalue": "array split does not result in an equal division",
     "output_type": "error",
     "traceback": [
      "\u001b[0;31m---------------------------------------------------------------------------\u001b[0m",
      "\u001b[0;31mValueError\u001b[0m                                Traceback (most recent call last)",
      "Cell \u001b[0;32mIn[21], line 1\u001b[0m\n\u001b[0;32m----> 1\u001b[0m split_arrays \u001b[38;5;241m=\u001b[39m np\u001b[38;5;241m.\u001b[39msplit(a,\u001b[38;5;241m4\u001b[39m)\n",
      "File \u001b[0;32m~/anaconda3/lib/python3.11/site-packages/numpy/lib/shape_base.py:864\u001b[0m, in \u001b[0;36msplit\u001b[0;34m(ary, indices_or_sections, axis)\u001b[0m\n\u001b[1;32m    862\u001b[0m     N \u001b[38;5;241m=\u001b[39m ary\u001b[38;5;241m.\u001b[39mshape[axis]\n\u001b[1;32m    863\u001b[0m     \u001b[38;5;28;01mif\u001b[39;00m N \u001b[38;5;241m%\u001b[39m sections:\n\u001b[0;32m--> 864\u001b[0m         \u001b[38;5;28;01mraise\u001b[39;00m \u001b[38;5;167;01mValueError\u001b[39;00m(\n\u001b[1;32m    865\u001b[0m             \u001b[38;5;124m'\u001b[39m\u001b[38;5;124marray split does not result in an equal division\u001b[39m\u001b[38;5;124m'\u001b[39m) \u001b[38;5;28;01mfrom\u001b[39;00m \u001b[38;5;28;01mNone\u001b[39;00m\n\u001b[1;32m    866\u001b[0m \u001b[38;5;28;01mreturn\u001b[39;00m array_split(ary, indices_or_sections, axis)\n",
      "\u001b[0;31mValueError\u001b[0m: array split does not result in an equal division"
     ]
    }
   ],
   "source": [
    "split_arrays = np.split(a,4)"
   ]
  },
  {
   "cell_type": "markdown",
   "metadata": {},
   "source": [
    "#### Horizontal Split --> column-wise --> axis=1"
   ]
  },
  {
   "cell_type": "code",
   "execution_count": 22,
   "metadata": {},
   "outputs": [
    {
     "data": {
      "text/plain": [
       "array([[ 1,  2,  3,  4],\n",
       "       [ 5,  6,  7,  8],\n",
       "       [ 9, 10, 11, 12],\n",
       "       [13, 14, 15, 16],\n",
       "       [17, 18, 19, 20],\n",
       "       [21, 22, 23, 24]])"
      ]
     },
     "execution_count": 22,
     "metadata": {},
     "output_type": "execute_result"
    }
   ],
   "source": [
    "a"
   ]
  },
  {
   "cell_type": "code",
   "execution_count": 24,
   "metadata": {},
   "outputs": [
    {
     "name": "stdout",
     "output_type": "stream",
     "text": [
      "[array([[ 1,  2],\n",
      "       [ 5,  6],\n",
      "       [ 9, 10],\n",
      "       [13, 14],\n",
      "       [17, 18],\n",
      "       [21, 22]]), array([[ 3,  4],\n",
      "       [ 7,  8],\n",
      "       [11, 12],\n",
      "       [15, 16],\n",
      "       [19, 20],\n",
      "       [23, 24]])]\n"
     ]
    }
   ],
   "source": [
    "split_arrays = np.split(a,2,axis=1)\n",
    "print(split_arrays)"
   ]
  },
  {
   "cell_type": "code",
   "execution_count": 25,
   "metadata": {},
   "outputs": [
    {
     "name": "stdout",
     "output_type": "stream",
     "text": [
      "[[ 1  2]\n",
      " [ 5  6]\n",
      " [ 9 10]\n",
      " [13 14]\n",
      " [17 18]\n",
      " [21 22]]\n",
      "\n",
      "[[ 3  4]\n",
      " [ 7  8]\n",
      " [11 12]\n",
      " [15 16]\n",
      " [19 20]\n",
      " [23 24]]\n"
     ]
    }
   ],
   "source": [
    "print(split_arrays[0])\n",
    "print()\n",
    "print(split_arrays[1])"
   ]
  },
  {
   "cell_type": "code",
   "execution_count": 26,
   "metadata": {},
   "outputs": [
    {
     "name": "stdout",
     "output_type": "stream",
     "text": [
      "[[ 1]\n",
      " [ 5]\n",
      " [ 9]\n",
      " [13]\n",
      " [17]\n",
      " [21]]\n",
      "\n",
      "[[ 2]\n",
      " [ 6]\n",
      " [10]\n",
      " [14]\n",
      " [18]\n",
      " [22]]\n",
      "\n",
      "[[ 3]\n",
      " [ 7]\n",
      " [11]\n",
      " [15]\n",
      " [19]\n",
      " [23]]\n",
      "\n",
      "[[ 4]\n",
      " [ 8]\n",
      " [12]\n",
      " [16]\n",
      " [20]\n",
      " [24]]\n",
      "\n"
     ]
    }
   ],
   "source": [
    "split_arrays = np.split(a,4,axis=1)\n",
    "for arr in split_arrays:\n",
    "    print(arr)\n",
    "    print()"
   ]
  },
  {
   "cell_type": "markdown",
   "metadata": {},
   "source": [
    "## B. Index Based"
   ]
  },
  {
   "cell_type": "markdown",
   "metadata": {},
   "source": [
    "### 1-D Arrays"
   ]
  },
  {
   "cell_type": "code",
   "execution_count": 28,
   "metadata": {},
   "outputs": [
    {
     "name": "stdout",
     "output_type": "stream",
     "text": [
      "[ 10  20  30  40  50  60  70  80  90 100]\n"
     ]
    }
   ],
   "source": [
    "a = np.arange(10,101,10)\n",
    "print(a)"
   ]
  },
  {
   "cell_type": "code",
   "execution_count": 33,
   "metadata": {},
   "outputs": [
    {
     "name": "stdout",
     "output_type": "stream",
     "text": [
      "[array([10, 20, 30]), array([40, 50, 60, 70]), array([ 80,  90, 100])]\n",
      "[10 20 30]\n",
      "[40 50 60 70]\n",
      "[ 80  90 100]\n"
     ]
    }
   ],
   "source": [
    "# Example 1\n",
    "split_arrays = np.split(a,[3,7])\n",
    "print(split_arrays)\n",
    "for arr in split_arrays:\n",
    "    print(arr)"
   ]
  },
  {
   "cell_type": "code",
   "execution_count": 35,
   "metadata": {},
   "outputs": [
    {
     "name": "stdout",
     "output_type": "stream",
     "text": [
      "[array([10, 20]), array([30, 40, 50]), array([60, 70]), array([ 80,  90, 100])]\n",
      "[10 20]\n",
      "[30 40 50]\n",
      "[60 70]\n",
      "[ 80  90 100]\n"
     ]
    }
   ],
   "source": [
    "# Example 2\n",
    "split_arrays = np.split(a,[2,5,7])\n",
    "print(split_arrays)\n",
    "for arr in split_arrays:\n",
    "    print(arr)"
   ]
  },
  {
   "cell_type": "markdown",
   "metadata": {},
   "source": [
    "### 2-D Arrays"
   ]
  },
  {
   "cell_type": "markdown",
   "metadata": {},
   "source": [
    "#### Vertical Split --> row-wise --> axis=0"
   ]
  },
  {
   "cell_type": "code",
   "execution_count": 36,
   "metadata": {},
   "outputs": [
    {
     "name": "stdout",
     "output_type": "stream",
     "text": [
      "[[ 1  2]\n",
      " [ 3  4]\n",
      " [ 5  6]\n",
      " [ 7  8]\n",
      " [ 9 10]\n",
      " [11 12]]\n"
     ]
    }
   ],
   "source": [
    "a = np.arange(1,13).reshape(6,2)\n",
    "print(a)"
   ]
  },
  {
   "cell_type": "code",
   "execution_count": 37,
   "metadata": {},
   "outputs": [
    {
     "name": "stdout",
     "output_type": "stream",
     "text": [
      "[array([[1, 2],\n",
      "       [3, 4],\n",
      "       [5, 6]]), array([[7, 8]]), array([[ 9, 10],\n",
      "       [11, 12]])]\n"
     ]
    }
   ],
   "source": [
    "# Example 1\n",
    "split_arrays = np.split(a,[3,4])\n",
    "print(split_arrays)"
   ]
  },
  {
   "cell_type": "code",
   "execution_count": 38,
   "metadata": {},
   "outputs": [
    {
     "name": "stdout",
     "output_type": "stream",
     "text": [
      "[[1 2]\n",
      " [3 4]\n",
      " [5 6]]\n",
      "\n",
      "[[7 8]]\n",
      "\n",
      "[[ 9 10]\n",
      " [11 12]]\n",
      "\n"
     ]
    }
   ],
   "source": [
    "for arr in split_arrays:\n",
    "    print(arr)\n",
    "    print()"
   ]
  },
  {
   "cell_type": "code",
   "execution_count": 39,
   "metadata": {},
   "outputs": [
    {
     "name": "stdout",
     "output_type": "stream",
     "text": [
      "[array([[1, 2]]), array([[3, 4],\n",
      "       [5, 6]]), array([[7, 8]]), array([[ 9, 10],\n",
      "       [11, 12]])]\n"
     ]
    }
   ],
   "source": [
    "# Example 2\n",
    "split_arrays = np.split(a,[1,3,4])\n",
    "print(split_arrays)"
   ]
  },
  {
   "cell_type": "code",
   "execution_count": 40,
   "metadata": {},
   "outputs": [
    {
     "name": "stdout",
     "output_type": "stream",
     "text": [
      "[[1 2]]\n",
      "\n",
      "[[3 4]\n",
      " [5 6]]\n",
      "\n",
      "[[7 8]]\n",
      "\n",
      "[[ 9 10]\n",
      " [11 12]]\n",
      "\n"
     ]
    }
   ],
   "source": [
    "for arr in split_arrays:\n",
    "    print(arr)\n",
    "    print()"
   ]
  },
  {
   "cell_type": "markdown",
   "metadata": {},
   "source": [
    "#### Horizontal Split --> Column-wise --> axis=1"
   ]
  },
  {
   "cell_type": "code",
   "execution_count": 42,
   "metadata": {},
   "outputs": [
    {
     "name": "stdout",
     "output_type": "stream",
     "text": [
      "[[ 1  2  3  4  5  6]\n",
      " [ 7  8  9 10 11 12]\n",
      " [13 14 15 16 17 18]]\n"
     ]
    }
   ],
   "source": [
    "a = np.arange(1,19).reshape(3,6)\n",
    "print(a)"
   ]
  },
  {
   "cell_type": "code",
   "execution_count": 43,
   "metadata": {},
   "outputs": [
    {
     "name": "stdout",
     "output_type": "stream",
     "text": [
      "[array([[ 1],\n",
      "       [ 7],\n",
      "       [13]]), array([[ 2,  3],\n",
      "       [ 8,  9],\n",
      "       [14, 15]]), array([[ 4,  5],\n",
      "       [10, 11],\n",
      "       [16, 17]]), array([[ 6],\n",
      "       [12],\n",
      "       [18]])]\n"
     ]
    }
   ],
   "source": [
    "# Example 1\n",
    "split_arrays = np.split(a,[1,3,5],axis=1)\n",
    "print(split_arrays)"
   ]
  },
  {
   "cell_type": "code",
   "execution_count": 44,
   "metadata": {},
   "outputs": [
    {
     "name": "stdout",
     "output_type": "stream",
     "text": [
      "[[ 1]\n",
      " [ 7]\n",
      " [13]]\n",
      "\n",
      "[[ 2  3]\n",
      " [ 8  9]\n",
      " [14 15]]\n",
      "\n",
      "[[ 4  5]\n",
      " [10 11]\n",
      " [16 17]]\n",
      "\n",
      "[[ 6]\n",
      " [12]\n",
      " [18]]\n",
      "\n"
     ]
    }
   ],
   "source": [
    "for arr in split_arrays:\n",
    "    print(arr)\n",
    "    print()"
   ]
  },
  {
   "cell_type": "code",
   "execution_count": 45,
   "metadata": {},
   "outputs": [
    {
     "name": "stdout",
     "output_type": "stream",
     "text": [
      "[array([[ 1,  2],\n",
      "       [ 7,  8],\n",
      "       [13, 14]]), array([[ 3,  4],\n",
      "       [ 9, 10],\n",
      "       [15, 16]]), array([], shape=(3, 0), dtype=int64), array([[ 5,  6],\n",
      "       [11, 12],\n",
      "       [17, 18]])]\n"
     ]
    }
   ],
   "source": [
    "# Example 2 *not usual \n",
    "split_arrays = np.split(a,[2,4,4],axis=1)\n",
    "print(split_arrays)"
   ]
  },
  {
   "cell_type": "code",
   "execution_count": 46,
   "metadata": {},
   "outputs": [
    {
     "name": "stdout",
     "output_type": "stream",
     "text": [
      "[[ 1  2]\n",
      " [ 7  8]\n",
      " [13 14]]\n",
      "\n",
      "[[ 3  4]\n",
      " [ 9 10]\n",
      " [15 16]]\n",
      "\n",
      "[]\n",
      "\n",
      "[[ 5  6]\n",
      " [11 12]\n",
      " [17 18]]\n",
      "\n"
     ]
    }
   ],
   "source": [
    "for arr in split_arrays:\n",
    "    print(arr)\n",
    "    print()"
   ]
  },
  {
   "cell_type": "code",
   "execution_count": 47,
   "metadata": {},
   "outputs": [
    {
     "name": "stdout",
     "output_type": "stream",
     "text": [
      "[array([], shape=(3, 0), dtype=int64), array([[ 1,  2],\n",
      "       [ 7,  8],\n",
      "       [13, 14]]), array([[ 3,  4,  5,  6],\n",
      "       [ 9, 10, 11, 12],\n",
      "       [15, 16, 17, 18]]), array([], shape=(3, 0), dtype=int64)]\n"
     ]
    }
   ],
   "source": [
    "# Example 3 *not usual \n",
    "split_arrays = np.split(a,[0,2,6],axis=1)\n",
    "print(split_arrays)"
   ]
  },
  {
   "cell_type": "code",
   "execution_count": 48,
   "metadata": {},
   "outputs": [
    {
     "name": "stdout",
     "output_type": "stream",
     "text": [
      "[]\n",
      "\n",
      "[[ 1  2]\n",
      " [ 7  8]\n",
      " [13 14]]\n",
      "\n",
      "[[ 3  4  5  6]\n",
      " [ 9 10 11 12]\n",
      " [15 16 17 18]]\n",
      "\n",
      "[]\n",
      "\n"
     ]
    }
   ],
   "source": [
    "for arr in split_arrays:\n",
    "    print(arr)\n",
    "    print()"
   ]
  },
  {
   "cell_type": "code",
   "execution_count": 49,
   "metadata": {},
   "outputs": [
    {
     "name": "stdout",
     "output_type": "stream",
     "text": [
      "[array([], shape=(3, 0), dtype=int64), array([[ 1,  2,  3],\n",
      "       [ 7,  8,  9],\n",
      "       [13, 14, 15]]), array([[ 4,  5,  6],\n",
      "       [10, 11, 12],\n",
      "       [16, 17, 18]]), array([], shape=(3, 0), dtype=int64)]\n"
     ]
    }
   ],
   "source": [
    "# Example 4 *not usual \n",
    "split_arrays = np.split(a,[0,3,8],axis=1)\n",
    "print(split_arrays)"
   ]
  },
  {
   "cell_type": "code",
   "execution_count": 50,
   "metadata": {},
   "outputs": [
    {
     "name": "stdout",
     "output_type": "stream",
     "text": [
      "[]\n",
      "\n",
      "[[ 1  2  3]\n",
      " [ 7  8  9]\n",
      " [13 14 15]]\n",
      "\n",
      "[[ 4  5  6]\n",
      " [10 11 12]\n",
      " [16 17 18]]\n",
      "\n",
      "[]\n",
      "\n"
     ]
    }
   ],
   "source": [
    "for arr in split_arrays:\n",
    "    print(arr)\n",
    "    print()"
   ]
  },
  {
   "cell_type": "code",
   "execution_count": 51,
   "metadata": {},
   "outputs": [
    {
     "name": "stdout",
     "output_type": "stream",
     "text": [
      "[array([[ 1],\n",
      "       [ 7],\n",
      "       [13]]), array([[ 2,  3,  4,  5],\n",
      "       [ 8,  9, 10, 11],\n",
      "       [14, 15, 16, 17]]), array([], shape=(3, 0), dtype=int64), array([[ 4,  5,  6],\n",
      "       [10, 11, 12],\n",
      "       [16, 17, 18]])]\n"
     ]
    }
   ],
   "source": [
    "# Example 5 *not usual **Dangerous Combinations\n",
    "split_arrays = np.split(a,[1,5,3],axis=1)\n",
    "print(split_arrays)"
   ]
  },
  {
   "cell_type": "code",
   "execution_count": 52,
   "metadata": {},
   "outputs": [
    {
     "name": "stdout",
     "output_type": "stream",
     "text": [
      "[[ 1]\n",
      " [ 7]\n",
      " [13]]\n",
      "\n",
      "[[ 2  3  4  5]\n",
      " [ 8  9 10 11]\n",
      " [14 15 16 17]]\n",
      "\n",
      "[]\n",
      "\n",
      "[[ 4  5  6]\n",
      " [10 11 12]\n",
      " [16 17 18]]\n",
      "\n"
     ]
    }
   ],
   "source": [
    "for arr in split_arrays:\n",
    "    print(arr)\n",
    "    print()"
   ]
  },
  {
   "cell_type": "markdown",
   "metadata": {},
   "source": [
    "# 2. vsplit()\n",
    "- vsplit() ==> Vertical Split ==> row-wise"
   ]
  },
  {
   "cell_type": "markdown",
   "metadata": {},
   "source": [
    "## A. Section Based"
   ]
  },
  {
   "cell_type": "markdown",
   "metadata": {},
   "source": [
    "### 1-D Arrays --> not possible"
   ]
  },
  {
   "cell_type": "code",
   "execution_count": 53,
   "metadata": {},
   "outputs": [
    {
     "name": "stdout",
     "output_type": "stream",
     "text": [
      "[0 1 2 3 4 5 6 7 8 9]\n"
     ]
    }
   ],
   "source": [
    "a = np.arange(10)\n",
    "print(a)"
   ]
  },
  {
   "cell_type": "code",
   "execution_count": 54,
   "metadata": {},
   "outputs": [
    {
     "ename": "ValueError",
     "evalue": "vsplit only works on arrays of 2 or more dimensions",
     "output_type": "error",
     "traceback": [
      "\u001b[0;31m---------------------------------------------------------------------------\u001b[0m",
      "\u001b[0;31mValueError\u001b[0m                                Traceback (most recent call last)",
      "Cell \u001b[0;32mIn[54], line 1\u001b[0m\n\u001b[0;32m----> 1\u001b[0m split_arrays \u001b[38;5;241m=\u001b[39m np\u001b[38;5;241m.\u001b[39mvsplit(a,\u001b[38;5;241m2\u001b[39m)\n",
      "File \u001b[0;32m~/anaconda3/lib/python3.11/site-packages/numpy/lib/shape_base.py:988\u001b[0m, in \u001b[0;36mvsplit\u001b[0;34m(ary, indices_or_sections)\u001b[0m\n\u001b[1;32m    945\u001b[0m \u001b[38;5;250m\u001b[39m\u001b[38;5;124;03m\"\"\"\u001b[39;00m\n\u001b[1;32m    946\u001b[0m \u001b[38;5;124;03mSplit an array into multiple sub-arrays vertically (row-wise).\u001b[39;00m\n\u001b[1;32m    947\u001b[0m \n\u001b[0;32m   (...)\u001b[0m\n\u001b[1;32m    985\u001b[0m \n\u001b[1;32m    986\u001b[0m \u001b[38;5;124;03m\"\"\"\u001b[39;00m\n\u001b[1;32m    987\u001b[0m \u001b[38;5;28;01mif\u001b[39;00m _nx\u001b[38;5;241m.\u001b[39mndim(ary) \u001b[38;5;241m<\u001b[39m \u001b[38;5;241m2\u001b[39m:\n\u001b[0;32m--> 988\u001b[0m     \u001b[38;5;28;01mraise\u001b[39;00m \u001b[38;5;167;01mValueError\u001b[39;00m(\u001b[38;5;124m'\u001b[39m\u001b[38;5;124mvsplit only works on arrays of 2 or more dimensions\u001b[39m\u001b[38;5;124m'\u001b[39m)\n\u001b[1;32m    989\u001b[0m \u001b[38;5;28;01mreturn\u001b[39;00m split(ary, indices_or_sections, \u001b[38;5;241m0\u001b[39m)\n",
      "\u001b[0;31mValueError\u001b[0m: vsplit only works on arrays of 2 or more dimensions"
     ]
    }
   ],
   "source": [
    "split_arrays = np.vsplit(a,2)"
   ]
  },
  {
   "cell_type": "markdown",
   "metadata": {},
   "source": [
    "### 2-D Arrays"
   ]
  },
  {
   "cell_type": "code",
   "execution_count": 55,
   "metadata": {},
   "outputs": [
    {
     "name": "stdout",
     "output_type": "stream",
     "text": [
      "[[ 1  2]\n",
      " [ 3  4]\n",
      " [ 5  6]\n",
      " [ 7  8]\n",
      " [ 9 10]\n",
      " [11 12]]\n"
     ]
    }
   ],
   "source": [
    "a = np.arange(1,13).reshape(6,2)\n",
    "print(a)"
   ]
  },
  {
   "cell_type": "code",
   "execution_count": 56,
   "metadata": {},
   "outputs": [
    {
     "name": "stdout",
     "output_type": "stream",
     "text": [
      "[array([[1, 2],\n",
      "       [3, 4],\n",
      "       [5, 6]]), array([[ 7,  8],\n",
      "       [ 9, 10],\n",
      "       [11, 12]])]\n"
     ]
    }
   ],
   "source": [
    "# Example 1\n",
    "split_arrays = np.vsplit(a,2)\n",
    "print(split_arrays)"
   ]
  },
  {
   "cell_type": "code",
   "execution_count": 57,
   "metadata": {},
   "outputs": [
    {
     "name": "stdout",
     "output_type": "stream",
     "text": [
      "[[1 2]\n",
      " [3 4]\n",
      " [5 6]]\n",
      "\n",
      "[[ 7  8]\n",
      " [ 9 10]\n",
      " [11 12]]\n",
      "\n"
     ]
    }
   ],
   "source": [
    "for arr in split_arrays:\n",
    "    print(arr)\n",
    "    print()"
   ]
  },
  {
   "cell_type": "code",
   "execution_count": 58,
   "metadata": {},
   "outputs": [
    {
     "name": "stdout",
     "output_type": "stream",
     "text": [
      "[array([[1, 2],\n",
      "       [3, 4]]), array([[5, 6],\n",
      "       [7, 8]]), array([[ 9, 10],\n",
      "       [11, 12]])]\n"
     ]
    }
   ],
   "source": [
    "# Example 2\n",
    "split_arrays = np.vsplit(a,3)\n",
    "print(split_arrays)"
   ]
  },
  {
   "cell_type": "code",
   "execution_count": 59,
   "metadata": {},
   "outputs": [
    {
     "name": "stdout",
     "output_type": "stream",
     "text": [
      "[[1 2]\n",
      " [3 4]]\n",
      "\n",
      "[[5 6]\n",
      " [7 8]]\n",
      "\n",
      "[[ 9 10]\n",
      " [11 12]]\n",
      "\n"
     ]
    }
   ],
   "source": [
    "for arr in split_arrays:\n",
    "    print(arr)\n",
    "    print()"
   ]
  },
  {
   "cell_type": "code",
   "execution_count": 62,
   "metadata": {},
   "outputs": [
    {
     "name": "stdout",
     "output_type": "stream",
     "text": [
      "[array([[1, 2]]), array([[3, 4]]), array([[5, 6]]), array([[7, 8]]), array([[ 9, 10]]), array([[11, 12]])]\n"
     ]
    }
   ],
   "source": [
    "# Example 3\n",
    "split_arrays = np.vsplit(a,6)\n",
    "print(split_arrays)"
   ]
  },
  {
   "cell_type": "code",
   "execution_count": 63,
   "metadata": {},
   "outputs": [
    {
     "name": "stdout",
     "output_type": "stream",
     "text": [
      "[[1 2]]\n",
      "\n",
      "[[3 4]]\n",
      "\n",
      "[[5 6]]\n",
      "\n",
      "[[7 8]]\n",
      "\n",
      "[[ 9 10]]\n",
      "\n",
      "[[11 12]]\n",
      "\n"
     ]
    }
   ],
   "source": [
    "for arr in split_arrays:\n",
    "    print(arr)\n",
    "    print()"
   ]
  },
  {
   "cell_type": "markdown",
   "metadata": {},
   "source": [
    "## B. Index Based"
   ]
  },
  {
   "cell_type": "markdown",
   "metadata": {},
   "source": [
    "### 2-D Arrays"
   ]
  },
  {
   "cell_type": "code",
   "execution_count": 64,
   "metadata": {},
   "outputs": [
    {
     "data": {
      "text/plain": [
       "array([[ 1,  2],\n",
       "       [ 3,  4],\n",
       "       [ 5,  6],\n",
       "       [ 7,  8],\n",
       "       [ 9, 10],\n",
       "       [11, 12]])"
      ]
     },
     "execution_count": 64,
     "metadata": {},
     "output_type": "execute_result"
    }
   ],
   "source": [
    "a"
   ]
  },
  {
   "cell_type": "code",
   "execution_count": 65,
   "metadata": {},
   "outputs": [
    {
     "name": "stdout",
     "output_type": "stream",
     "text": [
      "[array([[1, 2]]), array([[3, 4],\n",
      "       [5, 6],\n",
      "       [7, 8]]), array([[ 9, 10],\n",
      "       [11, 12]])]\n"
     ]
    }
   ],
   "source": [
    "split_arrays = np.split(a,[1,4])\n",
    "print(split_arrays)"
   ]
  },
  {
   "cell_type": "code",
   "execution_count": 66,
   "metadata": {},
   "outputs": [
    {
     "name": "stdout",
     "output_type": "stream",
     "text": [
      "[[1 2]]\n",
      "\n",
      "[[3 4]\n",
      " [5 6]\n",
      " [7 8]]\n",
      "\n",
      "[[ 9 10]\n",
      " [11 12]]\n",
      "\n"
     ]
    }
   ],
   "source": [
    "for arr in split_arrays:\n",
    "    print(arr)\n",
    "    print()"
   ]
  },
  {
   "cell_type": "markdown",
   "metadata": {},
   "source": [
    "# 3. hsplit()\n",
    "- hsplit() ==> Horizontal Split ==> column-wise"
   ]
  },
  {
   "cell_type": "markdown",
   "metadata": {},
   "source": [
    "## A. Section Based"
   ]
  },
  {
   "cell_type": "markdown",
   "metadata": {},
   "source": [
    "### 1-D Arrays"
   ]
  },
  {
   "cell_type": "code",
   "execution_count": 67,
   "metadata": {},
   "outputs": [
    {
     "name": "stdout",
     "output_type": "stream",
     "text": [
      "[0 1 2 3 4 5 6 7 8 9]\n"
     ]
    }
   ],
   "source": [
    "a = np.arange(10)\n",
    "print(a)"
   ]
  },
  {
   "cell_type": "code",
   "execution_count": 68,
   "metadata": {},
   "outputs": [
    {
     "name": "stdout",
     "output_type": "stream",
     "text": [
      "[array([0, 1, 2, 3, 4]), array([5, 6, 7, 8, 9])]\n"
     ]
    }
   ],
   "source": [
    "split_arrays = np.hsplit(a,2)\n",
    "print(split_arrays)"
   ]
  },
  {
   "cell_type": "code",
   "execution_count": 69,
   "metadata": {},
   "outputs": [
    {
     "name": "stdout",
     "output_type": "stream",
     "text": [
      "[0 1 2 3 4]\n",
      "\n",
      "[5 6 7 8 9]\n",
      "\n"
     ]
    }
   ],
   "source": [
    "for arr in split_arrays:\n",
    "    print(arr)\n",
    "    print()"
   ]
  },
  {
   "cell_type": "code",
   "execution_count": 70,
   "metadata": {},
   "outputs": [
    {
     "name": "stdout",
     "output_type": "stream",
     "text": [
      "[array([0]), array([1]), array([2]), array([3]), array([4]), array([5]), array([6]), array([7]), array([8]), array([9])]\n"
     ]
    }
   ],
   "source": [
    "split_arrays = np.hsplit(a,10)\n",
    "print(split_arrays)"
   ]
  },
  {
   "cell_type": "code",
   "execution_count": 71,
   "metadata": {},
   "outputs": [
    {
     "name": "stdout",
     "output_type": "stream",
     "text": [
      "[0]\n",
      "\n",
      "[1]\n",
      "\n",
      "[2]\n",
      "\n",
      "[3]\n",
      "\n",
      "[4]\n",
      "\n",
      "[5]\n",
      "\n",
      "[6]\n",
      "\n",
      "[7]\n",
      "\n",
      "[8]\n",
      "\n",
      "[9]\n",
      "\n"
     ]
    }
   ],
   "source": [
    "for arr in split_arrays:\n",
    "    print(arr)\n",
    "    print()"
   ]
  },
  {
   "cell_type": "code",
   "execution_count": 72,
   "metadata": {},
   "outputs": [
    {
     "ename": "ValueError",
     "evalue": "array split does not result in an equal division",
     "output_type": "error",
     "traceback": [
      "\u001b[0;31m---------------------------------------------------------------------------\u001b[0m",
      "\u001b[0;31mValueError\u001b[0m                                Traceback (most recent call last)",
      "Cell \u001b[0;32mIn[72], line 1\u001b[0m\n\u001b[0;32m----> 1\u001b[0m split_arrays \u001b[38;5;241m=\u001b[39m np\u001b[38;5;241m.\u001b[39mhsplit(a,\u001b[38;5;241m4\u001b[39m)\n",
      "File \u001b[0;32m~/anaconda3/lib/python3.11/site-packages/numpy/lib/shape_base.py:940\u001b[0m, in \u001b[0;36mhsplit\u001b[0;34m(ary, indices_or_sections)\u001b[0m\n\u001b[1;32m    938\u001b[0m     \u001b[38;5;28;01mreturn\u001b[39;00m split(ary, indices_or_sections, \u001b[38;5;241m1\u001b[39m)\n\u001b[1;32m    939\u001b[0m \u001b[38;5;28;01melse\u001b[39;00m:\n\u001b[0;32m--> 940\u001b[0m     \u001b[38;5;28;01mreturn\u001b[39;00m split(ary, indices_or_sections, \u001b[38;5;241m0\u001b[39m)\n",
      "File \u001b[0;32m~/anaconda3/lib/python3.11/site-packages/numpy/lib/shape_base.py:864\u001b[0m, in \u001b[0;36msplit\u001b[0;34m(ary, indices_or_sections, axis)\u001b[0m\n\u001b[1;32m    862\u001b[0m     N \u001b[38;5;241m=\u001b[39m ary\u001b[38;5;241m.\u001b[39mshape[axis]\n\u001b[1;32m    863\u001b[0m     \u001b[38;5;28;01mif\u001b[39;00m N \u001b[38;5;241m%\u001b[39m sections:\n\u001b[0;32m--> 864\u001b[0m         \u001b[38;5;28;01mraise\u001b[39;00m \u001b[38;5;167;01mValueError\u001b[39;00m(\n\u001b[1;32m    865\u001b[0m             \u001b[38;5;124m'\u001b[39m\u001b[38;5;124marray split does not result in an equal division\u001b[39m\u001b[38;5;124m'\u001b[39m) \u001b[38;5;28;01mfrom\u001b[39;00m \u001b[38;5;28;01mNone\u001b[39;00m\n\u001b[1;32m    866\u001b[0m \u001b[38;5;28;01mreturn\u001b[39;00m array_split(ary, indices_or_sections, axis)\n",
      "\u001b[0;31mValueError\u001b[0m: array split does not result in an equal division"
     ]
    }
   ],
   "source": [
    "split_arrays = np.hsplit(a,4)"
   ]
  },
  {
   "cell_type": "markdown",
   "metadata": {},
   "source": [
    "### 2-D Arrays"
   ]
  },
  {
   "cell_type": "code",
   "execution_count": 74,
   "metadata": {},
   "outputs": [
    {
     "name": "stdout",
     "output_type": "stream",
     "text": [
      "[[ 1  2  3  4]\n",
      " [ 5  6  7  8]\n",
      " [ 9 10 11 12]]\n"
     ]
    }
   ],
   "source": [
    "a = np.arange(1,13).reshape(3,4)\n",
    "print(a)"
   ]
  },
  {
   "cell_type": "code",
   "execution_count": 75,
   "metadata": {},
   "outputs": [
    {
     "name": "stdout",
     "output_type": "stream",
     "text": [
      "[array([[ 1,  2],\n",
      "       [ 5,  6],\n",
      "       [ 9, 10]]), array([[ 3,  4],\n",
      "       [ 7,  8],\n",
      "       [11, 12]])]\n"
     ]
    }
   ],
   "source": [
    "# Example 1\n",
    "split_arrays = np.hsplit(a,2)\n",
    "print(split_arrays)"
   ]
  },
  {
   "cell_type": "code",
   "execution_count": 76,
   "metadata": {},
   "outputs": [
    {
     "name": "stdout",
     "output_type": "stream",
     "text": [
      "[[ 1  2]\n",
      " [ 5  6]\n",
      " [ 9 10]]\n",
      "\n",
      "[[ 3  4]\n",
      " [ 7  8]\n",
      " [11 12]]\n",
      "\n"
     ]
    }
   ],
   "source": [
    "for arr in split_arrays:\n",
    "    print(arr)\n",
    "    print()"
   ]
  },
  {
   "cell_type": "code",
   "execution_count": 79,
   "metadata": {},
   "outputs": [
    {
     "name": "stdout",
     "output_type": "stream",
     "text": [
      "[array([[1],\n",
      "       [5],\n",
      "       [9]]), array([[ 2],\n",
      "       [ 6],\n",
      "       [10]]), array([[ 3],\n",
      "       [ 7],\n",
      "       [11]]), array([[ 4],\n",
      "       [ 8],\n",
      "       [12]])]\n"
     ]
    }
   ],
   "source": [
    "# Example 2\n",
    "split_arrays = np.hsplit(a,4)\n",
    "print(split_arrays)"
   ]
  },
  {
   "cell_type": "code",
   "execution_count": 80,
   "metadata": {},
   "outputs": [
    {
     "name": "stdout",
     "output_type": "stream",
     "text": [
      "[[1]\n",
      " [5]\n",
      " [9]]\n",
      "\n",
      "[[ 2]\n",
      " [ 6]\n",
      " [10]]\n",
      "\n",
      "[[ 3]\n",
      " [ 7]\n",
      " [11]]\n",
      "\n",
      "[[ 4]\n",
      " [ 8]\n",
      " [12]]\n",
      "\n"
     ]
    }
   ],
   "source": [
    "for arr in split_arrays:\n",
    "    print(arr)\n",
    "    print()"
   ]
  },
  {
   "cell_type": "code",
   "execution_count": 81,
   "metadata": {},
   "outputs": [
    {
     "ename": "ValueError",
     "evalue": "array split does not result in an equal division",
     "output_type": "error",
     "traceback": [
      "\u001b[0;31m---------------------------------------------------------------------------\u001b[0m",
      "\u001b[0;31mValueError\u001b[0m                                Traceback (most recent call last)",
      "Cell \u001b[0;32mIn[81], line 2\u001b[0m\n\u001b[1;32m      1\u001b[0m \u001b[38;5;66;03m# Example 3\u001b[39;00m\n\u001b[0;32m----> 2\u001b[0m split_arrays \u001b[38;5;241m=\u001b[39m np\u001b[38;5;241m.\u001b[39mhsplit(a,\u001b[38;5;241m3\u001b[39m)\n\u001b[1;32m      3\u001b[0m \u001b[38;5;28mprint\u001b[39m(split_arrays)\n",
      "File \u001b[0;32m~/anaconda3/lib/python3.11/site-packages/numpy/lib/shape_base.py:938\u001b[0m, in \u001b[0;36mhsplit\u001b[0;34m(ary, indices_or_sections)\u001b[0m\n\u001b[1;32m    936\u001b[0m     \u001b[38;5;28;01mraise\u001b[39;00m \u001b[38;5;167;01mValueError\u001b[39;00m(\u001b[38;5;124m'\u001b[39m\u001b[38;5;124mhsplit only works on arrays of 1 or more dimensions\u001b[39m\u001b[38;5;124m'\u001b[39m)\n\u001b[1;32m    937\u001b[0m \u001b[38;5;28;01mif\u001b[39;00m ary\u001b[38;5;241m.\u001b[39mndim \u001b[38;5;241m>\u001b[39m \u001b[38;5;241m1\u001b[39m:\n\u001b[0;32m--> 938\u001b[0m     \u001b[38;5;28;01mreturn\u001b[39;00m split(ary, indices_or_sections, \u001b[38;5;241m1\u001b[39m)\n\u001b[1;32m    939\u001b[0m \u001b[38;5;28;01melse\u001b[39;00m:\n\u001b[1;32m    940\u001b[0m     \u001b[38;5;28;01mreturn\u001b[39;00m split(ary, indices_or_sections, \u001b[38;5;241m0\u001b[39m)\n",
      "File \u001b[0;32m~/anaconda3/lib/python3.11/site-packages/numpy/lib/shape_base.py:864\u001b[0m, in \u001b[0;36msplit\u001b[0;34m(ary, indices_or_sections, axis)\u001b[0m\n\u001b[1;32m    862\u001b[0m     N \u001b[38;5;241m=\u001b[39m ary\u001b[38;5;241m.\u001b[39mshape[axis]\n\u001b[1;32m    863\u001b[0m     \u001b[38;5;28;01mif\u001b[39;00m N \u001b[38;5;241m%\u001b[39m sections:\n\u001b[0;32m--> 864\u001b[0m         \u001b[38;5;28;01mraise\u001b[39;00m \u001b[38;5;167;01mValueError\u001b[39;00m(\n\u001b[1;32m    865\u001b[0m             \u001b[38;5;124m'\u001b[39m\u001b[38;5;124marray split does not result in an equal division\u001b[39m\u001b[38;5;124m'\u001b[39m) \u001b[38;5;28;01mfrom\u001b[39;00m \u001b[38;5;28;01mNone\u001b[39;00m\n\u001b[1;32m    866\u001b[0m \u001b[38;5;28;01mreturn\u001b[39;00m array_split(ary, indices_or_sections, axis)\n",
      "\u001b[0;31mValueError\u001b[0m: array split does not result in an equal division"
     ]
    }
   ],
   "source": [
    "# Example 3\n",
    "split_arrays = np.hsplit(a,3)\n",
    "print(split_arrays)"
   ]
  },
  {
   "cell_type": "markdown",
   "metadata": {},
   "source": [
    "## B. Index Based"
   ]
  },
  {
   "cell_type": "markdown",
   "metadata": {},
   "source": [
    "#### 1-D Arrays"
   ]
  },
  {
   "cell_type": "code",
   "execution_count": 82,
   "metadata": {},
   "outputs": [
    {
     "name": "stdout",
     "output_type": "stream",
     "text": [
      "[0 1 2 3 4 5 6 7 8 9]\n"
     ]
    }
   ],
   "source": [
    "a = np.arange(10)\n",
    "print(a)"
   ]
  },
  {
   "cell_type": "code",
   "execution_count": 87,
   "metadata": {},
   "outputs": [
    {
     "name": "stdout",
     "output_type": "stream",
     "text": [
      "[array([0, 1]), array([2, 3]), array([4, 5, 6]), array([7, 8, 9])]\n"
     ]
    }
   ],
   "source": [
    "split_arrays = np.hsplit(a,[2,4,7])\n",
    "print(split_arrays)"
   ]
  },
  {
   "cell_type": "code",
   "execution_count": 88,
   "metadata": {},
   "outputs": [
    {
     "name": "stdout",
     "output_type": "stream",
     "text": [
      "[0 1]\n",
      "\n",
      "[2 3]\n",
      "\n",
      "[4 5 6]\n",
      "\n",
      "[7 8 9]\n",
      "\n"
     ]
    }
   ],
   "source": [
    "for arr in split_arrays:\n",
    "    print(arr)\n",
    "    print()"
   ]
  },
  {
   "cell_type": "markdown",
   "metadata": {},
   "source": [
    "### 2-D Arrays"
   ]
  },
  {
   "cell_type": "code",
   "execution_count": 89,
   "metadata": {},
   "outputs": [
    {
     "name": "stdout",
     "output_type": "stream",
     "text": [
      "[[ 0  1  2  3  4  5]\n",
      " [ 6  7  8  9 10 11]\n",
      " [12 13 14 15 16 17]\n",
      " [18 19 20 21 22 23]]\n"
     ]
    }
   ],
   "source": [
    "a = np.arange(24).reshape(4,6)\n",
    "print(a)"
   ]
  },
  {
   "cell_type": "code",
   "execution_count": 90,
   "metadata": {},
   "outputs": [
    {
     "name": "stdout",
     "output_type": "stream",
     "text": [
      "[array([[ 0,  1],\n",
      "       [ 6,  7],\n",
      "       [12, 13],\n",
      "       [18, 19]]), array([[ 2,  3,  4],\n",
      "       [ 8,  9, 10],\n",
      "       [14, 15, 16],\n",
      "       [20, 21, 22]]), array([[ 5],\n",
      "       [11],\n",
      "       [17],\n",
      "       [23]])]\n"
     ]
    }
   ],
   "source": [
    "# Example 1\n",
    "split_arrays = np.hsplit(a,[2,5])\n",
    "print(split_arrays)"
   ]
  },
  {
   "cell_type": "code",
   "execution_count": 91,
   "metadata": {},
   "outputs": [
    {
     "name": "stdout",
     "output_type": "stream",
     "text": [
      "[[ 0  1]\n",
      " [ 6  7]\n",
      " [12 13]\n",
      " [18 19]]\n",
      "\n",
      "[[ 2  3  4]\n",
      " [ 8  9 10]\n",
      " [14 15 16]\n",
      " [20 21 22]]\n",
      "\n",
      "[[ 5]\n",
      " [11]\n",
      " [17]\n",
      " [23]]\n",
      "\n"
     ]
    }
   ],
   "source": [
    "for arr in split_arrays:\n",
    "    print(arr)\n",
    "    print()"
   ]
  },
  {
   "cell_type": "code",
   "execution_count": 92,
   "metadata": {},
   "outputs": [
    {
     "name": "stdout",
     "output_type": "stream",
     "text": [
      "[array([[ 0],\n",
      "       [ 6],\n",
      "       [12],\n",
      "       [18]]), array([[ 1,  2,  3],\n",
      "       [ 7,  8,  9],\n",
      "       [13, 14, 15],\n",
      "       [19, 20, 21]]), array([[ 4,  5],\n",
      "       [10, 11],\n",
      "       [16, 17],\n",
      "       [22, 23]])]\n"
     ]
    }
   ],
   "source": [
    "# Example 2\n",
    "split_arrays = np.hsplit(a,[1,4])\n",
    "print(split_arrays)"
   ]
  },
  {
   "cell_type": "code",
   "execution_count": 93,
   "metadata": {},
   "outputs": [
    {
     "name": "stdout",
     "output_type": "stream",
     "text": [
      "[[ 0]\n",
      " [ 6]\n",
      " [12]\n",
      " [18]]\n",
      "\n",
      "[[ 1  2  3]\n",
      " [ 7  8  9]\n",
      " [13 14 15]\n",
      " [19 20 21]]\n",
      "\n",
      "[[ 4  5]\n",
      " [10 11]\n",
      " [16 17]\n",
      " [22 23]]\n",
      "\n"
     ]
    }
   ],
   "source": [
    "for arr in split_arrays:\n",
    "    print(arr)\n",
    "    print()"
   ]
  },
  {
   "cell_type": "markdown",
   "metadata": {},
   "source": [
    "# 4. dsplit()\n",
    "- min. 3-D array\n",
    "- split based on axis=2 ==> column-wise"
   ]
  },
  {
   "cell_type": "code",
   "execution_count": 4,
   "metadata": {},
   "outputs": [],
   "source": [
    "# help(np.dsplit)"
   ]
  },
  {
   "cell_type": "markdown",
   "metadata": {},
   "source": [
    "## A. Section Based"
   ]
  },
  {
   "cell_type": "markdown",
   "metadata": {},
   "source": [
    "### 3-D Array"
   ]
  },
  {
   "cell_type": "code",
   "execution_count": 5,
   "metadata": {},
   "outputs": [
    {
     "name": "stdout",
     "output_type": "stream",
     "text": [
      "[[[ 0  1  2  3]\n",
      "  [ 4  5  6  7]\n",
      "  [ 8  9 10 11]]\n",
      "\n",
      " [[12 13 14 15]\n",
      "  [16 17 18 19]\n",
      "  [20 21 22 23]]]\n"
     ]
    }
   ],
   "source": [
    "a = np.arange(24).reshape(2,3,4)\n",
    "print(a)"
   ]
  },
  {
   "cell_type": "code",
   "execution_count": 7,
   "metadata": {},
   "outputs": [
    {
     "name": "stdout",
     "output_type": "stream",
     "text": [
      "[array([[[ 0,  1],\n",
      "        [ 4,  5],\n",
      "        [ 8,  9]],\n",
      "\n",
      "       [[12, 13],\n",
      "        [16, 17],\n",
      "        [20, 21]]]), array([[[ 2,  3],\n",
      "        [ 6,  7],\n",
      "        [10, 11]],\n",
      "\n",
      "       [[14, 15],\n",
      "        [18, 19],\n",
      "        [22, 23]]])]\n"
     ]
    }
   ],
   "source": [
    "split_arrays = np.dsplit(a,2)\n",
    "print(split_arrays)"
   ]
  },
  {
   "cell_type": "code",
   "execution_count": 8,
   "metadata": {},
   "outputs": [
    {
     "name": "stdout",
     "output_type": "stream",
     "text": [
      "[[[ 0  1]\n",
      "  [ 4  5]\n",
      "  [ 8  9]]\n",
      "\n",
      " [[12 13]\n",
      "  [16 17]\n",
      "  [20 21]]]\n",
      "\n",
      "[[[ 2  3]\n",
      "  [ 6  7]\n",
      "  [10 11]]\n",
      "\n",
      " [[14 15]\n",
      "  [18 19]\n",
      "  [22 23]]]\n",
      "\n"
     ]
    }
   ],
   "source": [
    "for arr in split_arrays:\n",
    "    print(arr)\n",
    "    print()"
   ]
  },
  {
   "cell_type": "markdown",
   "metadata": {},
   "source": [
    "## B. Index Based"
   ]
  },
  {
   "cell_type": "markdown",
   "metadata": {},
   "source": [
    "### 3-D Array"
   ]
  },
  {
   "cell_type": "code",
   "execution_count": 9,
   "metadata": {},
   "outputs": [
    {
     "name": "stdout",
     "output_type": "stream",
     "text": [
      "[[[ 0  1  2  3]\n",
      "  [ 4  5  6  7]\n",
      "  [ 8  9 10 11]]\n",
      "\n",
      " [[12 13 14 15]\n",
      "  [16 17 18 19]\n",
      "  [20 21 22 23]]]\n"
     ]
    }
   ],
   "source": [
    "a = np.arange(24).reshape(2,3,4)\n",
    "print(a)"
   ]
  },
  {
   "cell_type": "code",
   "execution_count": 10,
   "metadata": {},
   "outputs": [
    {
     "name": "stdout",
     "output_type": "stream",
     "text": [
      "[array([[[ 0],\n",
      "        [ 4],\n",
      "        [ 8]],\n",
      "\n",
      "       [[12],\n",
      "        [16],\n",
      "        [20]]]), array([[[ 1,  2],\n",
      "        [ 5,  6],\n",
      "        [ 9, 10]],\n",
      "\n",
      "       [[13, 14],\n",
      "        [17, 18],\n",
      "        [21, 22]]]), array([[[ 3],\n",
      "        [ 7],\n",
      "        [11]],\n",
      "\n",
      "       [[15],\n",
      "        [19],\n",
      "        [23]]])]\n"
     ]
    }
   ],
   "source": [
    "split_arrays = np.dsplit(a,[1,3])\n",
    "print(split_arrays)"
   ]
  },
  {
   "cell_type": "code",
   "execution_count": 13,
   "metadata": {},
   "outputs": [
    {
     "name": "stdout",
     "output_type": "stream",
     "text": [
      "[[[ 0]\n",
      "  [ 4]\n",
      "  [ 8]]\n",
      "\n",
      " [[12]\n",
      "  [16]\n",
      "  [20]]]\n",
      "\n",
      "[[[ 1  2]\n",
      "  [ 5  6]\n",
      "  [ 9 10]]\n",
      "\n",
      " [[13 14]\n",
      "  [17 18]\n",
      "  [21 22]]]\n",
      "\n",
      "[[[ 3]\n",
      "  [ 7]\n",
      "  [11]]\n",
      "\n",
      " [[15]\n",
      "  [19]\n",
      "  [23]]]\n",
      "\n"
     ]
    }
   ],
   "source": [
    "for arr in split_arrays:\n",
    "    print(arr)\n",
    "    print()"
   ]
  },
  {
   "cell_type": "markdown",
   "metadata": {},
   "source": [
    "# 5. array_split()"
   ]
  },
  {
   "cell_type": "code",
   "execution_count": 14,
   "metadata": {},
   "outputs": [
    {
     "name": "stdout",
     "output_type": "stream",
     "text": [
      "Help on _ArrayFunctionDispatcher in module numpy:\n",
      "\n",
      "array_split(ary, indices_or_sections, axis=0)\n",
      "    Split an array into multiple sub-arrays.\n",
      "    \n",
      "    Please refer to the ``split`` documentation.  The only difference\n",
      "    between these functions is that ``array_split`` allows\n",
      "    `indices_or_sections` to be an integer that does *not* equally\n",
      "    divide the axis. For an array of length l that should be split\n",
      "    into n sections, it returns l % n sub-arrays of size l//n + 1\n",
      "    and the rest of size l//n.\n",
      "    \n",
      "    See Also\n",
      "    --------\n",
      "    split : Split array into multiple sub-arrays of equal size.\n",
      "    \n",
      "    Examples\n",
      "    --------\n",
      "    >>> x = np.arange(8.0)\n",
      "    >>> np.array_split(x, 3)\n",
      "    [array([0.,  1.,  2.]), array([3.,  4.,  5.]), array([6.,  7.])]\n",
      "    \n",
      "    >>> x = np.arange(9)\n",
      "    >>> np.array_split(x, 4)\n",
      "    [array([0, 1, 2]), array([3, 4]), array([5, 6]), array([7, 8])]\n",
      "\n"
     ]
    }
   ],
   "source": [
    "help(np.array_split)"
   ]
  },
  {
   "cell_type": "markdown",
   "metadata": {},
   "source": [
    "## A. Section Based"
   ]
  },
  {
   "cell_type": "markdown",
   "metadata": {},
   "source": [
    "### 1-D Array"
   ]
  },
  {
   "cell_type": "code",
   "execution_count": 15,
   "metadata": {},
   "outputs": [
    {
     "name": "stdout",
     "output_type": "stream",
     "text": [
      "[array([0, 1, 2, 3]), array([4, 5, 6, 7]), array([ 8,  9, 10])]\n",
      "\n",
      "[0 1 2 3]\n",
      "\n",
      "[4 5 6 7]\n",
      "\n",
      "[ 8  9 10]\n",
      "\n"
     ]
    }
   ],
   "source": [
    "a = np.arange(11)\n",
    "split_arrays = np.array_split(a,3)\n",
    "print(split_arrays)\n",
    "print()\n",
    "for arr in split_arrays:\n",
    "    print(arr)\n",
    "    print()"
   ]
  },
  {
   "cell_type": "markdown",
   "metadata": {},
   "source": [
    "### 2-D Array"
   ]
  },
  {
   "cell_type": "markdown",
   "metadata": {},
   "source": [
    "#### Vertical Split"
   ]
  },
  {
   "cell_type": "code",
   "execution_count": 16,
   "metadata": {},
   "outputs": [
    {
     "name": "stdout",
     "output_type": "stream",
     "text": [
      "[[ 0  1  2  3]\n",
      " [ 4  5  6  7]\n",
      " [ 8  9 10 11]]\n"
     ]
    }
   ],
   "source": [
    "a = np.arange(12).reshape(3,4)\n",
    "print(a)"
   ]
  },
  {
   "cell_type": "code",
   "execution_count": 17,
   "metadata": {},
   "outputs": [
    {
     "name": "stdout",
     "output_type": "stream",
     "text": [
      "[[0 1 2 3]\n",
      " [4 5 6 7]]\n",
      "\n",
      "[[ 8  9 10 11]]\n",
      "\n"
     ]
    }
   ],
   "source": [
    "split_arrays = np.array_split(a,2)\n",
    "for arr in split_arrays:\n",
    "    print(arr)\n",
    "    print()"
   ]
  },
  {
   "cell_type": "markdown",
   "metadata": {},
   "source": [
    "#### Horizontal Split"
   ]
  },
  {
   "cell_type": "code",
   "execution_count": 18,
   "metadata": {},
   "outputs": [
    {
     "name": "stdout",
     "output_type": "stream",
     "text": [
      "[[ 0  1  2  3]\n",
      " [ 4  5  6  7]\n",
      " [ 8  9 10 11]]\n"
     ]
    }
   ],
   "source": [
    "a = np.arange(12).reshape(3,4)\n",
    "print(a)"
   ]
  },
  {
   "cell_type": "code",
   "execution_count": 19,
   "metadata": {},
   "outputs": [
    {
     "name": "stdout",
     "output_type": "stream",
     "text": [
      "[[0 1]\n",
      " [4 5]\n",
      " [8 9]]\n",
      "\n",
      "[[ 2]\n",
      " [ 6]\n",
      " [10]]\n",
      "\n",
      "[[ 3]\n",
      " [ 7]\n",
      " [11]]\n",
      "\n"
     ]
    }
   ],
   "source": [
    "split_arrays = np.array_split(a,3,axis=1)\n",
    "for arr in split_arrays:\n",
    "    print(arr)\n",
    "    print()"
   ]
  },
  {
   "cell_type": "markdown",
   "metadata": {},
   "source": [
    "## B. Index Based --> Exactly Same as split()"
   ]
  },
  {
   "cell_type": "markdown",
   "metadata": {},
   "source": [
    "### 1-D Array"
   ]
  },
  {
   "cell_type": "code",
   "execution_count": 20,
   "metadata": {},
   "outputs": [
    {
     "name": "stdout",
     "output_type": "stream",
     "text": [
      "[array([0, 1]), array([2, 3, 4]), array([5, 6]), array([ 7,  8,  9, 10])]\n",
      "\n",
      "[0 1]\n",
      "\n",
      "[2 3 4]\n",
      "\n",
      "[5 6]\n",
      "\n",
      "[ 7  8  9 10]\n",
      "\n"
     ]
    }
   ],
   "source": [
    "a = np.arange(11)\n",
    "split_arrays = np.array_split(a,[2,5,7])\n",
    "print(split_arrays)\n",
    "print()\n",
    "for arr in split_arrays:\n",
    "    print(arr)\n",
    "    print()\n",
    "\n"
   ]
  },
  {
   "cell_type": "code",
   "execution_count": null,
   "metadata": {},
   "outputs": [],
   "source": []
  }
 ],
 "metadata": {
  "kernelspec": {
   "display_name": "base",
   "language": "python",
   "name": "python3"
  },
  "language_info": {
   "codemirror_mode": {
    "name": "ipython",
    "version": 3
   },
   "file_extension": ".py",
   "mimetype": "text/x-python",
   "name": "python",
   "nbconvert_exporter": "python",
   "pygments_lexer": "ipython3",
   "version": "3.11.7"
  }
 },
 "nbformat": 4,
 "nbformat_minor": 2
}
